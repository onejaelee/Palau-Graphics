{
 "cells": [
  {
   "cell_type": "code",
   "execution_count": 3,
   "id": "68c52044",
   "metadata": {},
   "outputs": [],
   "source": [
    "import urllib\n",
    "import os"
   ]
  },
  {
   "cell_type": "code",
   "execution_count": 20,
   "id": "321db638",
   "metadata": {},
   "outputs": [],
   "source": [
    "#Change wave_folder to corresponding folder you want to download the file from\n",
    "wave_folder = r\"/Volumes/Untitled/PACIOOS/wave/\"\n",
    "months = ['01','02','03','04','05','07','08','09','10']"
   ]
  },
  {
   "cell_type": "code",
   "execution_count": 10,
   "id": "9e550671",
   "metadata": {},
   "outputs": [
    {
     "data": {
      "text/plain": [
       "['ww3.pac_4m.197901.nc', 'ww3.pac_4m.197902.nc']"
      ]
     },
     "execution_count": 10,
     "metadata": {},
     "output_type": "execute_result"
    }
   ],
   "source": [
    "os.listdir(r\"/Volumes/Untitled/PACIOOS/wave/\")"
   ]
  },
  {
   "cell_type": "code",
   "execution_count": null,
   "id": "a3893ac5",
   "metadata": {},
   "outputs": [
    {
     "name": "stdout",
     "output_type": "stream",
     "text": [
      "https://data-cbr.csiro.au/thredds/fileServer/catch_all/CMAR_CAWCR-Wave_archive/CAWCR_Wave_Hindcast_aggregate/gridded/ww3.pac_4m.197903.nc\n",
      "ww3.pac_4m.197903.nc\n",
      "https://data-cbr.csiro.au/thredds/fileServer/catch_all/CMAR_CAWCR-Wave_archive/CAWCR_Wave_Hindcast_aggregate/gridded/ww3.pac_4m.197904.nc\n",
      "ww3.pac_4m.197904.nc\n",
      "https://data-cbr.csiro.au/thredds/fileServer/catch_all/CMAR_CAWCR-Wave_archive/CAWCR_Wave_Hindcast_aggregate/gridded/ww3.pac_4m.197905.nc\n",
      "ww3.pac_4m.197905.nc\n"
     ]
    }
   ],
   "source": [
    "url = 'https://data-cbr.csiro.au/thredds/fileServer/catch_all/CMAR_CAWCR-Wave_archive/CAWCR_Wave_Hindcast_aggregate/gridded/ww3.pac_4m.'\n",
    "for x in range(1979,2023+1):\n",
    "    #continue from where you left off\n",
    "#     if x < 199212:\n",
    "#         continue\n",
    "#202301.nc\n",
    "    for y in months:\n",
    "        wavefile = url + str(x) + str(y) + '.nc'\n",
    "        wavename = 'ww3.pac_4m.' + str(x) + str(y) + '.nc'\n",
    "        #r = requests.get(folder)\n",
    "        if wavename in os.listdir(wave_folder):\n",
    "            continue\n",
    "        if os.path.exists(wave_folder) and not os.path.exists(wave_folder + wavefile):\n",
    "            print(wavefile)\n",
    "            print(wavename)\n",
    "            \n",
    "            urllib.request.urlretrieve(wavefile, filename=wave_folder + wavename)\n",
    "            \n",
    "        elif os.path.exists(wave_folder + wavefile):\n",
    "            os.mkdir(wave_folder)\n",
    "            urllib.request.urlretrieve(wavefile, filename=wave_folder + wavename)\n",
    "        else:\n",
    "            continue"
   ]
  },
  {
   "cell_type": "code",
   "execution_count": null,
   "id": "8048622a",
   "metadata": {},
   "outputs": [],
   "source": []
  }
 ],
 "metadata": {
  "kernelspec": {
   "display_name": "Python 3 (ipykernel)",
   "language": "python",
   "name": "python3"
  },
  "language_info": {
   "codemirror_mode": {
    "name": "ipython",
    "version": 3
   },
   "file_extension": ".py",
   "mimetype": "text/x-python",
   "name": "python",
   "nbconvert_exporter": "python",
   "pygments_lexer": "ipython3",
   "version": "3.9.16"
  }
 },
 "nbformat": 4,
 "nbformat_minor": 5
}
