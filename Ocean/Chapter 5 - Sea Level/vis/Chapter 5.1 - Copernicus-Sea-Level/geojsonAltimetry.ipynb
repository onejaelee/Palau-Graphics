{
 "cells": [
  {
   "cell_type": "code",
   "execution_count": 1,
   "id": "33afe33f",
   "metadata": {},
   "outputs": [],
   "source": [
    "import numpy as np\n",
    "import pandas as pd\n",
    "import branca\n",
    "from scipy.interpolate import griddata\n",
    "import geojsoncontour\n",
    "import geopandas as gpd\n",
    "import json\n",
    "import datetime as dt\n",
    "import matplotlib.pyplot as plt\n",
    "import os"
   ]
  },
  {
   "cell_type": "code",
   "execution_count": 2,
   "id": "841e163d",
   "metadata": {},
   "outputs": [],
   "source": [
    "masterxr = pd.read_pickle(\"mastertest.pkl\")"
   ]
  },
  {
   "cell_type": "code",
   "execution_count": 3,
   "id": "e2410f2f",
   "metadata": {},
   "outputs": [],
   "source": [
    "def getGeoJSON(time,altimetry):\n",
    "    altslice = altimetry[altimetry['time'] == pd.to_datetime(time)]\n",
    "    coordinates = altslice[['latitude','longitude','adt']]\n",
    "    coordinates = coordinates.drop_duplicates()\n",
    "\n",
    "    x_orig = np.asarray(coordinates.longitude.tolist())\n",
    "    y_orig = np.asarray(coordinates.latitude.tolist())\n",
    "    z_orig = np.asarray(coordinates.adt.tolist())\n",
    "\n",
    "    colors = ['#0000ff','#0099cc','#009999','#ccff66','#ffff66','#ffcc00','#ff6600','#cc0000']\n",
    "    x_arr          = np.linspace(np.min(x_orig), np.max(x_orig), 500)\n",
    "    y_arr          = np.linspace(np.min(y_orig), np.max(y_orig), 500)\n",
    "    x_mesh, y_mesh = np.meshgrid(x_arr, y_arr)\n",
    "    z_mesh = griddata((x_orig, y_orig), z_orig, (x_mesh, y_mesh), method='linear')\n",
    "\n",
    "    levels = len(colors)\n",
    "    vmin   = min(altimetry[\"adt\"].unique().tolist())\n",
    "    vmax   = max(altimetry[\"adt\"].unique().tolist())\n",
    "    cm     = branca.colormap.LinearColormap(colors, vmin=vmin, vmax=vmax).to_step(levels)\n",
    "\n",
    "\n",
    "\n",
    "    contourf = plt.contourf(x_mesh, y_mesh, z_mesh, levels, alpha=0.5, colors=colors, linestyles='None',antialiased=True, vmin=vmin, vmax=vmax)\n",
    "\n",
    "    geojson = geojsoncontour.contourf_to_geojson(\n",
    "        contourf=contourf,\n",
    "        min_angle_deg=3.0,\n",
    "        ndigits=5,\n",
    "        stroke_width=1,\n",
    "        fill_opacity=0.5)\n",
    "    #cm.caption = 'Significant Wave Height (m)'\n",
    "\n",
    "    df2 = gpd.read_file('palauEEZ.geojson')\n",
    "    with open(\"transitionary_altimetry.geojson\", \"w\") as text_file:\n",
    "        text_file.write(geojson)\n",
    "    df1 = gpd.read_file(\"transitionary_altimetry.geojson\")\n",
    "    df3 = gpd.read_file('palau.geojson')\n",
    "    df3 =df3.drop(['type','id','tags','meta'],axis = 1)\n",
    "    df3 = df3[df3.geometry.type != 'LineString']\n",
    "    merged = gpd.overlay(df2,df1, how='intersection')\n",
    "    merged = gpd.overlay(merged,df3, how='difference')\n",
    "    merged_json = merged.to_json()\n",
    "\n",
    "    R,G,B = [], [],[]\n",
    "    for color in merged['fill'].tolist():\n",
    "        r,g,b = [int(str(color[1:])[i:i+2], 16) for i in (0, 2, 4)]\n",
    "        R.append(r)\n",
    "        G.append(g)\n",
    "        B.append(b)\n",
    "    merged['R'] = R\n",
    "    merged['G'] = G\n",
    "    merged['B'] = B\n",
    "    mergedrgb_json = merged.to_json()\n",
    "    loaded = json.loads(mergedrgb_json)\n",
    "    return loaded"
   ]
  },
  {
   "cell_type": "code",
   "execution_count": 4,
   "id": "79cdb37c",
   "metadata": {},
   "outputs": [],
   "source": [
    "def getMonthlyGeoJSON(year,month,altimetry):\n",
    "    \n",
    "    altslice = altimetry[(altimetry['time'].dt.year == year) & (altimetry['time'].dt.month == month)]\n",
    "    altslice = altslice.groupby([\"latitude\",\"longitude\"]).mean()\n",
    "    altslice = altslice.reset_index()\n",
    "    \n",
    "    coordinates = altslice[['latitude','longitude','adt']]\n",
    "    coordinates = coordinates.drop_duplicates()\n",
    "\n",
    "    x_orig = np.asarray(coordinates.longitude.tolist())\n",
    "    y_orig = np.asarray(coordinates.latitude.tolist())\n",
    "    z_orig = np.asarray(coordinates.adt.tolist())\n",
    "\n",
    "    colors = ['#0000ff','#0099cc','#009999','#ccff66','#ffff66','#ffcc00','#ff6600','#cc0000']\n",
    "    x_arr          = np.linspace(np.min(x_orig), np.max(x_orig), 500)\n",
    "    y_arr          = np.linspace(np.min(y_orig), np.max(y_orig), 500)\n",
    "    x_mesh, y_mesh = np.meshgrid(x_arr, y_arr)\n",
    "    z_mesh = griddata((x_orig, y_orig), z_orig, (x_mesh, y_mesh), method='linear')\n",
    "\n",
    "    levels = len(colors)\n",
    "    vmin   = min(altimetry[\"adt\"].unique().tolist())\n",
    "    vmax   = max(altimetry[\"adt\"].unique().tolist())\n",
    "    cm     = branca.colormap.LinearColormap(colors, vmin=vmin, vmax=vmax).to_step(levels)\n",
    "\n",
    "\n",
    "\n",
    "    contourf = plt.contourf(x_mesh, y_mesh, z_mesh, levels, alpha=0.5, colors=colors, linestyles='None',antialiased=True, vmin=vmin, vmax=vmax)\n",
    "\n",
    "    geojson = geojsoncontour.contourf_to_geojson(\n",
    "        contourf=contourf,\n",
    "        min_angle_deg=3.0,\n",
    "        ndigits=5,\n",
    "        stroke_width=1,\n",
    "        fill_opacity=0.5)\n",
    "    #cm.caption = 'Significant Wave Height (m)'\n",
    "\n",
    "    df2 = gpd.read_file('palauEEZ.geojson')\n",
    "    with open(\"transitionary_altimetry.geojson\", \"w\") as text_file:\n",
    "        text_file.write(geojson)\n",
    "    df1 = gpd.read_file(\"transitionary_altimetry.geojson\")\n",
    "    df3 = gpd.read_file('palau.geojson')\n",
    "    df3 =df3.drop(['type','id','tags','meta'],axis = 1)\n",
    "    df3 = df3[df3.geometry.type != 'LineString']\n",
    "    merged = gpd.overlay(df2,df1, how='intersection')\n",
    "    merged = gpd.overlay(merged,df3, how='difference')\n",
    "    merged_json = merged.to_json()\n",
    "\n",
    "    R,G,B = [], [],[]\n",
    "    for color in merged['fill'].tolist():\n",
    "        r,g,b = [int(str(color[1:])[i:i+2], 16) for i in (0, 2, 4)]\n",
    "        R.append(r)\n",
    "        G.append(g)\n",
    "        B.append(b)\n",
    "    merged['R'] = R\n",
    "    merged['G'] = G\n",
    "    merged['B'] = B\n",
    "    mergedrgb_json = merged.to_json()\n",
    "    loaded = json.loads(mergedrgb_json)\n",
    "    return loaded"
   ]
  },
  {
   "cell_type": "code",
   "execution_count": 9,
   "id": "1298d586",
   "metadata": {},
   "outputs": [
    {
     "data": {
      "text/plain": [
       "'/Volumes/PACIOOS/altimetryjson/altimetrygeo199312.json'"
      ]
     },
     "execution_count": 9,
     "metadata": {},
     "output_type": "execute_result"
    }
   ],
   "source": [
    "folder = '/Volumes/PACIOOS/altimetryjson/'\n",
    "folder+\"altimetrygeo\" + str(1993)+str(12)+ \".json\""
   ]
  },
  {
   "cell_type": "code",
   "execution_count": 55,
   "id": "3b7e0c02",
   "metadata": {},
   "outputs": [
    {
     "name": "stderr",
     "output_type": "stream",
     "text": [
      "/var/folders/d6/w300s4cx3qj10pqdcy5859bc0000gn/T/ipykernel_5148/1751344831.py:6: FutureWarning: The default value of numeric_only in DataFrameGroupBy.mean is deprecated. In a future version, numeric_only will default to False. Either specify numeric_only or select only columns which should be valid for the function.\n",
      "  altslice = altslice.groupby([\"latitude\",\"longitude\"]).mean()\n"
     ]
    },
    {
     "name": "stdout",
     "output_type": "stream",
     "text": [
      "/Volumes/PACIOOS/altimetryjson/altimetrygeo19931.json\n"
     ]
    },
    {
     "name": "stderr",
     "output_type": "stream",
     "text": [
      "/var/folders/d6/w300s4cx3qj10pqdcy5859bc0000gn/T/ipykernel_5148/1751344831.py:6: FutureWarning: The default value of numeric_only in DataFrameGroupBy.mean is deprecated. In a future version, numeric_only will default to False. Either specify numeric_only or select only columns which should be valid for the function.\n",
      "  altslice = altslice.groupby([\"latitude\",\"longitude\"]).mean()\n"
     ]
    },
    {
     "name": "stdout",
     "output_type": "stream",
     "text": [
      "/Volumes/PACIOOS/altimetryjson/altimetrygeo19932.json\n"
     ]
    },
    {
     "name": "stderr",
     "output_type": "stream",
     "text": [
      "/var/folders/d6/w300s4cx3qj10pqdcy5859bc0000gn/T/ipykernel_5148/1751344831.py:6: FutureWarning: The default value of numeric_only in DataFrameGroupBy.mean is deprecated. In a future version, numeric_only will default to False. Either specify numeric_only or select only columns which should be valid for the function.\n",
      "  altslice = altslice.groupby([\"latitude\",\"longitude\"]).mean()\n"
     ]
    },
    {
     "name": "stdout",
     "output_type": "stream",
     "text": [
      "/Volumes/PACIOOS/altimetryjson/altimetrygeo19933.json\n"
     ]
    },
    {
     "name": "stderr",
     "output_type": "stream",
     "text": [
      "/var/folders/d6/w300s4cx3qj10pqdcy5859bc0000gn/T/ipykernel_5148/1751344831.py:6: FutureWarning: The default value of numeric_only in DataFrameGroupBy.mean is deprecated. In a future version, numeric_only will default to False. Either specify numeric_only or select only columns which should be valid for the function.\n",
      "  altslice = altslice.groupby([\"latitude\",\"longitude\"]).mean()\n"
     ]
    },
    {
     "name": "stdout",
     "output_type": "stream",
     "text": [
      "/Volumes/PACIOOS/altimetryjson/altimetrygeo19934.json\n"
     ]
    },
    {
     "name": "stderr",
     "output_type": "stream",
     "text": [
      "/var/folders/d6/w300s4cx3qj10pqdcy5859bc0000gn/T/ipykernel_5148/1751344831.py:6: FutureWarning: The default value of numeric_only in DataFrameGroupBy.mean is deprecated. In a future version, numeric_only will default to False. Either specify numeric_only or select only columns which should be valid for the function.\n",
      "  altslice = altslice.groupby([\"latitude\",\"longitude\"]).mean()\n"
     ]
    },
    {
     "name": "stdout",
     "output_type": "stream",
     "text": [
      "/Volumes/PACIOOS/altimetryjson/altimetrygeo19935.json\n"
     ]
    },
    {
     "name": "stderr",
     "output_type": "stream",
     "text": [
      "/var/folders/d6/w300s4cx3qj10pqdcy5859bc0000gn/T/ipykernel_5148/1751344831.py:6: FutureWarning: The default value of numeric_only in DataFrameGroupBy.mean is deprecated. In a future version, numeric_only will default to False. Either specify numeric_only or select only columns which should be valid for the function.\n",
      "  altslice = altslice.groupby([\"latitude\",\"longitude\"]).mean()\n"
     ]
    },
    {
     "name": "stdout",
     "output_type": "stream",
     "text": [
      "/Volumes/PACIOOS/altimetryjson/altimetrygeo19936.json\n"
     ]
    },
    {
     "name": "stderr",
     "output_type": "stream",
     "text": [
      "/var/folders/d6/w300s4cx3qj10pqdcy5859bc0000gn/T/ipykernel_5148/1751344831.py:6: FutureWarning: The default value of numeric_only in DataFrameGroupBy.mean is deprecated. In a future version, numeric_only will default to False. Either specify numeric_only or select only columns which should be valid for the function.\n",
      "  altslice = altslice.groupby([\"latitude\",\"longitude\"]).mean()\n"
     ]
    },
    {
     "name": "stdout",
     "output_type": "stream",
     "text": [
      "/Volumes/PACIOOS/altimetryjson/altimetrygeo19937.json\n"
     ]
    },
    {
     "name": "stderr",
     "output_type": "stream",
     "text": [
      "/var/folders/d6/w300s4cx3qj10pqdcy5859bc0000gn/T/ipykernel_5148/1751344831.py:6: FutureWarning: The default value of numeric_only in DataFrameGroupBy.mean is deprecated. In a future version, numeric_only will default to False. Either specify numeric_only or select only columns which should be valid for the function.\n",
      "  altslice = altslice.groupby([\"latitude\",\"longitude\"]).mean()\n"
     ]
    },
    {
     "name": "stdout",
     "output_type": "stream",
     "text": [
      "/Volumes/PACIOOS/altimetryjson/altimetrygeo19938.json\n"
     ]
    },
    {
     "name": "stderr",
     "output_type": "stream",
     "text": [
      "/var/folders/d6/w300s4cx3qj10pqdcy5859bc0000gn/T/ipykernel_5148/1751344831.py:6: FutureWarning: The default value of numeric_only in DataFrameGroupBy.mean is deprecated. In a future version, numeric_only will default to False. Either specify numeric_only or select only columns which should be valid for the function.\n",
      "  altslice = altslice.groupby([\"latitude\",\"longitude\"]).mean()\n"
     ]
    },
    {
     "name": "stdout",
     "output_type": "stream",
     "text": [
      "/Volumes/PACIOOS/altimetryjson/altimetrygeo19939.json\n"
     ]
    },
    {
     "name": "stderr",
     "output_type": "stream",
     "text": [
      "/var/folders/d6/w300s4cx3qj10pqdcy5859bc0000gn/T/ipykernel_5148/1751344831.py:6: FutureWarning: The default value of numeric_only in DataFrameGroupBy.mean is deprecated. In a future version, numeric_only will default to False. Either specify numeric_only or select only columns which should be valid for the function.\n",
      "  altslice = altslice.groupby([\"latitude\",\"longitude\"]).mean()\n"
     ]
    },
    {
     "name": "stdout",
     "output_type": "stream",
     "text": [
      "/Volumes/PACIOOS/altimetryjson/altimetrygeo199310.json\n"
     ]
    },
    {
     "name": "stderr",
     "output_type": "stream",
     "text": [
      "/var/folders/d6/w300s4cx3qj10pqdcy5859bc0000gn/T/ipykernel_5148/1751344831.py:6: FutureWarning: The default value of numeric_only in DataFrameGroupBy.mean is deprecated. In a future version, numeric_only will default to False. Either specify numeric_only or select only columns which should be valid for the function.\n",
      "  altslice = altslice.groupby([\"latitude\",\"longitude\"]).mean()\n"
     ]
    },
    {
     "name": "stdout",
     "output_type": "stream",
     "text": [
      "/Volumes/PACIOOS/altimetryjson/altimetrygeo199311.json\n"
     ]
    },
    {
     "name": "stderr",
     "output_type": "stream",
     "text": [
      "/var/folders/d6/w300s4cx3qj10pqdcy5859bc0000gn/T/ipykernel_5148/1751344831.py:6: FutureWarning: The default value of numeric_only in DataFrameGroupBy.mean is deprecated. In a future version, numeric_only will default to False. Either specify numeric_only or select only columns which should be valid for the function.\n",
      "  altslice = altslice.groupby([\"latitude\",\"longitude\"]).mean()\n"
     ]
    },
    {
     "name": "stdout",
     "output_type": "stream",
     "text": [
      "/Volumes/PACIOOS/altimetryjson/altimetrygeo199312.json\n"
     ]
    },
    {
     "name": "stderr",
     "output_type": "stream",
     "text": [
      "/var/folders/d6/w300s4cx3qj10pqdcy5859bc0000gn/T/ipykernel_5148/1751344831.py:6: FutureWarning: The default value of numeric_only in DataFrameGroupBy.mean is deprecated. In a future version, numeric_only will default to False. Either specify numeric_only or select only columns which should be valid for the function.\n",
      "  altslice = altslice.groupby([\"latitude\",\"longitude\"]).mean()\n"
     ]
    },
    {
     "name": "stdout",
     "output_type": "stream",
     "text": [
      "/Volumes/PACIOOS/altimetryjson/altimetrygeo19941.json\n"
     ]
    },
    {
     "name": "stderr",
     "output_type": "stream",
     "text": [
      "/var/folders/d6/w300s4cx3qj10pqdcy5859bc0000gn/T/ipykernel_5148/1751344831.py:6: FutureWarning: The default value of numeric_only in DataFrameGroupBy.mean is deprecated. In a future version, numeric_only will default to False. Either specify numeric_only or select only columns which should be valid for the function.\n",
      "  altslice = altslice.groupby([\"latitude\",\"longitude\"]).mean()\n"
     ]
    },
    {
     "name": "stdout",
     "output_type": "stream",
     "text": [
      "/Volumes/PACIOOS/altimetryjson/altimetrygeo19942.json\n"
     ]
    },
    {
     "name": "stderr",
     "output_type": "stream",
     "text": [
      "/var/folders/d6/w300s4cx3qj10pqdcy5859bc0000gn/T/ipykernel_5148/1751344831.py:6: FutureWarning: The default value of numeric_only in DataFrameGroupBy.mean is deprecated. In a future version, numeric_only will default to False. Either specify numeric_only or select only columns which should be valid for the function.\n",
      "  altslice = altslice.groupby([\"latitude\",\"longitude\"]).mean()\n"
     ]
    },
    {
     "name": "stdout",
     "output_type": "stream",
     "text": [
      "/Volumes/PACIOOS/altimetryjson/altimetrygeo19943.json\n"
     ]
    },
    {
     "name": "stderr",
     "output_type": "stream",
     "text": [
      "/var/folders/d6/w300s4cx3qj10pqdcy5859bc0000gn/T/ipykernel_5148/1751344831.py:6: FutureWarning: The default value of numeric_only in DataFrameGroupBy.mean is deprecated. In a future version, numeric_only will default to False. Either specify numeric_only or select only columns which should be valid for the function.\n",
      "  altslice = altslice.groupby([\"latitude\",\"longitude\"]).mean()\n"
     ]
    },
    {
     "name": "stdout",
     "output_type": "stream",
     "text": [
      "/Volumes/PACIOOS/altimetryjson/altimetrygeo19944.json\n"
     ]
    },
    {
     "name": "stderr",
     "output_type": "stream",
     "text": [
      "/var/folders/d6/w300s4cx3qj10pqdcy5859bc0000gn/T/ipykernel_5148/1751344831.py:6: FutureWarning: The default value of numeric_only in DataFrameGroupBy.mean is deprecated. In a future version, numeric_only will default to False. Either specify numeric_only or select only columns which should be valid for the function.\n",
      "  altslice = altslice.groupby([\"latitude\",\"longitude\"]).mean()\n"
     ]
    },
    {
     "name": "stdout",
     "output_type": "stream",
     "text": [
      "/Volumes/PACIOOS/altimetryjson/altimetrygeo19945.json\n"
     ]
    },
    {
     "name": "stderr",
     "output_type": "stream",
     "text": [
      "/var/folders/d6/w300s4cx3qj10pqdcy5859bc0000gn/T/ipykernel_5148/1751344831.py:6: FutureWarning: The default value of numeric_only in DataFrameGroupBy.mean is deprecated. In a future version, numeric_only will default to False. Either specify numeric_only or select only columns which should be valid for the function.\n",
      "  altslice = altslice.groupby([\"latitude\",\"longitude\"]).mean()\n"
     ]
    },
    {
     "name": "stdout",
     "output_type": "stream",
     "text": [
      "/Volumes/PACIOOS/altimetryjson/altimetrygeo19946.json\n"
     ]
    },
    {
     "name": "stderr",
     "output_type": "stream",
     "text": [
      "/var/folders/d6/w300s4cx3qj10pqdcy5859bc0000gn/T/ipykernel_5148/1751344831.py:6: FutureWarning: The default value of numeric_only in DataFrameGroupBy.mean is deprecated. In a future version, numeric_only will default to False. Either specify numeric_only or select only columns which should be valid for the function.\n",
      "  altslice = altslice.groupby([\"latitude\",\"longitude\"]).mean()\n"
     ]
    },
    {
     "name": "stdout",
     "output_type": "stream",
     "text": [
      "/Volumes/PACIOOS/altimetryjson/altimetrygeo19947.json\n"
     ]
    },
    {
     "name": "stderr",
     "output_type": "stream",
     "text": [
      "/var/folders/d6/w300s4cx3qj10pqdcy5859bc0000gn/T/ipykernel_5148/1751344831.py:6: FutureWarning: The default value of numeric_only in DataFrameGroupBy.mean is deprecated. In a future version, numeric_only will default to False. Either specify numeric_only or select only columns which should be valid for the function.\n",
      "  altslice = altslice.groupby([\"latitude\",\"longitude\"]).mean()\n"
     ]
    },
    {
     "name": "stdout",
     "output_type": "stream",
     "text": [
      "/Volumes/PACIOOS/altimetryjson/altimetrygeo19948.json\n"
     ]
    },
    {
     "name": "stderr",
     "output_type": "stream",
     "text": [
      "/var/folders/d6/w300s4cx3qj10pqdcy5859bc0000gn/T/ipykernel_5148/1751344831.py:6: FutureWarning: The default value of numeric_only in DataFrameGroupBy.mean is deprecated. In a future version, numeric_only will default to False. Either specify numeric_only or select only columns which should be valid for the function.\n",
      "  altslice = altslice.groupby([\"latitude\",\"longitude\"]).mean()\n"
     ]
    },
    {
     "name": "stdout",
     "output_type": "stream",
     "text": [
      "/Volumes/PACIOOS/altimetryjson/altimetrygeo19949.json\n"
     ]
    },
    {
     "name": "stderr",
     "output_type": "stream",
     "text": [
      "/var/folders/d6/w300s4cx3qj10pqdcy5859bc0000gn/T/ipykernel_5148/1751344831.py:6: FutureWarning: The default value of numeric_only in DataFrameGroupBy.mean is deprecated. In a future version, numeric_only will default to False. Either specify numeric_only or select only columns which should be valid for the function.\n",
      "  altslice = altslice.groupby([\"latitude\",\"longitude\"]).mean()\n"
     ]
    },
    {
     "name": "stdout",
     "output_type": "stream",
     "text": [
      "/Volumes/PACIOOS/altimetryjson/altimetrygeo199410.json\n"
     ]
    },
    {
     "name": "stderr",
     "output_type": "stream",
     "text": [
      "/var/folders/d6/w300s4cx3qj10pqdcy5859bc0000gn/T/ipykernel_5148/1751344831.py:6: FutureWarning: The default value of numeric_only in DataFrameGroupBy.mean is deprecated. In a future version, numeric_only will default to False. Either specify numeric_only or select only columns which should be valid for the function.\n",
      "  altslice = altslice.groupby([\"latitude\",\"longitude\"]).mean()\n"
     ]
    },
    {
     "name": "stdout",
     "output_type": "stream",
     "text": [
      "/Volumes/PACIOOS/altimetryjson/altimetrygeo199411.json\n"
     ]
    },
    {
     "name": "stderr",
     "output_type": "stream",
     "text": [
      "/var/folders/d6/w300s4cx3qj10pqdcy5859bc0000gn/T/ipykernel_5148/1751344831.py:6: FutureWarning: The default value of numeric_only in DataFrameGroupBy.mean is deprecated. In a future version, numeric_only will default to False. Either specify numeric_only or select only columns which should be valid for the function.\n",
      "  altslice = altslice.groupby([\"latitude\",\"longitude\"]).mean()\n"
     ]
    },
    {
     "name": "stdout",
     "output_type": "stream",
     "text": [
      "/Volumes/PACIOOS/altimetryjson/altimetrygeo199412.json\n"
     ]
    },
    {
     "name": "stderr",
     "output_type": "stream",
     "text": [
      "/var/folders/d6/w300s4cx3qj10pqdcy5859bc0000gn/T/ipykernel_5148/1751344831.py:6: FutureWarning: The default value of numeric_only in DataFrameGroupBy.mean is deprecated. In a future version, numeric_only will default to False. Either specify numeric_only or select only columns which should be valid for the function.\n",
      "  altslice = altslice.groupby([\"latitude\",\"longitude\"]).mean()\n"
     ]
    },
    {
     "name": "stdout",
     "output_type": "stream",
     "text": [
      "/Volumes/PACIOOS/altimetryjson/altimetrygeo19951.json\n"
     ]
    },
    {
     "name": "stderr",
     "output_type": "stream",
     "text": [
      "/var/folders/d6/w300s4cx3qj10pqdcy5859bc0000gn/T/ipykernel_5148/1751344831.py:6: FutureWarning: The default value of numeric_only in DataFrameGroupBy.mean is deprecated. In a future version, numeric_only will default to False. Either specify numeric_only or select only columns which should be valid for the function.\n",
      "  altslice = altslice.groupby([\"latitude\",\"longitude\"]).mean()\n"
     ]
    },
    {
     "name": "stdout",
     "output_type": "stream",
     "text": [
      "/Volumes/PACIOOS/altimetryjson/altimetrygeo19952.json\n"
     ]
    },
    {
     "name": "stderr",
     "output_type": "stream",
     "text": [
      "/var/folders/d6/w300s4cx3qj10pqdcy5859bc0000gn/T/ipykernel_5148/1751344831.py:6: FutureWarning: The default value of numeric_only in DataFrameGroupBy.mean is deprecated. In a future version, numeric_only will default to False. Either specify numeric_only or select only columns which should be valid for the function.\n",
      "  altslice = altslice.groupby([\"latitude\",\"longitude\"]).mean()\n"
     ]
    },
    {
     "name": "stdout",
     "output_type": "stream",
     "text": [
      "/Volumes/PACIOOS/altimetryjson/altimetrygeo19953.json\n"
     ]
    },
    {
     "name": "stderr",
     "output_type": "stream",
     "text": [
      "/var/folders/d6/w300s4cx3qj10pqdcy5859bc0000gn/T/ipykernel_5148/1751344831.py:6: FutureWarning: The default value of numeric_only in DataFrameGroupBy.mean is deprecated. In a future version, numeric_only will default to False. Either specify numeric_only or select only columns which should be valid for the function.\n",
      "  altslice = altslice.groupby([\"latitude\",\"longitude\"]).mean()\n"
     ]
    },
    {
     "name": "stdout",
     "output_type": "stream",
     "text": [
      "/Volumes/PACIOOS/altimetryjson/altimetrygeo19954.json\n"
     ]
    },
    {
     "name": "stderr",
     "output_type": "stream",
     "text": [
      "/var/folders/d6/w300s4cx3qj10pqdcy5859bc0000gn/T/ipykernel_5148/1751344831.py:6: FutureWarning: The default value of numeric_only in DataFrameGroupBy.mean is deprecated. In a future version, numeric_only will default to False. Either specify numeric_only or select only columns which should be valid for the function.\n",
      "  altslice = altslice.groupby([\"latitude\",\"longitude\"]).mean()\n"
     ]
    },
    {
     "name": "stdout",
     "output_type": "stream",
     "text": [
      "/Volumes/PACIOOS/altimetryjson/altimetrygeo19955.json\n"
     ]
    },
    {
     "name": "stderr",
     "output_type": "stream",
     "text": [
      "/var/folders/d6/w300s4cx3qj10pqdcy5859bc0000gn/T/ipykernel_5148/1751344831.py:6: FutureWarning: The default value of numeric_only in DataFrameGroupBy.mean is deprecated. In a future version, numeric_only will default to False. Either specify numeric_only or select only columns which should be valid for the function.\n",
      "  altslice = altslice.groupby([\"latitude\",\"longitude\"]).mean()\n"
     ]
    },
    {
     "name": "stdout",
     "output_type": "stream",
     "text": [
      "/Volumes/PACIOOS/altimetryjson/altimetrygeo19956.json\n"
     ]
    },
    {
     "name": "stderr",
     "output_type": "stream",
     "text": [
      "/var/folders/d6/w300s4cx3qj10pqdcy5859bc0000gn/T/ipykernel_5148/1751344831.py:6: FutureWarning: The default value of numeric_only in DataFrameGroupBy.mean is deprecated. In a future version, numeric_only will default to False. Either specify numeric_only or select only columns which should be valid for the function.\n",
      "  altslice = altslice.groupby([\"latitude\",\"longitude\"]).mean()\n"
     ]
    },
    {
     "name": "stdout",
     "output_type": "stream",
     "text": [
      "/Volumes/PACIOOS/altimetryjson/altimetrygeo19957.json\n"
     ]
    },
    {
     "name": "stderr",
     "output_type": "stream",
     "text": [
      "/var/folders/d6/w300s4cx3qj10pqdcy5859bc0000gn/T/ipykernel_5148/1751344831.py:6: FutureWarning: The default value of numeric_only in DataFrameGroupBy.mean is deprecated. In a future version, numeric_only will default to False. Either specify numeric_only or select only columns which should be valid for the function.\n",
      "  altslice = altslice.groupby([\"latitude\",\"longitude\"]).mean()\n"
     ]
    },
    {
     "name": "stdout",
     "output_type": "stream",
     "text": [
      "/Volumes/PACIOOS/altimetryjson/altimetrygeo19958.json\n"
     ]
    },
    {
     "name": "stderr",
     "output_type": "stream",
     "text": [
      "/var/folders/d6/w300s4cx3qj10pqdcy5859bc0000gn/T/ipykernel_5148/1751344831.py:6: FutureWarning: The default value of numeric_only in DataFrameGroupBy.mean is deprecated. In a future version, numeric_only will default to False. Either specify numeric_only or select only columns which should be valid for the function.\n",
      "  altslice = altslice.groupby([\"latitude\",\"longitude\"]).mean()\n"
     ]
    },
    {
     "name": "stdout",
     "output_type": "stream",
     "text": [
      "/Volumes/PACIOOS/altimetryjson/altimetrygeo19959.json\n"
     ]
    },
    {
     "name": "stderr",
     "output_type": "stream",
     "text": [
      "/var/folders/d6/w300s4cx3qj10pqdcy5859bc0000gn/T/ipykernel_5148/1751344831.py:6: FutureWarning: The default value of numeric_only in DataFrameGroupBy.mean is deprecated. In a future version, numeric_only will default to False. Either specify numeric_only or select only columns which should be valid for the function.\n",
      "  altslice = altslice.groupby([\"latitude\",\"longitude\"]).mean()\n"
     ]
    },
    {
     "name": "stdout",
     "output_type": "stream",
     "text": [
      "/Volumes/PACIOOS/altimetryjson/altimetrygeo199510.json\n"
     ]
    },
    {
     "name": "stderr",
     "output_type": "stream",
     "text": [
      "/var/folders/d6/w300s4cx3qj10pqdcy5859bc0000gn/T/ipykernel_5148/1751344831.py:6: FutureWarning: The default value of numeric_only in DataFrameGroupBy.mean is deprecated. In a future version, numeric_only will default to False. Either specify numeric_only or select only columns which should be valid for the function.\n",
      "  altslice = altslice.groupby([\"latitude\",\"longitude\"]).mean()\n"
     ]
    },
    {
     "name": "stdout",
     "output_type": "stream",
     "text": [
      "/Volumes/PACIOOS/altimetryjson/altimetrygeo199511.json\n"
     ]
    },
    {
     "name": "stderr",
     "output_type": "stream",
     "text": [
      "/var/folders/d6/w300s4cx3qj10pqdcy5859bc0000gn/T/ipykernel_5148/1751344831.py:6: FutureWarning: The default value of numeric_only in DataFrameGroupBy.mean is deprecated. In a future version, numeric_only will default to False. Either specify numeric_only or select only columns which should be valid for the function.\n",
      "  altslice = altslice.groupby([\"latitude\",\"longitude\"]).mean()\n"
     ]
    },
    {
     "name": "stdout",
     "output_type": "stream",
     "text": [
      "/Volumes/PACIOOS/altimetryjson/altimetrygeo199512.json\n"
     ]
    },
    {
     "name": "stderr",
     "output_type": "stream",
     "text": [
      "/var/folders/d6/w300s4cx3qj10pqdcy5859bc0000gn/T/ipykernel_5148/1751344831.py:6: FutureWarning: The default value of numeric_only in DataFrameGroupBy.mean is deprecated. In a future version, numeric_only will default to False. Either specify numeric_only or select only columns which should be valid for the function.\n",
      "  altslice = altslice.groupby([\"latitude\",\"longitude\"]).mean()\n"
     ]
    },
    {
     "name": "stdout",
     "output_type": "stream",
     "text": [
      "/Volumes/PACIOOS/altimetryjson/altimetrygeo19961.json\n"
     ]
    },
    {
     "name": "stderr",
     "output_type": "stream",
     "text": [
      "/var/folders/d6/w300s4cx3qj10pqdcy5859bc0000gn/T/ipykernel_5148/1751344831.py:6: FutureWarning: The default value of numeric_only in DataFrameGroupBy.mean is deprecated. In a future version, numeric_only will default to False. Either specify numeric_only or select only columns which should be valid for the function.\n",
      "  altslice = altslice.groupby([\"latitude\",\"longitude\"]).mean()\n"
     ]
    },
    {
     "name": "stdout",
     "output_type": "stream",
     "text": [
      "/Volumes/PACIOOS/altimetryjson/altimetrygeo19962.json\n"
     ]
    },
    {
     "name": "stderr",
     "output_type": "stream",
     "text": [
      "/var/folders/d6/w300s4cx3qj10pqdcy5859bc0000gn/T/ipykernel_5148/1751344831.py:6: FutureWarning: The default value of numeric_only in DataFrameGroupBy.mean is deprecated. In a future version, numeric_only will default to False. Either specify numeric_only or select only columns which should be valid for the function.\n",
      "  altslice = altslice.groupby([\"latitude\",\"longitude\"]).mean()\n"
     ]
    },
    {
     "name": "stdout",
     "output_type": "stream",
     "text": [
      "/Volumes/PACIOOS/altimetryjson/altimetrygeo19963.json\n"
     ]
    },
    {
     "name": "stderr",
     "output_type": "stream",
     "text": [
      "/var/folders/d6/w300s4cx3qj10pqdcy5859bc0000gn/T/ipykernel_5148/1751344831.py:6: FutureWarning: The default value of numeric_only in DataFrameGroupBy.mean is deprecated. In a future version, numeric_only will default to False. Either specify numeric_only or select only columns which should be valid for the function.\n",
      "  altslice = altslice.groupby([\"latitude\",\"longitude\"]).mean()\n"
     ]
    },
    {
     "name": "stdout",
     "output_type": "stream",
     "text": [
      "/Volumes/PACIOOS/altimetryjson/altimetrygeo19964.json\n"
     ]
    },
    {
     "name": "stderr",
     "output_type": "stream",
     "text": [
      "/var/folders/d6/w300s4cx3qj10pqdcy5859bc0000gn/T/ipykernel_5148/1751344831.py:6: FutureWarning: The default value of numeric_only in DataFrameGroupBy.mean is deprecated. In a future version, numeric_only will default to False. Either specify numeric_only or select only columns which should be valid for the function.\n",
      "  altslice = altslice.groupby([\"latitude\",\"longitude\"]).mean()\n"
     ]
    },
    {
     "name": "stdout",
     "output_type": "stream",
     "text": [
      "/Volumes/PACIOOS/altimetryjson/altimetrygeo19965.json\n"
     ]
    },
    {
     "name": "stderr",
     "output_type": "stream",
     "text": [
      "/var/folders/d6/w300s4cx3qj10pqdcy5859bc0000gn/T/ipykernel_5148/1751344831.py:6: FutureWarning: The default value of numeric_only in DataFrameGroupBy.mean is deprecated. In a future version, numeric_only will default to False. Either specify numeric_only or select only columns which should be valid for the function.\n",
      "  altslice = altslice.groupby([\"latitude\",\"longitude\"]).mean()\n"
     ]
    },
    {
     "name": "stdout",
     "output_type": "stream",
     "text": [
      "/Volumes/PACIOOS/altimetryjson/altimetrygeo19966.json\n"
     ]
    },
    {
     "name": "stderr",
     "output_type": "stream",
     "text": [
      "/var/folders/d6/w300s4cx3qj10pqdcy5859bc0000gn/T/ipykernel_5148/1751344831.py:6: FutureWarning: The default value of numeric_only in DataFrameGroupBy.mean is deprecated. In a future version, numeric_only will default to False. Either specify numeric_only or select only columns which should be valid for the function.\n",
      "  altslice = altslice.groupby([\"latitude\",\"longitude\"]).mean()\n"
     ]
    },
    {
     "name": "stdout",
     "output_type": "stream",
     "text": [
      "/Volumes/PACIOOS/altimetryjson/altimetrygeo19967.json\n"
     ]
    },
    {
     "name": "stderr",
     "output_type": "stream",
     "text": [
      "/var/folders/d6/w300s4cx3qj10pqdcy5859bc0000gn/T/ipykernel_5148/1751344831.py:6: FutureWarning: The default value of numeric_only in DataFrameGroupBy.mean is deprecated. In a future version, numeric_only will default to False. Either specify numeric_only or select only columns which should be valid for the function.\n",
      "  altslice = altslice.groupby([\"latitude\",\"longitude\"]).mean()\n"
     ]
    },
    {
     "name": "stdout",
     "output_type": "stream",
     "text": [
      "/Volumes/PACIOOS/altimetryjson/altimetrygeo19968.json\n"
     ]
    },
    {
     "name": "stderr",
     "output_type": "stream",
     "text": [
      "/var/folders/d6/w300s4cx3qj10pqdcy5859bc0000gn/T/ipykernel_5148/1751344831.py:6: FutureWarning: The default value of numeric_only in DataFrameGroupBy.mean is deprecated. In a future version, numeric_only will default to False. Either specify numeric_only or select only columns which should be valid for the function.\n",
      "  altslice = altslice.groupby([\"latitude\",\"longitude\"]).mean()\n"
     ]
    },
    {
     "name": "stdout",
     "output_type": "stream",
     "text": [
      "/Volumes/PACIOOS/altimetryjson/altimetrygeo19969.json\n"
     ]
    },
    {
     "name": "stderr",
     "output_type": "stream",
     "text": [
      "/var/folders/d6/w300s4cx3qj10pqdcy5859bc0000gn/T/ipykernel_5148/1751344831.py:6: FutureWarning: The default value of numeric_only in DataFrameGroupBy.mean is deprecated. In a future version, numeric_only will default to False. Either specify numeric_only or select only columns which should be valid for the function.\n",
      "  altslice = altslice.groupby([\"latitude\",\"longitude\"]).mean()\n"
     ]
    },
    {
     "name": "stdout",
     "output_type": "stream",
     "text": [
      "/Volumes/PACIOOS/altimetryjson/altimetrygeo199610.json\n"
     ]
    },
    {
     "name": "stderr",
     "output_type": "stream",
     "text": [
      "/var/folders/d6/w300s4cx3qj10pqdcy5859bc0000gn/T/ipykernel_5148/1751344831.py:6: FutureWarning: The default value of numeric_only in DataFrameGroupBy.mean is deprecated. In a future version, numeric_only will default to False. Either specify numeric_only or select only columns which should be valid for the function.\n",
      "  altslice = altslice.groupby([\"latitude\",\"longitude\"]).mean()\n"
     ]
    },
    {
     "name": "stdout",
     "output_type": "stream",
     "text": [
      "/Volumes/PACIOOS/altimetryjson/altimetrygeo199611.json\n"
     ]
    },
    {
     "name": "stderr",
     "output_type": "stream",
     "text": [
      "/var/folders/d6/w300s4cx3qj10pqdcy5859bc0000gn/T/ipykernel_5148/1751344831.py:6: FutureWarning: The default value of numeric_only in DataFrameGroupBy.mean is deprecated. In a future version, numeric_only will default to False. Either specify numeric_only or select only columns which should be valid for the function.\n",
      "  altslice = altslice.groupby([\"latitude\",\"longitude\"]).mean()\n"
     ]
    },
    {
     "name": "stdout",
     "output_type": "stream",
     "text": [
      "/Volumes/PACIOOS/altimetryjson/altimetrygeo199612.json\n"
     ]
    },
    {
     "name": "stderr",
     "output_type": "stream",
     "text": [
      "/var/folders/d6/w300s4cx3qj10pqdcy5859bc0000gn/T/ipykernel_5148/1751344831.py:6: FutureWarning: The default value of numeric_only in DataFrameGroupBy.mean is deprecated. In a future version, numeric_only will default to False. Either specify numeric_only or select only columns which should be valid for the function.\n",
      "  altslice = altslice.groupby([\"latitude\",\"longitude\"]).mean()\n"
     ]
    },
    {
     "name": "stdout",
     "output_type": "stream",
     "text": [
      "/Volumes/PACIOOS/altimetryjson/altimetrygeo19971.json\n"
     ]
    },
    {
     "name": "stderr",
     "output_type": "stream",
     "text": [
      "/var/folders/d6/w300s4cx3qj10pqdcy5859bc0000gn/T/ipykernel_5148/1751344831.py:6: FutureWarning: The default value of numeric_only in DataFrameGroupBy.mean is deprecated. In a future version, numeric_only will default to False. Either specify numeric_only or select only columns which should be valid for the function.\n",
      "  altslice = altslice.groupby([\"latitude\",\"longitude\"]).mean()\n"
     ]
    },
    {
     "name": "stdout",
     "output_type": "stream",
     "text": [
      "/Volumes/PACIOOS/altimetryjson/altimetrygeo19972.json\n"
     ]
    },
    {
     "name": "stderr",
     "output_type": "stream",
     "text": [
      "/var/folders/d6/w300s4cx3qj10pqdcy5859bc0000gn/T/ipykernel_5148/1751344831.py:6: FutureWarning: The default value of numeric_only in DataFrameGroupBy.mean is deprecated. In a future version, numeric_only will default to False. Either specify numeric_only or select only columns which should be valid for the function.\n",
      "  altslice = altslice.groupby([\"latitude\",\"longitude\"]).mean()\n"
     ]
    },
    {
     "name": "stdout",
     "output_type": "stream",
     "text": [
      "/Volumes/PACIOOS/altimetryjson/altimetrygeo19973.json\n"
     ]
    },
    {
     "name": "stderr",
     "output_type": "stream",
     "text": [
      "/var/folders/d6/w300s4cx3qj10pqdcy5859bc0000gn/T/ipykernel_5148/1751344831.py:6: FutureWarning: The default value of numeric_only in DataFrameGroupBy.mean is deprecated. In a future version, numeric_only will default to False. Either specify numeric_only or select only columns which should be valid for the function.\n",
      "  altslice = altslice.groupby([\"latitude\",\"longitude\"]).mean()\n"
     ]
    },
    {
     "name": "stdout",
     "output_type": "stream",
     "text": [
      "/Volumes/PACIOOS/altimetryjson/altimetrygeo19974.json\n"
     ]
    },
    {
     "name": "stderr",
     "output_type": "stream",
     "text": [
      "/var/folders/d6/w300s4cx3qj10pqdcy5859bc0000gn/T/ipykernel_5148/1751344831.py:6: FutureWarning: The default value of numeric_only in DataFrameGroupBy.mean is deprecated. In a future version, numeric_only will default to False. Either specify numeric_only or select only columns which should be valid for the function.\n",
      "  altslice = altslice.groupby([\"latitude\",\"longitude\"]).mean()\n"
     ]
    },
    {
     "name": "stdout",
     "output_type": "stream",
     "text": [
      "/Volumes/PACIOOS/altimetryjson/altimetrygeo19975.json\n"
     ]
    },
    {
     "name": "stderr",
     "output_type": "stream",
     "text": [
      "/var/folders/d6/w300s4cx3qj10pqdcy5859bc0000gn/T/ipykernel_5148/1751344831.py:6: FutureWarning: The default value of numeric_only in DataFrameGroupBy.mean is deprecated. In a future version, numeric_only will default to False. Either specify numeric_only or select only columns which should be valid for the function.\n",
      "  altslice = altslice.groupby([\"latitude\",\"longitude\"]).mean()\n"
     ]
    },
    {
     "name": "stdout",
     "output_type": "stream",
     "text": [
      "/Volumes/PACIOOS/altimetryjson/altimetrygeo19976.json\n"
     ]
    },
    {
     "name": "stderr",
     "output_type": "stream",
     "text": [
      "/var/folders/d6/w300s4cx3qj10pqdcy5859bc0000gn/T/ipykernel_5148/1751344831.py:6: FutureWarning: The default value of numeric_only in DataFrameGroupBy.mean is deprecated. In a future version, numeric_only will default to False. Either specify numeric_only or select only columns which should be valid for the function.\n",
      "  altslice = altslice.groupby([\"latitude\",\"longitude\"]).mean()\n"
     ]
    },
    {
     "name": "stdout",
     "output_type": "stream",
     "text": [
      "/Volumes/PACIOOS/altimetryjson/altimetrygeo19977.json\n"
     ]
    },
    {
     "name": "stderr",
     "output_type": "stream",
     "text": [
      "/var/folders/d6/w300s4cx3qj10pqdcy5859bc0000gn/T/ipykernel_5148/1751344831.py:6: FutureWarning: The default value of numeric_only in DataFrameGroupBy.mean is deprecated. In a future version, numeric_only will default to False. Either specify numeric_only or select only columns which should be valid for the function.\n",
      "  altslice = altslice.groupby([\"latitude\",\"longitude\"]).mean()\n"
     ]
    },
    {
     "name": "stdout",
     "output_type": "stream",
     "text": [
      "/Volumes/PACIOOS/altimetryjson/altimetrygeo19978.json\n"
     ]
    },
    {
     "name": "stderr",
     "output_type": "stream",
     "text": [
      "/var/folders/d6/w300s4cx3qj10pqdcy5859bc0000gn/T/ipykernel_5148/1751344831.py:6: FutureWarning: The default value of numeric_only in DataFrameGroupBy.mean is deprecated. In a future version, numeric_only will default to False. Either specify numeric_only or select only columns which should be valid for the function.\n",
      "  altslice = altslice.groupby([\"latitude\",\"longitude\"]).mean()\n"
     ]
    },
    {
     "name": "stdout",
     "output_type": "stream",
     "text": [
      "/Volumes/PACIOOS/altimetryjson/altimetrygeo19979.json\n"
     ]
    },
    {
     "name": "stderr",
     "output_type": "stream",
     "text": [
      "/var/folders/d6/w300s4cx3qj10pqdcy5859bc0000gn/T/ipykernel_5148/1751344831.py:6: FutureWarning: The default value of numeric_only in DataFrameGroupBy.mean is deprecated. In a future version, numeric_only will default to False. Either specify numeric_only or select only columns which should be valid for the function.\n",
      "  altslice = altslice.groupby([\"latitude\",\"longitude\"]).mean()\n"
     ]
    },
    {
     "name": "stdout",
     "output_type": "stream",
     "text": [
      "/Volumes/PACIOOS/altimetryjson/altimetrygeo199710.json\n"
     ]
    },
    {
     "name": "stderr",
     "output_type": "stream",
     "text": [
      "/var/folders/d6/w300s4cx3qj10pqdcy5859bc0000gn/T/ipykernel_5148/1751344831.py:6: FutureWarning: The default value of numeric_only in DataFrameGroupBy.mean is deprecated. In a future version, numeric_only will default to False. Either specify numeric_only or select only columns which should be valid for the function.\n",
      "  altslice = altslice.groupby([\"latitude\",\"longitude\"]).mean()\n"
     ]
    },
    {
     "name": "stdout",
     "output_type": "stream",
     "text": [
      "/Volumes/PACIOOS/altimetryjson/altimetrygeo199711.json\n"
     ]
    },
    {
     "name": "stderr",
     "output_type": "stream",
     "text": [
      "/var/folders/d6/w300s4cx3qj10pqdcy5859bc0000gn/T/ipykernel_5148/1751344831.py:6: FutureWarning: The default value of numeric_only in DataFrameGroupBy.mean is deprecated. In a future version, numeric_only will default to False. Either specify numeric_only or select only columns which should be valid for the function.\n",
      "  altslice = altslice.groupby([\"latitude\",\"longitude\"]).mean()\n"
     ]
    },
    {
     "name": "stdout",
     "output_type": "stream",
     "text": [
      "/Volumes/PACIOOS/altimetryjson/altimetrygeo199712.json\n"
     ]
    },
    {
     "name": "stderr",
     "output_type": "stream",
     "text": [
      "/var/folders/d6/w300s4cx3qj10pqdcy5859bc0000gn/T/ipykernel_5148/1751344831.py:6: FutureWarning: The default value of numeric_only in DataFrameGroupBy.mean is deprecated. In a future version, numeric_only will default to False. Either specify numeric_only or select only columns which should be valid for the function.\n",
      "  altslice = altslice.groupby([\"latitude\",\"longitude\"]).mean()\n"
     ]
    },
    {
     "name": "stdout",
     "output_type": "stream",
     "text": [
      "/Volumes/PACIOOS/altimetryjson/altimetrygeo19981.json\n"
     ]
    },
    {
     "name": "stderr",
     "output_type": "stream",
     "text": [
      "/var/folders/d6/w300s4cx3qj10pqdcy5859bc0000gn/T/ipykernel_5148/1751344831.py:6: FutureWarning: The default value of numeric_only in DataFrameGroupBy.mean is deprecated. In a future version, numeric_only will default to False. Either specify numeric_only or select only columns which should be valid for the function.\n",
      "  altslice = altslice.groupby([\"latitude\",\"longitude\"]).mean()\n"
     ]
    },
    {
     "name": "stdout",
     "output_type": "stream",
     "text": [
      "/Volumes/PACIOOS/altimetryjson/altimetrygeo19982.json\n"
     ]
    },
    {
     "name": "stderr",
     "output_type": "stream",
     "text": [
      "/var/folders/d6/w300s4cx3qj10pqdcy5859bc0000gn/T/ipykernel_5148/1751344831.py:6: FutureWarning: The default value of numeric_only in DataFrameGroupBy.mean is deprecated. In a future version, numeric_only will default to False. Either specify numeric_only or select only columns which should be valid for the function.\n",
      "  altslice = altslice.groupby([\"latitude\",\"longitude\"]).mean()\n"
     ]
    },
    {
     "name": "stdout",
     "output_type": "stream",
     "text": [
      "/Volumes/PACIOOS/altimetryjson/altimetrygeo19983.json\n"
     ]
    },
    {
     "name": "stderr",
     "output_type": "stream",
     "text": [
      "/var/folders/d6/w300s4cx3qj10pqdcy5859bc0000gn/T/ipykernel_5148/1751344831.py:6: FutureWarning: The default value of numeric_only in DataFrameGroupBy.mean is deprecated. In a future version, numeric_only will default to False. Either specify numeric_only or select only columns which should be valid for the function.\n",
      "  altslice = altslice.groupby([\"latitude\",\"longitude\"]).mean()\n"
     ]
    },
    {
     "name": "stdout",
     "output_type": "stream",
     "text": [
      "/Volumes/PACIOOS/altimetryjson/altimetrygeo19984.json\n"
     ]
    },
    {
     "name": "stderr",
     "output_type": "stream",
     "text": [
      "/var/folders/d6/w300s4cx3qj10pqdcy5859bc0000gn/T/ipykernel_5148/1751344831.py:6: FutureWarning: The default value of numeric_only in DataFrameGroupBy.mean is deprecated. In a future version, numeric_only will default to False. Either specify numeric_only or select only columns which should be valid for the function.\n",
      "  altslice = altslice.groupby([\"latitude\",\"longitude\"]).mean()\n"
     ]
    },
    {
     "name": "stdout",
     "output_type": "stream",
     "text": [
      "/Volumes/PACIOOS/altimetryjson/altimetrygeo19985.json\n"
     ]
    },
    {
     "name": "stderr",
     "output_type": "stream",
     "text": [
      "/var/folders/d6/w300s4cx3qj10pqdcy5859bc0000gn/T/ipykernel_5148/1751344831.py:6: FutureWarning: The default value of numeric_only in DataFrameGroupBy.mean is deprecated. In a future version, numeric_only will default to False. Either specify numeric_only or select only columns which should be valid for the function.\n",
      "  altslice = altslice.groupby([\"latitude\",\"longitude\"]).mean()\n"
     ]
    },
    {
     "name": "stdout",
     "output_type": "stream",
     "text": [
      "/Volumes/PACIOOS/altimetryjson/altimetrygeo19986.json\n"
     ]
    },
    {
     "name": "stderr",
     "output_type": "stream",
     "text": [
      "/var/folders/d6/w300s4cx3qj10pqdcy5859bc0000gn/T/ipykernel_5148/1751344831.py:6: FutureWarning: The default value of numeric_only in DataFrameGroupBy.mean is deprecated. In a future version, numeric_only will default to False. Either specify numeric_only or select only columns which should be valid for the function.\n",
      "  altslice = altslice.groupby([\"latitude\",\"longitude\"]).mean()\n"
     ]
    },
    {
     "name": "stdout",
     "output_type": "stream",
     "text": [
      "/Volumes/PACIOOS/altimetryjson/altimetrygeo19987.json\n"
     ]
    },
    {
     "name": "stderr",
     "output_type": "stream",
     "text": [
      "/var/folders/d6/w300s4cx3qj10pqdcy5859bc0000gn/T/ipykernel_5148/1751344831.py:6: FutureWarning: The default value of numeric_only in DataFrameGroupBy.mean is deprecated. In a future version, numeric_only will default to False. Either specify numeric_only or select only columns which should be valid for the function.\n",
      "  altslice = altslice.groupby([\"latitude\",\"longitude\"]).mean()\n"
     ]
    },
    {
     "name": "stdout",
     "output_type": "stream",
     "text": [
      "/Volumes/PACIOOS/altimetryjson/altimetrygeo19988.json\n"
     ]
    },
    {
     "name": "stderr",
     "output_type": "stream",
     "text": [
      "/var/folders/d6/w300s4cx3qj10pqdcy5859bc0000gn/T/ipykernel_5148/1751344831.py:6: FutureWarning: The default value of numeric_only in DataFrameGroupBy.mean is deprecated. In a future version, numeric_only will default to False. Either specify numeric_only or select only columns which should be valid for the function.\n",
      "  altslice = altslice.groupby([\"latitude\",\"longitude\"]).mean()\n"
     ]
    },
    {
     "name": "stdout",
     "output_type": "stream",
     "text": [
      "/Volumes/PACIOOS/altimetryjson/altimetrygeo19989.json\n"
     ]
    },
    {
     "name": "stderr",
     "output_type": "stream",
     "text": [
      "/var/folders/d6/w300s4cx3qj10pqdcy5859bc0000gn/T/ipykernel_5148/1751344831.py:6: FutureWarning: The default value of numeric_only in DataFrameGroupBy.mean is deprecated. In a future version, numeric_only will default to False. Either specify numeric_only or select only columns which should be valid for the function.\n",
      "  altslice = altslice.groupby([\"latitude\",\"longitude\"]).mean()\n"
     ]
    },
    {
     "name": "stdout",
     "output_type": "stream",
     "text": [
      "/Volumes/PACIOOS/altimetryjson/altimetrygeo199810.json\n"
     ]
    },
    {
     "name": "stderr",
     "output_type": "stream",
     "text": [
      "/var/folders/d6/w300s4cx3qj10pqdcy5859bc0000gn/T/ipykernel_5148/1751344831.py:6: FutureWarning: The default value of numeric_only in DataFrameGroupBy.mean is deprecated. In a future version, numeric_only will default to False. Either specify numeric_only or select only columns which should be valid for the function.\n",
      "  altslice = altslice.groupby([\"latitude\",\"longitude\"]).mean()\n"
     ]
    },
    {
     "name": "stdout",
     "output_type": "stream",
     "text": [
      "/Volumes/PACIOOS/altimetryjson/altimetrygeo199811.json\n"
     ]
    },
    {
     "name": "stderr",
     "output_type": "stream",
     "text": [
      "/var/folders/d6/w300s4cx3qj10pqdcy5859bc0000gn/T/ipykernel_5148/1751344831.py:6: FutureWarning: The default value of numeric_only in DataFrameGroupBy.mean is deprecated. In a future version, numeric_only will default to False. Either specify numeric_only or select only columns which should be valid for the function.\n",
      "  altslice = altslice.groupby([\"latitude\",\"longitude\"]).mean()\n"
     ]
    },
    {
     "name": "stdout",
     "output_type": "stream",
     "text": [
      "/Volumes/PACIOOS/altimetryjson/altimetrygeo199812.json\n"
     ]
    },
    {
     "name": "stderr",
     "output_type": "stream",
     "text": [
      "/var/folders/d6/w300s4cx3qj10pqdcy5859bc0000gn/T/ipykernel_5148/1751344831.py:6: FutureWarning: The default value of numeric_only in DataFrameGroupBy.mean is deprecated. In a future version, numeric_only will default to False. Either specify numeric_only or select only columns which should be valid for the function.\n",
      "  altslice = altslice.groupby([\"latitude\",\"longitude\"]).mean()\n"
     ]
    },
    {
     "name": "stdout",
     "output_type": "stream",
     "text": [
      "/Volumes/PACIOOS/altimetryjson/altimetrygeo19991.json\n"
     ]
    },
    {
     "name": "stderr",
     "output_type": "stream",
     "text": [
      "/var/folders/d6/w300s4cx3qj10pqdcy5859bc0000gn/T/ipykernel_5148/1751344831.py:6: FutureWarning: The default value of numeric_only in DataFrameGroupBy.mean is deprecated. In a future version, numeric_only will default to False. Either specify numeric_only or select only columns which should be valid for the function.\n",
      "  altslice = altslice.groupby([\"latitude\",\"longitude\"]).mean()\n"
     ]
    },
    {
     "name": "stdout",
     "output_type": "stream",
     "text": [
      "/Volumes/PACIOOS/altimetryjson/altimetrygeo19992.json\n"
     ]
    },
    {
     "name": "stderr",
     "output_type": "stream",
     "text": [
      "/var/folders/d6/w300s4cx3qj10pqdcy5859bc0000gn/T/ipykernel_5148/1751344831.py:6: FutureWarning: The default value of numeric_only in DataFrameGroupBy.mean is deprecated. In a future version, numeric_only will default to False. Either specify numeric_only or select only columns which should be valid for the function.\n",
      "  altslice = altslice.groupby([\"latitude\",\"longitude\"]).mean()\n"
     ]
    },
    {
     "name": "stdout",
     "output_type": "stream",
     "text": [
      "/Volumes/PACIOOS/altimetryjson/altimetrygeo19993.json\n"
     ]
    },
    {
     "name": "stderr",
     "output_type": "stream",
     "text": [
      "/var/folders/d6/w300s4cx3qj10pqdcy5859bc0000gn/T/ipykernel_5148/1751344831.py:6: FutureWarning: The default value of numeric_only in DataFrameGroupBy.mean is deprecated. In a future version, numeric_only will default to False. Either specify numeric_only or select only columns which should be valid for the function.\n",
      "  altslice = altslice.groupby([\"latitude\",\"longitude\"]).mean()\n"
     ]
    },
    {
     "name": "stdout",
     "output_type": "stream",
     "text": [
      "/Volumes/PACIOOS/altimetryjson/altimetrygeo19994.json\n"
     ]
    },
    {
     "name": "stderr",
     "output_type": "stream",
     "text": [
      "/var/folders/d6/w300s4cx3qj10pqdcy5859bc0000gn/T/ipykernel_5148/1751344831.py:6: FutureWarning: The default value of numeric_only in DataFrameGroupBy.mean is deprecated. In a future version, numeric_only will default to False. Either specify numeric_only or select only columns which should be valid for the function.\n",
      "  altslice = altslice.groupby([\"latitude\",\"longitude\"]).mean()\n"
     ]
    },
    {
     "name": "stdout",
     "output_type": "stream",
     "text": [
      "/Volumes/PACIOOS/altimetryjson/altimetrygeo19995.json\n"
     ]
    },
    {
     "name": "stderr",
     "output_type": "stream",
     "text": [
      "/var/folders/d6/w300s4cx3qj10pqdcy5859bc0000gn/T/ipykernel_5148/1751344831.py:6: FutureWarning: The default value of numeric_only in DataFrameGroupBy.mean is deprecated. In a future version, numeric_only will default to False. Either specify numeric_only or select only columns which should be valid for the function.\n",
      "  altslice = altslice.groupby([\"latitude\",\"longitude\"]).mean()\n"
     ]
    },
    {
     "name": "stdout",
     "output_type": "stream",
     "text": [
      "/Volumes/PACIOOS/altimetryjson/altimetrygeo19996.json\n"
     ]
    },
    {
     "name": "stderr",
     "output_type": "stream",
     "text": [
      "/var/folders/d6/w300s4cx3qj10pqdcy5859bc0000gn/T/ipykernel_5148/1751344831.py:6: FutureWarning: The default value of numeric_only in DataFrameGroupBy.mean is deprecated. In a future version, numeric_only will default to False. Either specify numeric_only or select only columns which should be valid for the function.\n",
      "  altslice = altslice.groupby([\"latitude\",\"longitude\"]).mean()\n"
     ]
    },
    {
     "name": "stdout",
     "output_type": "stream",
     "text": [
      "/Volumes/PACIOOS/altimetryjson/altimetrygeo19997.json\n"
     ]
    },
    {
     "name": "stderr",
     "output_type": "stream",
     "text": [
      "/var/folders/d6/w300s4cx3qj10pqdcy5859bc0000gn/T/ipykernel_5148/1751344831.py:6: FutureWarning: The default value of numeric_only in DataFrameGroupBy.mean is deprecated. In a future version, numeric_only will default to False. Either specify numeric_only or select only columns which should be valid for the function.\n",
      "  altslice = altslice.groupby([\"latitude\",\"longitude\"]).mean()\n"
     ]
    },
    {
     "name": "stdout",
     "output_type": "stream",
     "text": [
      "/Volumes/PACIOOS/altimetryjson/altimetrygeo19998.json\n"
     ]
    },
    {
     "name": "stderr",
     "output_type": "stream",
     "text": [
      "/var/folders/d6/w300s4cx3qj10pqdcy5859bc0000gn/T/ipykernel_5148/1751344831.py:6: FutureWarning: The default value of numeric_only in DataFrameGroupBy.mean is deprecated. In a future version, numeric_only will default to False. Either specify numeric_only or select only columns which should be valid for the function.\n",
      "  altslice = altslice.groupby([\"latitude\",\"longitude\"]).mean()\n"
     ]
    },
    {
     "name": "stdout",
     "output_type": "stream",
     "text": [
      "/Volumes/PACIOOS/altimetryjson/altimetrygeo19999.json\n"
     ]
    },
    {
     "name": "stderr",
     "output_type": "stream",
     "text": [
      "/var/folders/d6/w300s4cx3qj10pqdcy5859bc0000gn/T/ipykernel_5148/1751344831.py:6: FutureWarning: The default value of numeric_only in DataFrameGroupBy.mean is deprecated. In a future version, numeric_only will default to False. Either specify numeric_only or select only columns which should be valid for the function.\n",
      "  altslice = altslice.groupby([\"latitude\",\"longitude\"]).mean()\n"
     ]
    },
    {
     "name": "stdout",
     "output_type": "stream",
     "text": [
      "/Volumes/PACIOOS/altimetryjson/altimetrygeo199910.json\n"
     ]
    },
    {
     "name": "stderr",
     "output_type": "stream",
     "text": [
      "/var/folders/d6/w300s4cx3qj10pqdcy5859bc0000gn/T/ipykernel_5148/1751344831.py:6: FutureWarning: The default value of numeric_only in DataFrameGroupBy.mean is deprecated. In a future version, numeric_only will default to False. Either specify numeric_only or select only columns which should be valid for the function.\n",
      "  altslice = altslice.groupby([\"latitude\",\"longitude\"]).mean()\n"
     ]
    },
    {
     "name": "stdout",
     "output_type": "stream",
     "text": [
      "/Volumes/PACIOOS/altimetryjson/altimetrygeo199911.json\n"
     ]
    },
    {
     "name": "stderr",
     "output_type": "stream",
     "text": [
      "/var/folders/d6/w300s4cx3qj10pqdcy5859bc0000gn/T/ipykernel_5148/1751344831.py:6: FutureWarning: The default value of numeric_only in DataFrameGroupBy.mean is deprecated. In a future version, numeric_only will default to False. Either specify numeric_only or select only columns which should be valid for the function.\n",
      "  altslice = altslice.groupby([\"latitude\",\"longitude\"]).mean()\n"
     ]
    },
    {
     "name": "stdout",
     "output_type": "stream",
     "text": [
      "/Volumes/PACIOOS/altimetryjson/altimetrygeo199912.json\n"
     ]
    },
    {
     "name": "stderr",
     "output_type": "stream",
     "text": [
      "/var/folders/d6/w300s4cx3qj10pqdcy5859bc0000gn/T/ipykernel_5148/1751344831.py:6: FutureWarning: The default value of numeric_only in DataFrameGroupBy.mean is deprecated. In a future version, numeric_only will default to False. Either specify numeric_only or select only columns which should be valid for the function.\n",
      "  altslice = altslice.groupby([\"latitude\",\"longitude\"]).mean()\n"
     ]
    },
    {
     "name": "stdout",
     "output_type": "stream",
     "text": [
      "/Volumes/PACIOOS/altimetryjson/altimetrygeo20001.json\n"
     ]
    },
    {
     "name": "stderr",
     "output_type": "stream",
     "text": [
      "/var/folders/d6/w300s4cx3qj10pqdcy5859bc0000gn/T/ipykernel_5148/1751344831.py:6: FutureWarning: The default value of numeric_only in DataFrameGroupBy.mean is deprecated. In a future version, numeric_only will default to False. Either specify numeric_only or select only columns which should be valid for the function.\n",
      "  altslice = altslice.groupby([\"latitude\",\"longitude\"]).mean()\n"
     ]
    },
    {
     "name": "stdout",
     "output_type": "stream",
     "text": [
      "/Volumes/PACIOOS/altimetryjson/altimetrygeo20002.json\n"
     ]
    },
    {
     "name": "stderr",
     "output_type": "stream",
     "text": [
      "/var/folders/d6/w300s4cx3qj10pqdcy5859bc0000gn/T/ipykernel_5148/1751344831.py:6: FutureWarning: The default value of numeric_only in DataFrameGroupBy.mean is deprecated. In a future version, numeric_only will default to False. Either specify numeric_only or select only columns which should be valid for the function.\n",
      "  altslice = altslice.groupby([\"latitude\",\"longitude\"]).mean()\n"
     ]
    },
    {
     "name": "stdout",
     "output_type": "stream",
     "text": [
      "/Volumes/PACIOOS/altimetryjson/altimetrygeo20003.json\n"
     ]
    },
    {
     "name": "stderr",
     "output_type": "stream",
     "text": [
      "/var/folders/d6/w300s4cx3qj10pqdcy5859bc0000gn/T/ipykernel_5148/1751344831.py:6: FutureWarning: The default value of numeric_only in DataFrameGroupBy.mean is deprecated. In a future version, numeric_only will default to False. Either specify numeric_only or select only columns which should be valid for the function.\n",
      "  altslice = altslice.groupby([\"latitude\",\"longitude\"]).mean()\n"
     ]
    },
    {
     "name": "stdout",
     "output_type": "stream",
     "text": [
      "/Volumes/PACIOOS/altimetryjson/altimetrygeo20004.json\n"
     ]
    },
    {
     "name": "stderr",
     "output_type": "stream",
     "text": [
      "/var/folders/d6/w300s4cx3qj10pqdcy5859bc0000gn/T/ipykernel_5148/1751344831.py:6: FutureWarning: The default value of numeric_only in DataFrameGroupBy.mean is deprecated. In a future version, numeric_only will default to False. Either specify numeric_only or select only columns which should be valid for the function.\n",
      "  altslice = altslice.groupby([\"latitude\",\"longitude\"]).mean()\n"
     ]
    },
    {
     "name": "stdout",
     "output_type": "stream",
     "text": [
      "/Volumes/PACIOOS/altimetryjson/altimetrygeo20005.json\n"
     ]
    },
    {
     "name": "stderr",
     "output_type": "stream",
     "text": [
      "/var/folders/d6/w300s4cx3qj10pqdcy5859bc0000gn/T/ipykernel_5148/1751344831.py:6: FutureWarning: The default value of numeric_only in DataFrameGroupBy.mean is deprecated. In a future version, numeric_only will default to False. Either specify numeric_only or select only columns which should be valid for the function.\n",
      "  altslice = altslice.groupby([\"latitude\",\"longitude\"]).mean()\n"
     ]
    },
    {
     "name": "stdout",
     "output_type": "stream",
     "text": [
      "/Volumes/PACIOOS/altimetryjson/altimetrygeo20006.json\n"
     ]
    },
    {
     "name": "stderr",
     "output_type": "stream",
     "text": [
      "/var/folders/d6/w300s4cx3qj10pqdcy5859bc0000gn/T/ipykernel_5148/1751344831.py:6: FutureWarning: The default value of numeric_only in DataFrameGroupBy.mean is deprecated. In a future version, numeric_only will default to False. Either specify numeric_only or select only columns which should be valid for the function.\n",
      "  altslice = altslice.groupby([\"latitude\",\"longitude\"]).mean()\n"
     ]
    },
    {
     "name": "stdout",
     "output_type": "stream",
     "text": [
      "/Volumes/PACIOOS/altimetryjson/altimetrygeo20007.json\n"
     ]
    },
    {
     "name": "stderr",
     "output_type": "stream",
     "text": [
      "/var/folders/d6/w300s4cx3qj10pqdcy5859bc0000gn/T/ipykernel_5148/1751344831.py:6: FutureWarning: The default value of numeric_only in DataFrameGroupBy.mean is deprecated. In a future version, numeric_only will default to False. Either specify numeric_only or select only columns which should be valid for the function.\n",
      "  altslice = altslice.groupby([\"latitude\",\"longitude\"]).mean()\n"
     ]
    },
    {
     "name": "stdout",
     "output_type": "stream",
     "text": [
      "/Volumes/PACIOOS/altimetryjson/altimetrygeo20008.json\n"
     ]
    },
    {
     "name": "stderr",
     "output_type": "stream",
     "text": [
      "/var/folders/d6/w300s4cx3qj10pqdcy5859bc0000gn/T/ipykernel_5148/1751344831.py:6: FutureWarning: The default value of numeric_only in DataFrameGroupBy.mean is deprecated. In a future version, numeric_only will default to False. Either specify numeric_only or select only columns which should be valid for the function.\n",
      "  altslice = altslice.groupby([\"latitude\",\"longitude\"]).mean()\n"
     ]
    },
    {
     "name": "stdout",
     "output_type": "stream",
     "text": [
      "/Volumes/PACIOOS/altimetryjson/altimetrygeo20009.json\n"
     ]
    },
    {
     "name": "stderr",
     "output_type": "stream",
     "text": [
      "/var/folders/d6/w300s4cx3qj10pqdcy5859bc0000gn/T/ipykernel_5148/1751344831.py:6: FutureWarning: The default value of numeric_only in DataFrameGroupBy.mean is deprecated. In a future version, numeric_only will default to False. Either specify numeric_only or select only columns which should be valid for the function.\n",
      "  altslice = altslice.groupby([\"latitude\",\"longitude\"]).mean()\n"
     ]
    },
    {
     "name": "stdout",
     "output_type": "stream",
     "text": [
      "/Volumes/PACIOOS/altimetryjson/altimetrygeo200010.json\n"
     ]
    },
    {
     "name": "stderr",
     "output_type": "stream",
     "text": [
      "/var/folders/d6/w300s4cx3qj10pqdcy5859bc0000gn/T/ipykernel_5148/1751344831.py:6: FutureWarning: The default value of numeric_only in DataFrameGroupBy.mean is deprecated. In a future version, numeric_only will default to False. Either specify numeric_only or select only columns which should be valid for the function.\n",
      "  altslice = altslice.groupby([\"latitude\",\"longitude\"]).mean()\n"
     ]
    },
    {
     "name": "stdout",
     "output_type": "stream",
     "text": [
      "/Volumes/PACIOOS/altimetryjson/altimetrygeo200011.json\n"
     ]
    },
    {
     "name": "stderr",
     "output_type": "stream",
     "text": [
      "/var/folders/d6/w300s4cx3qj10pqdcy5859bc0000gn/T/ipykernel_5148/1751344831.py:6: FutureWarning: The default value of numeric_only in DataFrameGroupBy.mean is deprecated. In a future version, numeric_only will default to False. Either specify numeric_only or select only columns which should be valid for the function.\n",
      "  altslice = altslice.groupby([\"latitude\",\"longitude\"]).mean()\n"
     ]
    },
    {
     "name": "stdout",
     "output_type": "stream",
     "text": [
      "/Volumes/PACIOOS/altimetryjson/altimetrygeo200012.json\n"
     ]
    },
    {
     "name": "stderr",
     "output_type": "stream",
     "text": [
      "/var/folders/d6/w300s4cx3qj10pqdcy5859bc0000gn/T/ipykernel_5148/1751344831.py:6: FutureWarning: The default value of numeric_only in DataFrameGroupBy.mean is deprecated. In a future version, numeric_only will default to False. Either specify numeric_only or select only columns which should be valid for the function.\n",
      "  altslice = altslice.groupby([\"latitude\",\"longitude\"]).mean()\n"
     ]
    },
    {
     "name": "stdout",
     "output_type": "stream",
     "text": [
      "/Volumes/PACIOOS/altimetryjson/altimetrygeo20011.json\n"
     ]
    },
    {
     "name": "stderr",
     "output_type": "stream",
     "text": [
      "/var/folders/d6/w300s4cx3qj10pqdcy5859bc0000gn/T/ipykernel_5148/1751344831.py:6: FutureWarning: The default value of numeric_only in DataFrameGroupBy.mean is deprecated. In a future version, numeric_only will default to False. Either specify numeric_only or select only columns which should be valid for the function.\n",
      "  altslice = altslice.groupby([\"latitude\",\"longitude\"]).mean()\n"
     ]
    },
    {
     "name": "stdout",
     "output_type": "stream",
     "text": [
      "/Volumes/PACIOOS/altimetryjson/altimetrygeo20012.json\n"
     ]
    },
    {
     "name": "stderr",
     "output_type": "stream",
     "text": [
      "/var/folders/d6/w300s4cx3qj10pqdcy5859bc0000gn/T/ipykernel_5148/1751344831.py:6: FutureWarning: The default value of numeric_only in DataFrameGroupBy.mean is deprecated. In a future version, numeric_only will default to False. Either specify numeric_only or select only columns which should be valid for the function.\n",
      "  altslice = altslice.groupby([\"latitude\",\"longitude\"]).mean()\n"
     ]
    },
    {
     "name": "stdout",
     "output_type": "stream",
     "text": [
      "/Volumes/PACIOOS/altimetryjson/altimetrygeo20013.json\n"
     ]
    },
    {
     "name": "stderr",
     "output_type": "stream",
     "text": [
      "/var/folders/d6/w300s4cx3qj10pqdcy5859bc0000gn/T/ipykernel_5148/1751344831.py:6: FutureWarning: The default value of numeric_only in DataFrameGroupBy.mean is deprecated. In a future version, numeric_only will default to False. Either specify numeric_only or select only columns which should be valid for the function.\n",
      "  altslice = altslice.groupby([\"latitude\",\"longitude\"]).mean()\n"
     ]
    },
    {
     "name": "stdout",
     "output_type": "stream",
     "text": [
      "/Volumes/PACIOOS/altimetryjson/altimetrygeo20014.json\n"
     ]
    },
    {
     "name": "stderr",
     "output_type": "stream",
     "text": [
      "/var/folders/d6/w300s4cx3qj10pqdcy5859bc0000gn/T/ipykernel_5148/1751344831.py:6: FutureWarning: The default value of numeric_only in DataFrameGroupBy.mean is deprecated. In a future version, numeric_only will default to False. Either specify numeric_only or select only columns which should be valid for the function.\n",
      "  altslice = altslice.groupby([\"latitude\",\"longitude\"]).mean()\n"
     ]
    },
    {
     "name": "stdout",
     "output_type": "stream",
     "text": [
      "/Volumes/PACIOOS/altimetryjson/altimetrygeo20015.json\n"
     ]
    },
    {
     "name": "stderr",
     "output_type": "stream",
     "text": [
      "/var/folders/d6/w300s4cx3qj10pqdcy5859bc0000gn/T/ipykernel_5148/1751344831.py:6: FutureWarning: The default value of numeric_only in DataFrameGroupBy.mean is deprecated. In a future version, numeric_only will default to False. Either specify numeric_only or select only columns which should be valid for the function.\n",
      "  altslice = altslice.groupby([\"latitude\",\"longitude\"]).mean()\n"
     ]
    },
    {
     "name": "stdout",
     "output_type": "stream",
     "text": [
      "/Volumes/PACIOOS/altimetryjson/altimetrygeo20016.json\n"
     ]
    },
    {
     "name": "stderr",
     "output_type": "stream",
     "text": [
      "/var/folders/d6/w300s4cx3qj10pqdcy5859bc0000gn/T/ipykernel_5148/1751344831.py:6: FutureWarning: The default value of numeric_only in DataFrameGroupBy.mean is deprecated. In a future version, numeric_only will default to False. Either specify numeric_only or select only columns which should be valid for the function.\n",
      "  altslice = altslice.groupby([\"latitude\",\"longitude\"]).mean()\n"
     ]
    },
    {
     "name": "stdout",
     "output_type": "stream",
     "text": [
      "/Volumes/PACIOOS/altimetryjson/altimetrygeo20017.json\n"
     ]
    },
    {
     "name": "stderr",
     "output_type": "stream",
     "text": [
      "/var/folders/d6/w300s4cx3qj10pqdcy5859bc0000gn/T/ipykernel_5148/1751344831.py:6: FutureWarning: The default value of numeric_only in DataFrameGroupBy.mean is deprecated. In a future version, numeric_only will default to False. Either specify numeric_only or select only columns which should be valid for the function.\n",
      "  altslice = altslice.groupby([\"latitude\",\"longitude\"]).mean()\n"
     ]
    },
    {
     "name": "stdout",
     "output_type": "stream",
     "text": [
      "/Volumes/PACIOOS/altimetryjson/altimetrygeo20018.json\n"
     ]
    },
    {
     "name": "stderr",
     "output_type": "stream",
     "text": [
      "/var/folders/d6/w300s4cx3qj10pqdcy5859bc0000gn/T/ipykernel_5148/1751344831.py:6: FutureWarning: The default value of numeric_only in DataFrameGroupBy.mean is deprecated. In a future version, numeric_only will default to False. Either specify numeric_only or select only columns which should be valid for the function.\n",
      "  altslice = altslice.groupby([\"latitude\",\"longitude\"]).mean()\n"
     ]
    },
    {
     "name": "stdout",
     "output_type": "stream",
     "text": [
      "/Volumes/PACIOOS/altimetryjson/altimetrygeo20019.json\n"
     ]
    },
    {
     "name": "stderr",
     "output_type": "stream",
     "text": [
      "/var/folders/d6/w300s4cx3qj10pqdcy5859bc0000gn/T/ipykernel_5148/1751344831.py:6: FutureWarning: The default value of numeric_only in DataFrameGroupBy.mean is deprecated. In a future version, numeric_only will default to False. Either specify numeric_only or select only columns which should be valid for the function.\n",
      "  altslice = altslice.groupby([\"latitude\",\"longitude\"]).mean()\n"
     ]
    },
    {
     "name": "stdout",
     "output_type": "stream",
     "text": [
      "/Volumes/PACIOOS/altimetryjson/altimetrygeo200110.json\n"
     ]
    },
    {
     "name": "stderr",
     "output_type": "stream",
     "text": [
      "/var/folders/d6/w300s4cx3qj10pqdcy5859bc0000gn/T/ipykernel_5148/1751344831.py:6: FutureWarning: The default value of numeric_only in DataFrameGroupBy.mean is deprecated. In a future version, numeric_only will default to False. Either specify numeric_only or select only columns which should be valid for the function.\n",
      "  altslice = altslice.groupby([\"latitude\",\"longitude\"]).mean()\n"
     ]
    },
    {
     "name": "stdout",
     "output_type": "stream",
     "text": [
      "/Volumes/PACIOOS/altimetryjson/altimetrygeo200111.json\n"
     ]
    },
    {
     "name": "stderr",
     "output_type": "stream",
     "text": [
      "/var/folders/d6/w300s4cx3qj10pqdcy5859bc0000gn/T/ipykernel_5148/1751344831.py:6: FutureWarning: The default value of numeric_only in DataFrameGroupBy.mean is deprecated. In a future version, numeric_only will default to False. Either specify numeric_only or select only columns which should be valid for the function.\n",
      "  altslice = altslice.groupby([\"latitude\",\"longitude\"]).mean()\n"
     ]
    },
    {
     "name": "stdout",
     "output_type": "stream",
     "text": [
      "/Volumes/PACIOOS/altimetryjson/altimetrygeo200112.json\n"
     ]
    },
    {
     "name": "stderr",
     "output_type": "stream",
     "text": [
      "/var/folders/d6/w300s4cx3qj10pqdcy5859bc0000gn/T/ipykernel_5148/1751344831.py:6: FutureWarning: The default value of numeric_only in DataFrameGroupBy.mean is deprecated. In a future version, numeric_only will default to False. Either specify numeric_only or select only columns which should be valid for the function.\n",
      "  altslice = altslice.groupby([\"latitude\",\"longitude\"]).mean()\n"
     ]
    },
    {
     "name": "stdout",
     "output_type": "stream",
     "text": [
      "/Volumes/PACIOOS/altimetryjson/altimetrygeo20021.json\n"
     ]
    },
    {
     "name": "stderr",
     "output_type": "stream",
     "text": [
      "/var/folders/d6/w300s4cx3qj10pqdcy5859bc0000gn/T/ipykernel_5148/1751344831.py:6: FutureWarning: The default value of numeric_only in DataFrameGroupBy.mean is deprecated. In a future version, numeric_only will default to False. Either specify numeric_only or select only columns which should be valid for the function.\n",
      "  altslice = altslice.groupby([\"latitude\",\"longitude\"]).mean()\n"
     ]
    },
    {
     "name": "stdout",
     "output_type": "stream",
     "text": [
      "/Volumes/PACIOOS/altimetryjson/altimetrygeo20022.json\n"
     ]
    },
    {
     "name": "stderr",
     "output_type": "stream",
     "text": [
      "/var/folders/d6/w300s4cx3qj10pqdcy5859bc0000gn/T/ipykernel_5148/1751344831.py:6: FutureWarning: The default value of numeric_only in DataFrameGroupBy.mean is deprecated. In a future version, numeric_only will default to False. Either specify numeric_only or select only columns which should be valid for the function.\n",
      "  altslice = altslice.groupby([\"latitude\",\"longitude\"]).mean()\n"
     ]
    },
    {
     "name": "stdout",
     "output_type": "stream",
     "text": [
      "/Volumes/PACIOOS/altimetryjson/altimetrygeo20023.json\n"
     ]
    },
    {
     "name": "stderr",
     "output_type": "stream",
     "text": [
      "/var/folders/d6/w300s4cx3qj10pqdcy5859bc0000gn/T/ipykernel_5148/1751344831.py:6: FutureWarning: The default value of numeric_only in DataFrameGroupBy.mean is deprecated. In a future version, numeric_only will default to False. Either specify numeric_only or select only columns which should be valid for the function.\n",
      "  altslice = altslice.groupby([\"latitude\",\"longitude\"]).mean()\n"
     ]
    },
    {
     "name": "stdout",
     "output_type": "stream",
     "text": [
      "/Volumes/PACIOOS/altimetryjson/altimetrygeo20024.json\n"
     ]
    },
    {
     "name": "stderr",
     "output_type": "stream",
     "text": [
      "/var/folders/d6/w300s4cx3qj10pqdcy5859bc0000gn/T/ipykernel_5148/1751344831.py:6: FutureWarning: The default value of numeric_only in DataFrameGroupBy.mean is deprecated. In a future version, numeric_only will default to False. Either specify numeric_only or select only columns which should be valid for the function.\n",
      "  altslice = altslice.groupby([\"latitude\",\"longitude\"]).mean()\n"
     ]
    },
    {
     "name": "stdout",
     "output_type": "stream",
     "text": [
      "/Volumes/PACIOOS/altimetryjson/altimetrygeo20025.json\n"
     ]
    },
    {
     "name": "stderr",
     "output_type": "stream",
     "text": [
      "/var/folders/d6/w300s4cx3qj10pqdcy5859bc0000gn/T/ipykernel_5148/1751344831.py:6: FutureWarning: The default value of numeric_only in DataFrameGroupBy.mean is deprecated. In a future version, numeric_only will default to False. Either specify numeric_only or select only columns which should be valid for the function.\n",
      "  altslice = altslice.groupby([\"latitude\",\"longitude\"]).mean()\n"
     ]
    },
    {
     "name": "stdout",
     "output_type": "stream",
     "text": [
      "/Volumes/PACIOOS/altimetryjson/altimetrygeo20026.json\n"
     ]
    },
    {
     "name": "stderr",
     "output_type": "stream",
     "text": [
      "/var/folders/d6/w300s4cx3qj10pqdcy5859bc0000gn/T/ipykernel_5148/1751344831.py:6: FutureWarning: The default value of numeric_only in DataFrameGroupBy.mean is deprecated. In a future version, numeric_only will default to False. Either specify numeric_only or select only columns which should be valid for the function.\n",
      "  altslice = altslice.groupby([\"latitude\",\"longitude\"]).mean()\n"
     ]
    },
    {
     "name": "stdout",
     "output_type": "stream",
     "text": [
      "/Volumes/PACIOOS/altimetryjson/altimetrygeo20027.json\n"
     ]
    },
    {
     "name": "stderr",
     "output_type": "stream",
     "text": [
      "/var/folders/d6/w300s4cx3qj10pqdcy5859bc0000gn/T/ipykernel_5148/1751344831.py:6: FutureWarning: The default value of numeric_only in DataFrameGroupBy.mean is deprecated. In a future version, numeric_only will default to False. Either specify numeric_only or select only columns which should be valid for the function.\n",
      "  altslice = altslice.groupby([\"latitude\",\"longitude\"]).mean()\n"
     ]
    },
    {
     "name": "stdout",
     "output_type": "stream",
     "text": [
      "/Volumes/PACIOOS/altimetryjson/altimetrygeo20028.json\n"
     ]
    },
    {
     "name": "stderr",
     "output_type": "stream",
     "text": [
      "/var/folders/d6/w300s4cx3qj10pqdcy5859bc0000gn/T/ipykernel_5148/1751344831.py:6: FutureWarning: The default value of numeric_only in DataFrameGroupBy.mean is deprecated. In a future version, numeric_only will default to False. Either specify numeric_only or select only columns which should be valid for the function.\n",
      "  altslice = altslice.groupby([\"latitude\",\"longitude\"]).mean()\n"
     ]
    },
    {
     "name": "stdout",
     "output_type": "stream",
     "text": [
      "/Volumes/PACIOOS/altimetryjson/altimetrygeo20029.json\n"
     ]
    },
    {
     "name": "stderr",
     "output_type": "stream",
     "text": [
      "/var/folders/d6/w300s4cx3qj10pqdcy5859bc0000gn/T/ipykernel_5148/1751344831.py:6: FutureWarning: The default value of numeric_only in DataFrameGroupBy.mean is deprecated. In a future version, numeric_only will default to False. Either specify numeric_only or select only columns which should be valid for the function.\n",
      "  altslice = altslice.groupby([\"latitude\",\"longitude\"]).mean()\n"
     ]
    },
    {
     "name": "stdout",
     "output_type": "stream",
     "text": [
      "/Volumes/PACIOOS/altimetryjson/altimetrygeo200210.json\n"
     ]
    },
    {
     "name": "stderr",
     "output_type": "stream",
     "text": [
      "/var/folders/d6/w300s4cx3qj10pqdcy5859bc0000gn/T/ipykernel_5148/1751344831.py:6: FutureWarning: The default value of numeric_only in DataFrameGroupBy.mean is deprecated. In a future version, numeric_only will default to False. Either specify numeric_only or select only columns which should be valid for the function.\n",
      "  altslice = altslice.groupby([\"latitude\",\"longitude\"]).mean()\n"
     ]
    },
    {
     "name": "stdout",
     "output_type": "stream",
     "text": [
      "/Volumes/PACIOOS/altimetryjson/altimetrygeo200211.json\n"
     ]
    },
    {
     "name": "stderr",
     "output_type": "stream",
     "text": [
      "/var/folders/d6/w300s4cx3qj10pqdcy5859bc0000gn/T/ipykernel_5148/1751344831.py:6: FutureWarning: The default value of numeric_only in DataFrameGroupBy.mean is deprecated. In a future version, numeric_only will default to False. Either specify numeric_only or select only columns which should be valid for the function.\n",
      "  altslice = altslice.groupby([\"latitude\",\"longitude\"]).mean()\n"
     ]
    },
    {
     "name": "stdout",
     "output_type": "stream",
     "text": [
      "/Volumes/PACIOOS/altimetryjson/altimetrygeo200212.json\n"
     ]
    },
    {
     "name": "stderr",
     "output_type": "stream",
     "text": [
      "/var/folders/d6/w300s4cx3qj10pqdcy5859bc0000gn/T/ipykernel_5148/1751344831.py:6: FutureWarning: The default value of numeric_only in DataFrameGroupBy.mean is deprecated. In a future version, numeric_only will default to False. Either specify numeric_only or select only columns which should be valid for the function.\n",
      "  altslice = altslice.groupby([\"latitude\",\"longitude\"]).mean()\n"
     ]
    },
    {
     "name": "stdout",
     "output_type": "stream",
     "text": [
      "/Volumes/PACIOOS/altimetryjson/altimetrygeo20031.json\n"
     ]
    },
    {
     "name": "stderr",
     "output_type": "stream",
     "text": [
      "/var/folders/d6/w300s4cx3qj10pqdcy5859bc0000gn/T/ipykernel_5148/1751344831.py:6: FutureWarning: The default value of numeric_only in DataFrameGroupBy.mean is deprecated. In a future version, numeric_only will default to False. Either specify numeric_only or select only columns which should be valid for the function.\n",
      "  altslice = altslice.groupby([\"latitude\",\"longitude\"]).mean()\n"
     ]
    },
    {
     "name": "stdout",
     "output_type": "stream",
     "text": [
      "/Volumes/PACIOOS/altimetryjson/altimetrygeo20032.json\n"
     ]
    },
    {
     "name": "stderr",
     "output_type": "stream",
     "text": [
      "/var/folders/d6/w300s4cx3qj10pqdcy5859bc0000gn/T/ipykernel_5148/1751344831.py:6: FutureWarning: The default value of numeric_only in DataFrameGroupBy.mean is deprecated. In a future version, numeric_only will default to False. Either specify numeric_only or select only columns which should be valid for the function.\n",
      "  altslice = altslice.groupby([\"latitude\",\"longitude\"]).mean()\n"
     ]
    },
    {
     "name": "stdout",
     "output_type": "stream",
     "text": [
      "/Volumes/PACIOOS/altimetryjson/altimetrygeo20033.json\n"
     ]
    },
    {
     "name": "stderr",
     "output_type": "stream",
     "text": [
      "/var/folders/d6/w300s4cx3qj10pqdcy5859bc0000gn/T/ipykernel_5148/1751344831.py:6: FutureWarning: The default value of numeric_only in DataFrameGroupBy.mean is deprecated. In a future version, numeric_only will default to False. Either specify numeric_only or select only columns which should be valid for the function.\n",
      "  altslice = altslice.groupby([\"latitude\",\"longitude\"]).mean()\n"
     ]
    },
    {
     "name": "stdout",
     "output_type": "stream",
     "text": [
      "/Volumes/PACIOOS/altimetryjson/altimetrygeo20034.json\n"
     ]
    },
    {
     "name": "stderr",
     "output_type": "stream",
     "text": [
      "/var/folders/d6/w300s4cx3qj10pqdcy5859bc0000gn/T/ipykernel_5148/1751344831.py:6: FutureWarning: The default value of numeric_only in DataFrameGroupBy.mean is deprecated. In a future version, numeric_only will default to False. Either specify numeric_only or select only columns which should be valid for the function.\n",
      "  altslice = altslice.groupby([\"latitude\",\"longitude\"]).mean()\n"
     ]
    },
    {
     "name": "stdout",
     "output_type": "stream",
     "text": [
      "/Volumes/PACIOOS/altimetryjson/altimetrygeo20035.json\n"
     ]
    },
    {
     "name": "stderr",
     "output_type": "stream",
     "text": [
      "/var/folders/d6/w300s4cx3qj10pqdcy5859bc0000gn/T/ipykernel_5148/1751344831.py:6: FutureWarning: The default value of numeric_only in DataFrameGroupBy.mean is deprecated. In a future version, numeric_only will default to False. Either specify numeric_only or select only columns which should be valid for the function.\n",
      "  altslice = altslice.groupby([\"latitude\",\"longitude\"]).mean()\n"
     ]
    },
    {
     "name": "stdout",
     "output_type": "stream",
     "text": [
      "/Volumes/PACIOOS/altimetryjson/altimetrygeo20036.json\n"
     ]
    },
    {
     "name": "stderr",
     "output_type": "stream",
     "text": [
      "/var/folders/d6/w300s4cx3qj10pqdcy5859bc0000gn/T/ipykernel_5148/1751344831.py:6: FutureWarning: The default value of numeric_only in DataFrameGroupBy.mean is deprecated. In a future version, numeric_only will default to False. Either specify numeric_only or select only columns which should be valid for the function.\n",
      "  altslice = altslice.groupby([\"latitude\",\"longitude\"]).mean()\n"
     ]
    },
    {
     "name": "stdout",
     "output_type": "stream",
     "text": [
      "/Volumes/PACIOOS/altimetryjson/altimetrygeo20037.json\n"
     ]
    },
    {
     "name": "stderr",
     "output_type": "stream",
     "text": [
      "/var/folders/d6/w300s4cx3qj10pqdcy5859bc0000gn/T/ipykernel_5148/1751344831.py:6: FutureWarning: The default value of numeric_only in DataFrameGroupBy.mean is deprecated. In a future version, numeric_only will default to False. Either specify numeric_only or select only columns which should be valid for the function.\n",
      "  altslice = altslice.groupby([\"latitude\",\"longitude\"]).mean()\n"
     ]
    },
    {
     "name": "stdout",
     "output_type": "stream",
     "text": [
      "/Volumes/PACIOOS/altimetryjson/altimetrygeo20038.json\n"
     ]
    },
    {
     "name": "stderr",
     "output_type": "stream",
     "text": [
      "/var/folders/d6/w300s4cx3qj10pqdcy5859bc0000gn/T/ipykernel_5148/1751344831.py:6: FutureWarning: The default value of numeric_only in DataFrameGroupBy.mean is deprecated. In a future version, numeric_only will default to False. Either specify numeric_only or select only columns which should be valid for the function.\n",
      "  altslice = altslice.groupby([\"latitude\",\"longitude\"]).mean()\n"
     ]
    },
    {
     "name": "stdout",
     "output_type": "stream",
     "text": [
      "/Volumes/PACIOOS/altimetryjson/altimetrygeo20039.json\n"
     ]
    },
    {
     "name": "stderr",
     "output_type": "stream",
     "text": [
      "/var/folders/d6/w300s4cx3qj10pqdcy5859bc0000gn/T/ipykernel_5148/1751344831.py:6: FutureWarning: The default value of numeric_only in DataFrameGroupBy.mean is deprecated. In a future version, numeric_only will default to False. Either specify numeric_only or select only columns which should be valid for the function.\n",
      "  altslice = altslice.groupby([\"latitude\",\"longitude\"]).mean()\n"
     ]
    },
    {
     "name": "stdout",
     "output_type": "stream",
     "text": [
      "/Volumes/PACIOOS/altimetryjson/altimetrygeo200310.json\n"
     ]
    },
    {
     "name": "stderr",
     "output_type": "stream",
     "text": [
      "/var/folders/d6/w300s4cx3qj10pqdcy5859bc0000gn/T/ipykernel_5148/1751344831.py:6: FutureWarning: The default value of numeric_only in DataFrameGroupBy.mean is deprecated. In a future version, numeric_only will default to False. Either specify numeric_only or select only columns which should be valid for the function.\n",
      "  altslice = altslice.groupby([\"latitude\",\"longitude\"]).mean()\n"
     ]
    },
    {
     "name": "stdout",
     "output_type": "stream",
     "text": [
      "/Volumes/PACIOOS/altimetryjson/altimetrygeo200311.json\n"
     ]
    },
    {
     "name": "stderr",
     "output_type": "stream",
     "text": [
      "/var/folders/d6/w300s4cx3qj10pqdcy5859bc0000gn/T/ipykernel_5148/1751344831.py:6: FutureWarning: The default value of numeric_only in DataFrameGroupBy.mean is deprecated. In a future version, numeric_only will default to False. Either specify numeric_only or select only columns which should be valid for the function.\n",
      "  altslice = altslice.groupby([\"latitude\",\"longitude\"]).mean()\n"
     ]
    },
    {
     "name": "stdout",
     "output_type": "stream",
     "text": [
      "/Volumes/PACIOOS/altimetryjson/altimetrygeo200312.json\n"
     ]
    },
    {
     "name": "stderr",
     "output_type": "stream",
     "text": [
      "/var/folders/d6/w300s4cx3qj10pqdcy5859bc0000gn/T/ipykernel_5148/1751344831.py:6: FutureWarning: The default value of numeric_only in DataFrameGroupBy.mean is deprecated. In a future version, numeric_only will default to False. Either specify numeric_only or select only columns which should be valid for the function.\n",
      "  altslice = altslice.groupby([\"latitude\",\"longitude\"]).mean()\n"
     ]
    },
    {
     "name": "stdout",
     "output_type": "stream",
     "text": [
      "/Volumes/PACIOOS/altimetryjson/altimetrygeo20041.json\n"
     ]
    },
    {
     "name": "stderr",
     "output_type": "stream",
     "text": [
      "/var/folders/d6/w300s4cx3qj10pqdcy5859bc0000gn/T/ipykernel_5148/1751344831.py:6: FutureWarning: The default value of numeric_only in DataFrameGroupBy.mean is deprecated. In a future version, numeric_only will default to False. Either specify numeric_only or select only columns which should be valid for the function.\n",
      "  altslice = altslice.groupby([\"latitude\",\"longitude\"]).mean()\n"
     ]
    },
    {
     "name": "stdout",
     "output_type": "stream",
     "text": [
      "/Volumes/PACIOOS/altimetryjson/altimetrygeo20042.json\n"
     ]
    },
    {
     "name": "stderr",
     "output_type": "stream",
     "text": [
      "/var/folders/d6/w300s4cx3qj10pqdcy5859bc0000gn/T/ipykernel_5148/1751344831.py:6: FutureWarning: The default value of numeric_only in DataFrameGroupBy.mean is deprecated. In a future version, numeric_only will default to False. Either specify numeric_only or select only columns which should be valid for the function.\n",
      "  altslice = altslice.groupby([\"latitude\",\"longitude\"]).mean()\n"
     ]
    },
    {
     "name": "stdout",
     "output_type": "stream",
     "text": [
      "/Volumes/PACIOOS/altimetryjson/altimetrygeo20043.json\n"
     ]
    },
    {
     "name": "stderr",
     "output_type": "stream",
     "text": [
      "/var/folders/d6/w300s4cx3qj10pqdcy5859bc0000gn/T/ipykernel_5148/1751344831.py:6: FutureWarning: The default value of numeric_only in DataFrameGroupBy.mean is deprecated. In a future version, numeric_only will default to False. Either specify numeric_only or select only columns which should be valid for the function.\n",
      "  altslice = altslice.groupby([\"latitude\",\"longitude\"]).mean()\n"
     ]
    },
    {
     "name": "stdout",
     "output_type": "stream",
     "text": [
      "/Volumes/PACIOOS/altimetryjson/altimetrygeo20044.json\n"
     ]
    },
    {
     "name": "stderr",
     "output_type": "stream",
     "text": [
      "/var/folders/d6/w300s4cx3qj10pqdcy5859bc0000gn/T/ipykernel_5148/1751344831.py:6: FutureWarning: The default value of numeric_only in DataFrameGroupBy.mean is deprecated. In a future version, numeric_only will default to False. Either specify numeric_only or select only columns which should be valid for the function.\n",
      "  altslice = altslice.groupby([\"latitude\",\"longitude\"]).mean()\n"
     ]
    },
    {
     "name": "stdout",
     "output_type": "stream",
     "text": [
      "/Volumes/PACIOOS/altimetryjson/altimetrygeo20045.json\n"
     ]
    },
    {
     "name": "stderr",
     "output_type": "stream",
     "text": [
      "/var/folders/d6/w300s4cx3qj10pqdcy5859bc0000gn/T/ipykernel_5148/1751344831.py:6: FutureWarning: The default value of numeric_only in DataFrameGroupBy.mean is deprecated. In a future version, numeric_only will default to False. Either specify numeric_only or select only columns which should be valid for the function.\n",
      "  altslice = altslice.groupby([\"latitude\",\"longitude\"]).mean()\n"
     ]
    },
    {
     "name": "stdout",
     "output_type": "stream",
     "text": [
      "/Volumes/PACIOOS/altimetryjson/altimetrygeo20046.json\n"
     ]
    },
    {
     "name": "stderr",
     "output_type": "stream",
     "text": [
      "/var/folders/d6/w300s4cx3qj10pqdcy5859bc0000gn/T/ipykernel_5148/1751344831.py:6: FutureWarning: The default value of numeric_only in DataFrameGroupBy.mean is deprecated. In a future version, numeric_only will default to False. Either specify numeric_only or select only columns which should be valid for the function.\n",
      "  altslice = altslice.groupby([\"latitude\",\"longitude\"]).mean()\n"
     ]
    },
    {
     "name": "stdout",
     "output_type": "stream",
     "text": [
      "/Volumes/PACIOOS/altimetryjson/altimetrygeo20047.json\n"
     ]
    },
    {
     "name": "stderr",
     "output_type": "stream",
     "text": [
      "/var/folders/d6/w300s4cx3qj10pqdcy5859bc0000gn/T/ipykernel_5148/1751344831.py:6: FutureWarning: The default value of numeric_only in DataFrameGroupBy.mean is deprecated. In a future version, numeric_only will default to False. Either specify numeric_only or select only columns which should be valid for the function.\n",
      "  altslice = altslice.groupby([\"latitude\",\"longitude\"]).mean()\n"
     ]
    },
    {
     "name": "stdout",
     "output_type": "stream",
     "text": [
      "/Volumes/PACIOOS/altimetryjson/altimetrygeo20048.json\n"
     ]
    },
    {
     "name": "stderr",
     "output_type": "stream",
     "text": [
      "/var/folders/d6/w300s4cx3qj10pqdcy5859bc0000gn/T/ipykernel_5148/1751344831.py:6: FutureWarning: The default value of numeric_only in DataFrameGroupBy.mean is deprecated. In a future version, numeric_only will default to False. Either specify numeric_only or select only columns which should be valid for the function.\n",
      "  altslice = altslice.groupby([\"latitude\",\"longitude\"]).mean()\n"
     ]
    },
    {
     "name": "stdout",
     "output_type": "stream",
     "text": [
      "/Volumes/PACIOOS/altimetryjson/altimetrygeo20049.json\n"
     ]
    },
    {
     "name": "stderr",
     "output_type": "stream",
     "text": [
      "/var/folders/d6/w300s4cx3qj10pqdcy5859bc0000gn/T/ipykernel_5148/1751344831.py:6: FutureWarning: The default value of numeric_only in DataFrameGroupBy.mean is deprecated. In a future version, numeric_only will default to False. Either specify numeric_only or select only columns which should be valid for the function.\n",
      "  altslice = altslice.groupby([\"latitude\",\"longitude\"]).mean()\n"
     ]
    },
    {
     "name": "stdout",
     "output_type": "stream",
     "text": [
      "/Volumes/PACIOOS/altimetryjson/altimetrygeo200410.json\n"
     ]
    },
    {
     "name": "stderr",
     "output_type": "stream",
     "text": [
      "/var/folders/d6/w300s4cx3qj10pqdcy5859bc0000gn/T/ipykernel_5148/1751344831.py:6: FutureWarning: The default value of numeric_only in DataFrameGroupBy.mean is deprecated. In a future version, numeric_only will default to False. Either specify numeric_only or select only columns which should be valid for the function.\n",
      "  altslice = altslice.groupby([\"latitude\",\"longitude\"]).mean()\n"
     ]
    },
    {
     "name": "stdout",
     "output_type": "stream",
     "text": [
      "/Volumes/PACIOOS/altimetryjson/altimetrygeo200411.json\n"
     ]
    },
    {
     "name": "stderr",
     "output_type": "stream",
     "text": [
      "/var/folders/d6/w300s4cx3qj10pqdcy5859bc0000gn/T/ipykernel_5148/1751344831.py:6: FutureWarning: The default value of numeric_only in DataFrameGroupBy.mean is deprecated. In a future version, numeric_only will default to False. Either specify numeric_only or select only columns which should be valid for the function.\n",
      "  altslice = altslice.groupby([\"latitude\",\"longitude\"]).mean()\n"
     ]
    },
    {
     "name": "stdout",
     "output_type": "stream",
     "text": [
      "/Volumes/PACIOOS/altimetryjson/altimetrygeo200412.json\n"
     ]
    },
    {
     "name": "stderr",
     "output_type": "stream",
     "text": [
      "/var/folders/d6/w300s4cx3qj10pqdcy5859bc0000gn/T/ipykernel_5148/1751344831.py:6: FutureWarning: The default value of numeric_only in DataFrameGroupBy.mean is deprecated. In a future version, numeric_only will default to False. Either specify numeric_only or select only columns which should be valid for the function.\n",
      "  altslice = altslice.groupby([\"latitude\",\"longitude\"]).mean()\n"
     ]
    },
    {
     "name": "stdout",
     "output_type": "stream",
     "text": [
      "/Volumes/PACIOOS/altimetryjson/altimetrygeo20051.json\n"
     ]
    },
    {
     "name": "stderr",
     "output_type": "stream",
     "text": [
      "/var/folders/d6/w300s4cx3qj10pqdcy5859bc0000gn/T/ipykernel_5148/1751344831.py:6: FutureWarning: The default value of numeric_only in DataFrameGroupBy.mean is deprecated. In a future version, numeric_only will default to False. Either specify numeric_only or select only columns which should be valid for the function.\n",
      "  altslice = altslice.groupby([\"latitude\",\"longitude\"]).mean()\n"
     ]
    },
    {
     "name": "stdout",
     "output_type": "stream",
     "text": [
      "/Volumes/PACIOOS/altimetryjson/altimetrygeo20052.json\n"
     ]
    },
    {
     "name": "stderr",
     "output_type": "stream",
     "text": [
      "/var/folders/d6/w300s4cx3qj10pqdcy5859bc0000gn/T/ipykernel_5148/1751344831.py:6: FutureWarning: The default value of numeric_only in DataFrameGroupBy.mean is deprecated. In a future version, numeric_only will default to False. Either specify numeric_only or select only columns which should be valid for the function.\n",
      "  altslice = altslice.groupby([\"latitude\",\"longitude\"]).mean()\n"
     ]
    },
    {
     "name": "stdout",
     "output_type": "stream",
     "text": [
      "/Volumes/PACIOOS/altimetryjson/altimetrygeo20053.json\n"
     ]
    },
    {
     "name": "stderr",
     "output_type": "stream",
     "text": [
      "/var/folders/d6/w300s4cx3qj10pqdcy5859bc0000gn/T/ipykernel_5148/1751344831.py:6: FutureWarning: The default value of numeric_only in DataFrameGroupBy.mean is deprecated. In a future version, numeric_only will default to False. Either specify numeric_only or select only columns which should be valid for the function.\n",
      "  altslice = altslice.groupby([\"latitude\",\"longitude\"]).mean()\n"
     ]
    },
    {
     "name": "stdout",
     "output_type": "stream",
     "text": [
      "/Volumes/PACIOOS/altimetryjson/altimetrygeo20054.json\n"
     ]
    },
    {
     "name": "stderr",
     "output_type": "stream",
     "text": [
      "/var/folders/d6/w300s4cx3qj10pqdcy5859bc0000gn/T/ipykernel_5148/1751344831.py:6: FutureWarning: The default value of numeric_only in DataFrameGroupBy.mean is deprecated. In a future version, numeric_only will default to False. Either specify numeric_only or select only columns which should be valid for the function.\n",
      "  altslice = altslice.groupby([\"latitude\",\"longitude\"]).mean()\n"
     ]
    },
    {
     "name": "stdout",
     "output_type": "stream",
     "text": [
      "/Volumes/PACIOOS/altimetryjson/altimetrygeo20055.json\n"
     ]
    },
    {
     "name": "stderr",
     "output_type": "stream",
     "text": [
      "/var/folders/d6/w300s4cx3qj10pqdcy5859bc0000gn/T/ipykernel_5148/1751344831.py:6: FutureWarning: The default value of numeric_only in DataFrameGroupBy.mean is deprecated. In a future version, numeric_only will default to False. Either specify numeric_only or select only columns which should be valid for the function.\n",
      "  altslice = altslice.groupby([\"latitude\",\"longitude\"]).mean()\n"
     ]
    },
    {
     "name": "stdout",
     "output_type": "stream",
     "text": [
      "/Volumes/PACIOOS/altimetryjson/altimetrygeo20056.json\n"
     ]
    },
    {
     "name": "stderr",
     "output_type": "stream",
     "text": [
      "/var/folders/d6/w300s4cx3qj10pqdcy5859bc0000gn/T/ipykernel_5148/1751344831.py:6: FutureWarning: The default value of numeric_only in DataFrameGroupBy.mean is deprecated. In a future version, numeric_only will default to False. Either specify numeric_only or select only columns which should be valid for the function.\n",
      "  altslice = altslice.groupby([\"latitude\",\"longitude\"]).mean()\n"
     ]
    },
    {
     "name": "stdout",
     "output_type": "stream",
     "text": [
      "/Volumes/PACIOOS/altimetryjson/altimetrygeo20057.json\n"
     ]
    },
    {
     "name": "stderr",
     "output_type": "stream",
     "text": [
      "/var/folders/d6/w300s4cx3qj10pqdcy5859bc0000gn/T/ipykernel_5148/1751344831.py:6: FutureWarning: The default value of numeric_only in DataFrameGroupBy.mean is deprecated. In a future version, numeric_only will default to False. Either specify numeric_only or select only columns which should be valid for the function.\n",
      "  altslice = altslice.groupby([\"latitude\",\"longitude\"]).mean()\n"
     ]
    },
    {
     "name": "stdout",
     "output_type": "stream",
     "text": [
      "/Volumes/PACIOOS/altimetryjson/altimetrygeo20058.json\n"
     ]
    },
    {
     "name": "stderr",
     "output_type": "stream",
     "text": [
      "/var/folders/d6/w300s4cx3qj10pqdcy5859bc0000gn/T/ipykernel_5148/1751344831.py:6: FutureWarning: The default value of numeric_only in DataFrameGroupBy.mean is deprecated. In a future version, numeric_only will default to False. Either specify numeric_only or select only columns which should be valid for the function.\n",
      "  altslice = altslice.groupby([\"latitude\",\"longitude\"]).mean()\n"
     ]
    },
    {
     "name": "stdout",
     "output_type": "stream",
     "text": [
      "/Volumes/PACIOOS/altimetryjson/altimetrygeo20059.json\n"
     ]
    },
    {
     "name": "stderr",
     "output_type": "stream",
     "text": [
      "/var/folders/d6/w300s4cx3qj10pqdcy5859bc0000gn/T/ipykernel_5148/1751344831.py:6: FutureWarning: The default value of numeric_only in DataFrameGroupBy.mean is deprecated. In a future version, numeric_only will default to False. Either specify numeric_only or select only columns which should be valid for the function.\n",
      "  altslice = altslice.groupby([\"latitude\",\"longitude\"]).mean()\n"
     ]
    },
    {
     "name": "stdout",
     "output_type": "stream",
     "text": [
      "/Volumes/PACIOOS/altimetryjson/altimetrygeo200510.json\n"
     ]
    },
    {
     "name": "stderr",
     "output_type": "stream",
     "text": [
      "/var/folders/d6/w300s4cx3qj10pqdcy5859bc0000gn/T/ipykernel_5148/1751344831.py:6: FutureWarning: The default value of numeric_only in DataFrameGroupBy.mean is deprecated. In a future version, numeric_only will default to False. Either specify numeric_only or select only columns which should be valid for the function.\n",
      "  altslice = altslice.groupby([\"latitude\",\"longitude\"]).mean()\n"
     ]
    },
    {
     "name": "stdout",
     "output_type": "stream",
     "text": [
      "/Volumes/PACIOOS/altimetryjson/altimetrygeo200511.json\n"
     ]
    },
    {
     "name": "stderr",
     "output_type": "stream",
     "text": [
      "/var/folders/d6/w300s4cx3qj10pqdcy5859bc0000gn/T/ipykernel_5148/1751344831.py:6: FutureWarning: The default value of numeric_only in DataFrameGroupBy.mean is deprecated. In a future version, numeric_only will default to False. Either specify numeric_only or select only columns which should be valid for the function.\n",
      "  altslice = altslice.groupby([\"latitude\",\"longitude\"]).mean()\n"
     ]
    },
    {
     "name": "stdout",
     "output_type": "stream",
     "text": [
      "/Volumes/PACIOOS/altimetryjson/altimetrygeo200512.json\n"
     ]
    },
    {
     "name": "stderr",
     "output_type": "stream",
     "text": [
      "/var/folders/d6/w300s4cx3qj10pqdcy5859bc0000gn/T/ipykernel_5148/1751344831.py:6: FutureWarning: The default value of numeric_only in DataFrameGroupBy.mean is deprecated. In a future version, numeric_only will default to False. Either specify numeric_only or select only columns which should be valid for the function.\n",
      "  altslice = altslice.groupby([\"latitude\",\"longitude\"]).mean()\n"
     ]
    },
    {
     "name": "stdout",
     "output_type": "stream",
     "text": [
      "/Volumes/PACIOOS/altimetryjson/altimetrygeo20061.json\n"
     ]
    },
    {
     "name": "stderr",
     "output_type": "stream",
     "text": [
      "/var/folders/d6/w300s4cx3qj10pqdcy5859bc0000gn/T/ipykernel_5148/1751344831.py:6: FutureWarning: The default value of numeric_only in DataFrameGroupBy.mean is deprecated. In a future version, numeric_only will default to False. Either specify numeric_only or select only columns which should be valid for the function.\n",
      "  altslice = altslice.groupby([\"latitude\",\"longitude\"]).mean()\n"
     ]
    },
    {
     "name": "stdout",
     "output_type": "stream",
     "text": [
      "/Volumes/PACIOOS/altimetryjson/altimetrygeo20062.json\n"
     ]
    },
    {
     "name": "stderr",
     "output_type": "stream",
     "text": [
      "/var/folders/d6/w300s4cx3qj10pqdcy5859bc0000gn/T/ipykernel_5148/1751344831.py:6: FutureWarning: The default value of numeric_only in DataFrameGroupBy.mean is deprecated. In a future version, numeric_only will default to False. Either specify numeric_only or select only columns which should be valid for the function.\n",
      "  altslice = altslice.groupby([\"latitude\",\"longitude\"]).mean()\n"
     ]
    },
    {
     "name": "stdout",
     "output_type": "stream",
     "text": [
      "/Volumes/PACIOOS/altimetryjson/altimetrygeo20063.json\n"
     ]
    },
    {
     "name": "stderr",
     "output_type": "stream",
     "text": [
      "/var/folders/d6/w300s4cx3qj10pqdcy5859bc0000gn/T/ipykernel_5148/1751344831.py:6: FutureWarning: The default value of numeric_only in DataFrameGroupBy.mean is deprecated. In a future version, numeric_only will default to False. Either specify numeric_only or select only columns which should be valid for the function.\n",
      "  altslice = altslice.groupby([\"latitude\",\"longitude\"]).mean()\n"
     ]
    },
    {
     "name": "stdout",
     "output_type": "stream",
     "text": [
      "/Volumes/PACIOOS/altimetryjson/altimetrygeo20064.json\n"
     ]
    },
    {
     "name": "stderr",
     "output_type": "stream",
     "text": [
      "/var/folders/d6/w300s4cx3qj10pqdcy5859bc0000gn/T/ipykernel_5148/1751344831.py:6: FutureWarning: The default value of numeric_only in DataFrameGroupBy.mean is deprecated. In a future version, numeric_only will default to False. Either specify numeric_only or select only columns which should be valid for the function.\n",
      "  altslice = altslice.groupby([\"latitude\",\"longitude\"]).mean()\n"
     ]
    },
    {
     "name": "stdout",
     "output_type": "stream",
     "text": [
      "/Volumes/PACIOOS/altimetryjson/altimetrygeo20065.json\n"
     ]
    },
    {
     "name": "stderr",
     "output_type": "stream",
     "text": [
      "/var/folders/d6/w300s4cx3qj10pqdcy5859bc0000gn/T/ipykernel_5148/1751344831.py:6: FutureWarning: The default value of numeric_only in DataFrameGroupBy.mean is deprecated. In a future version, numeric_only will default to False. Either specify numeric_only or select only columns which should be valid for the function.\n",
      "  altslice = altslice.groupby([\"latitude\",\"longitude\"]).mean()\n"
     ]
    },
    {
     "name": "stdout",
     "output_type": "stream",
     "text": [
      "/Volumes/PACIOOS/altimetryjson/altimetrygeo20066.json\n"
     ]
    },
    {
     "name": "stderr",
     "output_type": "stream",
     "text": [
      "/var/folders/d6/w300s4cx3qj10pqdcy5859bc0000gn/T/ipykernel_5148/1751344831.py:6: FutureWarning: The default value of numeric_only in DataFrameGroupBy.mean is deprecated. In a future version, numeric_only will default to False. Either specify numeric_only or select only columns which should be valid for the function.\n",
      "  altslice = altslice.groupby([\"latitude\",\"longitude\"]).mean()\n"
     ]
    },
    {
     "name": "stdout",
     "output_type": "stream",
     "text": [
      "/Volumes/PACIOOS/altimetryjson/altimetrygeo20067.json\n"
     ]
    },
    {
     "name": "stderr",
     "output_type": "stream",
     "text": [
      "/var/folders/d6/w300s4cx3qj10pqdcy5859bc0000gn/T/ipykernel_5148/1751344831.py:6: FutureWarning: The default value of numeric_only in DataFrameGroupBy.mean is deprecated. In a future version, numeric_only will default to False. Either specify numeric_only or select only columns which should be valid for the function.\n",
      "  altslice = altslice.groupby([\"latitude\",\"longitude\"]).mean()\n"
     ]
    },
    {
     "name": "stdout",
     "output_type": "stream",
     "text": [
      "/Volumes/PACIOOS/altimetryjson/altimetrygeo20068.json\n"
     ]
    },
    {
     "name": "stderr",
     "output_type": "stream",
     "text": [
      "/var/folders/d6/w300s4cx3qj10pqdcy5859bc0000gn/T/ipykernel_5148/1751344831.py:6: FutureWarning: The default value of numeric_only in DataFrameGroupBy.mean is deprecated. In a future version, numeric_only will default to False. Either specify numeric_only or select only columns which should be valid for the function.\n",
      "  altslice = altslice.groupby([\"latitude\",\"longitude\"]).mean()\n"
     ]
    },
    {
     "name": "stdout",
     "output_type": "stream",
     "text": [
      "/Volumes/PACIOOS/altimetryjson/altimetrygeo20069.json\n"
     ]
    },
    {
     "name": "stderr",
     "output_type": "stream",
     "text": [
      "/var/folders/d6/w300s4cx3qj10pqdcy5859bc0000gn/T/ipykernel_5148/1751344831.py:6: FutureWarning: The default value of numeric_only in DataFrameGroupBy.mean is deprecated. In a future version, numeric_only will default to False. Either specify numeric_only or select only columns which should be valid for the function.\n",
      "  altslice = altslice.groupby([\"latitude\",\"longitude\"]).mean()\n"
     ]
    },
    {
     "name": "stdout",
     "output_type": "stream",
     "text": [
      "/Volumes/PACIOOS/altimetryjson/altimetrygeo200610.json\n"
     ]
    },
    {
     "name": "stderr",
     "output_type": "stream",
     "text": [
      "/var/folders/d6/w300s4cx3qj10pqdcy5859bc0000gn/T/ipykernel_5148/1751344831.py:6: FutureWarning: The default value of numeric_only in DataFrameGroupBy.mean is deprecated. In a future version, numeric_only will default to False. Either specify numeric_only or select only columns which should be valid for the function.\n",
      "  altslice = altslice.groupby([\"latitude\",\"longitude\"]).mean()\n"
     ]
    },
    {
     "name": "stdout",
     "output_type": "stream",
     "text": [
      "/Volumes/PACIOOS/altimetryjson/altimetrygeo200611.json\n"
     ]
    },
    {
     "name": "stderr",
     "output_type": "stream",
     "text": [
      "/var/folders/d6/w300s4cx3qj10pqdcy5859bc0000gn/T/ipykernel_5148/1751344831.py:6: FutureWarning: The default value of numeric_only in DataFrameGroupBy.mean is deprecated. In a future version, numeric_only will default to False. Either specify numeric_only or select only columns which should be valid for the function.\n",
      "  altslice = altslice.groupby([\"latitude\",\"longitude\"]).mean()\n"
     ]
    },
    {
     "name": "stdout",
     "output_type": "stream",
     "text": [
      "/Volumes/PACIOOS/altimetryjson/altimetrygeo200612.json\n"
     ]
    },
    {
     "name": "stderr",
     "output_type": "stream",
     "text": [
      "/var/folders/d6/w300s4cx3qj10pqdcy5859bc0000gn/T/ipykernel_5148/1751344831.py:6: FutureWarning: The default value of numeric_only in DataFrameGroupBy.mean is deprecated. In a future version, numeric_only will default to False. Either specify numeric_only or select only columns which should be valid for the function.\n",
      "  altslice = altslice.groupby([\"latitude\",\"longitude\"]).mean()\n"
     ]
    },
    {
     "name": "stdout",
     "output_type": "stream",
     "text": [
      "/Volumes/PACIOOS/altimetryjson/altimetrygeo20071.json\n"
     ]
    },
    {
     "name": "stderr",
     "output_type": "stream",
     "text": [
      "/var/folders/d6/w300s4cx3qj10pqdcy5859bc0000gn/T/ipykernel_5148/1751344831.py:6: FutureWarning: The default value of numeric_only in DataFrameGroupBy.mean is deprecated. In a future version, numeric_only will default to False. Either specify numeric_only or select only columns which should be valid for the function.\n",
      "  altslice = altslice.groupby([\"latitude\",\"longitude\"]).mean()\n"
     ]
    },
    {
     "name": "stdout",
     "output_type": "stream",
     "text": [
      "/Volumes/PACIOOS/altimetryjson/altimetrygeo20072.json\n"
     ]
    },
    {
     "name": "stderr",
     "output_type": "stream",
     "text": [
      "/var/folders/d6/w300s4cx3qj10pqdcy5859bc0000gn/T/ipykernel_5148/1751344831.py:6: FutureWarning: The default value of numeric_only in DataFrameGroupBy.mean is deprecated. In a future version, numeric_only will default to False. Either specify numeric_only or select only columns which should be valid for the function.\n",
      "  altslice = altslice.groupby([\"latitude\",\"longitude\"]).mean()\n"
     ]
    },
    {
     "name": "stdout",
     "output_type": "stream",
     "text": [
      "/Volumes/PACIOOS/altimetryjson/altimetrygeo20073.json\n"
     ]
    },
    {
     "name": "stderr",
     "output_type": "stream",
     "text": [
      "/var/folders/d6/w300s4cx3qj10pqdcy5859bc0000gn/T/ipykernel_5148/1751344831.py:6: FutureWarning: The default value of numeric_only in DataFrameGroupBy.mean is deprecated. In a future version, numeric_only will default to False. Either specify numeric_only or select only columns which should be valid for the function.\n",
      "  altslice = altslice.groupby([\"latitude\",\"longitude\"]).mean()\n"
     ]
    },
    {
     "name": "stdout",
     "output_type": "stream",
     "text": [
      "/Volumes/PACIOOS/altimetryjson/altimetrygeo20074.json\n"
     ]
    },
    {
     "name": "stderr",
     "output_type": "stream",
     "text": [
      "/var/folders/d6/w300s4cx3qj10pqdcy5859bc0000gn/T/ipykernel_5148/1751344831.py:6: FutureWarning: The default value of numeric_only in DataFrameGroupBy.mean is deprecated. In a future version, numeric_only will default to False. Either specify numeric_only or select only columns which should be valid for the function.\n",
      "  altslice = altslice.groupby([\"latitude\",\"longitude\"]).mean()\n"
     ]
    },
    {
     "name": "stdout",
     "output_type": "stream",
     "text": [
      "/Volumes/PACIOOS/altimetryjson/altimetrygeo20075.json\n"
     ]
    },
    {
     "name": "stderr",
     "output_type": "stream",
     "text": [
      "/var/folders/d6/w300s4cx3qj10pqdcy5859bc0000gn/T/ipykernel_5148/1751344831.py:6: FutureWarning: The default value of numeric_only in DataFrameGroupBy.mean is deprecated. In a future version, numeric_only will default to False. Either specify numeric_only or select only columns which should be valid for the function.\n",
      "  altslice = altslice.groupby([\"latitude\",\"longitude\"]).mean()\n"
     ]
    },
    {
     "name": "stdout",
     "output_type": "stream",
     "text": [
      "/Volumes/PACIOOS/altimetryjson/altimetrygeo20076.json\n"
     ]
    },
    {
     "name": "stderr",
     "output_type": "stream",
     "text": [
      "/var/folders/d6/w300s4cx3qj10pqdcy5859bc0000gn/T/ipykernel_5148/1751344831.py:6: FutureWarning: The default value of numeric_only in DataFrameGroupBy.mean is deprecated. In a future version, numeric_only will default to False. Either specify numeric_only or select only columns which should be valid for the function.\n",
      "  altslice = altslice.groupby([\"latitude\",\"longitude\"]).mean()\n"
     ]
    },
    {
     "name": "stdout",
     "output_type": "stream",
     "text": [
      "/Volumes/PACIOOS/altimetryjson/altimetrygeo20077.json\n"
     ]
    },
    {
     "name": "stderr",
     "output_type": "stream",
     "text": [
      "/var/folders/d6/w300s4cx3qj10pqdcy5859bc0000gn/T/ipykernel_5148/1751344831.py:6: FutureWarning: The default value of numeric_only in DataFrameGroupBy.mean is deprecated. In a future version, numeric_only will default to False. Either specify numeric_only or select only columns which should be valid for the function.\n",
      "  altslice = altslice.groupby([\"latitude\",\"longitude\"]).mean()\n"
     ]
    },
    {
     "name": "stdout",
     "output_type": "stream",
     "text": [
      "/Volumes/PACIOOS/altimetryjson/altimetrygeo20078.json\n"
     ]
    },
    {
     "name": "stderr",
     "output_type": "stream",
     "text": [
      "/var/folders/d6/w300s4cx3qj10pqdcy5859bc0000gn/T/ipykernel_5148/1751344831.py:6: FutureWarning: The default value of numeric_only in DataFrameGroupBy.mean is deprecated. In a future version, numeric_only will default to False. Either specify numeric_only or select only columns which should be valid for the function.\n",
      "  altslice = altslice.groupby([\"latitude\",\"longitude\"]).mean()\n"
     ]
    },
    {
     "name": "stdout",
     "output_type": "stream",
     "text": [
      "/Volumes/PACIOOS/altimetryjson/altimetrygeo20079.json\n"
     ]
    },
    {
     "name": "stderr",
     "output_type": "stream",
     "text": [
      "/var/folders/d6/w300s4cx3qj10pqdcy5859bc0000gn/T/ipykernel_5148/1751344831.py:6: FutureWarning: The default value of numeric_only in DataFrameGroupBy.mean is deprecated. In a future version, numeric_only will default to False. Either specify numeric_only or select only columns which should be valid for the function.\n",
      "  altslice = altslice.groupby([\"latitude\",\"longitude\"]).mean()\n"
     ]
    },
    {
     "name": "stdout",
     "output_type": "stream",
     "text": [
      "/Volumes/PACIOOS/altimetryjson/altimetrygeo200710.json\n"
     ]
    },
    {
     "name": "stderr",
     "output_type": "stream",
     "text": [
      "/var/folders/d6/w300s4cx3qj10pqdcy5859bc0000gn/T/ipykernel_5148/1751344831.py:6: FutureWarning: The default value of numeric_only in DataFrameGroupBy.mean is deprecated. In a future version, numeric_only will default to False. Either specify numeric_only or select only columns which should be valid for the function.\n",
      "  altslice = altslice.groupby([\"latitude\",\"longitude\"]).mean()\n"
     ]
    },
    {
     "name": "stdout",
     "output_type": "stream",
     "text": [
      "/Volumes/PACIOOS/altimetryjson/altimetrygeo200711.json\n"
     ]
    },
    {
     "name": "stderr",
     "output_type": "stream",
     "text": [
      "/var/folders/d6/w300s4cx3qj10pqdcy5859bc0000gn/T/ipykernel_5148/1751344831.py:6: FutureWarning: The default value of numeric_only in DataFrameGroupBy.mean is deprecated. In a future version, numeric_only will default to False. Either specify numeric_only or select only columns which should be valid for the function.\n",
      "  altslice = altslice.groupby([\"latitude\",\"longitude\"]).mean()\n"
     ]
    },
    {
     "name": "stdout",
     "output_type": "stream",
     "text": [
      "/Volumes/PACIOOS/altimetryjson/altimetrygeo200712.json\n"
     ]
    },
    {
     "name": "stderr",
     "output_type": "stream",
     "text": [
      "/var/folders/d6/w300s4cx3qj10pqdcy5859bc0000gn/T/ipykernel_5148/1751344831.py:6: FutureWarning: The default value of numeric_only in DataFrameGroupBy.mean is deprecated. In a future version, numeric_only will default to False. Either specify numeric_only or select only columns which should be valid for the function.\n",
      "  altslice = altslice.groupby([\"latitude\",\"longitude\"]).mean()\n"
     ]
    },
    {
     "name": "stdout",
     "output_type": "stream",
     "text": [
      "/Volumes/PACIOOS/altimetryjson/altimetrygeo20081.json\n"
     ]
    },
    {
     "name": "stderr",
     "output_type": "stream",
     "text": [
      "/var/folders/d6/w300s4cx3qj10pqdcy5859bc0000gn/T/ipykernel_5148/1751344831.py:6: FutureWarning: The default value of numeric_only in DataFrameGroupBy.mean is deprecated. In a future version, numeric_only will default to False. Either specify numeric_only or select only columns which should be valid for the function.\n",
      "  altslice = altslice.groupby([\"latitude\",\"longitude\"]).mean()\n"
     ]
    },
    {
     "name": "stdout",
     "output_type": "stream",
     "text": [
      "/Volumes/PACIOOS/altimetryjson/altimetrygeo20082.json\n"
     ]
    },
    {
     "name": "stderr",
     "output_type": "stream",
     "text": [
      "/var/folders/d6/w300s4cx3qj10pqdcy5859bc0000gn/T/ipykernel_5148/1751344831.py:6: FutureWarning: The default value of numeric_only in DataFrameGroupBy.mean is deprecated. In a future version, numeric_only will default to False. Either specify numeric_only or select only columns which should be valid for the function.\n",
      "  altslice = altslice.groupby([\"latitude\",\"longitude\"]).mean()\n"
     ]
    },
    {
     "name": "stdout",
     "output_type": "stream",
     "text": [
      "/Volumes/PACIOOS/altimetryjson/altimetrygeo20083.json\n"
     ]
    },
    {
     "name": "stderr",
     "output_type": "stream",
     "text": [
      "/var/folders/d6/w300s4cx3qj10pqdcy5859bc0000gn/T/ipykernel_5148/1751344831.py:6: FutureWarning: The default value of numeric_only in DataFrameGroupBy.mean is deprecated. In a future version, numeric_only will default to False. Either specify numeric_only or select only columns which should be valid for the function.\n",
      "  altslice = altslice.groupby([\"latitude\",\"longitude\"]).mean()\n"
     ]
    },
    {
     "name": "stdout",
     "output_type": "stream",
     "text": [
      "/Volumes/PACIOOS/altimetryjson/altimetrygeo20084.json\n"
     ]
    },
    {
     "name": "stderr",
     "output_type": "stream",
     "text": [
      "/var/folders/d6/w300s4cx3qj10pqdcy5859bc0000gn/T/ipykernel_5148/1751344831.py:6: FutureWarning: The default value of numeric_only in DataFrameGroupBy.mean is deprecated. In a future version, numeric_only will default to False. Either specify numeric_only or select only columns which should be valid for the function.\n",
      "  altslice = altslice.groupby([\"latitude\",\"longitude\"]).mean()\n"
     ]
    },
    {
     "name": "stdout",
     "output_type": "stream",
     "text": [
      "/Volumes/PACIOOS/altimetryjson/altimetrygeo20085.json\n"
     ]
    },
    {
     "name": "stderr",
     "output_type": "stream",
     "text": [
      "/var/folders/d6/w300s4cx3qj10pqdcy5859bc0000gn/T/ipykernel_5148/1751344831.py:6: FutureWarning: The default value of numeric_only in DataFrameGroupBy.mean is deprecated. In a future version, numeric_only will default to False. Either specify numeric_only or select only columns which should be valid for the function.\n",
      "  altslice = altslice.groupby([\"latitude\",\"longitude\"]).mean()\n"
     ]
    },
    {
     "name": "stdout",
     "output_type": "stream",
     "text": [
      "/Volumes/PACIOOS/altimetryjson/altimetrygeo20086.json\n"
     ]
    },
    {
     "name": "stderr",
     "output_type": "stream",
     "text": [
      "/var/folders/d6/w300s4cx3qj10pqdcy5859bc0000gn/T/ipykernel_5148/1751344831.py:6: FutureWarning: The default value of numeric_only in DataFrameGroupBy.mean is deprecated. In a future version, numeric_only will default to False. Either specify numeric_only or select only columns which should be valid for the function.\n",
      "  altslice = altslice.groupby([\"latitude\",\"longitude\"]).mean()\n"
     ]
    },
    {
     "name": "stdout",
     "output_type": "stream",
     "text": [
      "/Volumes/PACIOOS/altimetryjson/altimetrygeo20087.json\n"
     ]
    },
    {
     "name": "stderr",
     "output_type": "stream",
     "text": [
      "/var/folders/d6/w300s4cx3qj10pqdcy5859bc0000gn/T/ipykernel_5148/1751344831.py:6: FutureWarning: The default value of numeric_only in DataFrameGroupBy.mean is deprecated. In a future version, numeric_only will default to False. Either specify numeric_only or select only columns which should be valid for the function.\n",
      "  altslice = altslice.groupby([\"latitude\",\"longitude\"]).mean()\n"
     ]
    },
    {
     "name": "stdout",
     "output_type": "stream",
     "text": [
      "/Volumes/PACIOOS/altimetryjson/altimetrygeo20088.json\n"
     ]
    },
    {
     "name": "stderr",
     "output_type": "stream",
     "text": [
      "/var/folders/d6/w300s4cx3qj10pqdcy5859bc0000gn/T/ipykernel_5148/1751344831.py:6: FutureWarning: The default value of numeric_only in DataFrameGroupBy.mean is deprecated. In a future version, numeric_only will default to False. Either specify numeric_only or select only columns which should be valid for the function.\n",
      "  altslice = altslice.groupby([\"latitude\",\"longitude\"]).mean()\n"
     ]
    },
    {
     "name": "stdout",
     "output_type": "stream",
     "text": [
      "/Volumes/PACIOOS/altimetryjson/altimetrygeo20089.json\n"
     ]
    },
    {
     "name": "stderr",
     "output_type": "stream",
     "text": [
      "/var/folders/d6/w300s4cx3qj10pqdcy5859bc0000gn/T/ipykernel_5148/1751344831.py:6: FutureWarning: The default value of numeric_only in DataFrameGroupBy.mean is deprecated. In a future version, numeric_only will default to False. Either specify numeric_only or select only columns which should be valid for the function.\n",
      "  altslice = altslice.groupby([\"latitude\",\"longitude\"]).mean()\n"
     ]
    },
    {
     "name": "stdout",
     "output_type": "stream",
     "text": [
      "/Volumes/PACIOOS/altimetryjson/altimetrygeo200810.json\n"
     ]
    },
    {
     "name": "stderr",
     "output_type": "stream",
     "text": [
      "/var/folders/d6/w300s4cx3qj10pqdcy5859bc0000gn/T/ipykernel_5148/1751344831.py:6: FutureWarning: The default value of numeric_only in DataFrameGroupBy.mean is deprecated. In a future version, numeric_only will default to False. Either specify numeric_only or select only columns which should be valid for the function.\n",
      "  altslice = altslice.groupby([\"latitude\",\"longitude\"]).mean()\n"
     ]
    },
    {
     "name": "stdout",
     "output_type": "stream",
     "text": [
      "/Volumes/PACIOOS/altimetryjson/altimetrygeo200811.json\n"
     ]
    },
    {
     "name": "stderr",
     "output_type": "stream",
     "text": [
      "/var/folders/d6/w300s4cx3qj10pqdcy5859bc0000gn/T/ipykernel_5148/1751344831.py:6: FutureWarning: The default value of numeric_only in DataFrameGroupBy.mean is deprecated. In a future version, numeric_only will default to False. Either specify numeric_only or select only columns which should be valid for the function.\n",
      "  altslice = altslice.groupby([\"latitude\",\"longitude\"]).mean()\n"
     ]
    },
    {
     "name": "stdout",
     "output_type": "stream",
     "text": [
      "/Volumes/PACIOOS/altimetryjson/altimetrygeo200812.json\n"
     ]
    },
    {
     "name": "stderr",
     "output_type": "stream",
     "text": [
      "/var/folders/d6/w300s4cx3qj10pqdcy5859bc0000gn/T/ipykernel_5148/1751344831.py:6: FutureWarning: The default value of numeric_only in DataFrameGroupBy.mean is deprecated. In a future version, numeric_only will default to False. Either specify numeric_only or select only columns which should be valid for the function.\n",
      "  altslice = altslice.groupby([\"latitude\",\"longitude\"]).mean()\n"
     ]
    },
    {
     "name": "stdout",
     "output_type": "stream",
     "text": [
      "/Volumes/PACIOOS/altimetryjson/altimetrygeo20091.json\n"
     ]
    },
    {
     "name": "stderr",
     "output_type": "stream",
     "text": [
      "/var/folders/d6/w300s4cx3qj10pqdcy5859bc0000gn/T/ipykernel_5148/1751344831.py:6: FutureWarning: The default value of numeric_only in DataFrameGroupBy.mean is deprecated. In a future version, numeric_only will default to False. Either specify numeric_only or select only columns which should be valid for the function.\n",
      "  altslice = altslice.groupby([\"latitude\",\"longitude\"]).mean()\n"
     ]
    },
    {
     "name": "stdout",
     "output_type": "stream",
     "text": [
      "/Volumes/PACIOOS/altimetryjson/altimetrygeo20092.json\n"
     ]
    },
    {
     "name": "stderr",
     "output_type": "stream",
     "text": [
      "/var/folders/d6/w300s4cx3qj10pqdcy5859bc0000gn/T/ipykernel_5148/1751344831.py:6: FutureWarning: The default value of numeric_only in DataFrameGroupBy.mean is deprecated. In a future version, numeric_only will default to False. Either specify numeric_only or select only columns which should be valid for the function.\n",
      "  altslice = altslice.groupby([\"latitude\",\"longitude\"]).mean()\n"
     ]
    },
    {
     "name": "stdout",
     "output_type": "stream",
     "text": [
      "/Volumes/PACIOOS/altimetryjson/altimetrygeo20093.json\n"
     ]
    },
    {
     "name": "stderr",
     "output_type": "stream",
     "text": [
      "/var/folders/d6/w300s4cx3qj10pqdcy5859bc0000gn/T/ipykernel_5148/1751344831.py:6: FutureWarning: The default value of numeric_only in DataFrameGroupBy.mean is deprecated. In a future version, numeric_only will default to False. Either specify numeric_only or select only columns which should be valid for the function.\n",
      "  altslice = altslice.groupby([\"latitude\",\"longitude\"]).mean()\n"
     ]
    },
    {
     "name": "stdout",
     "output_type": "stream",
     "text": [
      "/Volumes/PACIOOS/altimetryjson/altimetrygeo20094.json\n"
     ]
    },
    {
     "name": "stderr",
     "output_type": "stream",
     "text": [
      "/var/folders/d6/w300s4cx3qj10pqdcy5859bc0000gn/T/ipykernel_5148/1751344831.py:6: FutureWarning: The default value of numeric_only in DataFrameGroupBy.mean is deprecated. In a future version, numeric_only will default to False. Either specify numeric_only or select only columns which should be valid for the function.\n",
      "  altslice = altslice.groupby([\"latitude\",\"longitude\"]).mean()\n"
     ]
    },
    {
     "name": "stdout",
     "output_type": "stream",
     "text": [
      "/Volumes/PACIOOS/altimetryjson/altimetrygeo20095.json\n"
     ]
    },
    {
     "name": "stderr",
     "output_type": "stream",
     "text": [
      "/var/folders/d6/w300s4cx3qj10pqdcy5859bc0000gn/T/ipykernel_5148/1751344831.py:6: FutureWarning: The default value of numeric_only in DataFrameGroupBy.mean is deprecated. In a future version, numeric_only will default to False. Either specify numeric_only or select only columns which should be valid for the function.\n",
      "  altslice = altslice.groupby([\"latitude\",\"longitude\"]).mean()\n"
     ]
    },
    {
     "name": "stdout",
     "output_type": "stream",
     "text": [
      "/Volumes/PACIOOS/altimetryjson/altimetrygeo20096.json\n"
     ]
    },
    {
     "name": "stderr",
     "output_type": "stream",
     "text": [
      "/var/folders/d6/w300s4cx3qj10pqdcy5859bc0000gn/T/ipykernel_5148/1751344831.py:6: FutureWarning: The default value of numeric_only in DataFrameGroupBy.mean is deprecated. In a future version, numeric_only will default to False. Either specify numeric_only or select only columns which should be valid for the function.\n",
      "  altslice = altslice.groupby([\"latitude\",\"longitude\"]).mean()\n"
     ]
    },
    {
     "name": "stdout",
     "output_type": "stream",
     "text": [
      "/Volumes/PACIOOS/altimetryjson/altimetrygeo20097.json\n"
     ]
    },
    {
     "name": "stderr",
     "output_type": "stream",
     "text": [
      "/var/folders/d6/w300s4cx3qj10pqdcy5859bc0000gn/T/ipykernel_5148/1751344831.py:6: FutureWarning: The default value of numeric_only in DataFrameGroupBy.mean is deprecated. In a future version, numeric_only will default to False. Either specify numeric_only or select only columns which should be valid for the function.\n",
      "  altslice = altslice.groupby([\"latitude\",\"longitude\"]).mean()\n"
     ]
    },
    {
     "name": "stdout",
     "output_type": "stream",
     "text": [
      "/Volumes/PACIOOS/altimetryjson/altimetrygeo20098.json\n"
     ]
    },
    {
     "name": "stderr",
     "output_type": "stream",
     "text": [
      "/var/folders/d6/w300s4cx3qj10pqdcy5859bc0000gn/T/ipykernel_5148/1751344831.py:6: FutureWarning: The default value of numeric_only in DataFrameGroupBy.mean is deprecated. In a future version, numeric_only will default to False. Either specify numeric_only or select only columns which should be valid for the function.\n",
      "  altslice = altslice.groupby([\"latitude\",\"longitude\"]).mean()\n"
     ]
    },
    {
     "name": "stdout",
     "output_type": "stream",
     "text": [
      "/Volumes/PACIOOS/altimetryjson/altimetrygeo20099.json\n"
     ]
    },
    {
     "name": "stderr",
     "output_type": "stream",
     "text": [
      "/var/folders/d6/w300s4cx3qj10pqdcy5859bc0000gn/T/ipykernel_5148/1751344831.py:6: FutureWarning: The default value of numeric_only in DataFrameGroupBy.mean is deprecated. In a future version, numeric_only will default to False. Either specify numeric_only or select only columns which should be valid for the function.\n",
      "  altslice = altslice.groupby([\"latitude\",\"longitude\"]).mean()\n"
     ]
    },
    {
     "name": "stdout",
     "output_type": "stream",
     "text": [
      "/Volumes/PACIOOS/altimetryjson/altimetrygeo200910.json\n"
     ]
    },
    {
     "name": "stderr",
     "output_type": "stream",
     "text": [
      "/var/folders/d6/w300s4cx3qj10pqdcy5859bc0000gn/T/ipykernel_5148/1751344831.py:6: FutureWarning: The default value of numeric_only in DataFrameGroupBy.mean is deprecated. In a future version, numeric_only will default to False. Either specify numeric_only or select only columns which should be valid for the function.\n",
      "  altslice = altslice.groupby([\"latitude\",\"longitude\"]).mean()\n"
     ]
    },
    {
     "name": "stdout",
     "output_type": "stream",
     "text": [
      "/Volumes/PACIOOS/altimetryjson/altimetrygeo200911.json\n"
     ]
    },
    {
     "name": "stderr",
     "output_type": "stream",
     "text": [
      "/var/folders/d6/w300s4cx3qj10pqdcy5859bc0000gn/T/ipykernel_5148/1751344831.py:6: FutureWarning: The default value of numeric_only in DataFrameGroupBy.mean is deprecated. In a future version, numeric_only will default to False. Either specify numeric_only or select only columns which should be valid for the function.\n",
      "  altslice = altslice.groupby([\"latitude\",\"longitude\"]).mean()\n"
     ]
    },
    {
     "name": "stdout",
     "output_type": "stream",
     "text": [
      "/Volumes/PACIOOS/altimetryjson/altimetrygeo200912.json\n"
     ]
    },
    {
     "name": "stderr",
     "output_type": "stream",
     "text": [
      "/var/folders/d6/w300s4cx3qj10pqdcy5859bc0000gn/T/ipykernel_5148/1751344831.py:6: FutureWarning: The default value of numeric_only in DataFrameGroupBy.mean is deprecated. In a future version, numeric_only will default to False. Either specify numeric_only or select only columns which should be valid for the function.\n",
      "  altslice = altslice.groupby([\"latitude\",\"longitude\"]).mean()\n"
     ]
    },
    {
     "name": "stdout",
     "output_type": "stream",
     "text": [
      "/Volumes/PACIOOS/altimetryjson/altimetrygeo20101.json\n"
     ]
    },
    {
     "name": "stderr",
     "output_type": "stream",
     "text": [
      "/var/folders/d6/w300s4cx3qj10pqdcy5859bc0000gn/T/ipykernel_5148/1751344831.py:6: FutureWarning: The default value of numeric_only in DataFrameGroupBy.mean is deprecated. In a future version, numeric_only will default to False. Either specify numeric_only or select only columns which should be valid for the function.\n",
      "  altslice = altslice.groupby([\"latitude\",\"longitude\"]).mean()\n"
     ]
    },
    {
     "name": "stdout",
     "output_type": "stream",
     "text": [
      "/Volumes/PACIOOS/altimetryjson/altimetrygeo20102.json\n"
     ]
    },
    {
     "name": "stderr",
     "output_type": "stream",
     "text": [
      "/var/folders/d6/w300s4cx3qj10pqdcy5859bc0000gn/T/ipykernel_5148/1751344831.py:6: FutureWarning: The default value of numeric_only in DataFrameGroupBy.mean is deprecated. In a future version, numeric_only will default to False. Either specify numeric_only or select only columns which should be valid for the function.\n",
      "  altslice = altslice.groupby([\"latitude\",\"longitude\"]).mean()\n"
     ]
    },
    {
     "name": "stdout",
     "output_type": "stream",
     "text": [
      "/Volumes/PACIOOS/altimetryjson/altimetrygeo20103.json\n"
     ]
    },
    {
     "name": "stderr",
     "output_type": "stream",
     "text": [
      "/var/folders/d6/w300s4cx3qj10pqdcy5859bc0000gn/T/ipykernel_5148/1751344831.py:6: FutureWarning: The default value of numeric_only in DataFrameGroupBy.mean is deprecated. In a future version, numeric_only will default to False. Either specify numeric_only or select only columns which should be valid for the function.\n",
      "  altslice = altslice.groupby([\"latitude\",\"longitude\"]).mean()\n"
     ]
    },
    {
     "name": "stdout",
     "output_type": "stream",
     "text": [
      "/Volumes/PACIOOS/altimetryjson/altimetrygeo20104.json\n"
     ]
    },
    {
     "name": "stderr",
     "output_type": "stream",
     "text": [
      "/var/folders/d6/w300s4cx3qj10pqdcy5859bc0000gn/T/ipykernel_5148/1751344831.py:6: FutureWarning: The default value of numeric_only in DataFrameGroupBy.mean is deprecated. In a future version, numeric_only will default to False. Either specify numeric_only or select only columns which should be valid for the function.\n",
      "  altslice = altslice.groupby([\"latitude\",\"longitude\"]).mean()\n"
     ]
    },
    {
     "name": "stdout",
     "output_type": "stream",
     "text": [
      "/Volumes/PACIOOS/altimetryjson/altimetrygeo20105.json\n"
     ]
    },
    {
     "name": "stderr",
     "output_type": "stream",
     "text": [
      "/var/folders/d6/w300s4cx3qj10pqdcy5859bc0000gn/T/ipykernel_5148/1751344831.py:6: FutureWarning: The default value of numeric_only in DataFrameGroupBy.mean is deprecated. In a future version, numeric_only will default to False. Either specify numeric_only or select only columns which should be valid for the function.\n",
      "  altslice = altslice.groupby([\"latitude\",\"longitude\"]).mean()\n"
     ]
    },
    {
     "name": "stdout",
     "output_type": "stream",
     "text": [
      "/Volumes/PACIOOS/altimetryjson/altimetrygeo20106.json\n"
     ]
    },
    {
     "name": "stderr",
     "output_type": "stream",
     "text": [
      "/var/folders/d6/w300s4cx3qj10pqdcy5859bc0000gn/T/ipykernel_5148/1751344831.py:6: FutureWarning: The default value of numeric_only in DataFrameGroupBy.mean is deprecated. In a future version, numeric_only will default to False. Either specify numeric_only or select only columns which should be valid for the function.\n",
      "  altslice = altslice.groupby([\"latitude\",\"longitude\"]).mean()\n"
     ]
    },
    {
     "name": "stdout",
     "output_type": "stream",
     "text": [
      "/Volumes/PACIOOS/altimetryjson/altimetrygeo20107.json\n"
     ]
    },
    {
     "name": "stderr",
     "output_type": "stream",
     "text": [
      "/var/folders/d6/w300s4cx3qj10pqdcy5859bc0000gn/T/ipykernel_5148/1751344831.py:6: FutureWarning: The default value of numeric_only in DataFrameGroupBy.mean is deprecated. In a future version, numeric_only will default to False. Either specify numeric_only or select only columns which should be valid for the function.\n",
      "  altslice = altslice.groupby([\"latitude\",\"longitude\"]).mean()\n"
     ]
    },
    {
     "name": "stdout",
     "output_type": "stream",
     "text": [
      "/Volumes/PACIOOS/altimetryjson/altimetrygeo20108.json\n"
     ]
    },
    {
     "name": "stderr",
     "output_type": "stream",
     "text": [
      "/var/folders/d6/w300s4cx3qj10pqdcy5859bc0000gn/T/ipykernel_5148/1751344831.py:6: FutureWarning: The default value of numeric_only in DataFrameGroupBy.mean is deprecated. In a future version, numeric_only will default to False. Either specify numeric_only or select only columns which should be valid for the function.\n",
      "  altslice = altslice.groupby([\"latitude\",\"longitude\"]).mean()\n"
     ]
    },
    {
     "name": "stdout",
     "output_type": "stream",
     "text": [
      "/Volumes/PACIOOS/altimetryjson/altimetrygeo20109.json\n"
     ]
    },
    {
     "name": "stderr",
     "output_type": "stream",
     "text": [
      "/var/folders/d6/w300s4cx3qj10pqdcy5859bc0000gn/T/ipykernel_5148/1751344831.py:6: FutureWarning: The default value of numeric_only in DataFrameGroupBy.mean is deprecated. In a future version, numeric_only will default to False. Either specify numeric_only or select only columns which should be valid for the function.\n",
      "  altslice = altslice.groupby([\"latitude\",\"longitude\"]).mean()\n"
     ]
    },
    {
     "name": "stdout",
     "output_type": "stream",
     "text": [
      "/Volumes/PACIOOS/altimetryjson/altimetrygeo201010.json\n"
     ]
    },
    {
     "name": "stderr",
     "output_type": "stream",
     "text": [
      "/var/folders/d6/w300s4cx3qj10pqdcy5859bc0000gn/T/ipykernel_5148/1751344831.py:6: FutureWarning: The default value of numeric_only in DataFrameGroupBy.mean is deprecated. In a future version, numeric_only will default to False. Either specify numeric_only or select only columns which should be valid for the function.\n",
      "  altslice = altslice.groupby([\"latitude\",\"longitude\"]).mean()\n"
     ]
    },
    {
     "name": "stdout",
     "output_type": "stream",
     "text": [
      "/Volumes/PACIOOS/altimetryjson/altimetrygeo201011.json\n"
     ]
    },
    {
     "name": "stderr",
     "output_type": "stream",
     "text": [
      "/var/folders/d6/w300s4cx3qj10pqdcy5859bc0000gn/T/ipykernel_5148/1751344831.py:6: FutureWarning: The default value of numeric_only in DataFrameGroupBy.mean is deprecated. In a future version, numeric_only will default to False. Either specify numeric_only or select only columns which should be valid for the function.\n",
      "  altslice = altslice.groupby([\"latitude\",\"longitude\"]).mean()\n"
     ]
    },
    {
     "name": "stdout",
     "output_type": "stream",
     "text": [
      "/Volumes/PACIOOS/altimetryjson/altimetrygeo201012.json\n"
     ]
    },
    {
     "name": "stderr",
     "output_type": "stream",
     "text": [
      "/var/folders/d6/w300s4cx3qj10pqdcy5859bc0000gn/T/ipykernel_5148/1751344831.py:6: FutureWarning: The default value of numeric_only in DataFrameGroupBy.mean is deprecated. In a future version, numeric_only will default to False. Either specify numeric_only or select only columns which should be valid for the function.\n",
      "  altslice = altslice.groupby([\"latitude\",\"longitude\"]).mean()\n"
     ]
    },
    {
     "name": "stdout",
     "output_type": "stream",
     "text": [
      "/Volumes/PACIOOS/altimetryjson/altimetrygeo20111.json\n"
     ]
    },
    {
     "name": "stderr",
     "output_type": "stream",
     "text": [
      "/var/folders/d6/w300s4cx3qj10pqdcy5859bc0000gn/T/ipykernel_5148/1751344831.py:6: FutureWarning: The default value of numeric_only in DataFrameGroupBy.mean is deprecated. In a future version, numeric_only will default to False. Either specify numeric_only or select only columns which should be valid for the function.\n",
      "  altslice = altslice.groupby([\"latitude\",\"longitude\"]).mean()\n"
     ]
    },
    {
     "name": "stdout",
     "output_type": "stream",
     "text": [
      "/Volumes/PACIOOS/altimetryjson/altimetrygeo20112.json\n"
     ]
    },
    {
     "name": "stderr",
     "output_type": "stream",
     "text": [
      "/var/folders/d6/w300s4cx3qj10pqdcy5859bc0000gn/T/ipykernel_5148/1751344831.py:6: FutureWarning: The default value of numeric_only in DataFrameGroupBy.mean is deprecated. In a future version, numeric_only will default to False. Either specify numeric_only or select only columns which should be valid for the function.\n",
      "  altslice = altslice.groupby([\"latitude\",\"longitude\"]).mean()\n"
     ]
    },
    {
     "name": "stdout",
     "output_type": "stream",
     "text": [
      "/Volumes/PACIOOS/altimetryjson/altimetrygeo20113.json\n"
     ]
    },
    {
     "name": "stderr",
     "output_type": "stream",
     "text": [
      "/var/folders/d6/w300s4cx3qj10pqdcy5859bc0000gn/T/ipykernel_5148/1751344831.py:6: FutureWarning: The default value of numeric_only in DataFrameGroupBy.mean is deprecated. In a future version, numeric_only will default to False. Either specify numeric_only or select only columns which should be valid for the function.\n",
      "  altslice = altslice.groupby([\"latitude\",\"longitude\"]).mean()\n"
     ]
    },
    {
     "name": "stdout",
     "output_type": "stream",
     "text": [
      "/Volumes/PACIOOS/altimetryjson/altimetrygeo20114.json\n"
     ]
    },
    {
     "name": "stderr",
     "output_type": "stream",
     "text": [
      "/var/folders/d6/w300s4cx3qj10pqdcy5859bc0000gn/T/ipykernel_5148/1751344831.py:6: FutureWarning: The default value of numeric_only in DataFrameGroupBy.mean is deprecated. In a future version, numeric_only will default to False. Either specify numeric_only or select only columns which should be valid for the function.\n",
      "  altslice = altslice.groupby([\"latitude\",\"longitude\"]).mean()\n"
     ]
    },
    {
     "name": "stdout",
     "output_type": "stream",
     "text": [
      "/Volumes/PACIOOS/altimetryjson/altimetrygeo20115.json\n"
     ]
    },
    {
     "name": "stderr",
     "output_type": "stream",
     "text": [
      "/var/folders/d6/w300s4cx3qj10pqdcy5859bc0000gn/T/ipykernel_5148/1751344831.py:6: FutureWarning: The default value of numeric_only in DataFrameGroupBy.mean is deprecated. In a future version, numeric_only will default to False. Either specify numeric_only or select only columns which should be valid for the function.\n",
      "  altslice = altslice.groupby([\"latitude\",\"longitude\"]).mean()\n"
     ]
    },
    {
     "name": "stdout",
     "output_type": "stream",
     "text": [
      "/Volumes/PACIOOS/altimetryjson/altimetrygeo20116.json\n"
     ]
    },
    {
     "name": "stderr",
     "output_type": "stream",
     "text": [
      "/var/folders/d6/w300s4cx3qj10pqdcy5859bc0000gn/T/ipykernel_5148/1751344831.py:6: FutureWarning: The default value of numeric_only in DataFrameGroupBy.mean is deprecated. In a future version, numeric_only will default to False. Either specify numeric_only or select only columns which should be valid for the function.\n",
      "  altslice = altslice.groupby([\"latitude\",\"longitude\"]).mean()\n"
     ]
    },
    {
     "name": "stdout",
     "output_type": "stream",
     "text": [
      "/Volumes/PACIOOS/altimetryjson/altimetrygeo20117.json\n"
     ]
    },
    {
     "name": "stderr",
     "output_type": "stream",
     "text": [
      "/var/folders/d6/w300s4cx3qj10pqdcy5859bc0000gn/T/ipykernel_5148/1751344831.py:6: FutureWarning: The default value of numeric_only in DataFrameGroupBy.mean is deprecated. In a future version, numeric_only will default to False. Either specify numeric_only or select only columns which should be valid for the function.\n",
      "  altslice = altslice.groupby([\"latitude\",\"longitude\"]).mean()\n"
     ]
    },
    {
     "name": "stdout",
     "output_type": "stream",
     "text": [
      "/Volumes/PACIOOS/altimetryjson/altimetrygeo20118.json\n"
     ]
    },
    {
     "name": "stderr",
     "output_type": "stream",
     "text": [
      "/var/folders/d6/w300s4cx3qj10pqdcy5859bc0000gn/T/ipykernel_5148/1751344831.py:6: FutureWarning: The default value of numeric_only in DataFrameGroupBy.mean is deprecated. In a future version, numeric_only will default to False. Either specify numeric_only or select only columns which should be valid for the function.\n",
      "  altslice = altslice.groupby([\"latitude\",\"longitude\"]).mean()\n"
     ]
    },
    {
     "name": "stdout",
     "output_type": "stream",
     "text": [
      "/Volumes/PACIOOS/altimetryjson/altimetrygeo20119.json\n"
     ]
    },
    {
     "name": "stderr",
     "output_type": "stream",
     "text": [
      "/var/folders/d6/w300s4cx3qj10pqdcy5859bc0000gn/T/ipykernel_5148/1751344831.py:6: FutureWarning: The default value of numeric_only in DataFrameGroupBy.mean is deprecated. In a future version, numeric_only will default to False. Either specify numeric_only or select only columns which should be valid for the function.\n",
      "  altslice = altslice.groupby([\"latitude\",\"longitude\"]).mean()\n"
     ]
    },
    {
     "name": "stdout",
     "output_type": "stream",
     "text": [
      "/Volumes/PACIOOS/altimetryjson/altimetrygeo201110.json\n"
     ]
    },
    {
     "name": "stderr",
     "output_type": "stream",
     "text": [
      "/var/folders/d6/w300s4cx3qj10pqdcy5859bc0000gn/T/ipykernel_5148/1751344831.py:6: FutureWarning: The default value of numeric_only in DataFrameGroupBy.mean is deprecated. In a future version, numeric_only will default to False. Either specify numeric_only or select only columns which should be valid for the function.\n",
      "  altslice = altslice.groupby([\"latitude\",\"longitude\"]).mean()\n"
     ]
    },
    {
     "name": "stdout",
     "output_type": "stream",
     "text": [
      "/Volumes/PACIOOS/altimetryjson/altimetrygeo201111.json\n"
     ]
    },
    {
     "name": "stderr",
     "output_type": "stream",
     "text": [
      "/var/folders/d6/w300s4cx3qj10pqdcy5859bc0000gn/T/ipykernel_5148/1751344831.py:6: FutureWarning: The default value of numeric_only in DataFrameGroupBy.mean is deprecated. In a future version, numeric_only will default to False. Either specify numeric_only or select only columns which should be valid for the function.\n",
      "  altslice = altslice.groupby([\"latitude\",\"longitude\"]).mean()\n"
     ]
    },
    {
     "name": "stdout",
     "output_type": "stream",
     "text": [
      "/Volumes/PACIOOS/altimetryjson/altimetrygeo201112.json\n"
     ]
    },
    {
     "name": "stderr",
     "output_type": "stream",
     "text": [
      "/var/folders/d6/w300s4cx3qj10pqdcy5859bc0000gn/T/ipykernel_5148/1751344831.py:6: FutureWarning: The default value of numeric_only in DataFrameGroupBy.mean is deprecated. In a future version, numeric_only will default to False. Either specify numeric_only or select only columns which should be valid for the function.\n",
      "  altslice = altslice.groupby([\"latitude\",\"longitude\"]).mean()\n"
     ]
    },
    {
     "name": "stdout",
     "output_type": "stream",
     "text": [
      "/Volumes/PACIOOS/altimetryjson/altimetrygeo20121.json\n"
     ]
    },
    {
     "name": "stderr",
     "output_type": "stream",
     "text": [
      "/var/folders/d6/w300s4cx3qj10pqdcy5859bc0000gn/T/ipykernel_5148/1751344831.py:6: FutureWarning: The default value of numeric_only in DataFrameGroupBy.mean is deprecated. In a future version, numeric_only will default to False. Either specify numeric_only or select only columns which should be valid for the function.\n",
      "  altslice = altslice.groupby([\"latitude\",\"longitude\"]).mean()\n"
     ]
    },
    {
     "name": "stdout",
     "output_type": "stream",
     "text": [
      "/Volumes/PACIOOS/altimetryjson/altimetrygeo20122.json\n"
     ]
    },
    {
     "name": "stderr",
     "output_type": "stream",
     "text": [
      "/var/folders/d6/w300s4cx3qj10pqdcy5859bc0000gn/T/ipykernel_5148/1751344831.py:6: FutureWarning: The default value of numeric_only in DataFrameGroupBy.mean is deprecated. In a future version, numeric_only will default to False. Either specify numeric_only or select only columns which should be valid for the function.\n",
      "  altslice = altslice.groupby([\"latitude\",\"longitude\"]).mean()\n"
     ]
    },
    {
     "name": "stdout",
     "output_type": "stream",
     "text": [
      "/Volumes/PACIOOS/altimetryjson/altimetrygeo20123.json\n"
     ]
    },
    {
     "name": "stderr",
     "output_type": "stream",
     "text": [
      "/var/folders/d6/w300s4cx3qj10pqdcy5859bc0000gn/T/ipykernel_5148/1751344831.py:6: FutureWarning: The default value of numeric_only in DataFrameGroupBy.mean is deprecated. In a future version, numeric_only will default to False. Either specify numeric_only or select only columns which should be valid for the function.\n",
      "  altslice = altslice.groupby([\"latitude\",\"longitude\"]).mean()\n"
     ]
    },
    {
     "name": "stdout",
     "output_type": "stream",
     "text": [
      "/Volumes/PACIOOS/altimetryjson/altimetrygeo20124.json\n"
     ]
    },
    {
     "name": "stderr",
     "output_type": "stream",
     "text": [
      "/var/folders/d6/w300s4cx3qj10pqdcy5859bc0000gn/T/ipykernel_5148/1751344831.py:6: FutureWarning: The default value of numeric_only in DataFrameGroupBy.mean is deprecated. In a future version, numeric_only will default to False. Either specify numeric_only or select only columns which should be valid for the function.\n",
      "  altslice = altslice.groupby([\"latitude\",\"longitude\"]).mean()\n"
     ]
    },
    {
     "name": "stdout",
     "output_type": "stream",
     "text": [
      "/Volumes/PACIOOS/altimetryjson/altimetrygeo20125.json\n"
     ]
    },
    {
     "name": "stderr",
     "output_type": "stream",
     "text": [
      "/var/folders/d6/w300s4cx3qj10pqdcy5859bc0000gn/T/ipykernel_5148/1751344831.py:6: FutureWarning: The default value of numeric_only in DataFrameGroupBy.mean is deprecated. In a future version, numeric_only will default to False. Either specify numeric_only or select only columns which should be valid for the function.\n",
      "  altslice = altslice.groupby([\"latitude\",\"longitude\"]).mean()\n"
     ]
    },
    {
     "name": "stdout",
     "output_type": "stream",
     "text": [
      "/Volumes/PACIOOS/altimetryjson/altimetrygeo20126.json\n"
     ]
    },
    {
     "name": "stderr",
     "output_type": "stream",
     "text": [
      "/var/folders/d6/w300s4cx3qj10pqdcy5859bc0000gn/T/ipykernel_5148/1751344831.py:6: FutureWarning: The default value of numeric_only in DataFrameGroupBy.mean is deprecated. In a future version, numeric_only will default to False. Either specify numeric_only or select only columns which should be valid for the function.\n",
      "  altslice = altslice.groupby([\"latitude\",\"longitude\"]).mean()\n"
     ]
    },
    {
     "name": "stdout",
     "output_type": "stream",
     "text": [
      "/Volumes/PACIOOS/altimetryjson/altimetrygeo20127.json\n"
     ]
    },
    {
     "name": "stderr",
     "output_type": "stream",
     "text": [
      "/var/folders/d6/w300s4cx3qj10pqdcy5859bc0000gn/T/ipykernel_5148/1751344831.py:6: FutureWarning: The default value of numeric_only in DataFrameGroupBy.mean is deprecated. In a future version, numeric_only will default to False. Either specify numeric_only or select only columns which should be valid for the function.\n",
      "  altslice = altslice.groupby([\"latitude\",\"longitude\"]).mean()\n"
     ]
    },
    {
     "name": "stdout",
     "output_type": "stream",
     "text": [
      "/Volumes/PACIOOS/altimetryjson/altimetrygeo20128.json\n"
     ]
    },
    {
     "name": "stderr",
     "output_type": "stream",
     "text": [
      "/var/folders/d6/w300s4cx3qj10pqdcy5859bc0000gn/T/ipykernel_5148/1751344831.py:6: FutureWarning: The default value of numeric_only in DataFrameGroupBy.mean is deprecated. In a future version, numeric_only will default to False. Either specify numeric_only or select only columns which should be valid for the function.\n",
      "  altslice = altslice.groupby([\"latitude\",\"longitude\"]).mean()\n"
     ]
    },
    {
     "name": "stdout",
     "output_type": "stream",
     "text": [
      "/Volumes/PACIOOS/altimetryjson/altimetrygeo20129.json\n"
     ]
    },
    {
     "name": "stderr",
     "output_type": "stream",
     "text": [
      "/var/folders/d6/w300s4cx3qj10pqdcy5859bc0000gn/T/ipykernel_5148/1751344831.py:6: FutureWarning: The default value of numeric_only in DataFrameGroupBy.mean is deprecated. In a future version, numeric_only will default to False. Either specify numeric_only or select only columns which should be valid for the function.\n",
      "  altslice = altslice.groupby([\"latitude\",\"longitude\"]).mean()\n"
     ]
    },
    {
     "name": "stdout",
     "output_type": "stream",
     "text": [
      "/Volumes/PACIOOS/altimetryjson/altimetrygeo201210.json\n"
     ]
    },
    {
     "name": "stderr",
     "output_type": "stream",
     "text": [
      "/var/folders/d6/w300s4cx3qj10pqdcy5859bc0000gn/T/ipykernel_5148/1751344831.py:6: FutureWarning: The default value of numeric_only in DataFrameGroupBy.mean is deprecated. In a future version, numeric_only will default to False. Either specify numeric_only or select only columns which should be valid for the function.\n",
      "  altslice = altslice.groupby([\"latitude\",\"longitude\"]).mean()\n"
     ]
    },
    {
     "name": "stdout",
     "output_type": "stream",
     "text": [
      "/Volumes/PACIOOS/altimetryjson/altimetrygeo201211.json\n"
     ]
    },
    {
     "name": "stderr",
     "output_type": "stream",
     "text": [
      "/var/folders/d6/w300s4cx3qj10pqdcy5859bc0000gn/T/ipykernel_5148/1751344831.py:6: FutureWarning: The default value of numeric_only in DataFrameGroupBy.mean is deprecated. In a future version, numeric_only will default to False. Either specify numeric_only or select only columns which should be valid for the function.\n",
      "  altslice = altslice.groupby([\"latitude\",\"longitude\"]).mean()\n"
     ]
    },
    {
     "name": "stdout",
     "output_type": "stream",
     "text": [
      "/Volumes/PACIOOS/altimetryjson/altimetrygeo201212.json\n"
     ]
    },
    {
     "name": "stderr",
     "output_type": "stream",
     "text": [
      "/var/folders/d6/w300s4cx3qj10pqdcy5859bc0000gn/T/ipykernel_5148/1751344831.py:6: FutureWarning: The default value of numeric_only in DataFrameGroupBy.mean is deprecated. In a future version, numeric_only will default to False. Either specify numeric_only or select only columns which should be valid for the function.\n",
      "  altslice = altslice.groupby([\"latitude\",\"longitude\"]).mean()\n"
     ]
    },
    {
     "name": "stdout",
     "output_type": "stream",
     "text": [
      "/Volumes/PACIOOS/altimetryjson/altimetrygeo20131.json\n"
     ]
    },
    {
     "name": "stderr",
     "output_type": "stream",
     "text": [
      "/var/folders/d6/w300s4cx3qj10pqdcy5859bc0000gn/T/ipykernel_5148/1751344831.py:6: FutureWarning: The default value of numeric_only in DataFrameGroupBy.mean is deprecated. In a future version, numeric_only will default to False. Either specify numeric_only or select only columns which should be valid for the function.\n",
      "  altslice = altslice.groupby([\"latitude\",\"longitude\"]).mean()\n"
     ]
    },
    {
     "name": "stdout",
     "output_type": "stream",
     "text": [
      "/Volumes/PACIOOS/altimetryjson/altimetrygeo20132.json\n"
     ]
    },
    {
     "name": "stderr",
     "output_type": "stream",
     "text": [
      "/var/folders/d6/w300s4cx3qj10pqdcy5859bc0000gn/T/ipykernel_5148/1751344831.py:6: FutureWarning: The default value of numeric_only in DataFrameGroupBy.mean is deprecated. In a future version, numeric_only will default to False. Either specify numeric_only or select only columns which should be valid for the function.\n",
      "  altslice = altslice.groupby([\"latitude\",\"longitude\"]).mean()\n"
     ]
    },
    {
     "name": "stdout",
     "output_type": "stream",
     "text": [
      "/Volumes/PACIOOS/altimetryjson/altimetrygeo20133.json\n"
     ]
    },
    {
     "name": "stderr",
     "output_type": "stream",
     "text": [
      "/var/folders/d6/w300s4cx3qj10pqdcy5859bc0000gn/T/ipykernel_5148/1751344831.py:6: FutureWarning: The default value of numeric_only in DataFrameGroupBy.mean is deprecated. In a future version, numeric_only will default to False. Either specify numeric_only or select only columns which should be valid for the function.\n",
      "  altslice = altslice.groupby([\"latitude\",\"longitude\"]).mean()\n"
     ]
    },
    {
     "name": "stdout",
     "output_type": "stream",
     "text": [
      "/Volumes/PACIOOS/altimetryjson/altimetrygeo20134.json\n"
     ]
    },
    {
     "name": "stderr",
     "output_type": "stream",
     "text": [
      "/var/folders/d6/w300s4cx3qj10pqdcy5859bc0000gn/T/ipykernel_5148/1751344831.py:6: FutureWarning: The default value of numeric_only in DataFrameGroupBy.mean is deprecated. In a future version, numeric_only will default to False. Either specify numeric_only or select only columns which should be valid for the function.\n",
      "  altslice = altslice.groupby([\"latitude\",\"longitude\"]).mean()\n"
     ]
    },
    {
     "name": "stdout",
     "output_type": "stream",
     "text": [
      "/Volumes/PACIOOS/altimetryjson/altimetrygeo20135.json\n"
     ]
    },
    {
     "name": "stderr",
     "output_type": "stream",
     "text": [
      "/var/folders/d6/w300s4cx3qj10pqdcy5859bc0000gn/T/ipykernel_5148/1751344831.py:6: FutureWarning: The default value of numeric_only in DataFrameGroupBy.mean is deprecated. In a future version, numeric_only will default to False. Either specify numeric_only or select only columns which should be valid for the function.\n",
      "  altslice = altslice.groupby([\"latitude\",\"longitude\"]).mean()\n"
     ]
    },
    {
     "name": "stdout",
     "output_type": "stream",
     "text": [
      "/Volumes/PACIOOS/altimetryjson/altimetrygeo20136.json\n"
     ]
    },
    {
     "name": "stderr",
     "output_type": "stream",
     "text": [
      "/var/folders/d6/w300s4cx3qj10pqdcy5859bc0000gn/T/ipykernel_5148/1751344831.py:6: FutureWarning: The default value of numeric_only in DataFrameGroupBy.mean is deprecated. In a future version, numeric_only will default to False. Either specify numeric_only or select only columns which should be valid for the function.\n",
      "  altslice = altslice.groupby([\"latitude\",\"longitude\"]).mean()\n"
     ]
    },
    {
     "name": "stdout",
     "output_type": "stream",
     "text": [
      "/Volumes/PACIOOS/altimetryjson/altimetrygeo20137.json\n"
     ]
    },
    {
     "name": "stderr",
     "output_type": "stream",
     "text": [
      "/var/folders/d6/w300s4cx3qj10pqdcy5859bc0000gn/T/ipykernel_5148/1751344831.py:6: FutureWarning: The default value of numeric_only in DataFrameGroupBy.mean is deprecated. In a future version, numeric_only will default to False. Either specify numeric_only or select only columns which should be valid for the function.\n",
      "  altslice = altslice.groupby([\"latitude\",\"longitude\"]).mean()\n"
     ]
    },
    {
     "name": "stdout",
     "output_type": "stream",
     "text": [
      "/Volumes/PACIOOS/altimetryjson/altimetrygeo20138.json\n"
     ]
    },
    {
     "name": "stderr",
     "output_type": "stream",
     "text": [
      "/var/folders/d6/w300s4cx3qj10pqdcy5859bc0000gn/T/ipykernel_5148/1751344831.py:6: FutureWarning: The default value of numeric_only in DataFrameGroupBy.mean is deprecated. In a future version, numeric_only will default to False. Either specify numeric_only or select only columns which should be valid for the function.\n",
      "  altslice = altslice.groupby([\"latitude\",\"longitude\"]).mean()\n"
     ]
    },
    {
     "name": "stdout",
     "output_type": "stream",
     "text": [
      "/Volumes/PACIOOS/altimetryjson/altimetrygeo20139.json\n"
     ]
    },
    {
     "name": "stderr",
     "output_type": "stream",
     "text": [
      "/var/folders/d6/w300s4cx3qj10pqdcy5859bc0000gn/T/ipykernel_5148/1751344831.py:6: FutureWarning: The default value of numeric_only in DataFrameGroupBy.mean is deprecated. In a future version, numeric_only will default to False. Either specify numeric_only or select only columns which should be valid for the function.\n",
      "  altslice = altslice.groupby([\"latitude\",\"longitude\"]).mean()\n"
     ]
    },
    {
     "name": "stdout",
     "output_type": "stream",
     "text": [
      "/Volumes/PACIOOS/altimetryjson/altimetrygeo201310.json\n"
     ]
    },
    {
     "name": "stderr",
     "output_type": "stream",
     "text": [
      "/var/folders/d6/w300s4cx3qj10pqdcy5859bc0000gn/T/ipykernel_5148/1751344831.py:6: FutureWarning: The default value of numeric_only in DataFrameGroupBy.mean is deprecated. In a future version, numeric_only will default to False. Either specify numeric_only or select only columns which should be valid for the function.\n",
      "  altslice = altslice.groupby([\"latitude\",\"longitude\"]).mean()\n"
     ]
    },
    {
     "name": "stdout",
     "output_type": "stream",
     "text": [
      "/Volumes/PACIOOS/altimetryjson/altimetrygeo201311.json\n"
     ]
    },
    {
     "name": "stderr",
     "output_type": "stream",
     "text": [
      "/var/folders/d6/w300s4cx3qj10pqdcy5859bc0000gn/T/ipykernel_5148/1751344831.py:6: FutureWarning: The default value of numeric_only in DataFrameGroupBy.mean is deprecated. In a future version, numeric_only will default to False. Either specify numeric_only or select only columns which should be valid for the function.\n",
      "  altslice = altslice.groupby([\"latitude\",\"longitude\"]).mean()\n"
     ]
    },
    {
     "name": "stdout",
     "output_type": "stream",
     "text": [
      "/Volumes/PACIOOS/altimetryjson/altimetrygeo201312.json\n"
     ]
    },
    {
     "name": "stderr",
     "output_type": "stream",
     "text": [
      "/var/folders/d6/w300s4cx3qj10pqdcy5859bc0000gn/T/ipykernel_5148/1751344831.py:6: FutureWarning: The default value of numeric_only in DataFrameGroupBy.mean is deprecated. In a future version, numeric_only will default to False. Either specify numeric_only or select only columns which should be valid for the function.\n",
      "  altslice = altslice.groupby([\"latitude\",\"longitude\"]).mean()\n"
     ]
    },
    {
     "name": "stdout",
     "output_type": "stream",
     "text": [
      "/Volumes/PACIOOS/altimetryjson/altimetrygeo20141.json\n"
     ]
    },
    {
     "name": "stderr",
     "output_type": "stream",
     "text": [
      "/var/folders/d6/w300s4cx3qj10pqdcy5859bc0000gn/T/ipykernel_5148/1751344831.py:6: FutureWarning: The default value of numeric_only in DataFrameGroupBy.mean is deprecated. In a future version, numeric_only will default to False. Either specify numeric_only or select only columns which should be valid for the function.\n",
      "  altslice = altslice.groupby([\"latitude\",\"longitude\"]).mean()\n"
     ]
    },
    {
     "name": "stdout",
     "output_type": "stream",
     "text": [
      "/Volumes/PACIOOS/altimetryjson/altimetrygeo20142.json\n"
     ]
    },
    {
     "name": "stderr",
     "output_type": "stream",
     "text": [
      "/var/folders/d6/w300s4cx3qj10pqdcy5859bc0000gn/T/ipykernel_5148/1751344831.py:6: FutureWarning: The default value of numeric_only in DataFrameGroupBy.mean is deprecated. In a future version, numeric_only will default to False. Either specify numeric_only or select only columns which should be valid for the function.\n",
      "  altslice = altslice.groupby([\"latitude\",\"longitude\"]).mean()\n"
     ]
    },
    {
     "name": "stdout",
     "output_type": "stream",
     "text": [
      "/Volumes/PACIOOS/altimetryjson/altimetrygeo20143.json\n"
     ]
    },
    {
     "name": "stderr",
     "output_type": "stream",
     "text": [
      "/var/folders/d6/w300s4cx3qj10pqdcy5859bc0000gn/T/ipykernel_5148/1751344831.py:6: FutureWarning: The default value of numeric_only in DataFrameGroupBy.mean is deprecated. In a future version, numeric_only will default to False. Either specify numeric_only or select only columns which should be valid for the function.\n",
      "  altslice = altslice.groupby([\"latitude\",\"longitude\"]).mean()\n"
     ]
    },
    {
     "name": "stdout",
     "output_type": "stream",
     "text": [
      "/Volumes/PACIOOS/altimetryjson/altimetrygeo20144.json\n"
     ]
    },
    {
     "name": "stderr",
     "output_type": "stream",
     "text": [
      "/var/folders/d6/w300s4cx3qj10pqdcy5859bc0000gn/T/ipykernel_5148/1751344831.py:6: FutureWarning: The default value of numeric_only in DataFrameGroupBy.mean is deprecated. In a future version, numeric_only will default to False. Either specify numeric_only or select only columns which should be valid for the function.\n",
      "  altslice = altslice.groupby([\"latitude\",\"longitude\"]).mean()\n"
     ]
    },
    {
     "name": "stdout",
     "output_type": "stream",
     "text": [
      "/Volumes/PACIOOS/altimetryjson/altimetrygeo20145.json\n"
     ]
    },
    {
     "name": "stderr",
     "output_type": "stream",
     "text": [
      "/var/folders/d6/w300s4cx3qj10pqdcy5859bc0000gn/T/ipykernel_5148/1751344831.py:6: FutureWarning: The default value of numeric_only in DataFrameGroupBy.mean is deprecated. In a future version, numeric_only will default to False. Either specify numeric_only or select only columns which should be valid for the function.\n",
      "  altslice = altslice.groupby([\"latitude\",\"longitude\"]).mean()\n"
     ]
    },
    {
     "name": "stdout",
     "output_type": "stream",
     "text": [
      "/Volumes/PACIOOS/altimetryjson/altimetrygeo20146.json\n"
     ]
    },
    {
     "name": "stderr",
     "output_type": "stream",
     "text": [
      "/var/folders/d6/w300s4cx3qj10pqdcy5859bc0000gn/T/ipykernel_5148/1751344831.py:6: FutureWarning: The default value of numeric_only in DataFrameGroupBy.mean is deprecated. In a future version, numeric_only will default to False. Either specify numeric_only or select only columns which should be valid for the function.\n",
      "  altslice = altslice.groupby([\"latitude\",\"longitude\"]).mean()\n"
     ]
    },
    {
     "name": "stdout",
     "output_type": "stream",
     "text": [
      "/Volumes/PACIOOS/altimetryjson/altimetrygeo20147.json\n"
     ]
    },
    {
     "name": "stderr",
     "output_type": "stream",
     "text": [
      "/var/folders/d6/w300s4cx3qj10pqdcy5859bc0000gn/T/ipykernel_5148/1751344831.py:6: FutureWarning: The default value of numeric_only in DataFrameGroupBy.mean is deprecated. In a future version, numeric_only will default to False. Either specify numeric_only or select only columns which should be valid for the function.\n",
      "  altslice = altslice.groupby([\"latitude\",\"longitude\"]).mean()\n"
     ]
    },
    {
     "name": "stdout",
     "output_type": "stream",
     "text": [
      "/Volumes/PACIOOS/altimetryjson/altimetrygeo20148.json\n"
     ]
    },
    {
     "name": "stderr",
     "output_type": "stream",
     "text": [
      "/var/folders/d6/w300s4cx3qj10pqdcy5859bc0000gn/T/ipykernel_5148/1751344831.py:6: FutureWarning: The default value of numeric_only in DataFrameGroupBy.mean is deprecated. In a future version, numeric_only will default to False. Either specify numeric_only or select only columns which should be valid for the function.\n",
      "  altslice = altslice.groupby([\"latitude\",\"longitude\"]).mean()\n"
     ]
    },
    {
     "name": "stdout",
     "output_type": "stream",
     "text": [
      "/Volumes/PACIOOS/altimetryjson/altimetrygeo20149.json\n"
     ]
    },
    {
     "name": "stderr",
     "output_type": "stream",
     "text": [
      "/var/folders/d6/w300s4cx3qj10pqdcy5859bc0000gn/T/ipykernel_5148/1751344831.py:6: FutureWarning: The default value of numeric_only in DataFrameGroupBy.mean is deprecated. In a future version, numeric_only will default to False. Either specify numeric_only or select only columns which should be valid for the function.\n",
      "  altslice = altslice.groupby([\"latitude\",\"longitude\"]).mean()\n"
     ]
    },
    {
     "name": "stdout",
     "output_type": "stream",
     "text": [
      "/Volumes/PACIOOS/altimetryjson/altimetrygeo201410.json\n"
     ]
    },
    {
     "name": "stderr",
     "output_type": "stream",
     "text": [
      "/var/folders/d6/w300s4cx3qj10pqdcy5859bc0000gn/T/ipykernel_5148/1751344831.py:6: FutureWarning: The default value of numeric_only in DataFrameGroupBy.mean is deprecated. In a future version, numeric_only will default to False. Either specify numeric_only or select only columns which should be valid for the function.\n",
      "  altslice = altslice.groupby([\"latitude\",\"longitude\"]).mean()\n"
     ]
    },
    {
     "name": "stdout",
     "output_type": "stream",
     "text": [
      "/Volumes/PACIOOS/altimetryjson/altimetrygeo201411.json\n"
     ]
    },
    {
     "name": "stderr",
     "output_type": "stream",
     "text": [
      "/var/folders/d6/w300s4cx3qj10pqdcy5859bc0000gn/T/ipykernel_5148/1751344831.py:6: FutureWarning: The default value of numeric_only in DataFrameGroupBy.mean is deprecated. In a future version, numeric_only will default to False. Either specify numeric_only or select only columns which should be valid for the function.\n",
      "  altslice = altslice.groupby([\"latitude\",\"longitude\"]).mean()\n"
     ]
    },
    {
     "name": "stdout",
     "output_type": "stream",
     "text": [
      "/Volumes/PACIOOS/altimetryjson/altimetrygeo201412.json\n"
     ]
    },
    {
     "name": "stderr",
     "output_type": "stream",
     "text": [
      "/var/folders/d6/w300s4cx3qj10pqdcy5859bc0000gn/T/ipykernel_5148/1751344831.py:6: FutureWarning: The default value of numeric_only in DataFrameGroupBy.mean is deprecated. In a future version, numeric_only will default to False. Either specify numeric_only or select only columns which should be valid for the function.\n",
      "  altslice = altslice.groupby([\"latitude\",\"longitude\"]).mean()\n"
     ]
    },
    {
     "name": "stdout",
     "output_type": "stream",
     "text": [
      "/Volumes/PACIOOS/altimetryjson/altimetrygeo20151.json\n"
     ]
    },
    {
     "name": "stderr",
     "output_type": "stream",
     "text": [
      "/var/folders/d6/w300s4cx3qj10pqdcy5859bc0000gn/T/ipykernel_5148/1751344831.py:6: FutureWarning: The default value of numeric_only in DataFrameGroupBy.mean is deprecated. In a future version, numeric_only will default to False. Either specify numeric_only or select only columns which should be valid for the function.\n",
      "  altslice = altslice.groupby([\"latitude\",\"longitude\"]).mean()\n"
     ]
    },
    {
     "name": "stdout",
     "output_type": "stream",
     "text": [
      "/Volumes/PACIOOS/altimetryjson/altimetrygeo20152.json\n"
     ]
    },
    {
     "name": "stderr",
     "output_type": "stream",
     "text": [
      "/var/folders/d6/w300s4cx3qj10pqdcy5859bc0000gn/T/ipykernel_5148/1751344831.py:6: FutureWarning: The default value of numeric_only in DataFrameGroupBy.mean is deprecated. In a future version, numeric_only will default to False. Either specify numeric_only or select only columns which should be valid for the function.\n",
      "  altslice = altslice.groupby([\"latitude\",\"longitude\"]).mean()\n"
     ]
    },
    {
     "name": "stdout",
     "output_type": "stream",
     "text": [
      "/Volumes/PACIOOS/altimetryjson/altimetrygeo20153.json\n"
     ]
    },
    {
     "name": "stderr",
     "output_type": "stream",
     "text": [
      "/var/folders/d6/w300s4cx3qj10pqdcy5859bc0000gn/T/ipykernel_5148/1751344831.py:6: FutureWarning: The default value of numeric_only in DataFrameGroupBy.mean is deprecated. In a future version, numeric_only will default to False. Either specify numeric_only or select only columns which should be valid for the function.\n",
      "  altslice = altslice.groupby([\"latitude\",\"longitude\"]).mean()\n"
     ]
    },
    {
     "name": "stdout",
     "output_type": "stream",
     "text": [
      "/Volumes/PACIOOS/altimetryjson/altimetrygeo20154.json\n"
     ]
    },
    {
     "name": "stderr",
     "output_type": "stream",
     "text": [
      "/var/folders/d6/w300s4cx3qj10pqdcy5859bc0000gn/T/ipykernel_5148/1751344831.py:6: FutureWarning: The default value of numeric_only in DataFrameGroupBy.mean is deprecated. In a future version, numeric_only will default to False. Either specify numeric_only or select only columns which should be valid for the function.\n",
      "  altslice = altslice.groupby([\"latitude\",\"longitude\"]).mean()\n"
     ]
    },
    {
     "name": "stdout",
     "output_type": "stream",
     "text": [
      "/Volumes/PACIOOS/altimetryjson/altimetrygeo20155.json\n"
     ]
    },
    {
     "name": "stderr",
     "output_type": "stream",
     "text": [
      "/var/folders/d6/w300s4cx3qj10pqdcy5859bc0000gn/T/ipykernel_5148/1751344831.py:6: FutureWarning: The default value of numeric_only in DataFrameGroupBy.mean is deprecated. In a future version, numeric_only will default to False. Either specify numeric_only or select only columns which should be valid for the function.\n",
      "  altslice = altslice.groupby([\"latitude\",\"longitude\"]).mean()\n"
     ]
    },
    {
     "name": "stdout",
     "output_type": "stream",
     "text": [
      "/Volumes/PACIOOS/altimetryjson/altimetrygeo20156.json\n"
     ]
    },
    {
     "name": "stderr",
     "output_type": "stream",
     "text": [
      "/var/folders/d6/w300s4cx3qj10pqdcy5859bc0000gn/T/ipykernel_5148/1751344831.py:6: FutureWarning: The default value of numeric_only in DataFrameGroupBy.mean is deprecated. In a future version, numeric_only will default to False. Either specify numeric_only or select only columns which should be valid for the function.\n",
      "  altslice = altslice.groupby([\"latitude\",\"longitude\"]).mean()\n"
     ]
    },
    {
     "name": "stdout",
     "output_type": "stream",
     "text": [
      "/Volumes/PACIOOS/altimetryjson/altimetrygeo20157.json\n"
     ]
    },
    {
     "name": "stderr",
     "output_type": "stream",
     "text": [
      "/var/folders/d6/w300s4cx3qj10pqdcy5859bc0000gn/T/ipykernel_5148/1751344831.py:6: FutureWarning: The default value of numeric_only in DataFrameGroupBy.mean is deprecated. In a future version, numeric_only will default to False. Either specify numeric_only or select only columns which should be valid for the function.\n",
      "  altslice = altslice.groupby([\"latitude\",\"longitude\"]).mean()\n"
     ]
    },
    {
     "name": "stdout",
     "output_type": "stream",
     "text": [
      "/Volumes/PACIOOS/altimetryjson/altimetrygeo20158.json\n"
     ]
    },
    {
     "name": "stderr",
     "output_type": "stream",
     "text": [
      "/var/folders/d6/w300s4cx3qj10pqdcy5859bc0000gn/T/ipykernel_5148/1751344831.py:6: FutureWarning: The default value of numeric_only in DataFrameGroupBy.mean is deprecated. In a future version, numeric_only will default to False. Either specify numeric_only or select only columns which should be valid for the function.\n",
      "  altslice = altslice.groupby([\"latitude\",\"longitude\"]).mean()\n"
     ]
    },
    {
     "name": "stdout",
     "output_type": "stream",
     "text": [
      "/Volumes/PACIOOS/altimetryjson/altimetrygeo20159.json\n"
     ]
    },
    {
     "name": "stderr",
     "output_type": "stream",
     "text": [
      "/var/folders/d6/w300s4cx3qj10pqdcy5859bc0000gn/T/ipykernel_5148/1751344831.py:6: FutureWarning: The default value of numeric_only in DataFrameGroupBy.mean is deprecated. In a future version, numeric_only will default to False. Either specify numeric_only or select only columns which should be valid for the function.\n",
      "  altslice = altslice.groupby([\"latitude\",\"longitude\"]).mean()\n"
     ]
    },
    {
     "name": "stdout",
     "output_type": "stream",
     "text": [
      "/Volumes/PACIOOS/altimetryjson/altimetrygeo201510.json\n"
     ]
    },
    {
     "name": "stderr",
     "output_type": "stream",
     "text": [
      "/var/folders/d6/w300s4cx3qj10pqdcy5859bc0000gn/T/ipykernel_5148/1751344831.py:6: FutureWarning: The default value of numeric_only in DataFrameGroupBy.mean is deprecated. In a future version, numeric_only will default to False. Either specify numeric_only or select only columns which should be valid for the function.\n",
      "  altslice = altslice.groupby([\"latitude\",\"longitude\"]).mean()\n"
     ]
    },
    {
     "name": "stdout",
     "output_type": "stream",
     "text": [
      "/Volumes/PACIOOS/altimetryjson/altimetrygeo201511.json\n"
     ]
    },
    {
     "name": "stderr",
     "output_type": "stream",
     "text": [
      "/var/folders/d6/w300s4cx3qj10pqdcy5859bc0000gn/T/ipykernel_5148/1751344831.py:6: FutureWarning: The default value of numeric_only in DataFrameGroupBy.mean is deprecated. In a future version, numeric_only will default to False. Either specify numeric_only or select only columns which should be valid for the function.\n",
      "  altslice = altslice.groupby([\"latitude\",\"longitude\"]).mean()\n"
     ]
    },
    {
     "name": "stdout",
     "output_type": "stream",
     "text": [
      "/Volumes/PACIOOS/altimetryjson/altimetrygeo201512.json\n"
     ]
    },
    {
     "name": "stderr",
     "output_type": "stream",
     "text": [
      "/var/folders/d6/w300s4cx3qj10pqdcy5859bc0000gn/T/ipykernel_5148/1751344831.py:6: FutureWarning: The default value of numeric_only in DataFrameGroupBy.mean is deprecated. In a future version, numeric_only will default to False. Either specify numeric_only or select only columns which should be valid for the function.\n",
      "  altslice = altslice.groupby([\"latitude\",\"longitude\"]).mean()\n"
     ]
    },
    {
     "name": "stdout",
     "output_type": "stream",
     "text": [
      "/Volumes/PACIOOS/altimetryjson/altimetrygeo20161.json\n"
     ]
    },
    {
     "name": "stderr",
     "output_type": "stream",
     "text": [
      "/var/folders/d6/w300s4cx3qj10pqdcy5859bc0000gn/T/ipykernel_5148/1751344831.py:6: FutureWarning: The default value of numeric_only in DataFrameGroupBy.mean is deprecated. In a future version, numeric_only will default to False. Either specify numeric_only or select only columns which should be valid for the function.\n",
      "  altslice = altslice.groupby([\"latitude\",\"longitude\"]).mean()\n"
     ]
    },
    {
     "name": "stdout",
     "output_type": "stream",
     "text": [
      "/Volumes/PACIOOS/altimetryjson/altimetrygeo20162.json\n"
     ]
    },
    {
     "name": "stderr",
     "output_type": "stream",
     "text": [
      "/var/folders/d6/w300s4cx3qj10pqdcy5859bc0000gn/T/ipykernel_5148/1751344831.py:6: FutureWarning: The default value of numeric_only in DataFrameGroupBy.mean is deprecated. In a future version, numeric_only will default to False. Either specify numeric_only or select only columns which should be valid for the function.\n",
      "  altslice = altslice.groupby([\"latitude\",\"longitude\"]).mean()\n"
     ]
    },
    {
     "name": "stdout",
     "output_type": "stream",
     "text": [
      "/Volumes/PACIOOS/altimetryjson/altimetrygeo20163.json\n"
     ]
    },
    {
     "name": "stderr",
     "output_type": "stream",
     "text": [
      "/var/folders/d6/w300s4cx3qj10pqdcy5859bc0000gn/T/ipykernel_5148/1751344831.py:6: FutureWarning: The default value of numeric_only in DataFrameGroupBy.mean is deprecated. In a future version, numeric_only will default to False. Either specify numeric_only or select only columns which should be valid for the function.\n",
      "  altslice = altslice.groupby([\"latitude\",\"longitude\"]).mean()\n"
     ]
    },
    {
     "name": "stdout",
     "output_type": "stream",
     "text": [
      "/Volumes/PACIOOS/altimetryjson/altimetrygeo20164.json\n"
     ]
    },
    {
     "name": "stderr",
     "output_type": "stream",
     "text": [
      "/var/folders/d6/w300s4cx3qj10pqdcy5859bc0000gn/T/ipykernel_5148/1751344831.py:6: FutureWarning: The default value of numeric_only in DataFrameGroupBy.mean is deprecated. In a future version, numeric_only will default to False. Either specify numeric_only or select only columns which should be valid for the function.\n",
      "  altslice = altslice.groupby([\"latitude\",\"longitude\"]).mean()\n"
     ]
    },
    {
     "name": "stdout",
     "output_type": "stream",
     "text": [
      "/Volumes/PACIOOS/altimetryjson/altimetrygeo20165.json\n"
     ]
    },
    {
     "name": "stderr",
     "output_type": "stream",
     "text": [
      "/var/folders/d6/w300s4cx3qj10pqdcy5859bc0000gn/T/ipykernel_5148/1751344831.py:6: FutureWarning: The default value of numeric_only in DataFrameGroupBy.mean is deprecated. In a future version, numeric_only will default to False. Either specify numeric_only or select only columns which should be valid for the function.\n",
      "  altslice = altslice.groupby([\"latitude\",\"longitude\"]).mean()\n"
     ]
    },
    {
     "name": "stdout",
     "output_type": "stream",
     "text": [
      "/Volumes/PACIOOS/altimetryjson/altimetrygeo20166.json\n"
     ]
    },
    {
     "name": "stderr",
     "output_type": "stream",
     "text": [
      "/var/folders/d6/w300s4cx3qj10pqdcy5859bc0000gn/T/ipykernel_5148/1751344831.py:6: FutureWarning: The default value of numeric_only in DataFrameGroupBy.mean is deprecated. In a future version, numeric_only will default to False. Either specify numeric_only or select only columns which should be valid for the function.\n",
      "  altslice = altslice.groupby([\"latitude\",\"longitude\"]).mean()\n"
     ]
    },
    {
     "name": "stdout",
     "output_type": "stream",
     "text": [
      "/Volumes/PACIOOS/altimetryjson/altimetrygeo20167.json\n"
     ]
    },
    {
     "name": "stderr",
     "output_type": "stream",
     "text": [
      "/var/folders/d6/w300s4cx3qj10pqdcy5859bc0000gn/T/ipykernel_5148/1751344831.py:6: FutureWarning: The default value of numeric_only in DataFrameGroupBy.mean is deprecated. In a future version, numeric_only will default to False. Either specify numeric_only or select only columns which should be valid for the function.\n",
      "  altslice = altslice.groupby([\"latitude\",\"longitude\"]).mean()\n"
     ]
    },
    {
     "name": "stdout",
     "output_type": "stream",
     "text": [
      "/Volumes/PACIOOS/altimetryjson/altimetrygeo20168.json\n"
     ]
    },
    {
     "name": "stderr",
     "output_type": "stream",
     "text": [
      "/var/folders/d6/w300s4cx3qj10pqdcy5859bc0000gn/T/ipykernel_5148/1751344831.py:6: FutureWarning: The default value of numeric_only in DataFrameGroupBy.mean is deprecated. In a future version, numeric_only will default to False. Either specify numeric_only or select only columns which should be valid for the function.\n",
      "  altslice = altslice.groupby([\"latitude\",\"longitude\"]).mean()\n"
     ]
    },
    {
     "name": "stdout",
     "output_type": "stream",
     "text": [
      "/Volumes/PACIOOS/altimetryjson/altimetrygeo20169.json\n"
     ]
    },
    {
     "name": "stderr",
     "output_type": "stream",
     "text": [
      "/var/folders/d6/w300s4cx3qj10pqdcy5859bc0000gn/T/ipykernel_5148/1751344831.py:6: FutureWarning: The default value of numeric_only in DataFrameGroupBy.mean is deprecated. In a future version, numeric_only will default to False. Either specify numeric_only or select only columns which should be valid for the function.\n",
      "  altslice = altslice.groupby([\"latitude\",\"longitude\"]).mean()\n"
     ]
    },
    {
     "name": "stdout",
     "output_type": "stream",
     "text": [
      "/Volumes/PACIOOS/altimetryjson/altimetrygeo201610.json\n"
     ]
    },
    {
     "name": "stderr",
     "output_type": "stream",
     "text": [
      "/var/folders/d6/w300s4cx3qj10pqdcy5859bc0000gn/T/ipykernel_5148/1751344831.py:6: FutureWarning: The default value of numeric_only in DataFrameGroupBy.mean is deprecated. In a future version, numeric_only will default to False. Either specify numeric_only or select only columns which should be valid for the function.\n",
      "  altslice = altslice.groupby([\"latitude\",\"longitude\"]).mean()\n"
     ]
    },
    {
     "name": "stdout",
     "output_type": "stream",
     "text": [
      "/Volumes/PACIOOS/altimetryjson/altimetrygeo201611.json\n"
     ]
    },
    {
     "name": "stderr",
     "output_type": "stream",
     "text": [
      "/var/folders/d6/w300s4cx3qj10pqdcy5859bc0000gn/T/ipykernel_5148/1751344831.py:6: FutureWarning: The default value of numeric_only in DataFrameGroupBy.mean is deprecated. In a future version, numeric_only will default to False. Either specify numeric_only or select only columns which should be valid for the function.\n",
      "  altslice = altslice.groupby([\"latitude\",\"longitude\"]).mean()\n"
     ]
    },
    {
     "name": "stdout",
     "output_type": "stream",
     "text": [
      "/Volumes/PACIOOS/altimetryjson/altimetrygeo201612.json\n"
     ]
    },
    {
     "name": "stderr",
     "output_type": "stream",
     "text": [
      "/var/folders/d6/w300s4cx3qj10pqdcy5859bc0000gn/T/ipykernel_5148/1751344831.py:6: FutureWarning: The default value of numeric_only in DataFrameGroupBy.mean is deprecated. In a future version, numeric_only will default to False. Either specify numeric_only or select only columns which should be valid for the function.\n",
      "  altslice = altslice.groupby([\"latitude\",\"longitude\"]).mean()\n"
     ]
    },
    {
     "name": "stdout",
     "output_type": "stream",
     "text": [
      "/Volumes/PACIOOS/altimetryjson/altimetrygeo20171.json\n"
     ]
    },
    {
     "name": "stderr",
     "output_type": "stream",
     "text": [
      "/var/folders/d6/w300s4cx3qj10pqdcy5859bc0000gn/T/ipykernel_5148/1751344831.py:6: FutureWarning: The default value of numeric_only in DataFrameGroupBy.mean is deprecated. In a future version, numeric_only will default to False. Either specify numeric_only or select only columns which should be valid for the function.\n",
      "  altslice = altslice.groupby([\"latitude\",\"longitude\"]).mean()\n"
     ]
    },
    {
     "name": "stdout",
     "output_type": "stream",
     "text": [
      "/Volumes/PACIOOS/altimetryjson/altimetrygeo20172.json\n"
     ]
    },
    {
     "name": "stderr",
     "output_type": "stream",
     "text": [
      "/var/folders/d6/w300s4cx3qj10pqdcy5859bc0000gn/T/ipykernel_5148/1751344831.py:6: FutureWarning: The default value of numeric_only in DataFrameGroupBy.mean is deprecated. In a future version, numeric_only will default to False. Either specify numeric_only or select only columns which should be valid for the function.\n",
      "  altslice = altslice.groupby([\"latitude\",\"longitude\"]).mean()\n"
     ]
    },
    {
     "name": "stdout",
     "output_type": "stream",
     "text": [
      "/Volumes/PACIOOS/altimetryjson/altimetrygeo20173.json\n"
     ]
    },
    {
     "name": "stderr",
     "output_type": "stream",
     "text": [
      "/var/folders/d6/w300s4cx3qj10pqdcy5859bc0000gn/T/ipykernel_5148/1751344831.py:6: FutureWarning: The default value of numeric_only in DataFrameGroupBy.mean is deprecated. In a future version, numeric_only will default to False. Either specify numeric_only or select only columns which should be valid for the function.\n",
      "  altslice = altslice.groupby([\"latitude\",\"longitude\"]).mean()\n"
     ]
    },
    {
     "name": "stdout",
     "output_type": "stream",
     "text": [
      "/Volumes/PACIOOS/altimetryjson/altimetrygeo20174.json\n"
     ]
    },
    {
     "name": "stderr",
     "output_type": "stream",
     "text": [
      "/var/folders/d6/w300s4cx3qj10pqdcy5859bc0000gn/T/ipykernel_5148/1751344831.py:6: FutureWarning: The default value of numeric_only in DataFrameGroupBy.mean is deprecated. In a future version, numeric_only will default to False. Either specify numeric_only or select only columns which should be valid for the function.\n",
      "  altslice = altslice.groupby([\"latitude\",\"longitude\"]).mean()\n"
     ]
    },
    {
     "name": "stdout",
     "output_type": "stream",
     "text": [
      "/Volumes/PACIOOS/altimetryjson/altimetrygeo20175.json\n"
     ]
    },
    {
     "name": "stderr",
     "output_type": "stream",
     "text": [
      "/var/folders/d6/w300s4cx3qj10pqdcy5859bc0000gn/T/ipykernel_5148/1751344831.py:6: FutureWarning: The default value of numeric_only in DataFrameGroupBy.mean is deprecated. In a future version, numeric_only will default to False. Either specify numeric_only or select only columns which should be valid for the function.\n",
      "  altslice = altslice.groupby([\"latitude\",\"longitude\"]).mean()\n"
     ]
    },
    {
     "name": "stdout",
     "output_type": "stream",
     "text": [
      "/Volumes/PACIOOS/altimetryjson/altimetrygeo20176.json\n"
     ]
    },
    {
     "name": "stderr",
     "output_type": "stream",
     "text": [
      "/var/folders/d6/w300s4cx3qj10pqdcy5859bc0000gn/T/ipykernel_5148/1751344831.py:6: FutureWarning: The default value of numeric_only in DataFrameGroupBy.mean is deprecated. In a future version, numeric_only will default to False. Either specify numeric_only or select only columns which should be valid for the function.\n",
      "  altslice = altslice.groupby([\"latitude\",\"longitude\"]).mean()\n"
     ]
    },
    {
     "name": "stdout",
     "output_type": "stream",
     "text": [
      "/Volumes/PACIOOS/altimetryjson/altimetrygeo20177.json\n"
     ]
    },
    {
     "name": "stderr",
     "output_type": "stream",
     "text": [
      "/var/folders/d6/w300s4cx3qj10pqdcy5859bc0000gn/T/ipykernel_5148/1751344831.py:6: FutureWarning: The default value of numeric_only in DataFrameGroupBy.mean is deprecated. In a future version, numeric_only will default to False. Either specify numeric_only or select only columns which should be valid for the function.\n",
      "  altslice = altslice.groupby([\"latitude\",\"longitude\"]).mean()\n"
     ]
    },
    {
     "name": "stdout",
     "output_type": "stream",
     "text": [
      "/Volumes/PACIOOS/altimetryjson/altimetrygeo20178.json\n"
     ]
    },
    {
     "name": "stderr",
     "output_type": "stream",
     "text": [
      "/var/folders/d6/w300s4cx3qj10pqdcy5859bc0000gn/T/ipykernel_5148/1751344831.py:6: FutureWarning: The default value of numeric_only in DataFrameGroupBy.mean is deprecated. In a future version, numeric_only will default to False. Either specify numeric_only or select only columns which should be valid for the function.\n",
      "  altslice = altslice.groupby([\"latitude\",\"longitude\"]).mean()\n"
     ]
    },
    {
     "name": "stdout",
     "output_type": "stream",
     "text": [
      "/Volumes/PACIOOS/altimetryjson/altimetrygeo20179.json\n"
     ]
    },
    {
     "name": "stderr",
     "output_type": "stream",
     "text": [
      "/var/folders/d6/w300s4cx3qj10pqdcy5859bc0000gn/T/ipykernel_5148/1751344831.py:6: FutureWarning: The default value of numeric_only in DataFrameGroupBy.mean is deprecated. In a future version, numeric_only will default to False. Either specify numeric_only or select only columns which should be valid for the function.\n",
      "  altslice = altslice.groupby([\"latitude\",\"longitude\"]).mean()\n"
     ]
    },
    {
     "name": "stdout",
     "output_type": "stream",
     "text": [
      "/Volumes/PACIOOS/altimetryjson/altimetrygeo201710.json\n"
     ]
    },
    {
     "name": "stderr",
     "output_type": "stream",
     "text": [
      "/var/folders/d6/w300s4cx3qj10pqdcy5859bc0000gn/T/ipykernel_5148/1751344831.py:6: FutureWarning: The default value of numeric_only in DataFrameGroupBy.mean is deprecated. In a future version, numeric_only will default to False. Either specify numeric_only or select only columns which should be valid for the function.\n",
      "  altslice = altslice.groupby([\"latitude\",\"longitude\"]).mean()\n"
     ]
    },
    {
     "name": "stdout",
     "output_type": "stream",
     "text": [
      "/Volumes/PACIOOS/altimetryjson/altimetrygeo201711.json\n"
     ]
    },
    {
     "name": "stderr",
     "output_type": "stream",
     "text": [
      "/var/folders/d6/w300s4cx3qj10pqdcy5859bc0000gn/T/ipykernel_5148/1751344831.py:6: FutureWarning: The default value of numeric_only in DataFrameGroupBy.mean is deprecated. In a future version, numeric_only will default to False. Either specify numeric_only or select only columns which should be valid for the function.\n",
      "  altslice = altslice.groupby([\"latitude\",\"longitude\"]).mean()\n"
     ]
    },
    {
     "name": "stdout",
     "output_type": "stream",
     "text": [
      "/Volumes/PACIOOS/altimetryjson/altimetrygeo201712.json\n"
     ]
    },
    {
     "name": "stderr",
     "output_type": "stream",
     "text": [
      "/var/folders/d6/w300s4cx3qj10pqdcy5859bc0000gn/T/ipykernel_5148/1751344831.py:6: FutureWarning: The default value of numeric_only in DataFrameGroupBy.mean is deprecated. In a future version, numeric_only will default to False. Either specify numeric_only or select only columns which should be valid for the function.\n",
      "  altslice = altslice.groupby([\"latitude\",\"longitude\"]).mean()\n"
     ]
    },
    {
     "name": "stdout",
     "output_type": "stream",
     "text": [
      "/Volumes/PACIOOS/altimetryjson/altimetrygeo20181.json\n"
     ]
    },
    {
     "name": "stderr",
     "output_type": "stream",
     "text": [
      "/var/folders/d6/w300s4cx3qj10pqdcy5859bc0000gn/T/ipykernel_5148/1751344831.py:6: FutureWarning: The default value of numeric_only in DataFrameGroupBy.mean is deprecated. In a future version, numeric_only will default to False. Either specify numeric_only or select only columns which should be valid for the function.\n",
      "  altslice = altslice.groupby([\"latitude\",\"longitude\"]).mean()\n"
     ]
    },
    {
     "name": "stdout",
     "output_type": "stream",
     "text": [
      "/Volumes/PACIOOS/altimetryjson/altimetrygeo20182.json\n"
     ]
    },
    {
     "name": "stderr",
     "output_type": "stream",
     "text": [
      "/var/folders/d6/w300s4cx3qj10pqdcy5859bc0000gn/T/ipykernel_5148/1751344831.py:6: FutureWarning: The default value of numeric_only in DataFrameGroupBy.mean is deprecated. In a future version, numeric_only will default to False. Either specify numeric_only or select only columns which should be valid for the function.\n",
      "  altslice = altslice.groupby([\"latitude\",\"longitude\"]).mean()\n"
     ]
    },
    {
     "name": "stdout",
     "output_type": "stream",
     "text": [
      "/Volumes/PACIOOS/altimetryjson/altimetrygeo20183.json\n"
     ]
    },
    {
     "name": "stderr",
     "output_type": "stream",
     "text": [
      "/var/folders/d6/w300s4cx3qj10pqdcy5859bc0000gn/T/ipykernel_5148/1751344831.py:6: FutureWarning: The default value of numeric_only in DataFrameGroupBy.mean is deprecated. In a future version, numeric_only will default to False. Either specify numeric_only or select only columns which should be valid for the function.\n",
      "  altslice = altslice.groupby([\"latitude\",\"longitude\"]).mean()\n"
     ]
    },
    {
     "name": "stdout",
     "output_type": "stream",
     "text": [
      "/Volumes/PACIOOS/altimetryjson/altimetrygeo20184.json\n"
     ]
    },
    {
     "name": "stderr",
     "output_type": "stream",
     "text": [
      "/var/folders/d6/w300s4cx3qj10pqdcy5859bc0000gn/T/ipykernel_5148/1751344831.py:6: FutureWarning: The default value of numeric_only in DataFrameGroupBy.mean is deprecated. In a future version, numeric_only will default to False. Either specify numeric_only or select only columns which should be valid for the function.\n",
      "  altslice = altslice.groupby([\"latitude\",\"longitude\"]).mean()\n"
     ]
    },
    {
     "name": "stdout",
     "output_type": "stream",
     "text": [
      "/Volumes/PACIOOS/altimetryjson/altimetrygeo20185.json\n"
     ]
    },
    {
     "name": "stderr",
     "output_type": "stream",
     "text": [
      "/var/folders/d6/w300s4cx3qj10pqdcy5859bc0000gn/T/ipykernel_5148/1751344831.py:6: FutureWarning: The default value of numeric_only in DataFrameGroupBy.mean is deprecated. In a future version, numeric_only will default to False. Either specify numeric_only or select only columns which should be valid for the function.\n",
      "  altslice = altslice.groupby([\"latitude\",\"longitude\"]).mean()\n"
     ]
    },
    {
     "name": "stdout",
     "output_type": "stream",
     "text": [
      "/Volumes/PACIOOS/altimetryjson/altimetrygeo20186.json\n"
     ]
    },
    {
     "name": "stderr",
     "output_type": "stream",
     "text": [
      "/var/folders/d6/w300s4cx3qj10pqdcy5859bc0000gn/T/ipykernel_5148/1751344831.py:6: FutureWarning: The default value of numeric_only in DataFrameGroupBy.mean is deprecated. In a future version, numeric_only will default to False. Either specify numeric_only or select only columns which should be valid for the function.\n",
      "  altslice = altslice.groupby([\"latitude\",\"longitude\"]).mean()\n"
     ]
    },
    {
     "name": "stdout",
     "output_type": "stream",
     "text": [
      "/Volumes/PACIOOS/altimetryjson/altimetrygeo20187.json\n"
     ]
    },
    {
     "name": "stderr",
     "output_type": "stream",
     "text": [
      "/var/folders/d6/w300s4cx3qj10pqdcy5859bc0000gn/T/ipykernel_5148/1751344831.py:6: FutureWarning: The default value of numeric_only in DataFrameGroupBy.mean is deprecated. In a future version, numeric_only will default to False. Either specify numeric_only or select only columns which should be valid for the function.\n",
      "  altslice = altslice.groupby([\"latitude\",\"longitude\"]).mean()\n"
     ]
    },
    {
     "name": "stdout",
     "output_type": "stream",
     "text": [
      "/Volumes/PACIOOS/altimetryjson/altimetrygeo20188.json\n"
     ]
    },
    {
     "name": "stderr",
     "output_type": "stream",
     "text": [
      "/var/folders/d6/w300s4cx3qj10pqdcy5859bc0000gn/T/ipykernel_5148/1751344831.py:6: FutureWarning: The default value of numeric_only in DataFrameGroupBy.mean is deprecated. In a future version, numeric_only will default to False. Either specify numeric_only or select only columns which should be valid for the function.\n",
      "  altslice = altslice.groupby([\"latitude\",\"longitude\"]).mean()\n"
     ]
    },
    {
     "name": "stdout",
     "output_type": "stream",
     "text": [
      "/Volumes/PACIOOS/altimetryjson/altimetrygeo20189.json\n"
     ]
    },
    {
     "name": "stderr",
     "output_type": "stream",
     "text": [
      "/var/folders/d6/w300s4cx3qj10pqdcy5859bc0000gn/T/ipykernel_5148/1751344831.py:6: FutureWarning: The default value of numeric_only in DataFrameGroupBy.mean is deprecated. In a future version, numeric_only will default to False. Either specify numeric_only or select only columns which should be valid for the function.\n",
      "  altslice = altslice.groupby([\"latitude\",\"longitude\"]).mean()\n"
     ]
    },
    {
     "name": "stdout",
     "output_type": "stream",
     "text": [
      "/Volumes/PACIOOS/altimetryjson/altimetrygeo201810.json\n"
     ]
    },
    {
     "name": "stderr",
     "output_type": "stream",
     "text": [
      "/var/folders/d6/w300s4cx3qj10pqdcy5859bc0000gn/T/ipykernel_5148/1751344831.py:6: FutureWarning: The default value of numeric_only in DataFrameGroupBy.mean is deprecated. In a future version, numeric_only will default to False. Either specify numeric_only or select only columns which should be valid for the function.\n",
      "  altslice = altslice.groupby([\"latitude\",\"longitude\"]).mean()\n"
     ]
    },
    {
     "name": "stdout",
     "output_type": "stream",
     "text": [
      "/Volumes/PACIOOS/altimetryjson/altimetrygeo201811.json\n"
     ]
    },
    {
     "name": "stderr",
     "output_type": "stream",
     "text": [
      "/var/folders/d6/w300s4cx3qj10pqdcy5859bc0000gn/T/ipykernel_5148/1751344831.py:6: FutureWarning: The default value of numeric_only in DataFrameGroupBy.mean is deprecated. In a future version, numeric_only will default to False. Either specify numeric_only or select only columns which should be valid for the function.\n",
      "  altslice = altslice.groupby([\"latitude\",\"longitude\"]).mean()\n"
     ]
    },
    {
     "name": "stdout",
     "output_type": "stream",
     "text": [
      "/Volumes/PACIOOS/altimetryjson/altimetrygeo201812.json\n"
     ]
    },
    {
     "name": "stderr",
     "output_type": "stream",
     "text": [
      "/var/folders/d6/w300s4cx3qj10pqdcy5859bc0000gn/T/ipykernel_5148/1751344831.py:6: FutureWarning: The default value of numeric_only in DataFrameGroupBy.mean is deprecated. In a future version, numeric_only will default to False. Either specify numeric_only or select only columns which should be valid for the function.\n",
      "  altslice = altslice.groupby([\"latitude\",\"longitude\"]).mean()\n"
     ]
    },
    {
     "name": "stdout",
     "output_type": "stream",
     "text": [
      "/Volumes/PACIOOS/altimetryjson/altimetrygeo20191.json\n"
     ]
    },
    {
     "name": "stderr",
     "output_type": "stream",
     "text": [
      "/var/folders/d6/w300s4cx3qj10pqdcy5859bc0000gn/T/ipykernel_5148/1751344831.py:6: FutureWarning: The default value of numeric_only in DataFrameGroupBy.mean is deprecated. In a future version, numeric_only will default to False. Either specify numeric_only or select only columns which should be valid for the function.\n",
      "  altslice = altslice.groupby([\"latitude\",\"longitude\"]).mean()\n"
     ]
    },
    {
     "name": "stdout",
     "output_type": "stream",
     "text": [
      "/Volumes/PACIOOS/altimetryjson/altimetrygeo20192.json\n"
     ]
    },
    {
     "name": "stderr",
     "output_type": "stream",
     "text": [
      "/var/folders/d6/w300s4cx3qj10pqdcy5859bc0000gn/T/ipykernel_5148/1751344831.py:6: FutureWarning: The default value of numeric_only in DataFrameGroupBy.mean is deprecated. In a future version, numeric_only will default to False. Either specify numeric_only or select only columns which should be valid for the function.\n",
      "  altslice = altslice.groupby([\"latitude\",\"longitude\"]).mean()\n"
     ]
    },
    {
     "name": "stdout",
     "output_type": "stream",
     "text": [
      "/Volumes/PACIOOS/altimetryjson/altimetrygeo20193.json\n"
     ]
    },
    {
     "name": "stderr",
     "output_type": "stream",
     "text": [
      "/var/folders/d6/w300s4cx3qj10pqdcy5859bc0000gn/T/ipykernel_5148/1751344831.py:6: FutureWarning: The default value of numeric_only in DataFrameGroupBy.mean is deprecated. In a future version, numeric_only will default to False. Either specify numeric_only or select only columns which should be valid for the function.\n",
      "  altslice = altslice.groupby([\"latitude\",\"longitude\"]).mean()\n"
     ]
    },
    {
     "name": "stdout",
     "output_type": "stream",
     "text": [
      "/Volumes/PACIOOS/altimetryjson/altimetrygeo20194.json\n"
     ]
    },
    {
     "name": "stderr",
     "output_type": "stream",
     "text": [
      "/var/folders/d6/w300s4cx3qj10pqdcy5859bc0000gn/T/ipykernel_5148/1751344831.py:6: FutureWarning: The default value of numeric_only in DataFrameGroupBy.mean is deprecated. In a future version, numeric_only will default to False. Either specify numeric_only or select only columns which should be valid for the function.\n",
      "  altslice = altslice.groupby([\"latitude\",\"longitude\"]).mean()\n"
     ]
    },
    {
     "name": "stdout",
     "output_type": "stream",
     "text": [
      "/Volumes/PACIOOS/altimetryjson/altimetrygeo20195.json\n"
     ]
    },
    {
     "name": "stderr",
     "output_type": "stream",
     "text": [
      "/var/folders/d6/w300s4cx3qj10pqdcy5859bc0000gn/T/ipykernel_5148/1751344831.py:6: FutureWarning: The default value of numeric_only in DataFrameGroupBy.mean is deprecated. In a future version, numeric_only will default to False. Either specify numeric_only or select only columns which should be valid for the function.\n",
      "  altslice = altslice.groupby([\"latitude\",\"longitude\"]).mean()\n"
     ]
    },
    {
     "name": "stdout",
     "output_type": "stream",
     "text": [
      "/Volumes/PACIOOS/altimetryjson/altimetrygeo20196.json\n"
     ]
    },
    {
     "name": "stderr",
     "output_type": "stream",
     "text": [
      "/var/folders/d6/w300s4cx3qj10pqdcy5859bc0000gn/T/ipykernel_5148/1751344831.py:6: FutureWarning: The default value of numeric_only in DataFrameGroupBy.mean is deprecated. In a future version, numeric_only will default to False. Either specify numeric_only or select only columns which should be valid for the function.\n",
      "  altslice = altslice.groupby([\"latitude\",\"longitude\"]).mean()\n"
     ]
    },
    {
     "name": "stdout",
     "output_type": "stream",
     "text": [
      "/Volumes/PACIOOS/altimetryjson/altimetrygeo20197.json\n"
     ]
    },
    {
     "name": "stderr",
     "output_type": "stream",
     "text": [
      "/var/folders/d6/w300s4cx3qj10pqdcy5859bc0000gn/T/ipykernel_5148/1751344831.py:6: FutureWarning: The default value of numeric_only in DataFrameGroupBy.mean is deprecated. In a future version, numeric_only will default to False. Either specify numeric_only or select only columns which should be valid for the function.\n",
      "  altslice = altslice.groupby([\"latitude\",\"longitude\"]).mean()\n"
     ]
    },
    {
     "name": "stdout",
     "output_type": "stream",
     "text": [
      "/Volumes/PACIOOS/altimetryjson/altimetrygeo20198.json\n"
     ]
    },
    {
     "name": "stderr",
     "output_type": "stream",
     "text": [
      "/var/folders/d6/w300s4cx3qj10pqdcy5859bc0000gn/T/ipykernel_5148/1751344831.py:6: FutureWarning: The default value of numeric_only in DataFrameGroupBy.mean is deprecated. In a future version, numeric_only will default to False. Either specify numeric_only or select only columns which should be valid for the function.\n",
      "  altslice = altslice.groupby([\"latitude\",\"longitude\"]).mean()\n"
     ]
    },
    {
     "name": "stdout",
     "output_type": "stream",
     "text": [
      "/Volumes/PACIOOS/altimetryjson/altimetrygeo20199.json\n"
     ]
    },
    {
     "name": "stderr",
     "output_type": "stream",
     "text": [
      "/var/folders/d6/w300s4cx3qj10pqdcy5859bc0000gn/T/ipykernel_5148/1751344831.py:6: FutureWarning: The default value of numeric_only in DataFrameGroupBy.mean is deprecated. In a future version, numeric_only will default to False. Either specify numeric_only or select only columns which should be valid for the function.\n",
      "  altslice = altslice.groupby([\"latitude\",\"longitude\"]).mean()\n"
     ]
    },
    {
     "name": "stdout",
     "output_type": "stream",
     "text": [
      "/Volumes/PACIOOS/altimetryjson/altimetrygeo201910.json\n"
     ]
    },
    {
     "name": "stderr",
     "output_type": "stream",
     "text": [
      "/var/folders/d6/w300s4cx3qj10pqdcy5859bc0000gn/T/ipykernel_5148/1751344831.py:6: FutureWarning: The default value of numeric_only in DataFrameGroupBy.mean is deprecated. In a future version, numeric_only will default to False. Either specify numeric_only or select only columns which should be valid for the function.\n",
      "  altslice = altslice.groupby([\"latitude\",\"longitude\"]).mean()\n"
     ]
    },
    {
     "name": "stdout",
     "output_type": "stream",
     "text": [
      "/Volumes/PACIOOS/altimetryjson/altimetrygeo201911.json\n"
     ]
    },
    {
     "name": "stderr",
     "output_type": "stream",
     "text": [
      "/var/folders/d6/w300s4cx3qj10pqdcy5859bc0000gn/T/ipykernel_5148/1751344831.py:6: FutureWarning: The default value of numeric_only in DataFrameGroupBy.mean is deprecated. In a future version, numeric_only will default to False. Either specify numeric_only or select only columns which should be valid for the function.\n",
      "  altslice = altslice.groupby([\"latitude\",\"longitude\"]).mean()\n"
     ]
    },
    {
     "name": "stdout",
     "output_type": "stream",
     "text": [
      "/Volumes/PACIOOS/altimetryjson/altimetrygeo201912.json\n"
     ]
    },
    {
     "name": "stderr",
     "output_type": "stream",
     "text": [
      "/var/folders/d6/w300s4cx3qj10pqdcy5859bc0000gn/T/ipykernel_5148/1751344831.py:6: FutureWarning: The default value of numeric_only in DataFrameGroupBy.mean is deprecated. In a future version, numeric_only will default to False. Either specify numeric_only or select only columns which should be valid for the function.\n",
      "  altslice = altslice.groupby([\"latitude\",\"longitude\"]).mean()\n"
     ]
    },
    {
     "name": "stdout",
     "output_type": "stream",
     "text": [
      "/Volumes/PACIOOS/altimetryjson/altimetrygeo20201.json\n"
     ]
    },
    {
     "name": "stderr",
     "output_type": "stream",
     "text": [
      "/var/folders/d6/w300s4cx3qj10pqdcy5859bc0000gn/T/ipykernel_5148/1751344831.py:6: FutureWarning: The default value of numeric_only in DataFrameGroupBy.mean is deprecated. In a future version, numeric_only will default to False. Either specify numeric_only or select only columns which should be valid for the function.\n",
      "  altslice = altslice.groupby([\"latitude\",\"longitude\"]).mean()\n"
     ]
    },
    {
     "name": "stdout",
     "output_type": "stream",
     "text": [
      "/Volumes/PACIOOS/altimetryjson/altimetrygeo20202.json\n"
     ]
    },
    {
     "name": "stderr",
     "output_type": "stream",
     "text": [
      "/var/folders/d6/w300s4cx3qj10pqdcy5859bc0000gn/T/ipykernel_5148/1751344831.py:6: FutureWarning: The default value of numeric_only in DataFrameGroupBy.mean is deprecated. In a future version, numeric_only will default to False. Either specify numeric_only or select only columns which should be valid for the function.\n",
      "  altslice = altslice.groupby([\"latitude\",\"longitude\"]).mean()\n"
     ]
    },
    {
     "name": "stdout",
     "output_type": "stream",
     "text": [
      "/Volumes/PACIOOS/altimetryjson/altimetrygeo20203.json\n"
     ]
    },
    {
     "name": "stderr",
     "output_type": "stream",
     "text": [
      "/var/folders/d6/w300s4cx3qj10pqdcy5859bc0000gn/T/ipykernel_5148/1751344831.py:6: FutureWarning: The default value of numeric_only in DataFrameGroupBy.mean is deprecated. In a future version, numeric_only will default to False. Either specify numeric_only or select only columns which should be valid for the function.\n",
      "  altslice = altslice.groupby([\"latitude\",\"longitude\"]).mean()\n"
     ]
    },
    {
     "name": "stdout",
     "output_type": "stream",
     "text": [
      "/Volumes/PACIOOS/altimetryjson/altimetrygeo20204.json\n"
     ]
    },
    {
     "name": "stderr",
     "output_type": "stream",
     "text": [
      "/var/folders/d6/w300s4cx3qj10pqdcy5859bc0000gn/T/ipykernel_5148/1751344831.py:6: FutureWarning: The default value of numeric_only in DataFrameGroupBy.mean is deprecated. In a future version, numeric_only will default to False. Either specify numeric_only or select only columns which should be valid for the function.\n",
      "  altslice = altslice.groupby([\"latitude\",\"longitude\"]).mean()\n"
     ]
    },
    {
     "name": "stdout",
     "output_type": "stream",
     "text": [
      "/Volumes/PACIOOS/altimetryjson/altimetrygeo20205.json\n"
     ]
    },
    {
     "name": "stderr",
     "output_type": "stream",
     "text": [
      "/var/folders/d6/w300s4cx3qj10pqdcy5859bc0000gn/T/ipykernel_5148/1751344831.py:6: FutureWarning: The default value of numeric_only in DataFrameGroupBy.mean is deprecated. In a future version, numeric_only will default to False. Either specify numeric_only or select only columns which should be valid for the function.\n",
      "  altslice = altslice.groupby([\"latitude\",\"longitude\"]).mean()\n"
     ]
    },
    {
     "name": "stdout",
     "output_type": "stream",
     "text": [
      "/Volumes/PACIOOS/altimetryjson/altimetrygeo20206.json\n"
     ]
    },
    {
     "name": "stderr",
     "output_type": "stream",
     "text": [
      "/var/folders/d6/w300s4cx3qj10pqdcy5859bc0000gn/T/ipykernel_5148/1751344831.py:6: FutureWarning: The default value of numeric_only in DataFrameGroupBy.mean is deprecated. In a future version, numeric_only will default to False. Either specify numeric_only or select only columns which should be valid for the function.\n",
      "  altslice = altslice.groupby([\"latitude\",\"longitude\"]).mean()\n"
     ]
    },
    {
     "name": "stdout",
     "output_type": "stream",
     "text": [
      "/Volumes/PACIOOS/altimetryjson/altimetrygeo20207.json\n"
     ]
    },
    {
     "name": "stderr",
     "output_type": "stream",
     "text": [
      "/var/folders/d6/w300s4cx3qj10pqdcy5859bc0000gn/T/ipykernel_5148/1751344831.py:6: FutureWarning: The default value of numeric_only in DataFrameGroupBy.mean is deprecated. In a future version, numeric_only will default to False. Either specify numeric_only or select only columns which should be valid for the function.\n",
      "  altslice = altslice.groupby([\"latitude\",\"longitude\"]).mean()\n"
     ]
    },
    {
     "name": "stdout",
     "output_type": "stream",
     "text": [
      "/Volumes/PACIOOS/altimetryjson/altimetrygeo20208.json\n"
     ]
    },
    {
     "name": "stderr",
     "output_type": "stream",
     "text": [
      "/var/folders/d6/w300s4cx3qj10pqdcy5859bc0000gn/T/ipykernel_5148/1751344831.py:6: FutureWarning: The default value of numeric_only in DataFrameGroupBy.mean is deprecated. In a future version, numeric_only will default to False. Either specify numeric_only or select only columns which should be valid for the function.\n",
      "  altslice = altslice.groupby([\"latitude\",\"longitude\"]).mean()\n"
     ]
    },
    {
     "name": "stdout",
     "output_type": "stream",
     "text": [
      "/Volumes/PACIOOS/altimetryjson/altimetrygeo20209.json\n"
     ]
    },
    {
     "name": "stderr",
     "output_type": "stream",
     "text": [
      "/var/folders/d6/w300s4cx3qj10pqdcy5859bc0000gn/T/ipykernel_5148/1751344831.py:6: FutureWarning: The default value of numeric_only in DataFrameGroupBy.mean is deprecated. In a future version, numeric_only will default to False. Either specify numeric_only or select only columns which should be valid for the function.\n",
      "  altslice = altslice.groupby([\"latitude\",\"longitude\"]).mean()\n"
     ]
    },
    {
     "name": "stdout",
     "output_type": "stream",
     "text": [
      "/Volumes/PACIOOS/altimetryjson/altimetrygeo202010.json\n"
     ]
    },
    {
     "name": "stderr",
     "output_type": "stream",
     "text": [
      "/var/folders/d6/w300s4cx3qj10pqdcy5859bc0000gn/T/ipykernel_5148/1751344831.py:6: FutureWarning: The default value of numeric_only in DataFrameGroupBy.mean is deprecated. In a future version, numeric_only will default to False. Either specify numeric_only or select only columns which should be valid for the function.\n",
      "  altslice = altslice.groupby([\"latitude\",\"longitude\"]).mean()\n"
     ]
    },
    {
     "name": "stdout",
     "output_type": "stream",
     "text": [
      "/Volumes/PACIOOS/altimetryjson/altimetrygeo202011.json\n"
     ]
    },
    {
     "name": "stderr",
     "output_type": "stream",
     "text": [
      "/var/folders/d6/w300s4cx3qj10pqdcy5859bc0000gn/T/ipykernel_5148/1751344831.py:6: FutureWarning: The default value of numeric_only in DataFrameGroupBy.mean is deprecated. In a future version, numeric_only will default to False. Either specify numeric_only or select only columns which should be valid for the function.\n",
      "  altslice = altslice.groupby([\"latitude\",\"longitude\"]).mean()\n"
     ]
    },
    {
     "name": "stdout",
     "output_type": "stream",
     "text": [
      "/Volumes/PACIOOS/altimetryjson/altimetrygeo202012.json\n"
     ]
    },
    {
     "name": "stderr",
     "output_type": "stream",
     "text": [
      "/var/folders/d6/w300s4cx3qj10pqdcy5859bc0000gn/T/ipykernel_5148/1751344831.py:6: FutureWarning: The default value of numeric_only in DataFrameGroupBy.mean is deprecated. In a future version, numeric_only will default to False. Either specify numeric_only or select only columns which should be valid for the function.\n",
      "  altslice = altslice.groupby([\"latitude\",\"longitude\"]).mean()\n"
     ]
    },
    {
     "name": "stdout",
     "output_type": "stream",
     "text": [
      "/Volumes/PACIOOS/altimetryjson/altimetrygeo20211.json\n"
     ]
    },
    {
     "name": "stderr",
     "output_type": "stream",
     "text": [
      "/var/folders/d6/w300s4cx3qj10pqdcy5859bc0000gn/T/ipykernel_5148/1751344831.py:6: FutureWarning: The default value of numeric_only in DataFrameGroupBy.mean is deprecated. In a future version, numeric_only will default to False. Either specify numeric_only or select only columns which should be valid for the function.\n",
      "  altslice = altslice.groupby([\"latitude\",\"longitude\"]).mean()\n"
     ]
    },
    {
     "name": "stdout",
     "output_type": "stream",
     "text": [
      "/Volumes/PACIOOS/altimetryjson/altimetrygeo20212.json\n"
     ]
    },
    {
     "name": "stderr",
     "output_type": "stream",
     "text": [
      "/var/folders/d6/w300s4cx3qj10pqdcy5859bc0000gn/T/ipykernel_5148/1751344831.py:6: FutureWarning: The default value of numeric_only in DataFrameGroupBy.mean is deprecated. In a future version, numeric_only will default to False. Either specify numeric_only or select only columns which should be valid for the function.\n",
      "  altslice = altslice.groupby([\"latitude\",\"longitude\"]).mean()\n"
     ]
    },
    {
     "name": "stdout",
     "output_type": "stream",
     "text": [
      "/Volumes/PACIOOS/altimetryjson/altimetrygeo20213.json\n"
     ]
    },
    {
     "name": "stderr",
     "output_type": "stream",
     "text": [
      "/var/folders/d6/w300s4cx3qj10pqdcy5859bc0000gn/T/ipykernel_5148/1751344831.py:6: FutureWarning: The default value of numeric_only in DataFrameGroupBy.mean is deprecated. In a future version, numeric_only will default to False. Either specify numeric_only or select only columns which should be valid for the function.\n",
      "  altslice = altslice.groupby([\"latitude\",\"longitude\"]).mean()\n"
     ]
    },
    {
     "name": "stdout",
     "output_type": "stream",
     "text": [
      "/Volumes/PACIOOS/altimetryjson/altimetrygeo20214.json\n"
     ]
    },
    {
     "name": "stderr",
     "output_type": "stream",
     "text": [
      "/var/folders/d6/w300s4cx3qj10pqdcy5859bc0000gn/T/ipykernel_5148/1751344831.py:6: FutureWarning: The default value of numeric_only in DataFrameGroupBy.mean is deprecated. In a future version, numeric_only will default to False. Either specify numeric_only or select only columns which should be valid for the function.\n",
      "  altslice = altslice.groupby([\"latitude\",\"longitude\"]).mean()\n"
     ]
    },
    {
     "name": "stdout",
     "output_type": "stream",
     "text": [
      "/Volumes/PACIOOS/altimetryjson/altimetrygeo20215.json\n"
     ]
    },
    {
     "name": "stderr",
     "output_type": "stream",
     "text": [
      "/var/folders/d6/w300s4cx3qj10pqdcy5859bc0000gn/T/ipykernel_5148/1751344831.py:6: FutureWarning: The default value of numeric_only in DataFrameGroupBy.mean is deprecated. In a future version, numeric_only will default to False. Either specify numeric_only or select only columns which should be valid for the function.\n",
      "  altslice = altslice.groupby([\"latitude\",\"longitude\"]).mean()\n"
     ]
    },
    {
     "name": "stdout",
     "output_type": "stream",
     "text": [
      "/Volumes/PACIOOS/altimetryjson/altimetrygeo20216.json\n"
     ]
    },
    {
     "name": "stderr",
     "output_type": "stream",
     "text": [
      "/var/folders/d6/w300s4cx3qj10pqdcy5859bc0000gn/T/ipykernel_5148/1751344831.py:6: FutureWarning: The default value of numeric_only in DataFrameGroupBy.mean is deprecated. In a future version, numeric_only will default to False. Either specify numeric_only or select only columns which should be valid for the function.\n",
      "  altslice = altslice.groupby([\"latitude\",\"longitude\"]).mean()\n"
     ]
    },
    {
     "name": "stdout",
     "output_type": "stream",
     "text": [
      "/Volumes/PACIOOS/altimetryjson/altimetrygeo20217.json\n"
     ]
    },
    {
     "name": "stderr",
     "output_type": "stream",
     "text": [
      "/var/folders/d6/w300s4cx3qj10pqdcy5859bc0000gn/T/ipykernel_5148/1751344831.py:6: FutureWarning: The default value of numeric_only in DataFrameGroupBy.mean is deprecated. In a future version, numeric_only will default to False. Either specify numeric_only or select only columns which should be valid for the function.\n",
      "  altslice = altslice.groupby([\"latitude\",\"longitude\"]).mean()\n"
     ]
    },
    {
     "name": "stdout",
     "output_type": "stream",
     "text": [
      "/Volumes/PACIOOS/altimetryjson/altimetrygeo20218.json\n"
     ]
    },
    {
     "name": "stderr",
     "output_type": "stream",
     "text": [
      "/var/folders/d6/w300s4cx3qj10pqdcy5859bc0000gn/T/ipykernel_5148/1751344831.py:6: FutureWarning: The default value of numeric_only in DataFrameGroupBy.mean is deprecated. In a future version, numeric_only will default to False. Either specify numeric_only or select only columns which should be valid for the function.\n",
      "  altslice = altslice.groupby([\"latitude\",\"longitude\"]).mean()\n"
     ]
    },
    {
     "name": "stdout",
     "output_type": "stream",
     "text": [
      "/Volumes/PACIOOS/altimetryjson/altimetrygeo20219.json\n"
     ]
    },
    {
     "name": "stderr",
     "output_type": "stream",
     "text": [
      "/var/folders/d6/w300s4cx3qj10pqdcy5859bc0000gn/T/ipykernel_5148/1751344831.py:6: FutureWarning: The default value of numeric_only in DataFrameGroupBy.mean is deprecated. In a future version, numeric_only will default to False. Either specify numeric_only or select only columns which should be valid for the function.\n",
      "  altslice = altslice.groupby([\"latitude\",\"longitude\"]).mean()\n"
     ]
    },
    {
     "name": "stdout",
     "output_type": "stream",
     "text": [
      "/Volumes/PACIOOS/altimetryjson/altimetrygeo202110.json\n"
     ]
    },
    {
     "name": "stderr",
     "output_type": "stream",
     "text": [
      "/var/folders/d6/w300s4cx3qj10pqdcy5859bc0000gn/T/ipykernel_5148/1751344831.py:6: FutureWarning: The default value of numeric_only in DataFrameGroupBy.mean is deprecated. In a future version, numeric_only will default to False. Either specify numeric_only or select only columns which should be valid for the function.\n",
      "  altslice = altslice.groupby([\"latitude\",\"longitude\"]).mean()\n"
     ]
    },
    {
     "name": "stdout",
     "output_type": "stream",
     "text": [
      "/Volumes/PACIOOS/altimetryjson/altimetrygeo202111.json\n"
     ]
    },
    {
     "name": "stderr",
     "output_type": "stream",
     "text": [
      "/var/folders/d6/w300s4cx3qj10pqdcy5859bc0000gn/T/ipykernel_5148/1751344831.py:6: FutureWarning: The default value of numeric_only in DataFrameGroupBy.mean is deprecated. In a future version, numeric_only will default to False. Either specify numeric_only or select only columns which should be valid for the function.\n",
      "  altslice = altslice.groupby([\"latitude\",\"longitude\"]).mean()\n"
     ]
    },
    {
     "name": "stdout",
     "output_type": "stream",
     "text": [
      "/Volumes/PACIOOS/altimetryjson/altimetrygeo202112.json\n"
     ]
    },
    {
     "name": "stderr",
     "output_type": "stream",
     "text": [
      "/var/folders/d6/w300s4cx3qj10pqdcy5859bc0000gn/T/ipykernel_5148/1751344831.py:6: FutureWarning: The default value of numeric_only in DataFrameGroupBy.mean is deprecated. In a future version, numeric_only will default to False. Either specify numeric_only or select only columns which should be valid for the function.\n",
      "  altslice = altslice.groupby([\"latitude\",\"longitude\"]).mean()\n"
     ]
    },
    {
     "name": "stdout",
     "output_type": "stream",
     "text": [
      "/Volumes/PACIOOS/altimetryjson/altimetrygeo20221.json\n"
     ]
    },
    {
     "name": "stderr",
     "output_type": "stream",
     "text": [
      "/var/folders/d6/w300s4cx3qj10pqdcy5859bc0000gn/T/ipykernel_5148/1751344831.py:6: FutureWarning: The default value of numeric_only in DataFrameGroupBy.mean is deprecated. In a future version, numeric_only will default to False. Either specify numeric_only or select only columns which should be valid for the function.\n",
      "  altslice = altslice.groupby([\"latitude\",\"longitude\"]).mean()\n"
     ]
    },
    {
     "name": "stdout",
     "output_type": "stream",
     "text": [
      "/Volumes/PACIOOS/altimetryjson/altimetrygeo20222.json\n"
     ]
    },
    {
     "name": "stderr",
     "output_type": "stream",
     "text": [
      "/var/folders/d6/w300s4cx3qj10pqdcy5859bc0000gn/T/ipykernel_5148/1751344831.py:6: FutureWarning: The default value of numeric_only in DataFrameGroupBy.mean is deprecated. In a future version, numeric_only will default to False. Either specify numeric_only or select only columns which should be valid for the function.\n",
      "  altslice = altslice.groupby([\"latitude\",\"longitude\"]).mean()\n"
     ]
    },
    {
     "name": "stdout",
     "output_type": "stream",
     "text": [
      "/Volumes/PACIOOS/altimetryjson/altimetrygeo20223.json\n"
     ]
    },
    {
     "name": "stderr",
     "output_type": "stream",
     "text": [
      "/var/folders/d6/w300s4cx3qj10pqdcy5859bc0000gn/T/ipykernel_5148/1751344831.py:6: FutureWarning: The default value of numeric_only in DataFrameGroupBy.mean is deprecated. In a future version, numeric_only will default to False. Either specify numeric_only or select only columns which should be valid for the function.\n",
      "  altslice = altslice.groupby([\"latitude\",\"longitude\"]).mean()\n"
     ]
    },
    {
     "name": "stdout",
     "output_type": "stream",
     "text": [
      "/Volumes/PACIOOS/altimetryjson/altimetrygeo20224.json\n"
     ]
    },
    {
     "name": "stderr",
     "output_type": "stream",
     "text": [
      "/var/folders/d6/w300s4cx3qj10pqdcy5859bc0000gn/T/ipykernel_5148/1751344831.py:6: FutureWarning: The default value of numeric_only in DataFrameGroupBy.mean is deprecated. In a future version, numeric_only will default to False. Either specify numeric_only or select only columns which should be valid for the function.\n",
      "  altslice = altslice.groupby([\"latitude\",\"longitude\"]).mean()\n"
     ]
    },
    {
     "name": "stdout",
     "output_type": "stream",
     "text": [
      "/Volumes/PACIOOS/altimetryjson/altimetrygeo20225.json\n"
     ]
    },
    {
     "name": "stderr",
     "output_type": "stream",
     "text": [
      "/var/folders/d6/w300s4cx3qj10pqdcy5859bc0000gn/T/ipykernel_5148/1751344831.py:6: FutureWarning: The default value of numeric_only in DataFrameGroupBy.mean is deprecated. In a future version, numeric_only will default to False. Either specify numeric_only or select only columns which should be valid for the function.\n",
      "  altslice = altslice.groupby([\"latitude\",\"longitude\"]).mean()\n"
     ]
    },
    {
     "name": "stdout",
     "output_type": "stream",
     "text": [
      "/Volumes/PACIOOS/altimetryjson/altimetrygeo20226.json\n"
     ]
    },
    {
     "name": "stderr",
     "output_type": "stream",
     "text": [
      "/var/folders/d6/w300s4cx3qj10pqdcy5859bc0000gn/T/ipykernel_5148/1751344831.py:6: FutureWarning: The default value of numeric_only in DataFrameGroupBy.mean is deprecated. In a future version, numeric_only will default to False. Either specify numeric_only or select only columns which should be valid for the function.\n",
      "  altslice = altslice.groupby([\"latitude\",\"longitude\"]).mean()\n"
     ]
    },
    {
     "ename": "ValueError",
     "evalue": "zero-size array to reduction operation minimum which has no identity",
     "output_type": "error",
     "traceback": [
      "\u001b[0;31m---------------------------------------------------------------------------\u001b[0m",
      "\u001b[0;31mValueError\u001b[0m                                Traceback (most recent call last)",
      "\u001b[0;32m/var/folders/d6/w300s4cx3qj10pqdcy5859bc0000gn/T/ipykernel_5148/1892743640.py\u001b[0m in \u001b[0;36m<module>\u001b[0;34m\u001b[0m\n\u001b[1;32m      2\u001b[0m \u001b[0;32mfor\u001b[0m \u001b[0myear\u001b[0m \u001b[0;32min\u001b[0m \u001b[0mrange\u001b[0m\u001b[0;34m(\u001b[0m\u001b[0;36m1993\u001b[0m\u001b[0;34m,\u001b[0m\u001b[0;36m2022\u001b[0m\u001b[0;34m+\u001b[0m\u001b[0;36m1\u001b[0m\u001b[0;34m)\u001b[0m\u001b[0;34m:\u001b[0m\u001b[0;34m\u001b[0m\u001b[0;34m\u001b[0m\u001b[0m\n\u001b[1;32m      3\u001b[0m     \u001b[0;32mfor\u001b[0m \u001b[0mmonth\u001b[0m \u001b[0;32min\u001b[0m \u001b[0mrange\u001b[0m\u001b[0;34m(\u001b[0m\u001b[0;36m1\u001b[0m\u001b[0;34m,\u001b[0m\u001b[0;36m12\u001b[0m\u001b[0;34m+\u001b[0m\u001b[0;36m1\u001b[0m\u001b[0;34m)\u001b[0m\u001b[0;34m:\u001b[0m\u001b[0;34m\u001b[0m\u001b[0;34m\u001b[0m\u001b[0m\n\u001b[0;32m----> 4\u001b[0;31m         \u001b[0mcurrgeo\u001b[0m \u001b[0;34m=\u001b[0m \u001b[0mgetMonthlyGeoJSON\u001b[0m\u001b[0;34m(\u001b[0m\u001b[0myear\u001b[0m\u001b[0;34m,\u001b[0m\u001b[0mmonth\u001b[0m\u001b[0;34m,\u001b[0m\u001b[0mmasterxr\u001b[0m\u001b[0;34m)\u001b[0m\u001b[0;34m\u001b[0m\u001b[0;34m\u001b[0m\u001b[0m\n\u001b[0m\u001b[1;32m      5\u001b[0m         \u001b[0mjson_object\u001b[0m \u001b[0;34m=\u001b[0m \u001b[0mjson\u001b[0m\u001b[0;34m.\u001b[0m\u001b[0mdumps\u001b[0m\u001b[0;34m(\u001b[0m\u001b[0mcurrgeo\u001b[0m\u001b[0;34m,\u001b[0m \u001b[0mindent\u001b[0m\u001b[0;34m=\u001b[0m\u001b[0;36m4\u001b[0m\u001b[0;34m)\u001b[0m\u001b[0;34m\u001b[0m\u001b[0;34m\u001b[0m\u001b[0m\n\u001b[1;32m      6\u001b[0m         \u001b[0;32mwith\u001b[0m \u001b[0mopen\u001b[0m\u001b[0;34m(\u001b[0m\u001b[0mfolder\u001b[0m\u001b[0;34m+\u001b[0m\u001b[0;34m\"altimetrygeo\"\u001b[0m \u001b[0;34m+\u001b[0m \u001b[0mstr\u001b[0m\u001b[0;34m(\u001b[0m\u001b[0myear\u001b[0m\u001b[0;34m)\u001b[0m\u001b[0;34m+\u001b[0m\u001b[0mstr\u001b[0m\u001b[0;34m(\u001b[0m\u001b[0mmonth\u001b[0m\u001b[0;34m)\u001b[0m\u001b[0;34m+\u001b[0m \u001b[0;34m\".json\"\u001b[0m\u001b[0;34m,\u001b[0m \u001b[0;34m\"w\"\u001b[0m\u001b[0;34m)\u001b[0m \u001b[0;32mas\u001b[0m \u001b[0moutfile\u001b[0m\u001b[0;34m:\u001b[0m\u001b[0;34m\u001b[0m\u001b[0;34m\u001b[0m\u001b[0m\n",
      "\u001b[0;32m/var/folders/d6/w300s4cx3qj10pqdcy5859bc0000gn/T/ipykernel_5148/1751344831.py\u001b[0m in \u001b[0;36mgetMonthlyGeoJSON\u001b[0;34m(year, month, altimetry)\u001b[0m\n\u001b[1;32m     15\u001b[0m \u001b[0;34m\u001b[0m\u001b[0m\n\u001b[1;32m     16\u001b[0m     \u001b[0mcolors\u001b[0m \u001b[0;34m=\u001b[0m \u001b[0;34m[\u001b[0m\u001b[0;34m'#0000ff'\u001b[0m\u001b[0;34m,\u001b[0m\u001b[0;34m'#0099cc'\u001b[0m\u001b[0;34m,\u001b[0m\u001b[0;34m'#009999'\u001b[0m\u001b[0;34m,\u001b[0m\u001b[0;34m'#ccff66'\u001b[0m\u001b[0;34m,\u001b[0m\u001b[0;34m'#ffff66'\u001b[0m\u001b[0;34m,\u001b[0m\u001b[0;34m'#ffcc00'\u001b[0m\u001b[0;34m,\u001b[0m\u001b[0;34m'#ff6600'\u001b[0m\u001b[0;34m,\u001b[0m\u001b[0;34m'#cc0000'\u001b[0m\u001b[0;34m]\u001b[0m\u001b[0;34m\u001b[0m\u001b[0;34m\u001b[0m\u001b[0m\n\u001b[0;32m---> 17\u001b[0;31m     \u001b[0mx_arr\u001b[0m          \u001b[0;34m=\u001b[0m \u001b[0mnp\u001b[0m\u001b[0;34m.\u001b[0m\u001b[0mlinspace\u001b[0m\u001b[0;34m(\u001b[0m\u001b[0mnp\u001b[0m\u001b[0;34m.\u001b[0m\u001b[0mmin\u001b[0m\u001b[0;34m(\u001b[0m\u001b[0mx_orig\u001b[0m\u001b[0;34m)\u001b[0m\u001b[0;34m,\u001b[0m \u001b[0mnp\u001b[0m\u001b[0;34m.\u001b[0m\u001b[0mmax\u001b[0m\u001b[0;34m(\u001b[0m\u001b[0mx_orig\u001b[0m\u001b[0;34m)\u001b[0m\u001b[0;34m,\u001b[0m \u001b[0;36m500\u001b[0m\u001b[0;34m)\u001b[0m\u001b[0;34m\u001b[0m\u001b[0;34m\u001b[0m\u001b[0m\n\u001b[0m\u001b[1;32m     18\u001b[0m     \u001b[0my_arr\u001b[0m          \u001b[0;34m=\u001b[0m \u001b[0mnp\u001b[0m\u001b[0;34m.\u001b[0m\u001b[0mlinspace\u001b[0m\u001b[0;34m(\u001b[0m\u001b[0mnp\u001b[0m\u001b[0;34m.\u001b[0m\u001b[0mmin\u001b[0m\u001b[0;34m(\u001b[0m\u001b[0my_orig\u001b[0m\u001b[0;34m)\u001b[0m\u001b[0;34m,\u001b[0m \u001b[0mnp\u001b[0m\u001b[0;34m.\u001b[0m\u001b[0mmax\u001b[0m\u001b[0;34m(\u001b[0m\u001b[0my_orig\u001b[0m\u001b[0;34m)\u001b[0m\u001b[0;34m,\u001b[0m \u001b[0;36m500\u001b[0m\u001b[0;34m)\u001b[0m\u001b[0;34m\u001b[0m\u001b[0;34m\u001b[0m\u001b[0m\n\u001b[1;32m     19\u001b[0m     \u001b[0mx_mesh\u001b[0m\u001b[0;34m,\u001b[0m \u001b[0my_mesh\u001b[0m \u001b[0;34m=\u001b[0m \u001b[0mnp\u001b[0m\u001b[0;34m.\u001b[0m\u001b[0mmeshgrid\u001b[0m\u001b[0;34m(\u001b[0m\u001b[0mx_arr\u001b[0m\u001b[0;34m,\u001b[0m \u001b[0my_arr\u001b[0m\u001b[0;34m)\u001b[0m\u001b[0;34m\u001b[0m\u001b[0;34m\u001b[0m\u001b[0m\n",
      "\u001b[0;32m/opt/anaconda3/envs/pydeck/lib/python3.9/site-packages/numpy/core/overrides.py\u001b[0m in \u001b[0;36mamin\u001b[0;34m(*args, **kwargs)\u001b[0m\n",
      "\u001b[0;32m/opt/anaconda3/envs/pydeck/lib/python3.9/site-packages/numpy/core/fromnumeric.py\u001b[0m in \u001b[0;36mamin\u001b[0;34m(a, axis, out, keepdims, initial, where)\u001b[0m\n\u001b[1;32m   2916\u001b[0m     \u001b[0;36m6\u001b[0m\u001b[0;34m\u001b[0m\u001b[0;34m\u001b[0m\u001b[0m\n\u001b[1;32m   2917\u001b[0m     \"\"\"\n\u001b[0;32m-> 2918\u001b[0;31m     return _wrapreduction(a, np.minimum, 'min', axis, None, out,\n\u001b[0m\u001b[1;32m   2919\u001b[0m                           keepdims=keepdims, initial=initial, where=where)\n\u001b[1;32m   2920\u001b[0m \u001b[0;34m\u001b[0m\u001b[0m\n",
      "\u001b[0;32m/opt/anaconda3/envs/pydeck/lib/python3.9/site-packages/numpy/core/fromnumeric.py\u001b[0m in \u001b[0;36m_wrapreduction\u001b[0;34m(obj, ufunc, method, axis, dtype, out, **kwargs)\u001b[0m\n\u001b[1;32m     84\u001b[0m                 \u001b[0;32mreturn\u001b[0m \u001b[0mreduction\u001b[0m\u001b[0;34m(\u001b[0m\u001b[0maxis\u001b[0m\u001b[0;34m=\u001b[0m\u001b[0maxis\u001b[0m\u001b[0;34m,\u001b[0m \u001b[0mout\u001b[0m\u001b[0;34m=\u001b[0m\u001b[0mout\u001b[0m\u001b[0;34m,\u001b[0m \u001b[0;34m**\u001b[0m\u001b[0mpasskwargs\u001b[0m\u001b[0;34m)\u001b[0m\u001b[0;34m\u001b[0m\u001b[0;34m\u001b[0m\u001b[0m\n\u001b[1;32m     85\u001b[0m \u001b[0;34m\u001b[0m\u001b[0m\n\u001b[0;32m---> 86\u001b[0;31m     \u001b[0;32mreturn\u001b[0m \u001b[0mufunc\u001b[0m\u001b[0;34m.\u001b[0m\u001b[0mreduce\u001b[0m\u001b[0;34m(\u001b[0m\u001b[0mobj\u001b[0m\u001b[0;34m,\u001b[0m \u001b[0maxis\u001b[0m\u001b[0;34m,\u001b[0m \u001b[0mdtype\u001b[0m\u001b[0;34m,\u001b[0m \u001b[0mout\u001b[0m\u001b[0;34m,\u001b[0m \u001b[0;34m**\u001b[0m\u001b[0mpasskwargs\u001b[0m\u001b[0;34m)\u001b[0m\u001b[0;34m\u001b[0m\u001b[0;34m\u001b[0m\u001b[0m\n\u001b[0m\u001b[1;32m     87\u001b[0m \u001b[0;34m\u001b[0m\u001b[0m\n\u001b[1;32m     88\u001b[0m \u001b[0;34m\u001b[0m\u001b[0m\n",
      "\u001b[0;31mValueError\u001b[0m: zero-size array to reduction operation minimum which has no identity"
     ]
    },
    {
     "data": {
      "image/png": "[encoded data removed]",
      "text/plain": [
       "<Figure size 640x480 with 1 Axes>"
      ]
     },
     "metadata": {},
     "output_type": "display_data"
    }
   ],
   "source": [
    "folder = '/Volumes/PACIOOS/altimetryjson/'\n",
    "for year in range(1993,2022+1):\n",
    "    for month in range(1,12+1):\n",
    "        if folder+\"altimetrygeo\" + str(year)+str(month)+ \".json\" in os.listdir(folder):\n",
    "        currgeo = getMonthlyGeoJSON(year,month,masterxr)\n",
    "        json_object = json.dumps(currgeo, indent=4)\n",
    "        with open(folder+\"altimetrygeo\" + str(year)+str(month)+ \".json\", \"w\") as outfile:\n",
    "            outfile.write(json_object)\n",
    "        print(folder+\"altimetrygeo\" + str(year)+str(month)+ \".json\")"
   ]
  },
  {
   "cell_type": "code",
   "execution_count": 10,
   "id": "55e16958",
   "metadata": {},
   "outputs": [],
   "source": [
    "folder = '/Volumes/PACIOOS/altimetryjsondaily/'\n",
    "# folder+\"altimetrygeo\" + pd.to_datetime(x).strftime(\"%Y%m%d\") + \".json\""
   ]
  },
  {
   "cell_type": "code",
   "execution_count": 13,
   "id": "5f615a0b",
   "metadata": {},
   "outputs": [
    {
     "data": {
      "text/plain": [
       "['altimetrygeo19930101.json',\n",
       " 'altimetrygeo19930102.json',\n",
       " 'altimetrygeo19930103.json',\n",
       " 'altimetrygeo19930104.json',\n",
       " 'altimetrygeo19930105.json',\n",
       " 'altimetrygeo19930106.json',\n",
       " 'altimetrygeo19930108.json',\n",
       " 'altimetrygeo19930109.json',\n",
       " 'altimetrygeo19930110.json',\n",
       " 'altimetrygeo19930111.json',\n",
       " 'altimetrygeo19930112.json',\n",
       " 'altimetrygeo19930113.json',\n",
       " 'altimetrygeo19930114.json',\n",
       " 'altimetrygeo19930115.json',\n",
       " 'altimetrygeo19930116.json',\n",
       " 'altimetrygeo19930117.json',\n",
       " 'altimetrygeo19930118.json',\n",
       " 'altimetrygeo19930119.json',\n",
       " 'altimetrygeo19930120.json',\n",
       " 'altimetrygeo19930121.json',\n",
       " 'altimetrygeo19930122.json',\n",
       " 'altimetrygeo19930123.json',\n",
       " 'altimetrygeo19930124.json',\n",
       " 'altimetrygeo19930125.json',\n",
       " 'altimetrygeo19930126.json',\n",
       " 'altimetrygeo19930127.json',\n",
       " 'altimetrygeo19930128.json',\n",
       " 'altimetrygeo19930129.json',\n",
       " 'altimetrygeo19930130.json',\n",
       " 'altimetrygeo19930131.json',\n",
       " 'altimetrygeo19930201.json',\n",
       " 'altimetrygeo19930202.json',\n",
       " 'altimetrygeo19930203.json',\n",
       " 'altimetrygeo19930204.json',\n",
       " 'altimetrygeo19930205.json',\n",
       " 'altimetrygeo19930206.json',\n",
       " 'altimetrygeo19930208.json',\n",
       " 'altimetrygeo19930209.json',\n",
       " 'altimetrygeo19930210.json',\n",
       " 'altimetrygeo19930211.json',\n",
       " 'altimetrygeo19930212.json',\n",
       " 'altimetrygeo19930213.json',\n",
       " 'altimetrygeo19930214.json',\n",
       " 'altimetrygeo19930215.json',\n",
       " 'altimetrygeo19930216.json',\n",
       " 'altimetrygeo19930217.json',\n",
       " 'altimetrygeo19930218.json',\n",
       " 'altimetrygeo19930219.json',\n",
       " 'altimetrygeo19930220.json',\n",
       " 'altimetrygeo19930221.json',\n",
       " 'altimetrygeo19930222.json',\n",
       " 'altimetrygeo19930223.json',\n",
       " 'altimetrygeo19930224.json',\n",
       " 'altimetrygeo19930225.json',\n",
       " 'altimetrygeo19930226.json',\n",
       " 'altimetrygeo19930227.json',\n",
       " 'altimetrygeo19930228.json',\n",
       " 'altimetrygeo19930301.json',\n",
       " 'altimetrygeo19930302.json',\n",
       " 'altimetrygeo19930303.json',\n",
       " 'altimetrygeo19930304.json',\n",
       " 'altimetrygeo19930305.json',\n",
       " 'altimetrygeo19930306.json',\n",
       " 'altimetrygeo19930307.json',\n",
       " 'altimetrygeo19930308.json',\n",
       " 'altimetrygeo19930309.json',\n",
       " 'altimetrygeo19930310.json',\n",
       " 'altimetrygeo19930311.json',\n",
       " 'altimetrygeo19930312.json',\n",
       " 'altimetrygeo19930313.json',\n",
       " 'altimetrygeo19930314.json',\n",
       " 'altimetrygeo19930315.json',\n",
       " 'altimetrygeo19930316.json',\n",
       " 'altimetrygeo19930317.json',\n",
       " 'altimetrygeo19930318.json',\n",
       " 'altimetrygeo19930319.json',\n",
       " 'altimetrygeo19930320.json',\n",
       " 'altimetrygeo19930321.json',\n",
       " 'altimetrygeo19930322.json',\n",
       " 'altimetrygeo19930323.json',\n",
       " 'altimetrygeo19930324.json',\n",
       " 'altimetrygeo19930325.json',\n",
       " 'altimetrygeo19930326.json',\n",
       " 'altimetrygeo19930327.json',\n",
       " 'altimetrygeo19930328.json',\n",
       " 'altimetrygeo19930329.json',\n",
       " 'altimetrygeo19930330.json',\n",
       " 'altimetrygeo19930331.json',\n",
       " 'altimetrygeo19930401.json',\n",
       " 'altimetrygeo19930402.json',\n",
       " 'altimetrygeo19930403.json',\n",
       " 'altimetrygeo19930404.json',\n",
       " 'altimetrygeo19930405.json',\n",
       " 'altimetrygeo19930406.json',\n",
       " 'altimetrygeo19930408.json',\n",
       " 'altimetrygeo19930409.json',\n",
       " 'altimetrygeo19930410.json',\n",
       " 'altimetrygeo19930411.json',\n",
       " 'altimetrygeo19930412.json',\n",
       " 'altimetrygeo19930413.json',\n",
       " 'altimetrygeo19930414.json',\n",
       " 'altimetrygeo19930415.json',\n",
       " 'altimetrygeo19930416.json',\n",
       " 'altimetrygeo19930417.json',\n",
       " 'altimetrygeo19930418.json',\n",
       " 'altimetrygeo19930419.json',\n",
       " 'altimetrygeo19930420.json',\n",
       " 'altimetrygeo19930421.json',\n",
       " 'altimetrygeo19930422.json',\n",
       " 'altimetrygeo19930423.json',\n",
       " 'altimetrygeo19930424.json',\n",
       " 'altimetrygeo19930425.json',\n",
       " 'altimetrygeo19930426.json',\n",
       " 'altimetrygeo19930427.json',\n",
       " 'altimetrygeo19930428.json',\n",
       " 'altimetrygeo19930429.json',\n",
       " 'altimetrygeo19930430.json',\n",
       " 'altimetrygeo19930501.json',\n",
       " 'altimetrygeo19930502.json',\n",
       " 'altimetrygeo19930503.json',\n",
       " 'altimetrygeo19930504.json',\n",
       " 'altimetrygeo19930505.json',\n",
       " 'altimetrygeo19930506.json',\n",
       " 'altimetrygeo19930507.json',\n",
       " 'altimetrygeo19930508.json',\n",
       " 'altimetrygeo19930509.json',\n",
       " 'altimetrygeo19930510.json',\n",
       " 'altimetrygeo19930511.json',\n",
       " 'altimetrygeo19930512.json',\n",
       " 'altimetrygeo19930513.json',\n",
       " 'altimetrygeo19930514.json',\n",
       " 'altimetrygeo19930515.json',\n",
       " 'altimetrygeo19930516.json',\n",
       " 'altimetrygeo19930517.json',\n",
       " 'altimetrygeo19930518.json',\n",
       " 'altimetrygeo19930519.json',\n",
       " 'altimetrygeo19930520.json',\n",
       " 'altimetrygeo19930521.json',\n",
       " 'altimetrygeo19930522.json',\n",
       " 'altimetrygeo19930523.json',\n",
       " 'altimetrygeo19930524.json',\n",
       " 'altimetrygeo19930525.json',\n",
       " 'altimetrygeo19930526.json',\n",
       " 'altimetrygeo19930527.json',\n",
       " 'altimetrygeo19930528.json',\n",
       " 'altimetrygeo19930529.json',\n",
       " 'altimetrygeo19930530.json',\n",
       " 'altimetrygeo19930531.json',\n",
       " 'altimetrygeo19930601.json',\n",
       " 'altimetrygeo19930602.json',\n",
       " 'altimetrygeo19930603.json',\n",
       " 'altimetrygeo19930604.json',\n",
       " 'altimetrygeo19930605.json',\n",
       " 'altimetrygeo19930606.json',\n",
       " 'altimetrygeo19930608.json',\n",
       " 'altimetrygeo19930609.json',\n",
       " 'altimetrygeo19930610.json',\n",
       " 'altimetrygeo19930611.json',\n",
       " 'altimetrygeo19930612.json',\n",
       " 'altimetrygeo19930613.json',\n",
       " 'altimetrygeo19930614.json',\n",
       " 'altimetrygeo19930615.json',\n",
       " 'altimetrygeo19930616.json',\n",
       " 'altimetrygeo19930617.json',\n",
       " 'altimetrygeo19930618.json',\n",
       " 'altimetrygeo19930619.json',\n",
       " 'altimetrygeo19930620.json',\n",
       " 'altimetrygeo19930621.json',\n",
       " 'altimetrygeo19930622.json',\n",
       " 'altimetrygeo19930623.json',\n",
       " 'altimetrygeo19930624.json',\n",
       " 'altimetrygeo19930625.json',\n",
       " 'altimetrygeo19930626.json',\n",
       " 'altimetrygeo19930627.json',\n",
       " 'altimetrygeo19930628.json',\n",
       " 'altimetrygeo19930629.json',\n",
       " 'altimetrygeo19930630.json',\n",
       " 'altimetrygeo19930701.json',\n",
       " 'altimetrygeo19930702.json',\n",
       " 'altimetrygeo19930703.json',\n",
       " 'altimetrygeo19930704.json',\n",
       " 'altimetrygeo19930705.json',\n",
       " 'altimetrygeo19930706.json',\n",
       " 'altimetrygeo19930707.json',\n",
       " 'altimetrygeo19930708.json',\n",
       " 'altimetrygeo19930709.json',\n",
       " 'altimetrygeo19930710.json',\n",
       " 'altimetrygeo19930711.json',\n",
       " 'altimetrygeo19930712.json',\n",
       " 'altimetrygeo19930713.json',\n",
       " 'altimetrygeo19930714.json',\n",
       " 'altimetrygeo19930715.json',\n",
       " 'altimetrygeo19930716.json',\n",
       " 'altimetrygeo19930717.json',\n",
       " 'altimetrygeo19930718.json',\n",
       " 'altimetrygeo19930719.json',\n",
       " 'altimetrygeo19930720.json',\n",
       " 'altimetrygeo19930721.json',\n",
       " 'altimetrygeo19930722.json',\n",
       " 'altimetrygeo19930723.json',\n",
       " 'altimetrygeo19930724.json',\n",
       " 'altimetrygeo19930725.json',\n",
       " 'altimetrygeo19930726.json',\n",
       " 'altimetrygeo19930727.json',\n",
       " 'altimetrygeo19930728.json',\n",
       " 'altimetrygeo19930729.json',\n",
       " 'altimetrygeo19930730.json',\n",
       " 'altimetrygeo19930731.json',\n",
       " 'altimetrygeo19930801.json',\n",
       " 'altimetrygeo19930802.json',\n",
       " 'altimetrygeo19930803.json',\n",
       " 'altimetrygeo19930804.json',\n",
       " 'altimetrygeo19930805.json',\n",
       " 'altimetrygeo19930806.json',\n",
       " 'altimetrygeo19930807.json',\n",
       " 'altimetrygeo19930808.json',\n",
       " 'altimetrygeo19930809.json',\n",
       " 'altimetrygeo19930810.json',\n",
       " 'altimetrygeo19930811.json',\n",
       " 'altimetrygeo19930812.json',\n",
       " 'altimetrygeo19930813.json',\n",
       " 'altimetrygeo19930814.json',\n",
       " 'altimetrygeo19930815.json',\n",
       " 'altimetrygeo19930816.json',\n",
       " 'altimetrygeo19930817.json',\n",
       " 'altimetrygeo19930818.json',\n",
       " 'altimetrygeo19930819.json',\n",
       " 'altimetrygeo19930820.json',\n",
       " 'altimetrygeo19930821.json',\n",
       " 'altimetrygeo19930822.json',\n",
       " 'altimetrygeo19930823.json',\n",
       " 'altimetrygeo19930824.json',\n",
       " 'altimetrygeo19930825.json',\n",
       " 'altimetrygeo19930826.json',\n",
       " 'altimetrygeo19930827.json',\n",
       " 'altimetrygeo19930828.json',\n",
       " 'altimetrygeo19930829.json',\n",
       " 'altimetrygeo19930830.json',\n",
       " 'altimetrygeo19930831.json',\n",
       " 'altimetrygeo19930901.json',\n",
       " 'altimetrygeo19930902.json',\n",
       " 'altimetrygeo19930903.json',\n",
       " 'altimetrygeo19930904.json',\n",
       " 'altimetrygeo19930905.json',\n",
       " 'altimetrygeo19930906.json',\n",
       " 'altimetrygeo19930908.json',\n",
       " 'altimetrygeo19930909.json',\n",
       " 'altimetrygeo19930910.json',\n",
       " 'altimetrygeo19930911.json',\n",
       " 'altimetrygeo19930912.json',\n",
       " 'altimetrygeo19930913.json',\n",
       " 'altimetrygeo19930914.json',\n",
       " 'altimetrygeo19930915.json',\n",
       " 'altimetrygeo19930916.json',\n",
       " 'altimetrygeo19930917.json',\n",
       " 'altimetrygeo19930918.json',\n",
       " 'altimetrygeo19930919.json',\n",
       " 'altimetrygeo19930920.json',\n",
       " 'altimetrygeo19930921.json',\n",
       " 'altimetrygeo19930922.json',\n",
       " 'altimetrygeo19930923.json',\n",
       " 'altimetrygeo19930924.json',\n",
       " 'altimetrygeo19930925.json',\n",
       " 'altimetrygeo19930926.json',\n",
       " 'altimetrygeo19930927.json',\n",
       " 'altimetrygeo19930928.json',\n",
       " 'altimetrygeo19930929.json',\n",
       " 'altimetrygeo19930930.json',\n",
       " 'altimetrygeo19931001.json',\n",
       " 'altimetrygeo19931002.json',\n",
       " 'altimetrygeo19931003.json',\n",
       " 'altimetrygeo19931004.json',\n",
       " 'altimetrygeo19931005.json',\n",
       " 'altimetrygeo19931006.json',\n",
       " 'altimetrygeo19931007.json',\n",
       " 'altimetrygeo19931008.json',\n",
       " 'altimetrygeo19931009.json',\n",
       " 'altimetrygeo19931010.json',\n",
       " 'altimetrygeo19931011.json',\n",
       " 'altimetrygeo19931012.json',\n",
       " 'altimetrygeo19931013.json',\n",
       " 'altimetrygeo19931014.json',\n",
       " 'altimetrygeo19931015.json',\n",
       " 'altimetrygeo19931016.json',\n",
       " 'altimetrygeo19931017.json',\n",
       " 'altimetrygeo19931018.json',\n",
       " 'altimetrygeo19931019.json',\n",
       " 'altimetrygeo19931020.json',\n",
       " 'altimetrygeo19931021.json',\n",
       " 'altimetrygeo19931022.json',\n",
       " 'altimetrygeo19931023.json',\n",
       " 'altimetrygeo19931024.json',\n",
       " 'altimetrygeo19931025.json',\n",
       " 'altimetrygeo19931026.json',\n",
       " 'altimetrygeo19931027.json',\n",
       " 'altimetrygeo19931028.json',\n",
       " 'altimetrygeo19931029.json',\n",
       " 'altimetrygeo19931030.json',\n",
       " 'altimetrygeo19931031.json',\n",
       " 'altimetrygeo19931101.json',\n",
       " 'altimetrygeo19931102.json',\n",
       " 'altimetrygeo19931103.json',\n",
       " 'altimetrygeo19931104.json',\n",
       " 'altimetrygeo19931105.json',\n",
       " 'altimetrygeo19931106.json',\n",
       " 'altimetrygeo19931108.json',\n",
       " 'altimetrygeo19931109.json',\n",
       " 'altimetrygeo19931110.json',\n",
       " 'altimetrygeo19931111.json',\n",
       " 'altimetrygeo19931112.json',\n",
       " 'altimetrygeo19931113.json',\n",
       " 'altimetrygeo19931114.json',\n",
       " 'altimetrygeo19931115.json',\n",
       " 'altimetrygeo19931116.json',\n",
       " 'altimetrygeo19931117.json',\n",
       " 'altimetrygeo19931118.json',\n",
       " 'altimetrygeo19931119.json',\n",
       " 'altimetrygeo19931120.json',\n",
       " 'altimetrygeo19931121.json',\n",
       " 'altimetrygeo19931122.json',\n",
       " 'altimetrygeo19931123.json',\n",
       " 'altimetrygeo19931124.json',\n",
       " 'altimetrygeo19931125.json',\n",
       " 'altimetrygeo19931126.json',\n",
       " 'altimetrygeo19931127.json',\n",
       " 'altimetrygeo19931128.json',\n",
       " 'altimetrygeo19931129.json',\n",
       " 'altimetrygeo19931130.json',\n",
       " 'altimetrygeo19931201.json',\n",
       " 'altimetrygeo19931202.json',\n",
       " 'altimetrygeo19931203.json',\n",
       " 'altimetrygeo19931204.json',\n",
       " 'altimetrygeo19931205.json',\n",
       " 'altimetrygeo19931206.json',\n",
       " 'altimetrygeo19931207.json',\n",
       " 'altimetrygeo19931208.json',\n",
       " 'altimetrygeo19931209.json',\n",
       " 'altimetrygeo19931210.json',\n",
       " 'altimetrygeo19931211.json',\n",
       " 'altimetrygeo19931212.json',\n",
       " 'altimetrygeo19931213.json',\n",
       " 'altimetrygeo19931214.json',\n",
       " 'altimetrygeo19931215.json',\n",
       " 'altimetrygeo19931216.json',\n",
       " 'altimetrygeo19931217.json',\n",
       " 'altimetrygeo19931218.json',\n",
       " 'altimetrygeo19931219.json',\n",
       " 'altimetrygeo19931220.json',\n",
       " 'altimetrygeo19931221.json',\n",
       " 'altimetrygeo19931222.json',\n",
       " 'altimetrygeo19931223.json',\n",
       " 'altimetrygeo19931224.json',\n",
       " 'altimetrygeo19931225.json',\n",
       " 'altimetrygeo19931226.json',\n",
       " 'altimetrygeo19931227.json',\n",
       " 'altimetrygeo19931228.json',\n",
       " 'altimetrygeo19931229.json',\n",
       " 'altimetrygeo19931230.json',\n",
       " 'altimetrygeo19931231.json',\n",
       " 'altimetrygeo19940101.json',\n",
       " 'altimetrygeo19940102.json',\n",
       " 'altimetrygeo19940103.json',\n",
       " 'altimetrygeo19940104.json',\n",
       " 'altimetrygeo19940105.json',\n",
       " 'altimetrygeo19940106.json',\n",
       " 'altimetrygeo19940107.json',\n",
       " 'altimetrygeo19940108.json',\n",
       " 'altimetrygeo19940109.json',\n",
       " 'altimetrygeo19940110.json',\n",
       " 'altimetrygeo19940111.json',\n",
       " 'altimetrygeo19940112.json',\n",
       " 'altimetrygeo19940113.json',\n",
       " 'altimetrygeo19940114.json',\n",
       " 'altimetrygeo19940115.json',\n",
       " 'altimetrygeo19940116.json',\n",
       " 'altimetrygeo19940117.json',\n",
       " 'altimetrygeo19940118.json',\n",
       " 'altimetrygeo19940119.json',\n",
       " 'altimetrygeo19940120.json',\n",
       " 'altimetrygeo19940121.json',\n",
       " 'altimetrygeo19940122.json',\n",
       " 'altimetrygeo19940123.json',\n",
       " 'altimetrygeo19940124.json',\n",
       " 'altimetrygeo19940125.json',\n",
       " 'altimetrygeo19940126.json',\n",
       " 'altimetrygeo19940127.json',\n",
       " 'altimetrygeo19940128.json',\n",
       " 'altimetrygeo19940129.json',\n",
       " 'altimetrygeo19940130.json',\n",
       " 'altimetrygeo19940131.json',\n",
       " 'altimetrygeo19940201.json',\n",
       " 'altimetrygeo19940202.json',\n",
       " 'altimetrygeo19940203.json',\n",
       " 'altimetrygeo19940204.json',\n",
       " 'altimetrygeo19940205.json',\n",
       " 'altimetrygeo19940206.json',\n",
       " 'altimetrygeo19940208.json',\n",
       " 'altimetrygeo19940209.json',\n",
       " 'altimetrygeo19940210.json',\n",
       " 'altimetrygeo19940211.json',\n",
       " 'altimetrygeo19940212.json',\n",
       " 'altimetrygeo19940213.json',\n",
       " 'altimetrygeo19940214.json',\n",
       " 'altimetrygeo19940215.json',\n",
       " 'altimetrygeo19940216.json',\n",
       " 'altimetrygeo19940217.json',\n",
       " 'altimetrygeo19940218.json',\n",
       " 'altimetrygeo19940219.json',\n",
       " 'altimetrygeo19940220.json',\n",
       " 'altimetrygeo19940221.json',\n",
       " 'altimetrygeo19940222.json',\n",
       " 'altimetrygeo19940223.json',\n",
       " 'altimetrygeo19940224.json',\n",
       " 'altimetrygeo19940225.json',\n",
       " 'altimetrygeo19940226.json',\n",
       " 'altimetrygeo19940227.json',\n",
       " 'altimetrygeo19940228.json',\n",
       " 'altimetrygeo19940301.json',\n",
       " 'altimetrygeo19940302.json',\n",
       " 'altimetrygeo19940303.json',\n",
       " 'altimetrygeo19940304.json',\n",
       " 'altimetrygeo19940305.json',\n",
       " 'altimetrygeo19940306.json',\n",
       " 'altimetrygeo19940307.json',\n",
       " 'altimetrygeo19940308.json',\n",
       " 'altimetrygeo19940309.json',\n",
       " 'altimetrygeo19940310.json',\n",
       " 'altimetrygeo19940311.json',\n",
       " 'altimetrygeo19940312.json',\n",
       " 'altimetrygeo19940313.json',\n",
       " 'altimetrygeo19940314.json',\n",
       " 'altimetrygeo19940315.json',\n",
       " 'altimetrygeo19940316.json',\n",
       " 'altimetrygeo19940317.json',\n",
       " 'altimetrygeo19940318.json',\n",
       " 'altimetrygeo19940319.json',\n",
       " 'altimetrygeo19940320.json',\n",
       " 'altimetrygeo19940321.json',\n",
       " 'altimetrygeo19940322.json',\n",
       " 'altimetrygeo19940323.json',\n",
       " 'altimetrygeo19940324.json',\n",
       " 'altimetrygeo19940325.json',\n",
       " 'altimetrygeo19940326.json',\n",
       " 'altimetrygeo19940327.json',\n",
       " 'altimetrygeo19940328.json',\n",
       " 'altimetrygeo19940329.json',\n",
       " 'altimetrygeo19940330.json',\n",
       " 'altimetrygeo19940331.json',\n",
       " 'altimetrygeo19940401.json',\n",
       " 'altimetrygeo19940402.json',\n",
       " 'altimetrygeo19940403.json',\n",
       " 'altimetrygeo19940404.json',\n",
       " 'altimetrygeo19940405.json',\n",
       " 'altimetrygeo19940406.json',\n",
       " 'altimetrygeo19940408.json',\n",
       " 'altimetrygeo19940409.json',\n",
       " 'altimetrygeo19940410.json',\n",
       " 'altimetrygeo19940411.json',\n",
       " 'altimetrygeo19940412.json',\n",
       " 'altimetrygeo19940413.json',\n",
       " 'altimetrygeo19940414.json',\n",
       " 'altimetrygeo19940415.json',\n",
       " 'altimetrygeo19940416.json',\n",
       " 'altimetrygeo19940417.json',\n",
       " 'altimetrygeo19940418.json',\n",
       " 'altimetrygeo19940419.json',\n",
       " 'altimetrygeo19940420.json',\n",
       " 'altimetrygeo19940421.json',\n",
       " 'altimetrygeo19940422.json',\n",
       " 'altimetrygeo19940423.json',\n",
       " 'altimetrygeo19940424.json',\n",
       " 'altimetrygeo19940425.json',\n",
       " 'altimetrygeo19940426.json',\n",
       " 'altimetrygeo19940427.json',\n",
       " 'altimetrygeo19940428.json',\n",
       " 'altimetrygeo19940429.json',\n",
       " 'altimetrygeo19940430.json',\n",
       " 'altimetrygeo19940501.json',\n",
       " 'altimetrygeo19940502.json',\n",
       " 'altimetrygeo19940503.json',\n",
       " 'altimetrygeo19940504.json',\n",
       " 'altimetrygeo19940505.json',\n",
       " 'altimetrygeo19940506.json',\n",
       " 'altimetrygeo19940507.json',\n",
       " 'altimetrygeo19940508.json',\n",
       " 'altimetrygeo19940509.json',\n",
       " 'altimetrygeo19940510.json',\n",
       " 'altimetrygeo19940511.json',\n",
       " 'altimetrygeo19940512.json',\n",
       " 'altimetrygeo19940513.json',\n",
       " 'altimetrygeo19940514.json',\n",
       " 'altimetrygeo19940515.json',\n",
       " 'altimetrygeo19940516.json',\n",
       " 'altimetrygeo19940517.json',\n",
       " 'altimetrygeo19940518.json',\n",
       " 'altimetrygeo19940519.json',\n",
       " 'altimetrygeo19940520.json',\n",
       " 'altimetrygeo19940521.json',\n",
       " 'altimetrygeo19940522.json',\n",
       " 'altimetrygeo19940523.json',\n",
       " 'altimetrygeo19940524.json',\n",
       " 'altimetrygeo19940525.json',\n",
       " 'altimetrygeo19940526.json',\n",
       " 'altimetrygeo19940527.json',\n",
       " 'altimetrygeo19940528.json',\n",
       " 'altimetrygeo19940529.json',\n",
       " 'altimetrygeo19940530.json',\n",
       " 'altimetrygeo19940531.json',\n",
       " 'altimetrygeo19940601.json',\n",
       " 'altimetrygeo19940602.json',\n",
       " 'altimetrygeo19940603.json',\n",
       " 'altimetrygeo19940604.json',\n",
       " 'altimetrygeo19940605.json',\n",
       " 'altimetrygeo19940606.json',\n",
       " 'altimetrygeo19940608.json',\n",
       " 'altimetrygeo19940609.json',\n",
       " 'altimetrygeo19940610.json',\n",
       " 'altimetrygeo19940611.json',\n",
       " 'altimetrygeo19940612.json',\n",
       " 'altimetrygeo19940613.json',\n",
       " 'altimetrygeo19940614.json',\n",
       " 'altimetrygeo19940615.json',\n",
       " 'altimetrygeo19940616.json',\n",
       " 'altimetrygeo19940617.json',\n",
       " 'altimetrygeo19940618.json',\n",
       " 'altimetrygeo19940619.json',\n",
       " 'altimetrygeo19940620.json',\n",
       " 'altimetrygeo19940621.json',\n",
       " 'altimetrygeo19940622.json',\n",
       " 'altimetrygeo19940623.json',\n",
       " 'altimetrygeo19940624.json',\n",
       " 'altimetrygeo19940625.json',\n",
       " 'altimetrygeo19940626.json',\n",
       " 'altimetrygeo19940627.json',\n",
       " 'altimetrygeo19940628.json',\n",
       " 'altimetrygeo19940629.json',\n",
       " 'altimetrygeo19940630.json',\n",
       " 'altimetrygeo19940701.json',\n",
       " 'altimetrygeo19940702.json',\n",
       " 'altimetrygeo19940703.json',\n",
       " 'altimetrygeo19940704.json',\n",
       " 'altimetrygeo19940705.json',\n",
       " 'altimetrygeo19940706.json',\n",
       " 'altimetrygeo19940707.json',\n",
       " 'altimetrygeo19940708.json',\n",
       " 'altimetrygeo19940709.json',\n",
       " 'altimetrygeo19940710.json',\n",
       " 'altimetrygeo19940711.json',\n",
       " 'altimetrygeo19940712.json',\n",
       " 'altimetrygeo19940713.json',\n",
       " 'altimetrygeo19940714.json',\n",
       " 'altimetrygeo19940715.json',\n",
       " 'altimetrygeo19940716.json',\n",
       " 'altimetrygeo19940717.json',\n",
       " 'altimetrygeo19940718.json',\n",
       " 'altimetrygeo19940719.json',\n",
       " 'altimetrygeo19940720.json',\n",
       " 'altimetrygeo19940721.json',\n",
       " 'altimetrygeo19940722.json',\n",
       " 'altimetrygeo19940723.json',\n",
       " 'altimetrygeo19940724.json',\n",
       " 'altimetrygeo19940725.json',\n",
       " 'altimetrygeo19940726.json',\n",
       " 'altimetrygeo19940727.json',\n",
       " 'altimetrygeo19940728.json',\n",
       " 'altimetrygeo19940729.json',\n",
       " 'altimetrygeo19940730.json',\n",
       " 'altimetrygeo19940731.json',\n",
       " 'altimetrygeo19940801.json',\n",
       " 'altimetrygeo19940802.json',\n",
       " 'altimetrygeo19940803.json',\n",
       " 'altimetrygeo19940804.json',\n",
       " 'altimetrygeo19940805.json',\n",
       " 'altimetrygeo19940806.json',\n",
       " 'altimetrygeo19940807.json',\n",
       " 'altimetrygeo19940808.json',\n",
       " 'altimetrygeo19940809.json',\n",
       " 'altimetrygeo19940810.json',\n",
       " 'altimetrygeo19940811.json',\n",
       " 'altimetrygeo19940812.json',\n",
       " 'altimetrygeo19940813.json',\n",
       " 'altimetrygeo19940814.json',\n",
       " 'altimetrygeo19940815.json',\n",
       " 'altimetrygeo19940816.json',\n",
       " 'altimetrygeo19940817.json',\n",
       " 'altimetrygeo19940818.json',\n",
       " 'altimetrygeo19940819.json',\n",
       " 'altimetrygeo19940820.json',\n",
       " 'altimetrygeo19940821.json',\n",
       " 'altimetrygeo19940822.json',\n",
       " 'altimetrygeo19940823.json',\n",
       " 'altimetrygeo19940824.json',\n",
       " 'altimetrygeo19940825.json',\n",
       " 'altimetrygeo19940826.json',\n",
       " 'altimetrygeo19940827.json',\n",
       " 'altimetrygeo19940828.json',\n",
       " 'altimetrygeo19940829.json',\n",
       " 'altimetrygeo19940830.json',\n",
       " 'altimetrygeo19940831.json',\n",
       " 'altimetrygeo19940901.json',\n",
       " 'altimetrygeo19940902.json',\n",
       " 'altimetrygeo19940903.json',\n",
       " 'altimetrygeo19940904.json',\n",
       " 'altimetrygeo19940905.json',\n",
       " 'altimetrygeo19940906.json',\n",
       " 'altimetrygeo19940908.json',\n",
       " 'altimetrygeo19940909.json',\n",
       " 'altimetrygeo19940910.json',\n",
       " 'altimetrygeo19940911.json',\n",
       " 'altimetrygeo19940912.json',\n",
       " 'altimetrygeo19940913.json',\n",
       " 'altimetrygeo19940914.json',\n",
       " 'altimetrygeo19940915.json',\n",
       " 'altimetrygeo19940916.json',\n",
       " 'altimetrygeo19940917.json',\n",
       " 'altimetrygeo19940918.json',\n",
       " 'altimetrygeo19940919.json',\n",
       " 'altimetrygeo19940920.json',\n",
       " 'altimetrygeo19940921.json',\n",
       " 'altimetrygeo19940922.json',\n",
       " 'altimetrygeo19940923.json',\n",
       " 'altimetrygeo19940924.json',\n",
       " 'altimetrygeo19940925.json',\n",
       " 'altimetrygeo19940926.json',\n",
       " 'altimetrygeo19940927.json',\n",
       " 'altimetrygeo19940928.json',\n",
       " 'altimetrygeo19940929.json',\n",
       " 'altimetrygeo19940930.json',\n",
       " 'altimetrygeo19941001.json',\n",
       " 'altimetrygeo19941002.json',\n",
       " 'altimetrygeo19941003.json',\n",
       " 'altimetrygeo19941004.json',\n",
       " 'altimetrygeo19941005.json',\n",
       " 'altimetrygeo19941006.json',\n",
       " 'altimetrygeo19941007.json',\n",
       " 'altimetrygeo19941008.json',\n",
       " 'altimetrygeo19941009.json',\n",
       " 'altimetrygeo19941010.json',\n",
       " 'altimetrygeo19941011.json',\n",
       " 'altimetrygeo19941013.json',\n",
       " 'altimetrygeo19941014.json',\n",
       " 'altimetrygeo19941015.json',\n",
       " 'altimetrygeo19941016.json',\n",
       " 'altimetrygeo19941017.json',\n",
       " 'altimetrygeo19941018.json',\n",
       " 'altimetrygeo19941019.json',\n",
       " 'altimetrygeo19941020.json',\n",
       " 'altimetrygeo19941021.json',\n",
       " 'altimetrygeo19941022.json',\n",
       " 'altimetrygeo19941023.json',\n",
       " 'altimetrygeo19941024.json',\n",
       " 'altimetrygeo19941025.json',\n",
       " 'altimetrygeo19941026.json',\n",
       " 'altimetrygeo19941027.json',\n",
       " 'altimetrygeo19941028.json',\n",
       " 'altimetrygeo19941029.json',\n",
       " 'altimetrygeo19941030.json',\n",
       " 'altimetrygeo19941031.json',\n",
       " 'altimetrygeo19941101.json',\n",
       " 'altimetrygeo19941102.json',\n",
       " 'altimetrygeo19941103.json',\n",
       " 'altimetrygeo19941104.json',\n",
       " 'altimetrygeo19941105.json',\n",
       " 'altimetrygeo19941106.json',\n",
       " 'altimetrygeo19941108.json',\n",
       " 'altimetrygeo19941109.json',\n",
       " 'altimetrygeo19941110.json',\n",
       " 'altimetrygeo19941111.json',\n",
       " 'altimetrygeo19941112.json',\n",
       " 'altimetrygeo19941113.json',\n",
       " 'altimetrygeo19941114.json',\n",
       " 'altimetrygeo19941115.json',\n",
       " 'altimetrygeo19941116.json',\n",
       " 'altimetrygeo19941117.json',\n",
       " 'altimetrygeo19941118.json',\n",
       " 'altimetrygeo19941119.json',\n",
       " 'altimetrygeo19941120.json',\n",
       " 'altimetrygeo19941121.json',\n",
       " 'altimetrygeo19941122.json',\n",
       " 'altimetrygeo19941123.json',\n",
       " 'altimetrygeo19941124.json',\n",
       " 'altimetrygeo19941125.json',\n",
       " 'altimetrygeo19941126.json',\n",
       " 'altimetrygeo19941127.json',\n",
       " 'altimetrygeo19941128.json',\n",
       " 'altimetrygeo19941129.json',\n",
       " 'altimetrygeo19941130.json',\n",
       " 'altimetrygeo19941201.json',\n",
       " 'altimetrygeo19941202.json',\n",
       " 'altimetrygeo19941203.json',\n",
       " 'altimetrygeo19941204.json',\n",
       " 'altimetrygeo19941205.json',\n",
       " 'altimetrygeo19941206.json',\n",
       " 'altimetrygeo19941207.json',\n",
       " 'altimetrygeo19941208.json',\n",
       " 'altimetrygeo19941209.json',\n",
       " 'altimetrygeo19941210.json',\n",
       " 'altimetrygeo19941211.json',\n",
       " 'altimetrygeo19941212.json',\n",
       " 'altimetrygeo19941213.json',\n",
       " 'altimetrygeo19941214.json',\n",
       " 'altimetrygeo19941215.json',\n",
       " 'altimetrygeo19941216.json',\n",
       " 'altimetrygeo19941217.json',\n",
       " 'altimetrygeo19941218.json',\n",
       " 'altimetrygeo19941219.json',\n",
       " 'altimetrygeo19941220.json',\n",
       " 'altimetrygeo19941221.json',\n",
       " 'altimetrygeo19941222.json',\n",
       " 'altimetrygeo19941223.json',\n",
       " 'altimetrygeo19941224.json',\n",
       " 'altimetrygeo19941225.json',\n",
       " 'altimetrygeo19941226.json',\n",
       " 'altimetrygeo19941227.json',\n",
       " 'altimetrygeo19941228.json',\n",
       " 'altimetrygeo19941229.json',\n",
       " 'altimetrygeo19941230.json',\n",
       " 'altimetrygeo19941231.json',\n",
       " 'altimetrygeo19950101.json',\n",
       " 'altimetrygeo19950102.json',\n",
       " 'altimetrygeo19950103.json',\n",
       " 'altimetrygeo19950104.json',\n",
       " 'altimetrygeo19950105.json',\n",
       " 'altimetrygeo19950106.json',\n",
       " 'altimetrygeo19950107.json',\n",
       " 'altimetrygeo19950108.json',\n",
       " 'altimetrygeo19950109.json',\n",
       " 'altimetrygeo19950110.json',\n",
       " 'altimetrygeo19950111.json',\n",
       " 'altimetrygeo19950113.json',\n",
       " 'altimetrygeo19950114.json',\n",
       " 'altimetrygeo19950115.json',\n",
       " 'altimetrygeo19950116.json',\n",
       " 'altimetrygeo19950117.json',\n",
       " 'altimetrygeo19950118.json',\n",
       " 'altimetrygeo19950119.json',\n",
       " 'altimetrygeo19950120.json',\n",
       " 'altimetrygeo19950121.json',\n",
       " 'altimetrygeo19950122.json',\n",
       " 'altimetrygeo19950123.json',\n",
       " 'altimetrygeo19950124.json',\n",
       " 'altimetrygeo19950125.json',\n",
       " 'altimetrygeo19950126.json',\n",
       " 'altimetrygeo19950127.json',\n",
       " 'altimetrygeo19950128.json',\n",
       " 'altimetrygeo19950129.json',\n",
       " 'altimetrygeo19950130.json',\n",
       " 'altimetrygeo19950131.json',\n",
       " 'altimetrygeo19950201.json',\n",
       " 'altimetrygeo19950202.json',\n",
       " 'altimetrygeo19950203.json',\n",
       " 'altimetrygeo19950204.json',\n",
       " 'altimetrygeo19950205.json',\n",
       " 'altimetrygeo19950206.json',\n",
       " 'altimetrygeo19950208.json',\n",
       " 'altimetrygeo19950209.json',\n",
       " 'altimetrygeo19950210.json',\n",
       " 'altimetrygeo19950211.json',\n",
       " 'altimetrygeo19950212.json',\n",
       " 'altimetrygeo19950213.json',\n",
       " 'altimetrygeo19950214.json',\n",
       " 'altimetrygeo19950215.json',\n",
       " 'altimetrygeo19950216.json',\n",
       " 'altimetrygeo19950217.json',\n",
       " 'altimetrygeo19950218.json',\n",
       " 'altimetrygeo19950219.json',\n",
       " 'altimetrygeo19950220.json',\n",
       " 'altimetrygeo19950221.json',\n",
       " 'altimetrygeo19950222.json',\n",
       " 'altimetrygeo19950223.json',\n",
       " 'altimetrygeo19950224.json',\n",
       " 'altimetrygeo19950225.json',\n",
       " 'altimetrygeo19950226.json',\n",
       " 'altimetrygeo19950227.json',\n",
       " 'altimetrygeo19950228.json',\n",
       " 'altimetrygeo19950301.json',\n",
       " 'altimetrygeo19950302.json',\n",
       " 'altimetrygeo19950303.json',\n",
       " 'altimetrygeo19950304.json',\n",
       " 'altimetrygeo19950305.json',\n",
       " 'altimetrygeo19950306.json',\n",
       " 'altimetrygeo19950307.json',\n",
       " 'altimetrygeo19950308.json',\n",
       " 'altimetrygeo19950309.json',\n",
       " 'altimetrygeo19950310.json',\n",
       " 'altimetrygeo19950311.json',\n",
       " 'altimetrygeo19950312.json',\n",
       " 'altimetrygeo19950313.json',\n",
       " 'altimetrygeo19950314.json',\n",
       " 'altimetrygeo19950315.json',\n",
       " 'altimetrygeo19950316.json',\n",
       " 'altimetrygeo19950317.json',\n",
       " 'altimetrygeo19950318.json',\n",
       " 'altimetrygeo19950319.json',\n",
       " 'altimetrygeo19950320.json',\n",
       " 'altimetrygeo19950321.json',\n",
       " 'altimetrygeo19950322.json',\n",
       " 'altimetrygeo19950323.json',\n",
       " 'altimetrygeo19950324.json',\n",
       " 'altimetrygeo19950325.json',\n",
       " 'altimetrygeo19950326.json',\n",
       " 'altimetrygeo19950327.json',\n",
       " 'altimetrygeo19950328.json',\n",
       " 'altimetrygeo19950329.json',\n",
       " 'altimetrygeo19950330.json',\n",
       " 'altimetrygeo19950331.json',\n",
       " 'altimetrygeo19950401.json',\n",
       " 'altimetrygeo19950402.json',\n",
       " 'altimetrygeo19950403.json',\n",
       " 'altimetrygeo19950404.json',\n",
       " 'altimetrygeo19950405.json',\n",
       " 'altimetrygeo19950406.json',\n",
       " 'altimetrygeo19950408.json',\n",
       " 'altimetrygeo19950409.json',\n",
       " 'altimetrygeo19950410.json',\n",
       " 'altimetrygeo19950411.json',\n",
       " 'altimetrygeo19950412.json',\n",
       " 'altimetrygeo19950413.json',\n",
       " 'altimetrygeo19950414.json',\n",
       " 'altimetrygeo19950415.json',\n",
       " 'altimetrygeo19950416.json',\n",
       " 'altimetrygeo19950417.json',\n",
       " 'altimetrygeo19950418.json',\n",
       " 'altimetrygeo19950419.json',\n",
       " 'altimetrygeo19950420.json',\n",
       " 'altimetrygeo19950421.json',\n",
       " 'altimetrygeo19950423.json',\n",
       " 'altimetrygeo19950424.json',\n",
       " 'altimetrygeo19950425.json',\n",
       " 'altimetrygeo19950426.json',\n",
       " 'altimetrygeo19950427.json',\n",
       " 'altimetrygeo19950428.json',\n",
       " 'altimetrygeo19950429.json',\n",
       " 'altimetrygeo19950430.json',\n",
       " 'altimetrygeo19950501.json',\n",
       " 'altimetrygeo19950502.json',\n",
       " 'altimetrygeo19950503.json',\n",
       " 'altimetrygeo19950504.json',\n",
       " 'altimetrygeo19950505.json',\n",
       " 'altimetrygeo19950506.json',\n",
       " 'altimetrygeo19950507.json',\n",
       " 'altimetrygeo19950508.json',\n",
       " 'altimetrygeo19950509.json',\n",
       " 'altimetrygeo19950510.json',\n",
       " 'altimetrygeo19950511.json',\n",
       " 'altimetrygeo19950512.json',\n",
       " 'altimetrygeo19950513.json',\n",
       " 'altimetrygeo19950514.json',\n",
       " 'altimetrygeo19950515.json',\n",
       " 'altimetrygeo19950516.json',\n",
       " 'altimetrygeo19950517.json',\n",
       " 'altimetrygeo19950518.json',\n",
       " 'altimetrygeo19950519.json',\n",
       " 'altimetrygeo19950520.json',\n",
       " 'altimetrygeo19950521.json',\n",
       " 'altimetrygeo19950522.json',\n",
       " 'altimetrygeo19950523.json',\n",
       " 'altimetrygeo19950524.json',\n",
       " 'altimetrygeo19950526.json',\n",
       " 'altimetrygeo19950527.json',\n",
       " 'altimetrygeo19950528.json',\n",
       " 'altimetrygeo19950529.json',\n",
       " 'altimetrygeo19950530.json',\n",
       " 'altimetrygeo19950531.json',\n",
       " 'altimetrygeo19950601.json',\n",
       " 'altimetrygeo19950602.json',\n",
       " 'altimetrygeo19950603.json',\n",
       " 'altimetrygeo19950604.json',\n",
       " 'altimetrygeo19950605.json',\n",
       " 'altimetrygeo19950606.json',\n",
       " 'altimetrygeo19950608.json',\n",
       " 'altimetrygeo19950609.json',\n",
       " 'altimetrygeo19950610.json',\n",
       " 'altimetrygeo19950611.json',\n",
       " 'altimetrygeo19950612.json',\n",
       " 'altimetrygeo19950613.json',\n",
       " 'altimetrygeo19950614.json',\n",
       " 'altimetrygeo19950615.json',\n",
       " 'altimetrygeo19950616.json',\n",
       " 'altimetrygeo19950617.json',\n",
       " 'altimetrygeo19950618.json',\n",
       " 'altimetrygeo19950619.json',\n",
       " 'altimetrygeo19950620.json',\n",
       " 'altimetrygeo19950621.json',\n",
       " 'altimetrygeo19950622.json',\n",
       " 'altimetrygeo19950623.json',\n",
       " 'altimetrygeo19950624.json',\n",
       " 'altimetrygeo19950625.json',\n",
       " 'altimetrygeo19950626.json',\n",
       " 'altimetrygeo19950627.json',\n",
       " 'altimetrygeo19950628.json',\n",
       " 'altimetrygeo19950629.json',\n",
       " 'altimetrygeo19950630.json',\n",
       " 'altimetrygeo19950701.json',\n",
       " 'altimetrygeo19950702.json',\n",
       " 'altimetrygeo19950703.json',\n",
       " 'altimetrygeo19950704.json',\n",
       " 'altimetrygeo19950705.json',\n",
       " 'altimetrygeo19950706.json',\n",
       " 'altimetrygeo19950707.json',\n",
       " 'altimetrygeo19950708.json',\n",
       " 'altimetrygeo19950709.json',\n",
       " 'altimetrygeo19950710.json',\n",
       " 'altimetrygeo19950711.json',\n",
       " 'altimetrygeo19950712.json',\n",
       " 'altimetrygeo19950713.json',\n",
       " 'altimetrygeo19950714.json',\n",
       " 'altimetrygeo19950715.json',\n",
       " 'altimetrygeo19950716.json',\n",
       " 'altimetrygeo19950717.json',\n",
       " 'altimetrygeo19950718.json',\n",
       " 'altimetrygeo19950719.json',\n",
       " 'altimetrygeo19950720.json',\n",
       " 'altimetrygeo19950721.json',\n",
       " 'altimetrygeo19950722.json',\n",
       " 'altimetrygeo19950723.json',\n",
       " 'altimetrygeo19950724.json',\n",
       " 'altimetrygeo19950725.json',\n",
       " 'altimetrygeo19950726.json',\n",
       " 'altimetrygeo19950727.json',\n",
       " 'altimetrygeo19950728.json',\n",
       " 'altimetrygeo19950729.json',\n",
       " 'altimetrygeo19950730.json',\n",
       " 'altimetrygeo19950731.json',\n",
       " 'altimetrygeo19950801.json',\n",
       " 'altimetrygeo19950802.json',\n",
       " 'altimetrygeo19950803.json',\n",
       " 'altimetrygeo19950804.json',\n",
       " 'altimetrygeo19950805.json',\n",
       " 'altimetrygeo19950806.json',\n",
       " 'altimetrygeo19950807.json',\n",
       " 'altimetrygeo19950808.json',\n",
       " 'altimetrygeo19950809.json',\n",
       " 'altimetrygeo19950810.json',\n",
       " 'altimetrygeo19950811.json',\n",
       " 'altimetrygeo19950812.json',\n",
       " 'altimetrygeo19950813.json',\n",
       " 'altimetrygeo19950814.json',\n",
       " 'altimetrygeo19950815.json',\n",
       " 'altimetrygeo19950816.json',\n",
       " 'altimetrygeo19950817.json',\n",
       " 'altimetrygeo19950818.json',\n",
       " 'altimetrygeo19950819.json',\n",
       " 'altimetrygeo19950820.json',\n",
       " 'altimetrygeo19950821.json',\n",
       " 'altimetrygeo19950822.json',\n",
       " 'altimetrygeo19950823.json',\n",
       " 'altimetrygeo19950824.json',\n",
       " 'altimetrygeo19950825.json',\n",
       " 'altimetrygeo19950826.json',\n",
       " 'altimetrygeo19950827.json',\n",
       " 'altimetrygeo19950828.json',\n",
       " 'altimetrygeo19950829.json',\n",
       " 'altimetrygeo19950830.json',\n",
       " 'altimetrygeo19950831.json',\n",
       " 'altimetrygeo19950901.json',\n",
       " 'altimetrygeo19950902.json',\n",
       " 'altimetrygeo19950903.json',\n",
       " 'altimetrygeo19950904.json',\n",
       " 'altimetrygeo19950905.json',\n",
       " 'altimetrygeo19950906.json',\n",
       " 'altimetrygeo19950908.json',\n",
       " 'altimetrygeo19950909.json',\n",
       " 'altimetrygeo19950910.json',\n",
       " 'altimetrygeo19950911.json',\n",
       " 'altimetrygeo19950912.json',\n",
       " 'altimetrygeo19950913.json',\n",
       " 'altimetrygeo19950914.json',\n",
       " 'altimetrygeo19950915.json',\n",
       " 'altimetrygeo19950916.json',\n",
       " 'altimetrygeo19950917.json',\n",
       " 'altimetrygeo19950918.json',\n",
       " 'altimetrygeo19950919.json',\n",
       " 'altimetrygeo19950920.json',\n",
       " 'altimetrygeo19950921.json',\n",
       " 'altimetrygeo19950922.json',\n",
       " 'altimetrygeo19950923.json',\n",
       " 'altimetrygeo19950924.json',\n",
       " 'altimetrygeo19950925.json',\n",
       " 'altimetrygeo19950926.json',\n",
       " 'altimetrygeo19950927.json',\n",
       " 'altimetrygeo19950928.json',\n",
       " 'altimetrygeo19950929.json',\n",
       " 'altimetrygeo19950930.json',\n",
       " 'altimetrygeo19951001.json',\n",
       " 'altimetrygeo19951002.json',\n",
       " 'altimetrygeo19951003.json',\n",
       " 'altimetrygeo19951004.json',\n",
       " 'altimetrygeo19951005.json',\n",
       " 'altimetrygeo19951006.json',\n",
       " 'altimetrygeo19951007.json',\n",
       " 'altimetrygeo19951008.json',\n",
       " 'altimetrygeo19951009.json',\n",
       " 'altimetrygeo19951010.json',\n",
       " 'altimetrygeo19951011.json',\n",
       " 'altimetrygeo19951012.json',\n",
       " 'altimetrygeo19951013.json',\n",
       " 'altimetrygeo19951014.json',\n",
       " 'altimetrygeo19951015.json',\n",
       " 'altimetrygeo19951016.json',\n",
       " ...]"
      ]
     },
     "execution_count": 13,
     "metadata": {},
     "output_type": "execute_result"
    }
   ],
   "source": [
    "os.listdir(folder)"
   ]
  },
  {
   "cell_type": "code",
   "execution_count": 7,
   "id": "253eb899",
   "metadata": {},
   "outputs": [
    {
     "name": "stdout",
     "output_type": "stream",
     "text": [
      "error\n"
     ]
    },
    {
     "name": "stderr",
     "output_type": "stream",
     "text": [
      "/opt/anaconda3/envs/pydeck/lib/python3.9/site-packages/geojsoncontour/utilities/multipoly.py:33: RuntimeWarning: invalid value encountered in divide\n",
      "  return vector / np.linalg.norm(vector)\n"
     ]
    },
    {
     "name": "stdout",
     "output_type": "stream",
     "text": [
      "error\n",
      "error\n"
     ]
    },
    {
     "name": "stderr",
     "output_type": "stream",
     "text": [
      "/opt/anaconda3/envs/pydeck/lib/python3.9/site-packages/geojsoncontour/utilities/multipoly.py:33: RuntimeWarning: invalid value encountered in divide\n",
      "  return vector / np.linalg.norm(vector)\n"
     ]
    },
    {
     "name": "stdout",
     "output_type": "stream",
     "text": [
      "error\n"
     ]
    },
    {
     "name": "stderr",
     "output_type": "stream",
     "text": [
      "/opt/anaconda3/envs/pydeck/lib/python3.9/site-packages/geojsoncontour/utilities/multipoly.py:33: RuntimeWarning: invalid value encountered in divide\n",
      "  return vector / np.linalg.norm(vector)\n"
     ]
    },
    {
     "name": "stdout",
     "output_type": "stream",
     "text": [
      "error\n"
     ]
    },
    {
     "name": "stderr",
     "output_type": "stream",
     "text": [
      "/opt/anaconda3/envs/pydeck/lib/python3.9/site-packages/geojsoncontour/utilities/multipoly.py:33: RuntimeWarning: invalid value encountered in divide\n",
      "  return vector / np.linalg.norm(vector)\n"
     ]
    },
    {
     "name": "stdout",
     "output_type": "stream",
     "text": [
      "error\n",
      "error\n"
     ]
    },
    {
     "name": "stderr",
     "output_type": "stream",
     "text": [
      "/opt/anaconda3/envs/pydeck/lib/python3.9/site-packages/geojsoncontour/utilities/multipoly.py:33: RuntimeWarning: invalid value encountered in divide\n",
      "  return vector / np.linalg.norm(vector)\n"
     ]
    },
    {
     "name": "stdout",
     "output_type": "stream",
     "text": [
      "error\n",
      "error\n"
     ]
    },
    {
     "name": "stderr",
     "output_type": "stream",
     "text": [
      "/opt/anaconda3/envs/pydeck/lib/python3.9/site-packages/geojsoncontour/utilities/multipoly.py:33: RuntimeWarning: invalid value encountered in divide\n",
      "  return vector / np.linalg.norm(vector)\n"
     ]
    },
    {
     "name": "stdout",
     "output_type": "stream",
     "text": [
      "error\n",
      "error\n"
     ]
    },
    {
     "name": "stderr",
     "output_type": "stream",
     "text": [
      "/opt/anaconda3/envs/pydeck/lib/python3.9/site-packages/geojsoncontour/utilities/multipoly.py:33: RuntimeWarning: invalid value encountered in divide\n",
      "  return vector / np.linalg.norm(vector)\n"
     ]
    },
    {
     "name": "stdout",
     "output_type": "stream",
     "text": [
      "error\n"
     ]
    },
    {
     "name": "stderr",
     "output_type": "stream",
     "text": [
      "/opt/anaconda3/envs/pydeck/lib/python3.9/site-packages/geojsoncontour/utilities/multipoly.py:33: RuntimeWarning: invalid value encountered in divide\n",
      "  return vector / np.linalg.norm(vector)\n"
     ]
    },
    {
     "name": "stdout",
     "output_type": "stream",
     "text": [
      "error\n"
     ]
    },
    {
     "name": "stderr",
     "output_type": "stream",
     "text": [
      "/opt/anaconda3/envs/pydeck/lib/python3.9/site-packages/geojsoncontour/utilities/multipoly.py:33: RuntimeWarning: invalid value encountered in divide\n",
      "  return vector / np.linalg.norm(vector)\n"
     ]
    },
    {
     "name": "stdout",
     "output_type": "stream",
     "text": [
      "error\n",
      "error\n"
     ]
    },
    {
     "name": "stderr",
     "output_type": "stream",
     "text": [
      "/opt/anaconda3/envs/pydeck/lib/python3.9/site-packages/geojsoncontour/utilities/multipoly.py:33: RuntimeWarning: invalid value encountered in divide\n",
      "  return vector / np.linalg.norm(vector)\n"
     ]
    },
    {
     "name": "stdout",
     "output_type": "stream",
     "text": [
      "error\n",
      "error\n",
      "error\n"
     ]
    },
    {
     "name": "stderr",
     "output_type": "stream",
     "text": [
      "/opt/anaconda3/envs/pydeck/lib/python3.9/site-packages/geojsoncontour/utilities/multipoly.py:33: RuntimeWarning: invalid value encountered in divide\n",
      "  return vector / np.linalg.norm(vector)\n"
     ]
    },
    {
     "name": "stdout",
     "output_type": "stream",
     "text": [
      "error\n"
     ]
    },
    {
     "name": "stderr",
     "output_type": "stream",
     "text": [
      "/opt/anaconda3/envs/pydeck/lib/python3.9/site-packages/geojsoncontour/utilities/multipoly.py:33: RuntimeWarning: invalid value encountered in divide\n",
      "  return vector / np.linalg.norm(vector)\n"
     ]
    },
    {
     "name": "stdout",
     "output_type": "stream",
     "text": [
      "error\n"
     ]
    },
    {
     "name": "stderr",
     "output_type": "stream",
     "text": [
      "/opt/anaconda3/envs/pydeck/lib/python3.9/site-packages/geojsoncontour/utilities/multipoly.py:33: RuntimeWarning: invalid value encountered in divide\n",
      "  return vector / np.linalg.norm(vector)\n"
     ]
    },
    {
     "name": "stdout",
     "output_type": "stream",
     "text": [
      "error\n"
     ]
    },
    {
     "name": "stderr",
     "output_type": "stream",
     "text": [
      "/opt/anaconda3/envs/pydeck/lib/python3.9/site-packages/geojsoncontour/utilities/multipoly.py:33: RuntimeWarning: invalid value encountered in divide\n",
      "  return vector / np.linalg.norm(vector)\n"
     ]
    },
    {
     "name": "stdout",
     "output_type": "stream",
     "text": [
      "error\n",
      "error\n"
     ]
    },
    {
     "name": "stderr",
     "output_type": "stream",
     "text": [
      "/opt/anaconda3/envs/pydeck/lib/python3.9/site-packages/geojsoncontour/utilities/multipoly.py:33: RuntimeWarning: invalid value encountered in divide\n",
      "  return vector / np.linalg.norm(vector)\n"
     ]
    },
    {
     "name": "stdout",
     "output_type": "stream",
     "text": [
      "error\n"
     ]
    },
    {
     "name": "stderr",
     "output_type": "stream",
     "text": [
      "/opt/anaconda3/envs/pydeck/lib/python3.9/site-packages/geojsoncontour/utilities/multipoly.py:33: RuntimeWarning: invalid value encountered in divide\n",
      "  return vector / np.linalg.norm(vector)\n"
     ]
    },
    {
     "name": "stdout",
     "output_type": "stream",
     "text": [
      "error\n"
     ]
    },
    {
     "name": "stderr",
     "output_type": "stream",
     "text": [
      "/opt/anaconda3/envs/pydeck/lib/python3.9/site-packages/geojsoncontour/utilities/multipoly.py:33: RuntimeWarning: invalid value encountered in divide\n",
      "  return vector / np.linalg.norm(vector)\n"
     ]
    },
    {
     "name": "stdout",
     "output_type": "stream",
     "text": [
      "error\n"
     ]
    },
    {
     "name": "stderr",
     "output_type": "stream",
     "text": [
      "/opt/anaconda3/envs/pydeck/lib/python3.9/site-packages/geojsoncontour/utilities/multipoly.py:33: RuntimeWarning: invalid value encountered in divide\n",
      "  return vector / np.linalg.norm(vector)\n"
     ]
    },
    {
     "name": "stdout",
     "output_type": "stream",
     "text": [
      "error\n",
      "error\n"
     ]
    },
    {
     "name": "stderr",
     "output_type": "stream",
     "text": [
      "/opt/anaconda3/envs/pydeck/lib/python3.9/site-packages/geojsoncontour/utilities/multipoly.py:33: RuntimeWarning: invalid value encountered in divide\n",
      "  return vector / np.linalg.norm(vector)\n"
     ]
    },
    {
     "name": "stdout",
     "output_type": "stream",
     "text": [
      "error\n"
     ]
    },
    {
     "name": "stderr",
     "output_type": "stream",
     "text": [
      "/opt/anaconda3/envs/pydeck/lib/python3.9/site-packages/geojsoncontour/utilities/multipoly.py:33: RuntimeWarning: invalid value encountered in divide\n",
      "  return vector / np.linalg.norm(vector)\n"
     ]
    },
    {
     "name": "stdout",
     "output_type": "stream",
     "text": [
      "error\n"
     ]
    },
    {
     "name": "stderr",
     "output_type": "stream",
     "text": [
      "/opt/anaconda3/envs/pydeck/lib/python3.9/site-packages/geojsoncontour/utilities/multipoly.py:33: RuntimeWarning: invalid value encountered in divide\n",
      "  return vector / np.linalg.norm(vector)\n"
     ]
    },
    {
     "name": "stdout",
     "output_type": "stream",
     "text": [
      "error\n"
     ]
    },
    {
     "name": "stderr",
     "output_type": "stream",
     "text": [
      "/opt/anaconda3/envs/pydeck/lib/python3.9/site-packages/geojsoncontour/utilities/multipoly.py:33: RuntimeWarning: invalid value encountered in divide\n",
      "  return vector / np.linalg.norm(vector)\n"
     ]
    },
    {
     "name": "stdout",
     "output_type": "stream",
     "text": [
      "error\n"
     ]
    },
    {
     "name": "stderr",
     "output_type": "stream",
     "text": [
      "/opt/anaconda3/envs/pydeck/lib/python3.9/site-packages/geojsoncontour/utilities/multipoly.py:33: RuntimeWarning: invalid value encountered in divide\n",
      "  return vector / np.linalg.norm(vector)\n"
     ]
    },
    {
     "name": "stdout",
     "output_type": "stream",
     "text": [
      "error\n",
      "error\n"
     ]
    },
    {
     "name": "stderr",
     "output_type": "stream",
     "text": [
      "/opt/anaconda3/envs/pydeck/lib/python3.9/site-packages/geojsoncontour/utilities/multipoly.py:33: RuntimeWarning: invalid value encountered in divide\n",
      "  return vector / np.linalg.norm(vector)\n"
     ]
    },
    {
     "name": "stdout",
     "output_type": "stream",
     "text": [
      "error\n",
      "error\n"
     ]
    },
    {
     "name": "stderr",
     "output_type": "stream",
     "text": [
      "/opt/anaconda3/envs/pydeck/lib/python3.9/site-packages/geojsoncontour/utilities/multipoly.py:33: RuntimeWarning: invalid value encountered in divide\n",
      "  return vector / np.linalg.norm(vector)\n"
     ]
    },
    {
     "name": "stdout",
     "output_type": "stream",
     "text": [
      "error\n"
     ]
    },
    {
     "name": "stderr",
     "output_type": "stream",
     "text": [
      "/opt/anaconda3/envs/pydeck/lib/python3.9/site-packages/geojsoncontour/utilities/multipoly.py:33: RuntimeWarning: invalid value encountered in divide\n",
      "  return vector / np.linalg.norm(vector)\n"
     ]
    },
    {
     "name": "stdout",
     "output_type": "stream",
     "text": [
      "error\n",
      "error\n"
     ]
    },
    {
     "name": "stderr",
     "output_type": "stream",
     "text": [
      "/opt/anaconda3/envs/pydeck/lib/python3.9/site-packages/geojsoncontour/utilities/multipoly.py:33: RuntimeWarning: invalid value encountered in divide\n",
      "  return vector / np.linalg.norm(vector)\n"
     ]
    },
    {
     "name": "stdout",
     "output_type": "stream",
     "text": [
      "error\n"
     ]
    },
    {
     "name": "stderr",
     "output_type": "stream",
     "text": [
      "/opt/anaconda3/envs/pydeck/lib/python3.9/site-packages/geojsoncontour/utilities/multipoly.py:33: RuntimeWarning: invalid value encountered in divide\n",
      "  return vector / np.linalg.norm(vector)\n"
     ]
    },
    {
     "name": "stdout",
     "output_type": "stream",
     "text": [
      "error\n"
     ]
    },
    {
     "name": "stderr",
     "output_type": "stream",
     "text": [
      "/opt/anaconda3/envs/pydeck/lib/python3.9/site-packages/geojsoncontour/utilities/multipoly.py:33: RuntimeWarning: invalid value encountered in divide\n",
      "  return vector / np.linalg.norm(vector)\n"
     ]
    },
    {
     "name": "stdout",
     "output_type": "stream",
     "text": [
      "error\n",
      "/Volumes/PACIOOS/altimetryjsondaily/altimetrygeo20220406.json\n",
      "/Volumes/PACIOOS/altimetryjsondaily/altimetrygeo20220415.json\n",
      "/Volumes/PACIOOS/altimetryjsondaily/altimetrygeo20220416.json\n",
      "/Volumes/PACIOOS/altimetryjsondaily/altimetrygeo20220417.json\n",
      "/Volumes/PACIOOS/altimetryjsondaily/altimetrygeo20220418.json\n",
      "/Volumes/PACIOOS/altimetryjsondaily/altimetrygeo20220509.json\n",
      "/Volumes/PACIOOS/altimetryjsondaily/altimetrygeo20220510.json\n",
      "/Volumes/PACIOOS/altimetryjsondaily/altimetrygeo20220511.json\n",
      "/Volumes/PACIOOS/altimetryjsondaily/altimetrygeo20220512.json\n",
      "/Volumes/PACIOOS/altimetryjsondaily/altimetrygeo20220513.json\n",
      "/Volumes/PACIOOS/altimetryjsondaily/altimetrygeo20220514.json\n",
      "/Volumes/PACIOOS/altimetryjsondaily/altimetrygeo20220515.json\n",
      "/Volumes/PACIOOS/altimetryjsondaily/altimetrygeo20220516.json\n",
      "/Volumes/PACIOOS/altimetryjsondaily/altimetrygeo20220517.json\n",
      "/Volumes/PACIOOS/altimetryjsondaily/altimetrygeo20220518.json\n",
      "/Volumes/PACIOOS/altimetryjsondaily/altimetrygeo20220519.json\n",
      "/Volumes/PACIOOS/altimetryjsondaily/altimetrygeo20220520.json\n",
      "/Volumes/PACIOOS/altimetryjsondaily/altimetrygeo20220521.json\n",
      "/Volumes/PACIOOS/altimetryjsondaily/altimetrygeo20220522.json\n",
      "/Volumes/PACIOOS/altimetryjsondaily/altimetrygeo20220523.json\n",
      "/Volumes/PACIOOS/altimetryjsondaily/altimetrygeo20220524.json\n",
      "/Volumes/PACIOOS/altimetryjsondaily/altimetrygeo20220525.json\n",
      "/Volumes/PACIOOS/altimetryjsondaily/altimetrygeo20220526.json\n",
      "/Volumes/PACIOOS/altimetryjsondaily/altimetrygeo20220527.json\n",
      "/Volumes/PACIOOS/altimetryjsondaily/altimetrygeo20220528.json\n",
      "/Volumes/PACIOOS/altimetryjsondaily/altimetrygeo20220529.json\n",
      "/Volumes/PACIOOS/altimetryjsondaily/altimetrygeo20220530.json\n",
      "/Volumes/PACIOOS/altimetryjsondaily/altimetrygeo20220531.json\n",
      "/Volumes/PACIOOS/altimetryjsondaily/altimetrygeo20220602.json\n"
     ]
    },
    {
     "name": "stderr",
     "output_type": "stream",
     "text": [
      "/opt/anaconda3/envs/pydeck/lib/python3.9/site-packages/geojsoncontour/utilities/multipoly.py:33: RuntimeWarning: invalid value encountered in divide\n",
      "  return vector / np.linalg.norm(vector)\n"
     ]
    },
    {
     "name": "stdout",
     "output_type": "stream",
     "text": [
      "/Volumes/PACIOOS/altimetryjsondaily/altimetrygeo20220603.json\n",
      "/Volumes/PACIOOS/altimetryjsondaily/altimetrygeo20220604.json\n",
      "/Volumes/PACIOOS/altimetryjsondaily/altimetrygeo20220605.json\n",
      "/Volumes/PACIOOS/altimetryjsondaily/altimetrygeo20220606.json\n",
      "/Volumes/PACIOOS/altimetryjsondaily/altimetrygeo20220608.json\n",
      "/Volumes/PACIOOS/altimetryjsondaily/altimetrygeo20220609.json\n",
      "/Volumes/PACIOOS/altimetryjsondaily/altimetrygeo20220610.json\n",
      "/Volumes/PACIOOS/altimetryjsondaily/altimetrygeo20220611.json\n",
      "/Volumes/PACIOOS/altimetryjsondaily/altimetrygeo20220612.json\n",
      "/Volumes/PACIOOS/altimetryjsondaily/altimetrygeo20220613.json\n",
      "/Volumes/PACIOOS/altimetryjsondaily/altimetrygeo20220614.json\n",
      "/Volumes/PACIOOS/altimetryjsondaily/altimetrygeo20220615.json\n",
      "/Volumes/PACIOOS/altimetryjsondaily/altimetrygeo20220616.json\n",
      "/Volumes/PACIOOS/altimetryjsondaily/altimetrygeo20220617.json\n",
      "/Volumes/PACIOOS/altimetryjsondaily/altimetrygeo20220618.json\n",
      "/Volumes/PACIOOS/altimetryjsondaily/altimetrygeo20220619.json\n",
      "/Volumes/PACIOOS/altimetryjsondaily/altimetrygeo20220620.json\n",
      "/Volumes/PACIOOS/altimetryjsondaily/altimetrygeo20220621.json\n",
      "/Volumes/PACIOOS/altimetryjsondaily/altimetrygeo20220622.json\n",
      "/Volumes/PACIOOS/altimetryjsondaily/altimetrygeo20220623.json\n"
     ]
    },
    {
     "data": {
      "image/png": "[encoded data removed]",
      "text/plain": [
       "<Figure size 640x480 with 1 Axes>"
      ]
     },
     "metadata": {},
     "output_type": "display_data"
    }
   ],
   "source": [
    "folder = '/Volumes/PACIOOS/altimetryjsondaily/'\n",
    "for x in masterxr[\"time\"].unique().tolist():\n",
    "    if \"altimetrygeo\" + pd.to_datetime(x).strftime(\"%Y%m%d\") + \".json\" in os.listdir(folder):\n",
    "        continue\n",
    "    else:\n",
    "        try:\n",
    "            currgeo = getGeoJSON(x,masterxr)\n",
    "            json_object = json.dumps(currgeo, indent=4)\n",
    "            with open(folder+\"altimetrygeo\" + pd.to_datetime(x).strftime(\"%Y%m%d\") + \".json\", \"w\") as outfile:\n",
    "                outfile.write(json_object)\n",
    "            print(folder+\"altimetrygeo\" + pd.to_datetime(x).strftime(\"%Y%m%d\") + \".json\")\n",
    "        except:\n",
    "            print(\"error\")"
   ]
  },
  {
   "cell_type": "code",
   "execution_count": 36,
   "id": "e59d7364",
   "metadata": {},
   "outputs": [
    {
     "data": {
      "text/html": [
       "<div>\n",
       "<style scoped>\n",
       "    .dataframe tbody tr th:only-of-type {\n",
       "        vertical-align: middle;\n",
       "    }\n",
       "\n",
       "    .dataframe tbody tr th {\n",
       "        vertical-align: top;\n",
       "    }\n",
       "\n",
       "    .dataframe thead th {\n",
       "        text-align: right;\n",
       "    }\n",
       "</style>\n",
       "<table border=\"1\" class=\"dataframe\">\n",
       "  <thead>\n",
       "    <tr style=\"text-align: right;\">\n",
       "      <th></th>\n",
       "      <th>time</th>\n",
       "      <th>latitude</th>\n",
       "      <th>longitude</th>\n",
       "      <th>adt</th>\n",
       "    </tr>\n",
       "  </thead>\n",
       "  <tbody>\n",
       "    <tr>\n",
       "      <th>363688</th>\n",
       "      <td>1993-01-01</td>\n",
       "      <td>1.625</td>\n",
       "      <td>129.625</td>\n",
       "      <td>0.8945</td>\n",
       "    </tr>\n",
       "    <tr>\n",
       "      <th>363689</th>\n",
       "      <td>1993-01-01</td>\n",
       "      <td>1.625</td>\n",
       "      <td>129.875</td>\n",
       "      <td>0.9142</td>\n",
       "    </tr>\n",
       "    <tr>\n",
       "      <th>363690</th>\n",
       "      <td>1993-01-01</td>\n",
       "      <td>1.625</td>\n",
       "      <td>130.125</td>\n",
       "      <td>0.9291</td>\n",
       "    </tr>\n",
       "    <tr>\n",
       "      <th>363691</th>\n",
       "      <td>1993-01-01</td>\n",
       "      <td>1.625</td>\n",
       "      <td>130.375</td>\n",
       "      <td>0.9306</td>\n",
       "    </tr>\n",
       "    <tr>\n",
       "      <th>363692</th>\n",
       "      <td>1993-01-01</td>\n",
       "      <td>1.625</td>\n",
       "      <td>130.625</td>\n",
       "      <td>0.9345</td>\n",
       "    </tr>\n",
       "    <tr>\n",
       "      <th>...</th>\n",
       "      <td>...</td>\n",
       "      <td>...</td>\n",
       "      <td>...</td>\n",
       "      <td>...</td>\n",
       "    </tr>\n",
       "    <tr>\n",
       "      <th>388071</th>\n",
       "      <td>2022-06-23</td>\n",
       "      <td>11.375</td>\n",
       "      <td>135.875</td>\n",
       "      <td>1.2896</td>\n",
       "    </tr>\n",
       "    <tr>\n",
       "      <th>388072</th>\n",
       "      <td>2022-06-23</td>\n",
       "      <td>11.375</td>\n",
       "      <td>136.125</td>\n",
       "      <td>1.2976</td>\n",
       "    </tr>\n",
       "    <tr>\n",
       "      <th>388073</th>\n",
       "      <td>2022-06-23</td>\n",
       "      <td>11.375</td>\n",
       "      <td>136.375</td>\n",
       "      <td>1.3016</td>\n",
       "    </tr>\n",
       "    <tr>\n",
       "      <th>388074</th>\n",
       "      <td>2022-06-23</td>\n",
       "      <td>11.375</td>\n",
       "      <td>136.625</td>\n",
       "      <td>1.3044</td>\n",
       "    </tr>\n",
       "    <tr>\n",
       "      <th>388075</th>\n",
       "      <td>2022-06-23</td>\n",
       "      <td>11.375</td>\n",
       "      <td>136.875</td>\n",
       "      <td>1.3095</td>\n",
       "    </tr>\n",
       "  </tbody>\n",
       "</table>\n",
       "<p>12736800 rows × 4 columns</p>\n",
       "</div>"
      ],
      "text/plain": [
       "             time  latitude  longitude     adt\n",
       "363688 1993-01-01     1.625    129.625  0.8945\n",
       "363689 1993-01-01     1.625    129.875  0.9142\n",
       "363690 1993-01-01     1.625    130.125  0.9291\n",
       "363691 1993-01-01     1.625    130.375  0.9306\n",
       "363692 1993-01-01     1.625    130.625  0.9345\n",
       "...           ...       ...        ...     ...\n",
       "388071 2022-06-23    11.375    135.875  1.2896\n",
       "388072 2022-06-23    11.375    136.125  1.2976\n",
       "388073 2022-06-23    11.375    136.375  1.3016\n",
       "388074 2022-06-23    11.375    136.625  1.3044\n",
       "388075 2022-06-23    11.375    136.875  1.3095\n",
       "\n",
       "[12736800 rows x 4 columns]"
      ]
     },
     "execution_count": 36,
     "metadata": {},
     "output_type": "execute_result"
    }
   ],
   "source": [
    "masterxr"
   ]
  },
  {
   "cell_type": "code",
   "execution_count": 41,
   "id": "48a65c0d",
   "metadata": {},
   "outputs": [],
   "source": [
    "testing = masterxr[(masterxr['time'].dt.year == 1993) & (masterxr['time'].dt.month == 1)]"
   ]
  },
  {
   "cell_type": "code",
   "execution_count": 5,
   "id": "90778c72",
   "metadata": {},
   "outputs": [
    {
     "data": {
      "text/html": [
       "<div>\n",
       "<style scoped>\n",
       "    .dataframe tbody tr th:only-of-type {\n",
       "        vertical-align: middle;\n",
       "    }\n",
       "\n",
       "    .dataframe tbody tr th {\n",
       "        vertical-align: top;\n",
       "    }\n",
       "\n",
       "    .dataframe thead th {\n",
       "        text-align: right;\n",
       "    }\n",
       "</style>\n",
       "<table border=\"1\" class=\"dataframe\">\n",
       "  <thead>\n",
       "    <tr style=\"text-align: right;\">\n",
       "      <th></th>\n",
       "      <th>time</th>\n",
       "      <th>latitude</th>\n",
       "      <th>longitude</th>\n",
       "      <th>adt</th>\n",
       "    </tr>\n",
       "  </thead>\n",
       "  <tbody>\n",
       "    <tr>\n",
       "      <th>363688</th>\n",
       "      <td>1993-01-01</td>\n",
       "      <td>1.625</td>\n",
       "      <td>129.625</td>\n",
       "      <td>0.8945</td>\n",
       "    </tr>\n",
       "    <tr>\n",
       "      <th>363689</th>\n",
       "      <td>1993-01-01</td>\n",
       "      <td>1.625</td>\n",
       "      <td>129.875</td>\n",
       "      <td>0.9142</td>\n",
       "    </tr>\n",
       "    <tr>\n",
       "      <th>363690</th>\n",
       "      <td>1993-01-01</td>\n",
       "      <td>1.625</td>\n",
       "      <td>130.125</td>\n",
       "      <td>0.9291</td>\n",
       "    </tr>\n",
       "    <tr>\n",
       "      <th>363691</th>\n",
       "      <td>1993-01-01</td>\n",
       "      <td>1.625</td>\n",
       "      <td>130.375</td>\n",
       "      <td>0.9306</td>\n",
       "    </tr>\n",
       "    <tr>\n",
       "      <th>363692</th>\n",
       "      <td>1993-01-01</td>\n",
       "      <td>1.625</td>\n",
       "      <td>130.625</td>\n",
       "      <td>0.9345</td>\n",
       "    </tr>\n",
       "    <tr>\n",
       "      <th>...</th>\n",
       "      <td>...</td>\n",
       "      <td>...</td>\n",
       "      <td>...</td>\n",
       "      <td>...</td>\n",
       "    </tr>\n",
       "    <tr>\n",
       "      <th>388071</th>\n",
       "      <td>2022-06-23</td>\n",
       "      <td>11.375</td>\n",
       "      <td>135.875</td>\n",
       "      <td>1.2896</td>\n",
       "    </tr>\n",
       "    <tr>\n",
       "      <th>388072</th>\n",
       "      <td>2022-06-23</td>\n",
       "      <td>11.375</td>\n",
       "      <td>136.125</td>\n",
       "      <td>1.2976</td>\n",
       "    </tr>\n",
       "    <tr>\n",
       "      <th>388073</th>\n",
       "      <td>2022-06-23</td>\n",
       "      <td>11.375</td>\n",
       "      <td>136.375</td>\n",
       "      <td>1.3016</td>\n",
       "    </tr>\n",
       "    <tr>\n",
       "      <th>388074</th>\n",
       "      <td>2022-06-23</td>\n",
       "      <td>11.375</td>\n",
       "      <td>136.625</td>\n",
       "      <td>1.3044</td>\n",
       "    </tr>\n",
       "    <tr>\n",
       "      <th>388075</th>\n",
       "      <td>2022-06-23</td>\n",
       "      <td>11.375</td>\n",
       "      <td>136.875</td>\n",
       "      <td>1.3095</td>\n",
       "    </tr>\n",
       "  </tbody>\n",
       "</table>\n",
       "<p>12736800 rows × 4 columns</p>\n",
       "</div>"
      ],
      "text/plain": [
       "             time  latitude  longitude     adt\n",
       "363688 1993-01-01     1.625    129.625  0.8945\n",
       "363689 1993-01-01     1.625    129.875  0.9142\n",
       "363690 1993-01-01     1.625    130.125  0.9291\n",
       "363691 1993-01-01     1.625    130.375  0.9306\n",
       "363692 1993-01-01     1.625    130.625  0.9345\n",
       "...           ...       ...        ...     ...\n",
       "388071 2022-06-23    11.375    135.875  1.2896\n",
       "388072 2022-06-23    11.375    136.125  1.2976\n",
       "388073 2022-06-23    11.375    136.375  1.3016\n",
       "388074 2022-06-23    11.375    136.625  1.3044\n",
       "388075 2022-06-23    11.375    136.875  1.3095\n",
       "\n",
       "[12736800 rows x 4 columns]"
      ]
     },
     "execution_count": 5,
     "metadata": {},
     "output_type": "execute_result"
    }
   ],
   "source": [
    "masterxr"
   ]
  },
  {
   "cell_type": "code",
   "execution_count": 6,
   "id": "0f82d326",
   "metadata": {},
   "outputs": [],
   "source": [
    "masterxr.to_csv('altimetry20220623.csv',index=False)"
   ]
  },
  {
   "cell_type": "code",
   "execution_count": null,
   "id": "08126062",
   "metadata": {},
   "outputs": [],
   "source": []
  }
 ],
 "metadata": {
  "kernelspec": {
   "display_name": "Python 3 (ipykernel)",
   "language": "python",
   "name": "python3"
  },
  "language_info": {
   "codemirror_mode": {
    "name": "ipython",
    "version": 3
   },
   "file_extension": ".py",
   "mimetype": "text/x-python",
   "name": "python",
   "nbconvert_exporter": "python",
   "pygments_lexer": "ipython3",
   "version": "3.9.16"
  }
 },
 "nbformat": 4,
 "nbformat_minor": 5
}
