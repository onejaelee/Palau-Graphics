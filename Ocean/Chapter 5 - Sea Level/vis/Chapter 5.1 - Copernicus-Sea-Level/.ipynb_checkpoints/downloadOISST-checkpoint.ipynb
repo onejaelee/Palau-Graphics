{
 "cells": [
  {
   "cell_type": "code",
   "execution_count": 5,
   "id": "f77dd661",
   "metadata": {},
   "outputs": [],
   "source": [
    "import requests\n",
    "import re\n",
    "import urllib \n",
    "import os"
   ]
  },
  {
   "cell_type": "markdown",
   "id": "f9835329",
   "metadata": {},
   "source": [
    "## Source of NOAA OI-SST Monthly\n",
    "http://apdrc.soest.hawaii.edu/erddap/griddap/hawaii_soest_31a3_72d5_401e.html"
   ]
  },
  {
   "cell_type": "code",
   "execution_count": 3,
   "id": "150c2bf7",
   "metadata": {},
   "outputs": [],
   "source": [
    "#Download directory\n",
    "download_folder = './oisst/'"
   ]
  },
  {
   "cell_type": "code",
   "execution_count": null,
   "id": "77ad5646",
   "metadata": {},
   "outputs": [],
   "source": [
    "if not os.path.exists(directory):\n",
    "    os.makedirs(directory)"
   ]
  },
  {
   "cell_type": "code",
   "execution_count": 4,
   "id": "46d751ef",
   "metadata": {},
   "outputs": [],
   "source": [
    "oisst_download = \"http://apdrc.soest.hawaii.edu/erddap/griddap/hawaii_soest_31a3_72d5_401e.nc?sst[(1854-01-15):1:(2023-12-15T00:00:00Z)][(1.5214):1:(11.6587)][(129.4088):1:(137.0541)],ssta[(1854-01-15):1:(2023-12-15T00:00:00Z)][(1.5214):1:(11.6587)][(129.4088):1:(137.0541)]\""
   ]
  },
  {
   "cell_type": "code",
   "execution_count": null,
   "id": "96dc0d40",
   "metadata": {},
   "outputs": [],
   "source": [
    "urllib.request.urlretrieve(oisst_download, download_folder + 'hawaii_soest_f377_d8b2_5d80Palau_RIM.nc')"
   ]
  }
 ],
 "metadata": {
  "kernelspec": {
   "display_name": "Python 3 (ipykernel)",
   "language": "python",
   "name": "python3"
  },
  "language_info": {
   "codemirror_mode": {
    "name": "ipython",
    "version": 3
   },
   "file_extension": ".py",
   "mimetype": "text/x-python",
   "name": "python",
   "nbconvert_exporter": "python",
   "pygments_lexer": "ipython3",
   "version": "3.9.16"
  }
 },
 "nbformat": 4,
 "nbformat_minor": 5
}
