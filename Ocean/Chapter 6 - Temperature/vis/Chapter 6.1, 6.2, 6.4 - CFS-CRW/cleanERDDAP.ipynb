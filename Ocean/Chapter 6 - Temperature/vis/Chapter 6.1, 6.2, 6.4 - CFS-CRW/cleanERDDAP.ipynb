{
 "cells": [
  {
   "cell_type": "code",
   "execution_count": 18,
   "id": "d4b2d0e6",
   "metadata": {},
   "outputs": [],
   "source": [
    "import os\n",
    "import xarray as xr\n",
    "import geopandas as gpd\n",
    "from shapely.geometry import Point\n",
    "import pandas as pd\n",
    "import numpy as np"
   ]
  },
  {
   "cell_type": "code",
   "execution_count": 19,
   "id": "64c8e962",
   "metadata": {},
   "outputs": [],
   "source": [
    "import timeit"
   ]
  },
  {
   "cell_type": "code",
   "execution_count": 20,
   "id": "77f2a582",
   "metadata": {},
   "outputs": [],
   "source": [
    "df_eez = gpd.read_file('../palauEEZ.geojson')\n",
    "eez = df_eez['geometry'].values[0]"
   ]
  },
  {
   "cell_type": "code",
   "execution_count": 21,
   "id": "6a8952e9",
   "metadata": {},
   "outputs": [],
   "source": [
    "def palau_eez(df):\n",
    "    in_palau = []\n",
    "    longlat = df[['longitude','latitude']].values.tolist()\n",
    "    for x in longlat:\n",
    "        point = Point(x[0],x[1])\n",
    "        if eez.contains(point) or point.within(eez):\n",
    "            in_palau.append((x[0],x[1]))\n",
    "    return df[df[['longitude', 'latitude']].apply(tuple, axis=1).isin(in_palau)]"
   ]
  },
  {
   "cell_type": "code",
   "execution_count": 22,
   "id": "14d988dc",
   "metadata": {},
   "outputs": [],
   "source": [
    "def get_lat_name(df):\n",
    "    for lat_name in ['lat', 'latitude']:\n",
    "        if lat_name in df.columns.values.tolist():\n",
    "            return lat_name\n",
    "    raise RuntimeError(\"Couldn't find a latitude coordinate\")\n",
    "    \n",
    "def get_lon_name(df):\n",
    "    for lon_name in ['lon','long','longitude']:\n",
    "        if lon_name in df.columns.values.tolist():\n",
    "            return lon_name\n",
    "    raise RuntimeError(\"Couldn't find a latitude coordinate\")\n",
    "#currently slices by year\n",
    "def compute_mean(df):\n",
    "    df_list = []\n",
    "    for year in df['year'].unique().tolist():\n",
    "        sub = global_mean(df[df['year'] == year])\n",
    "        sub['year'] = year\n",
    "        df_list.append(sub.set_index([get_lat_name(df), get_lon_name(df),'year']))\n",
    "    result = pd.concat(df_list)\n",
    "    return result"
   ]
  },
  {
   "cell_type": "code",
   "execution_count": 23,
   "id": "41a56106",
   "metadata": {},
   "outputs": [],
   "source": [
    "def remove_fillvalue(df):\n",
    "    df = df[df['CRW_DHW'] != -32768]\n",
    "    df = df[df['CRW_DHW_mask'] != -5]\n",
    "    \n",
    "    df = df[df['CRW_HOTSPOT'] != -32768]\n",
    "    df = df[df['CRW_HOTSPOT_mask'] != -5]\n",
    "    \n",
    "    df = df[df['CRW_SSTANOMALY'] != -32768]\n",
    "    df = df[df['CRW_SSTANOMALY_mask'] != -5]\n",
    "    \n",
    "    df = df[df['CRW_BAA_mask'] != -5]\n",
    "    df = df[df['CRW_BAA_mask'] != -5]\n",
    "    \n",
    "    df = df[df['CRW_BAA_7D_MAX'] != -5]\n",
    "    df = df[df['CRW_BAA_7D_MAX_mask'] != -5]\n",
    "    \n",
    "    df = df[df['CRW_SST'] != -32768]\n",
    "    return df\n",
    "    "
   ]
  },
  {
   "cell_type": "code",
   "execution_count": 24,
   "id": "ab16cfe8",
   "metadata": {},
   "outputs": [],
   "source": [
    "def filter_box(df):\n",
    "    if \"lat\" in df:\n",
    "        filtered = df[(df[\"lat\"]>= 0.99)&\n",
    "                                    (df[\"lat\"]<=14.01)&(df[\"lon\"]<=140.51)&\n",
    "                                    (df[\"lon\"]>=127.49)]\n",
    "    else:\n",
    "        filtered = df[(df[\"latitude\"]>= 0.99)&\n",
    "                                    (df[\"latitude\"]<=14.01)&(df[\"longitude\"]<=140.51)&\n",
    "                                    (df[\"longitude\"]>=127.49)]\n",
    "    return filtered"
   ]
  },
  {
   "cell_type": "code",
   "execution_count": 12,
   "id": "a89ac5c6",
   "metadata": {},
   "outputs": [],
   "source": [
    "CRW_folder = \"./CRW/\""
   ]
  },
  {
   "cell_type": "code",
   "execution_count": 13,
   "id": "3d0ce242",
   "metadata": {},
   "outputs": [],
   "source": [
    "CRW = os.listdir(\"./CRW\")"
   ]
  },
  {
   "cell_type": "code",
   "execution_count": 14,
   "id": "0f75d55d",
   "metadata": {},
   "outputs": [],
   "source": [
    "CRW.sort()"
   ]
  },
  {
   "cell_type": "code",
   "execution_count": 16,
   "id": "a86c343b",
   "metadata": {},
   "outputs": [],
   "source": [
    "if not os.path.exists(\"./CRW/pkl\"):\n",
    "    os.makedirs(\"./CRW/pkl\")\n",
    "    \n",
    "if not os.path.exists(\"./CRW/csv\"):\n",
    "    os.makedirs(\"./CRW/csv\")\n",
    "    \n",
    "if not os.path.exists(\"./CRW/average\"):\n",
    "    os.makedirs(\"./CRW/average\")\n",
    "\n",
    "if not os.path.exists(\"./CRW/average/pkl\"):\n",
    "    os.makedirs(\"./CRW/average/pkl\")\n",
    "\n",
    "if not os.path.exists(\"./CRW/average/csv\"):\n",
    "    os.makedirs(\"./CRW/average/csv\")\n",
    "\n",
    "if not os.path.exists(\"./CRW/box/pkl\"):\n",
    "    os.makedirs(\"./CRW/box/pkl\")\n",
    "if not os.path.exists(\"./CRW/box/pkl\"):\n",
    "    os.makedirs(\"./CRW/box/pkl\")"
   ]
  },
  {
   "cell_type": "code",
   "execution_count": 220,
   "id": "af98d69e",
   "metadata": {},
   "outputs": [
    {
     "name": "stderr",
     "output_type": "stream",
     "text": [
      "/var/folders/d6/w300s4cx3qj10pqdcy5859bc0000gn/T/ipykernel_34789/3893183370.py:19: FutureWarning: The default value of numeric_only in DataFrameGroupBy.mean is deprecated. In a future version, numeric_only will default to False. Either specify numeric_only or select only columns which should be valid for the function.\n",
      "  current_year_df.groupby(['latitude', 'longitude','year']).mean()\n",
      "/var/folders/d6/w300s4cx3qj10pqdcy5859bc0000gn/T/ipykernel_34789/3893183370.py:36: FutureWarning: The default value of numeric_only in DataFrameGroupBy.mean is deprecated. In a future version, numeric_only will default to False. Either specify numeric_only or select only columns which should be valid for the function.\n",
      "  current_year_average = current_year_df.groupby(['latitude', 'longitude','year']).mean()\n"
     ]
    },
    {
     "name": "stdout",
     "output_type": "stream",
     "text": [
      "Time to execute year 2003 119.97671516700211\n"
     ]
    },
    {
     "name": "stderr",
     "output_type": "stream",
     "text": [
      "/var/folders/d6/w300s4cx3qj10pqdcy5859bc0000gn/T/ipykernel_34789/3893183370.py:19: FutureWarning: The default value of numeric_only in DataFrameGroupBy.mean is deprecated. In a future version, numeric_only will default to False. Either specify numeric_only or select only columns which should be valid for the function.\n",
      "  current_year_df.groupby(['latitude', 'longitude','year']).mean()\n",
      "/var/folders/d6/w300s4cx3qj10pqdcy5859bc0000gn/T/ipykernel_34789/3893183370.py:36: FutureWarning: The default value of numeric_only in DataFrameGroupBy.mean is deprecated. In a future version, numeric_only will default to False. Either specify numeric_only or select only columns which should be valid for the function.\n",
      "  current_year_average = current_year_df.groupby(['latitude', 'longitude','year']).mean()\n"
     ]
    },
    {
     "name": "stdout",
     "output_type": "stream",
     "text": [
      "Time to execute year 2004 120.30314258300132\n"
     ]
    },
    {
     "name": "stderr",
     "output_type": "stream",
     "text": [
      "/var/folders/d6/w300s4cx3qj10pqdcy5859bc0000gn/T/ipykernel_34789/3893183370.py:19: FutureWarning: The default value of numeric_only in DataFrameGroupBy.mean is deprecated. In a future version, numeric_only will default to False. Either specify numeric_only or select only columns which should be valid for the function.\n",
      "  current_year_df.groupby(['latitude', 'longitude','year']).mean()\n",
      "/var/folders/d6/w300s4cx3qj10pqdcy5859bc0000gn/T/ipykernel_34789/3893183370.py:36: FutureWarning: The default value of numeric_only in DataFrameGroupBy.mean is deprecated. In a future version, numeric_only will default to False. Either specify numeric_only or select only columns which should be valid for the function.\n",
      "  current_year_average = current_year_df.groupby(['latitude', 'longitude','year']).mean()\n"
     ]
    },
    {
     "name": "stdout",
     "output_type": "stream",
     "text": [
      "Time to execute year 2005 118.86364662499909\n"
     ]
    },
    {
     "name": "stderr",
     "output_type": "stream",
     "text": [
      "/var/folders/d6/w300s4cx3qj10pqdcy5859bc0000gn/T/ipykernel_34789/3893183370.py:19: FutureWarning: The default value of numeric_only in DataFrameGroupBy.mean is deprecated. In a future version, numeric_only will default to False. Either specify numeric_only or select only columns which should be valid for the function.\n",
      "  current_year_df.groupby(['latitude', 'longitude','year']).mean()\n",
      "/var/folders/d6/w300s4cx3qj10pqdcy5859bc0000gn/T/ipykernel_34789/3893183370.py:36: FutureWarning: The default value of numeric_only in DataFrameGroupBy.mean is deprecated. In a future version, numeric_only will default to False. Either specify numeric_only or select only columns which should be valid for the function.\n",
      "  current_year_average = current_year_df.groupby(['latitude', 'longitude','year']).mean()\n"
     ]
    },
    {
     "name": "stdout",
     "output_type": "stream",
     "text": [
      "Time to execute year 2006 118.29341299999942\n"
     ]
    },
    {
     "name": "stderr",
     "output_type": "stream",
     "text": [
      "/var/folders/d6/w300s4cx3qj10pqdcy5859bc0000gn/T/ipykernel_34789/3893183370.py:19: FutureWarning: The default value of numeric_only in DataFrameGroupBy.mean is deprecated. In a future version, numeric_only will default to False. Either specify numeric_only or select only columns which should be valid for the function.\n",
      "  current_year_df.groupby(['latitude', 'longitude','year']).mean()\n",
      "/var/folders/d6/w300s4cx3qj10pqdcy5859bc0000gn/T/ipykernel_34789/3893183370.py:36: FutureWarning: The default value of numeric_only in DataFrameGroupBy.mean is deprecated. In a future version, numeric_only will default to False. Either specify numeric_only or select only columns which should be valid for the function.\n",
      "  current_year_average = current_year_df.groupby(['latitude', 'longitude','year']).mean()\n"
     ]
    },
    {
     "name": "stdout",
     "output_type": "stream",
     "text": [
      "Time to execute year 2007 118.64637416700134\n"
     ]
    },
    {
     "name": "stderr",
     "output_type": "stream",
     "text": [
      "/var/folders/d6/w300s4cx3qj10pqdcy5859bc0000gn/T/ipykernel_34789/3893183370.py:19: FutureWarning: The default value of numeric_only in DataFrameGroupBy.mean is deprecated. In a future version, numeric_only will default to False. Either specify numeric_only or select only columns which should be valid for the function.\n",
      "  current_year_df.groupby(['latitude', 'longitude','year']).mean()\n",
      "/var/folders/d6/w300s4cx3qj10pqdcy5859bc0000gn/T/ipykernel_34789/3893183370.py:36: FutureWarning: The default value of numeric_only in DataFrameGroupBy.mean is deprecated. In a future version, numeric_only will default to False. Either specify numeric_only or select only columns which should be valid for the function.\n",
      "  current_year_average = current_year_df.groupby(['latitude', 'longitude','year']).mean()\n"
     ]
    },
    {
     "name": "stdout",
     "output_type": "stream",
     "text": [
      "Time to execute year 2008 119.44359858399912\n"
     ]
    },
    {
     "name": "stderr",
     "output_type": "stream",
     "text": [
      "/var/folders/d6/w300s4cx3qj10pqdcy5859bc0000gn/T/ipykernel_34789/3893183370.py:19: FutureWarning: The default value of numeric_only in DataFrameGroupBy.mean is deprecated. In a future version, numeric_only will default to False. Either specify numeric_only or select only columns which should be valid for the function.\n",
      "  current_year_df.groupby(['latitude', 'longitude','year']).mean()\n",
      "/var/folders/d6/w300s4cx3qj10pqdcy5859bc0000gn/T/ipykernel_34789/3893183370.py:36: FutureWarning: The default value of numeric_only in DataFrameGroupBy.mean is deprecated. In a future version, numeric_only will default to False. Either specify numeric_only or select only columns which should be valid for the function.\n",
      "  current_year_average = current_year_df.groupby(['latitude', 'longitude','year']).mean()\n"
     ]
    },
    {
     "name": "stdout",
     "output_type": "stream",
     "text": [
      "Time to execute year 2009 118.69125995899958\n"
     ]
    },
    {
     "name": "stderr",
     "output_type": "stream",
     "text": [
      "/var/folders/d6/w300s4cx3qj10pqdcy5859bc0000gn/T/ipykernel_34789/3893183370.py:19: FutureWarning: The default value of numeric_only in DataFrameGroupBy.mean is deprecated. In a future version, numeric_only will default to False. Either specify numeric_only or select only columns which should be valid for the function.\n",
      "  current_year_df.groupby(['latitude', 'longitude','year']).mean()\n",
      "/var/folders/d6/w300s4cx3qj10pqdcy5859bc0000gn/T/ipykernel_34789/3893183370.py:36: FutureWarning: The default value of numeric_only in DataFrameGroupBy.mean is deprecated. In a future version, numeric_only will default to False. Either specify numeric_only or select only columns which should be valid for the function.\n",
      "  current_year_average = current_year_df.groupby(['latitude', 'longitude','year']).mean()\n"
     ]
    },
    {
     "name": "stdout",
     "output_type": "stream",
     "text": [
      "Time to execute year 2010 121.62332666600196\n"
     ]
    },
    {
     "name": "stderr",
     "output_type": "stream",
     "text": [
      "/var/folders/d6/w300s4cx3qj10pqdcy5859bc0000gn/T/ipykernel_34789/3893183370.py:19: FutureWarning: The default value of numeric_only in DataFrameGroupBy.mean is deprecated. In a future version, numeric_only will default to False. Either specify numeric_only or select only columns which should be valid for the function.\n",
      "  current_year_df.groupby(['latitude', 'longitude','year']).mean()\n",
      "/var/folders/d6/w300s4cx3qj10pqdcy5859bc0000gn/T/ipykernel_34789/3893183370.py:36: FutureWarning: The default value of numeric_only in DataFrameGroupBy.mean is deprecated. In a future version, numeric_only will default to False. Either specify numeric_only or select only columns which should be valid for the function.\n",
      "  current_year_average = current_year_df.groupby(['latitude', 'longitude','year']).mean()\n"
     ]
    },
    {
     "name": "stdout",
     "output_type": "stream",
     "text": [
      "Time to execute year 2011 119.24290670900155\n"
     ]
    },
    {
     "name": "stderr",
     "output_type": "stream",
     "text": [
      "/var/folders/d6/w300s4cx3qj10pqdcy5859bc0000gn/T/ipykernel_34789/3893183370.py:19: FutureWarning: The default value of numeric_only in DataFrameGroupBy.mean is deprecated. In a future version, numeric_only will default to False. Either specify numeric_only or select only columns which should be valid for the function.\n",
      "  current_year_df.groupby(['latitude', 'longitude','year']).mean()\n",
      "/var/folders/d6/w300s4cx3qj10pqdcy5859bc0000gn/T/ipykernel_34789/3893183370.py:36: FutureWarning: The default value of numeric_only in DataFrameGroupBy.mean is deprecated. In a future version, numeric_only will default to False. Either specify numeric_only or select only columns which should be valid for the function.\n",
      "  current_year_average = current_year_df.groupby(['latitude', 'longitude','year']).mean()\n"
     ]
    },
    {
     "name": "stdout",
     "output_type": "stream",
     "text": [
      "Time to execute year 2012 118.5521632500022\n"
     ]
    },
    {
     "name": "stderr",
     "output_type": "stream",
     "text": [
      "/var/folders/d6/w300s4cx3qj10pqdcy5859bc0000gn/T/ipykernel_34789/3893183370.py:19: FutureWarning: The default value of numeric_only in DataFrameGroupBy.mean is deprecated. In a future version, numeric_only will default to False. Either specify numeric_only or select only columns which should be valid for the function.\n",
      "  current_year_df.groupby(['latitude', 'longitude','year']).mean()\n",
      "/var/folders/d6/w300s4cx3qj10pqdcy5859bc0000gn/T/ipykernel_34789/3893183370.py:36: FutureWarning: The default value of numeric_only in DataFrameGroupBy.mean is deprecated. In a future version, numeric_only will default to False. Either specify numeric_only or select only columns which should be valid for the function.\n",
      "  current_year_average = current_year_df.groupby(['latitude', 'longitude','year']).mean()\n"
     ]
    },
    {
     "name": "stdout",
     "output_type": "stream",
     "text": [
      "Time to execute year 2013 119.64235637499951\n"
     ]
    },
    {
     "name": "stderr",
     "output_type": "stream",
     "text": [
      "/var/folders/d6/w300s4cx3qj10pqdcy5859bc0000gn/T/ipykernel_34789/3893183370.py:19: FutureWarning: The default value of numeric_only in DataFrameGroupBy.mean is deprecated. In a future version, numeric_only will default to False. Either specify numeric_only or select only columns which should be valid for the function.\n",
      "  current_year_df.groupby(['latitude', 'longitude','year']).mean()\n",
      "/var/folders/d6/w300s4cx3qj10pqdcy5859bc0000gn/T/ipykernel_34789/3893183370.py:36: FutureWarning: The default value of numeric_only in DataFrameGroupBy.mean is deprecated. In a future version, numeric_only will default to False. Either specify numeric_only or select only columns which should be valid for the function.\n",
      "  current_year_average = current_year_df.groupby(['latitude', 'longitude','year']).mean()\n"
     ]
    },
    {
     "name": "stdout",
     "output_type": "stream",
     "text": [
      "Time to execute year 2014 119.60962350000045\n"
     ]
    },
    {
     "name": "stderr",
     "output_type": "stream",
     "text": [
      "/var/folders/d6/w300s4cx3qj10pqdcy5859bc0000gn/T/ipykernel_34789/3893183370.py:19: FutureWarning: The default value of numeric_only in DataFrameGroupBy.mean is deprecated. In a future version, numeric_only will default to False. Either specify numeric_only or select only columns which should be valid for the function.\n",
      "  current_year_df.groupby(['latitude', 'longitude','year']).mean()\n",
      "/var/folders/d6/w300s4cx3qj10pqdcy5859bc0000gn/T/ipykernel_34789/3893183370.py:36: FutureWarning: The default value of numeric_only in DataFrameGroupBy.mean is deprecated. In a future version, numeric_only will default to False. Either specify numeric_only or select only columns which should be valid for the function.\n",
      "  current_year_average = current_year_df.groupby(['latitude', 'longitude','year']).mean()\n"
     ]
    },
    {
     "name": "stdout",
     "output_type": "stream",
     "text": [
      "Time to execute year 2015 118.29077241599953\n"
     ]
    },
    {
     "name": "stderr",
     "output_type": "stream",
     "text": [
      "/var/folders/d6/w300s4cx3qj10pqdcy5859bc0000gn/T/ipykernel_34789/3893183370.py:19: FutureWarning: The default value of numeric_only in DataFrameGroupBy.mean is deprecated. In a future version, numeric_only will default to False. Either specify numeric_only or select only columns which should be valid for the function.\n",
      "  current_year_df.groupby(['latitude', 'longitude','year']).mean()\n",
      "/var/folders/d6/w300s4cx3qj10pqdcy5859bc0000gn/T/ipykernel_34789/3893183370.py:36: FutureWarning: The default value of numeric_only in DataFrameGroupBy.mean is deprecated. In a future version, numeric_only will default to False. Either specify numeric_only or select only columns which should be valid for the function.\n",
      "  current_year_average = current_year_df.groupby(['latitude', 'longitude','year']).mean()\n"
     ]
    },
    {
     "name": "stdout",
     "output_type": "stream",
     "text": [
      "Time to execute year 2016 121.21148483300203\n"
     ]
    },
    {
     "name": "stderr",
     "output_type": "stream",
     "text": [
      "/var/folders/d6/w300s4cx3qj10pqdcy5859bc0000gn/T/ipykernel_34789/3893183370.py:19: FutureWarning: The default value of numeric_only in DataFrameGroupBy.mean is deprecated. In a future version, numeric_only will default to False. Either specify numeric_only or select only columns which should be valid for the function.\n",
      "  current_year_df.groupby(['latitude', 'longitude','year']).mean()\n",
      "/var/folders/d6/w300s4cx3qj10pqdcy5859bc0000gn/T/ipykernel_34789/3893183370.py:36: FutureWarning: The default value of numeric_only in DataFrameGroupBy.mean is deprecated. In a future version, numeric_only will default to False. Either specify numeric_only or select only columns which should be valid for the function.\n",
      "  current_year_average = current_year_df.groupby(['latitude', 'longitude','year']).mean()\n"
     ]
    },
    {
     "name": "stdout",
     "output_type": "stream",
     "text": [
      "Time to execute year 2017 121.56302841599972\n"
     ]
    },
    {
     "name": "stderr",
     "output_type": "stream",
     "text": [
      "/var/folders/d6/w300s4cx3qj10pqdcy5859bc0000gn/T/ipykernel_34789/3893183370.py:19: FutureWarning: The default value of numeric_only in DataFrameGroupBy.mean is deprecated. In a future version, numeric_only will default to False. Either specify numeric_only or select only columns which should be valid for the function.\n",
      "  current_year_df.groupby(['latitude', 'longitude','year']).mean()\n",
      "/var/folders/d6/w300s4cx3qj10pqdcy5859bc0000gn/T/ipykernel_34789/3893183370.py:36: FutureWarning: The default value of numeric_only in DataFrameGroupBy.mean is deprecated. In a future version, numeric_only will default to False. Either specify numeric_only or select only columns which should be valid for the function.\n",
      "  current_year_average = current_year_df.groupby(['latitude', 'longitude','year']).mean()\n"
     ]
    },
    {
     "name": "stdout",
     "output_type": "stream",
     "text": [
      "Time to execute year 2018 120.20655404200079\n"
     ]
    },
    {
     "name": "stderr",
     "output_type": "stream",
     "text": [
      "/var/folders/d6/w300s4cx3qj10pqdcy5859bc0000gn/T/ipykernel_34789/3893183370.py:19: FutureWarning: The default value of numeric_only in DataFrameGroupBy.mean is deprecated. In a future version, numeric_only will default to False. Either specify numeric_only or select only columns which should be valid for the function.\n",
      "  current_year_df.groupby(['latitude', 'longitude','year']).mean()\n",
      "/var/folders/d6/w300s4cx3qj10pqdcy5859bc0000gn/T/ipykernel_34789/3893183370.py:36: FutureWarning: The default value of numeric_only in DataFrameGroupBy.mean is deprecated. In a future version, numeric_only will default to False. Either specify numeric_only or select only columns which should be valid for the function.\n",
      "  current_year_average = current_year_df.groupby(['latitude', 'longitude','year']).mean()\n"
     ]
    },
    {
     "name": "stdout",
     "output_type": "stream",
     "text": [
      "Time to execute year 2019 119.7363003749997\n"
     ]
    },
    {
     "name": "stderr",
     "output_type": "stream",
     "text": [
      "/var/folders/d6/w300s4cx3qj10pqdcy5859bc0000gn/T/ipykernel_34789/3893183370.py:19: FutureWarning: The default value of numeric_only in DataFrameGroupBy.mean is deprecated. In a future version, numeric_only will default to False. Either specify numeric_only or select only columns which should be valid for the function.\n",
      "  current_year_df.groupby(['latitude', 'longitude','year']).mean()\n",
      "/var/folders/d6/w300s4cx3qj10pqdcy5859bc0000gn/T/ipykernel_34789/3893183370.py:36: FutureWarning: The default value of numeric_only in DataFrameGroupBy.mean is deprecated. In a future version, numeric_only will default to False. Either specify numeric_only or select only columns which should be valid for the function.\n",
      "  current_year_average = current_year_df.groupby(['latitude', 'longitude','year']).mean()\n"
     ]
    },
    {
     "name": "stdout",
     "output_type": "stream",
     "text": [
      "Time to execute year 2020 121.21571858300013\n"
     ]
    },
    {
     "name": "stderr",
     "output_type": "stream",
     "text": [
      "/var/folders/d6/w300s4cx3qj10pqdcy5859bc0000gn/T/ipykernel_34789/3893183370.py:19: FutureWarning: The default value of numeric_only in DataFrameGroupBy.mean is deprecated. In a future version, numeric_only will default to False. Either specify numeric_only or select only columns which should be valid for the function.\n",
      "  current_year_df.groupby(['latitude', 'longitude','year']).mean()\n",
      "/var/folders/d6/w300s4cx3qj10pqdcy5859bc0000gn/T/ipykernel_34789/3893183370.py:36: FutureWarning: The default value of numeric_only in DataFrameGroupBy.mean is deprecated. In a future version, numeric_only will default to False. Either specify numeric_only or select only columns which should be valid for the function.\n",
      "  current_year_average = current_year_df.groupby(['latitude', 'longitude','year']).mean()\n"
     ]
    },
    {
     "name": "stdout",
     "output_type": "stream",
     "text": [
      "Time to execute year 2021 121.55780650000088\n"
     ]
    },
    {
     "name": "stderr",
     "output_type": "stream",
     "text": [
      "/var/folders/d6/w300s4cx3qj10pqdcy5859bc0000gn/T/ipykernel_34789/3893183370.py:19: FutureWarning: The default value of numeric_only in DataFrameGroupBy.mean is deprecated. In a future version, numeric_only will default to False. Either specify numeric_only or select only columns which should be valid for the function.\n",
      "  current_year_df.groupby(['latitude', 'longitude','year']).mean()\n",
      "/var/folders/d6/w300s4cx3qj10pqdcy5859bc0000gn/T/ipykernel_34789/3893183370.py:36: FutureWarning: The default value of numeric_only in DataFrameGroupBy.mean is deprecated. In a future version, numeric_only will default to False. Either specify numeric_only or select only columns which should be valid for the function.\n",
      "  current_year_average = current_year_df.groupby(['latitude', 'longitude','year']).mean()\n"
     ]
    },
    {
     "name": "stdout",
     "output_type": "stream",
     "text": [
      "Time to execute year 2022 121.40824312499899\n"
     ]
    },
    {
     "name": "stderr",
     "output_type": "stream",
     "text": [
      "/var/folders/d6/w300s4cx3qj10pqdcy5859bc0000gn/T/ipykernel_34789/3893183370.py:19: FutureWarning: The default value of numeric_only in DataFrameGroupBy.mean is deprecated. In a future version, numeric_only will default to False. Either specify numeric_only or select only columns which should be valid for the function.\n",
      "  current_year_df.groupby(['latitude', 'longitude','year']).mean()\n",
      "/var/folders/d6/w300s4cx3qj10pqdcy5859bc0000gn/T/ipykernel_34789/3893183370.py:36: FutureWarning: The default value of numeric_only in DataFrameGroupBy.mean is deprecated. In a future version, numeric_only will default to False. Either specify numeric_only or select only columns which should be valid for the function.\n",
      "  current_year_average = current_year_df.groupby(['latitude', 'longitude','year']).mean()\n"
     ]
    },
    {
     "name": "stdout",
     "output_type": "stream",
     "text": [
      "Time to execute year 2023 62.916370499999175\n"
     ]
    }
   ],
   "source": [
    "for y in range(1985,2023+1):\n",
    "# for y in range(2003,2023+1):\n",
    "\n",
    "    start_time = timeit.default_timer()\n",
    "    \n",
    "    current_year = [x for x in CRW if str(y) in x]\n",
    "    current_year.sort()\n",
    "    \n",
    "    current_year_df_list = []\n",
    "    for filename in current_year:\n",
    "        ds = xr.open_dataset(CRW_folder+filename)\n",
    "        df = ds.to_dataframe()\n",
    "        current_year_df_list.append(df)\n",
    "    current_year_df = pd.concat(current_year_df_list)\n",
    "    current_year_df = current_year_df.reset_index().drop_duplicates()\n",
    "    current_year_df['year'] = current_year_df['time'].dt.year\n",
    "    current_year_df = current_year_df[current_year_df['year']==y]\n",
    "    \n",
    "    \n",
    "    current_year_df = remove_fillvalue(current_year_df)\n",
    "    #Not done to save time, but necessary if you need to filter the raw data and not only the averages\n",
    "#     current_year_df = palau_eez(current_year_df)\n",
    "    current_year_df.to_pickle(\"./CRW/pkl/\"+str(y)+\".pkl\")\n",
    "    current_year_df.to_csv(\"./CRW/csv/\"+str(y)+\".csv\")\n",
    "    \n",
    "    BAA = current_year_df[['year','latitude','longitude','CRW_BAA',\"CRW_BAA_7D_MAX\"]]\n",
    "#     BAA_mode = BAA.groupby(['year','latitude','longitude']).agg(pd.Series.mode)\n",
    "    BAA_mode = BAA.groupby(['year','latitude','longitude']).agg(lambda x: max(pd.Series.mode(x).to_list()) if len(pd.Series.mode(x).to_list()) > 0 else np.nan)\n",
    "    BAA_sum = BAA.groupby(['year','latitude','longitude']).sum()\n",
    "    BAA_max= BAA.groupby(['year','latitude','longitude'])['CRW_BAA'].max().to_frame()\n",
    "\n",
    "    BAA_mode = BAA_mode.reset_index()\n",
    "    BAA_sum = BAA_sum.reset_index()\n",
    "    BAA_max = BAA_max.reset_index()\n",
    "    \n",
    "    current_year_average = current_year_df.groupby(['latitude', 'longitude','year']).mean()\n",
    "    current_year_average = current_year_average.reset_index()\n",
    "    \n",
    "    current_year_average['CRW_BAA_mode'] = BAA_mode[\"CRW_BAA\"]\n",
    "    current_year_average['CRW_BAA_7D_MAX_mode'] = BAA_mode[\"CRW_BAA_7D_MAX\"]\n",
    "\n",
    "    current_year_average['CRW_BAA_sum'] = BAA_sum[\"CRW_BAA\"]\n",
    "    current_year_average['CRW_BAA_7D_MAX_sum'] = BAA_sum[\"CRW_BAA_7D_MAX\"]\n",
    "    current_year_average['CRW_BAA_1Y_MAX'] = BAA_max['CRW_BAA']\n",
    "    \n",
    "    current_year_average.rename(columns={'CRW_BAA':'CRW_BAA_average','CRW_BAA_7D_MAX':\"CRW_BAA_7D_MAX_average\"}, inplace=True)\n",
    "    \n",
    "    filtered_average = palau_eez(current_year_average)\n",
    "    filtered_average = filtered_average.reset_index(drop= True)\n",
    "\n",
    "    filtered_average.to_pickle(\"./CRW/average/pkl/\"+str(y)+\".pkl\")\n",
    "    filtered_average.to_csv(\"./CRW/average/csv/\"+str(y)+\".csv\")\n",
    "    \n",
    "    elapsed = timeit.default_timer() - start_time\n",
    "    print(\"Time to execute year \" + str(y)+ \" \"  + str(elapsed))\n"
   ]
  },
  {
   "cell_type": "code",
   "execution_count": 30,
   "id": "36b1a593",
   "metadata": {},
   "outputs": [],
   "source": [
    "import re"
   ]
  },
  {
   "cell_type": "code",
   "execution_count": 40,
   "id": "4f8692ff",
   "metadata": {},
   "outputs": [],
   "source": [
    "if not os.path.exists(\"./CRW/box/\"):\n",
    "    os.makedirs(\"./CRW/box/\")\n",
    "    \n",
    "CRW = os.listdir(\"./CRW/box/\")\n",
    "CRW.sort()\n",
    "CRW_folder = \"./CRW/box/\"\n",
    "\n",
    "if not os.path.exists(\"./CRW/box/pkl\"):\n",
    "    os.makedirs(\"./CRW/box/pkl\")\n",
    "if not os.path.exists(\"./CRW/box/csv\"):\n",
    "    os.makedirs(\"./CRW/box/csv\")"
   ]
  },
  {
   "cell_type": "code",
   "execution_count": 34,
   "id": "a0480fb7",
   "metadata": {},
   "outputs": [
    {
     "data": {
      "text/plain": [
       "'1985'"
      ]
     },
     "execution_count": 34,
     "metadata": {},
     "output_type": "execute_result"
    }
   ],
   "source": [
    "str(y)"
   ]
  },
  {
   "cell_type": "code",
   "execution_count": 41,
   "id": "906dcc42",
   "metadata": {},
   "outputs": [
    {
     "name": "stdout",
     "output_type": "stream",
     "text": [
      "Time to execute year 1985 178.0025853330153\n",
      "Time to execute year 1986 240.67917950000265\n",
      "Time to execute year 1987 247.6655328339839\n",
      "Time to execute year 1988 246.60850974998903\n",
      "Time to execute year 1989 231.33764675000566\n",
      "Time to execute year 1990 221.0973745000083\n",
      "Time to execute year 1991 225.53407279099338\n",
      "Time to execute year 1992 221.5694198750134\n",
      "Time to execute year 1993 221.05491704199812\n",
      "Time to execute year 1994 226.82686274999287\n",
      "Time to execute year 1995 226.79407695800182\n",
      "Time to execute year 1996 229.9175215830037\n",
      "Time to execute year 1997 219.5067469579808\n",
      "Time to execute year 1998 221.79930991702713\n",
      "Time to execute year 1999 218.53415233301348\n",
      "Time to execute year 2000 218.76469862498925\n",
      "Time to execute year 2001 219.2044569159916\n",
      "Time to execute year 2002 218.19796854202286\n",
      "Time to execute year 2003 219.51863166701514\n",
      "Time to execute year 2004 217.57248324999819\n",
      "Time to execute year 2005 217.3872418749961\n",
      "Time to execute year 2006 218.16547508299118\n",
      "Time to execute year 2007 219.87801324998145\n",
      "Time to execute year 2008 220.6612135420146\n",
      "Time to execute year 2009 220.2558221250074\n",
      "Time to execute year 2010 222.1741475420131\n",
      "Time to execute year 2011 217.48040104200481\n",
      "Time to execute year 2012 219.94610708401888\n",
      "Time to execute year 2013 220.09155929202097\n",
      "Time to execute year 2014 222.21753937500762\n",
      "Time to execute year 2015 218.27522995899199\n",
      "Time to execute year 2016 224.61807420800324\n",
      "Time to execute year 2017 223.68896529101767\n",
      "Time to execute year 2018 236.3694325830147\n",
      "Time to execute year 2019 229.93299120900338\n",
      "Time to execute year 2020 240.15686266700504\n",
      "Time to execute year 2021 230.88534533398342\n",
      "Time to execute year 2022 234.73317841699463\n",
      "Time to execute year 2023 107.16479470799095\n"
     ]
    }
   ],
   "source": [
    "#Make pkl and csv corresponding to box area for CRW instead of based on EEZ\n",
    "for y in range(1985,2023+1):\n",
    "# for y in range(2003,2023+1):\n",
    "\n",
    "    start_time = timeit.default_timer()\n",
    "    \n",
    "    current_year = [x for x in CRW if str(y) in x]\n",
    "    current_year.sort()\n",
    "    \n",
    "    current_year_df_list = []\n",
    "    for filename in current_year:\n",
    "        ds = xr.open_dataset(CRW_folder+filename)\n",
    "        df = ds.to_dataframe()\n",
    "        current_year_df_list.append(df)\n",
    "    current_year_df = pd.concat(current_year_df_list)\n",
    "    current_year_df = current_year_df.reset_index().drop_duplicates()\n",
    "    current_year_df['year'] = current_year_df['time'].dt.year\n",
    "    current_year_df = current_year_df[current_year_df['year']==y]\n",
    "    \n",
    "    \n",
    "    current_year_df = remove_fillvalue(current_year_df)\n",
    "    current_year_df.to_pickle(\"./CRW/box/pkl/\"+str(y)+\".pkl\")\n",
    "    current_year_df.to_csv(\"./CRW/box/csv/\"+str(y)+\".csv\")\n",
    "    \n",
    "    elapsed = timeit.default_timer() - start_time\n",
    "    print(\"Time to execute year \" + str(y)+ \" \"  + str(elapsed))"
   ]
  },
  {
   "cell_type": "code",
   "execution_count": 350,
   "id": "5f1b4c41",
   "metadata": {},
   "outputs": [],
   "source": [
    "if not os.path.exists(\"./CRW/weekly/pkl\"):\n",
    "    os.makedirs(\"./CRW/weekly/pkl\")\n",
    "    \n",
    "if not os.path.exists(\"./CRW/weekly/csv\"):\n",
    "    os.makedirs(\"./CRW/weekly/csv\")"
   ]
  },
  {
   "cell_type": "code",
   "execution_count": 351,
   "id": "6107db7f",
   "metadata": {},
   "outputs": [],
   "source": [
    "for y in range(1985,2023+1):\n",
    "    df = pd.read_pickle(\"./CRW/pkl/\" + str(y) + \".pkl\")\n",
    "    times = df['time']\n",
    "    max_time = times.max()\n",
    "    min_time = times.min()\n",
    "    \n",
    "    end = datetime.datetime(max_time.year, max_time.month, max_time.day, max_time.hour,max_time.minute,max_time.second) \n",
    "    start = datetime.datetime(min_time.year,min_time.month,min_time.day,min_time.hour,min_time.minute,min_time.second)\n",
    "    \n",
    "    \n",
    "    df_list = []\n",
    "    while (start <= end):\n",
    "        filtered_df = palau_eez(df[df['time'] == start])\n",
    "        start += relativedelta(weeks=+1)\n",
    "        df_list.append(filtered_df)\n",
    "    df_year = pd.concat(df_list)\n",
    "    df_year = df_year.reset_index(drop=True)\n",
    "    \n",
    "    df_year.to_pickle(\"./CRW/weekly/pkl/\"+str(y)+\".pkl\")\n",
    "    df_year.to_csv(\"./CRW/weekly/csv/\"+str(y)+\".csv\")"
   ]
  },
  {
   "cell_type": "code",
   "execution_count": 323,
   "id": "4df93164",
   "metadata": {},
   "outputs": [
    {
     "data": {
      "text/plain": [
       "1985"
      ]
     },
     "execution_count": 323,
     "metadata": {},
     "output_type": "execute_result"
    }
   ],
   "source": [
    "max_time.year"
   ]
  },
  {
   "cell_type": "code",
   "execution_count": 324,
   "id": "5476cd9b",
   "metadata": {},
   "outputs": [],
   "source": [
    "start = datetime.date(max_time.year, max_time.month, max_time.day) \n",
    "end = datetime.date(min_time.year,min_time.month,min_time.day)"
   ]
  },
  {
   "cell_type": "code",
   "execution_count": 326,
   "id": "4a4958d4",
   "metadata": {},
   "outputs": [
    {
     "data": {
      "text/plain": [
       "datetime.date(1985, 4, 1)"
      ]
     },
     "execution_count": 326,
     "metadata": {},
     "output_type": "execute_result"
    }
   ],
   "source": [
    "end"
   ]
  },
  {
   "cell_type": "code",
   "execution_count": 336,
   "id": "18094d70",
   "metadata": {},
   "outputs": [],
   "source": [
    "import datetime\n",
    "from dateutil.relativedelta import relativedelta"
   ]
  },
  {
   "cell_type": "code",
   "execution_count": 341,
   "id": "987563f6",
   "metadata": {},
   "outputs": [
    {
     "name": "stdout",
     "output_type": "stream",
     "text": [
      "1985-01-01 12:00:00\n",
      "Empty DataFrame\n",
      "Columns: [time, latitude, longitude, CRW_BAA, CRW_BAA_mask, CRW_BAA_7D_MAX, CRW_BAA_7D_MAX_mask, CRW_DHW, CRW_DHW_mask, CRW_HOTSPOT, CRW_HOTSPOT_mask, CRW_SEAICE, CRW_SST, CRW_SSTANOMALY, CRW_SSTANOMALY_mask, year]\n",
      "Index: []\n"
     ]
    }
   ],
   "source": [
    "start = datetime.datetime(1985, 1, 1,12,0,0)\n",
    "end = datetime.datetime(2023,12,31, 12,0,0) \n",
    "# \"[(1979-01-01):1:(1980-01-01)]\"\n",
    "\n",
    "prev = None\n",
    "while (start <= end):\n",
    "    \n",
    "    print(start)\n",
    "    start += relativedelta(weeks=+1)\n",
    "    print(df[df['time'] == start])\n",
    "    break"
   ]
  },
  {
   "cell_type": "code",
   "execution_count": 309,
   "id": "45f82472",
   "metadata": {},
   "outputs": [],
   "source": [
    "l = os.listdir(\"./CRW/pkl\")\n",
    "l.sort()"
   ]
  },
  {
   "cell_type": "code",
   "execution_count": 275,
   "id": "e3650927",
   "metadata": {},
   "outputs": [],
   "source": [
    "#Twice weekly sample\n",
    "for x in os.listdir(\"./CRW/pkl\"):\n",
    "    t = pd.read_pickle(\"./CRW/pkl/\" + x)\n",
    "    break\n",
    "#     crw_dfs_list.append(pd.read_pickle(\"./CRW/average/pkl/\"+x))"
   ]
  },
  {
   "cell_type": "code",
   "execution_count": 301,
   "id": "d4b1b7af",
   "metadata": {},
   "outputs": [
    {
     "data": {
      "text/plain": [
       "785460"
      ]
     },
     "execution_count": 301,
     "metadata": {},
     "output_type": "execute_result"
    }
   ],
   "source": [
    "len([x for x in os.listdir(\"./CRW/pkl\") if \"pkl\" in x]) * len(r.groupby(['latitude','longitude']).size())"
   ]
  },
  {
   "cell_type": "code",
   "execution_count": 306,
   "id": "7adb1b6c",
   "metadata": {},
   "outputs": [
    {
     "data": {
      "text/plain": [
       "41.7041015625"
      ]
     },
     "execution_count": 306,
     "metadata": {},
     "output_type": "execute_result"
    }
   ],
   "source": [
    "# storage space (GB) required to have all geojson produced, the average size is about 3MB\n",
    "(365*len([x for x in os.listdir(\"./CRW/pkl\") if \"pkl\" in x])*3)/1024"
   ]
  },
  {
   "cell_type": "code",
   "execution_count": 307,
   "id": "e96cc100",
   "metadata": {},
   "outputs": [
    {
     "data": {
      "text/plain": [
       "11.915457589285715"
      ]
     },
     "execution_count": 307,
     "metadata": {},
     "output_type": "execute_result"
    }
   ],
   "source": [
    "# storage space (GB) required to have twice weekly geojson produced, the average size is about 3MB\n",
    "((365/3.5)*len([x for x in os.listdir(\"./CRW/pkl\") if \"pkl\" in x])*3)/1024"
   ]
  },
  {
   "cell_type": "code",
   "execution_count": 308,
   "id": "0106e5cc",
   "metadata": {},
   "outputs": [
    {
     "data": {
      "text/plain": [
       "5.957728794642858"
      ]
     },
     "execution_count": 308,
     "metadata": {},
     "output_type": "execute_result"
    }
   ],
   "source": [
    "# storage space (GB) required to have weekly geojson produced, the average size is about 3MB\n",
    "((365/7)*len([x for x in os.listdir(\"./CRW/pkl\") if \"pkl\" in x])*3)/1024"
   ]
  },
  {
   "cell_type": "code",
   "execution_count": 295,
   "id": "47c686f1",
   "metadata": {},
   "outputs": [
    {
     "data": {
      "text/plain": [
       "7351100"
      ]
     },
     "execution_count": 295,
     "metadata": {},
     "output_type": "execute_result"
    }
   ],
   "source": [
    "len(r)"
   ]
  },
  {
   "cell_type": "code",
   "execution_count": 298,
   "id": "736bb91d",
   "metadata": {},
   "outputs": [
    {
     "data": {
      "text/plain": [
       "latitude  longitude \n",
       "1.625     132.725006    365\n",
       "1.675     132.475006    365\n",
       "          132.524994    365\n",
       "          132.574997    365\n",
       "          132.625000    365\n",
       "                       ... \n",
       "11.525    134.875000    365\n",
       "          134.925003    365\n",
       "          134.975006    365\n",
       "          135.024994    365\n",
       "          135.074997    365\n",
       "Length: 20140, dtype: int64"
      ]
     },
     "execution_count": 298,
     "metadata": {},
     "output_type": "execute_result"
    }
   ],
   "source": [
    "r.groupby(['latitude','longitude']).size()"
   ]
  },
  {
   "cell_type": "code",
   "execution_count": 266,
   "id": "1ae2f44e",
   "metadata": {},
   "outputs": [],
   "source": [
    "crw_dfs_list = []\n",
    "for x in os.listdir(\"./CRW/average/pkl\"):\n",
    "    crw_dfs_list.append(pd.read_pickle(\"./CRW/average/pkl/\"+x))\n",
    "crw_df = pd.concat(crw_dfs_list)"
   ]
  },
  {
   "cell_type": "code",
   "execution_count": 268,
   "id": "fa0ee992",
   "metadata": {},
   "outputs": [],
   "source": [
    "master_crw = crw_df.sort_values(by=['year','latitude','longitude']).reset_index(drop=True)\n"
   ]
  },
  {
   "cell_type": "code",
   "execution_count": 272,
   "id": "f3c3a6eb",
   "metadata": {},
   "outputs": [],
   "source": [
    "master_crw.to_pickle(\"./CRW/average/pkl/master_CRW\"+\".pkl\")\n",
    "master_crw.to_csv(\"./CRW/average/master_CRW\"+\".csv\")"
   ]
  },
  {
   "cell_type": "code",
   "execution_count": null,
   "id": "4d70fe51",
   "metadata": {},
   "outputs": [],
   "source": []
  },
  {
   "cell_type": "code",
   "execution_count": 238,
   "id": "1bc14ed7",
   "metadata": {},
   "outputs": [],
   "source": [
    "CFS = os.listdir(\"./CFS\")\n",
    "CFS_folder = \"./CFS/\"\n",
    "\n",
    "if not os.path.exists(\"./CFS/pkl\"):\n",
    "    os.makedirs(\"./CFS/pkl\")\n",
    "    \n",
    "if not os.path.exists(\"./CFS/csv\"):\n",
    "    os.makedirs(\"./CFS/csv\")"
   ]
  },
  {
   "cell_type": "code",
   "execution_count": 240,
   "id": "80087e88",
   "metadata": {},
   "outputs": [
    {
     "name": "stderr",
     "output_type": "stream",
     "text": [
      "/var/folders/d6/w300s4cx3qj10pqdcy5859bc0000gn/T/ipykernel_34789/3686735275.py:20: FutureWarning: The default value of numeric_only in DataFrameGroupBy.mean is deprecated. In a future version, numeric_only will default to False. Either specify numeric_only or select only columns which should be valid for the function.\n",
      "  current_year_average = current_year_df.groupby(['latitude', 'longitude','year']).mean()\n"
     ]
    },
    {
     "name": "stdout",
     "output_type": "stream",
     "text": [
      "Time to execute year 1979 0.6670064170029946\n"
     ]
    },
    {
     "name": "stderr",
     "output_type": "stream",
     "text": [
      "/var/folders/d6/w300s4cx3qj10pqdcy5859bc0000gn/T/ipykernel_34789/3686735275.py:20: FutureWarning: The default value of numeric_only in DataFrameGroupBy.mean is deprecated. In a future version, numeric_only will default to False. Either specify numeric_only or select only columns which should be valid for the function.\n",
      "  current_year_average = current_year_df.groupby(['latitude', 'longitude','year']).mean()\n"
     ]
    },
    {
     "name": "stdout",
     "output_type": "stream",
     "text": [
      "Time to execute year 1980 0.7467555830007768\n"
     ]
    },
    {
     "name": "stderr",
     "output_type": "stream",
     "text": [
      "/var/folders/d6/w300s4cx3qj10pqdcy5859bc0000gn/T/ipykernel_34789/3686735275.py:20: FutureWarning: The default value of numeric_only in DataFrameGroupBy.mean is deprecated. In a future version, numeric_only will default to False. Either specify numeric_only or select only columns which should be valid for the function.\n",
      "  current_year_average = current_year_df.groupby(['latitude', 'longitude','year']).mean()\n"
     ]
    },
    {
     "name": "stdout",
     "output_type": "stream",
     "text": [
      "Time to execute year 1981 0.6682730000029551\n"
     ]
    },
    {
     "name": "stderr",
     "output_type": "stream",
     "text": [
      "/var/folders/d6/w300s4cx3qj10pqdcy5859bc0000gn/T/ipykernel_34789/3686735275.py:20: FutureWarning: The default value of numeric_only in DataFrameGroupBy.mean is deprecated. In a future version, numeric_only will default to False. Either specify numeric_only or select only columns which should be valid for the function.\n",
      "  current_year_average = current_year_df.groupby(['latitude', 'longitude','year']).mean()\n"
     ]
    },
    {
     "name": "stdout",
     "output_type": "stream",
     "text": [
      "Time to execute year 1982 0.6524761249966105\n"
     ]
    },
    {
     "name": "stderr",
     "output_type": "stream",
     "text": [
      "/var/folders/d6/w300s4cx3qj10pqdcy5859bc0000gn/T/ipykernel_34789/3686735275.py:20: FutureWarning: The default value of numeric_only in DataFrameGroupBy.mean is deprecated. In a future version, numeric_only will default to False. Either specify numeric_only or select only columns which should be valid for the function.\n",
      "  current_year_average = current_year_df.groupby(['latitude', 'longitude','year']).mean()\n"
     ]
    },
    {
     "name": "stdout",
     "output_type": "stream",
     "text": [
      "Time to execute year 1983 0.6402515829977347\n"
     ]
    },
    {
     "name": "stderr",
     "output_type": "stream",
     "text": [
      "/var/folders/d6/w300s4cx3qj10pqdcy5859bc0000gn/T/ipykernel_34789/3686735275.py:20: FutureWarning: The default value of numeric_only in DataFrameGroupBy.mean is deprecated. In a future version, numeric_only will default to False. Either specify numeric_only or select only columns which should be valid for the function.\n",
      "  current_year_average = current_year_df.groupby(['latitude', 'longitude','year']).mean()\n"
     ]
    },
    {
     "name": "stdout",
     "output_type": "stream",
     "text": [
      "Time to execute year 1984 0.6541193749944796\n"
     ]
    },
    {
     "name": "stderr",
     "output_type": "stream",
     "text": [
      "/var/folders/d6/w300s4cx3qj10pqdcy5859bc0000gn/T/ipykernel_34789/3686735275.py:20: FutureWarning: The default value of numeric_only in DataFrameGroupBy.mean is deprecated. In a future version, numeric_only will default to False. Either specify numeric_only or select only columns which should be valid for the function.\n",
      "  current_year_average = current_year_df.groupby(['latitude', 'longitude','year']).mean()\n"
     ]
    },
    {
     "name": "stdout",
     "output_type": "stream",
     "text": [
      "Time to execute year 1985 0.6398876249950263\n"
     ]
    },
    {
     "name": "stderr",
     "output_type": "stream",
     "text": [
      "/var/folders/d6/w300s4cx3qj10pqdcy5859bc0000gn/T/ipykernel_34789/3686735275.py:20: FutureWarning: The default value of numeric_only in DataFrameGroupBy.mean is deprecated. In a future version, numeric_only will default to False. Either specify numeric_only or select only columns which should be valid for the function.\n",
      "  current_year_average = current_year_df.groupby(['latitude', 'longitude','year']).mean()\n"
     ]
    },
    {
     "name": "stdout",
     "output_type": "stream",
     "text": [
      "Time to execute year 1986 0.6389126669964753\n"
     ]
    },
    {
     "name": "stderr",
     "output_type": "stream",
     "text": [
      "/var/folders/d6/w300s4cx3qj10pqdcy5859bc0000gn/T/ipykernel_34789/3686735275.py:20: FutureWarning: The default value of numeric_only in DataFrameGroupBy.mean is deprecated. In a future version, numeric_only will default to False. Either specify numeric_only or select only columns which should be valid for the function.\n",
      "  current_year_average = current_year_df.groupby(['latitude', 'longitude','year']).mean()\n"
     ]
    },
    {
     "name": "stdout",
     "output_type": "stream",
     "text": [
      "Time to execute year 1987 0.6361759579958743\n"
     ]
    },
    {
     "name": "stderr",
     "output_type": "stream",
     "text": [
      "/var/folders/d6/w300s4cx3qj10pqdcy5859bc0000gn/T/ipykernel_34789/3686735275.py:20: FutureWarning: The default value of numeric_only in DataFrameGroupBy.mean is deprecated. In a future version, numeric_only will default to False. Either specify numeric_only or select only columns which should be valid for the function.\n",
      "  current_year_average = current_year_df.groupby(['latitude', 'longitude','year']).mean()\n"
     ]
    },
    {
     "name": "stdout",
     "output_type": "stream",
     "text": [
      "Time to execute year 1988 0.6379252080005244\n"
     ]
    },
    {
     "name": "stderr",
     "output_type": "stream",
     "text": [
      "/var/folders/d6/w300s4cx3qj10pqdcy5859bc0000gn/T/ipykernel_34789/3686735275.py:20: FutureWarning: The default value of numeric_only in DataFrameGroupBy.mean is deprecated. In a future version, numeric_only will default to False. Either specify numeric_only or select only columns which should be valid for the function.\n",
      "  current_year_average = current_year_df.groupby(['latitude', 'longitude','year']).mean()\n"
     ]
    },
    {
     "name": "stdout",
     "output_type": "stream",
     "text": [
      "Time to execute year 1989 0.6378342919997522\n"
     ]
    },
    {
     "name": "stderr",
     "output_type": "stream",
     "text": [
      "/var/folders/d6/w300s4cx3qj10pqdcy5859bc0000gn/T/ipykernel_34789/3686735275.py:20: FutureWarning: The default value of numeric_only in DataFrameGroupBy.mean is deprecated. In a future version, numeric_only will default to False. Either specify numeric_only or select only columns which should be valid for the function.\n",
      "  current_year_average = current_year_df.groupby(['latitude', 'longitude','year']).mean()\n"
     ]
    },
    {
     "name": "stdout",
     "output_type": "stream",
     "text": [
      "Time to execute year 1990 0.6336483749983017\n"
     ]
    },
    {
     "name": "stderr",
     "output_type": "stream",
     "text": [
      "/var/folders/d6/w300s4cx3qj10pqdcy5859bc0000gn/T/ipykernel_34789/3686735275.py:20: FutureWarning: The default value of numeric_only in DataFrameGroupBy.mean is deprecated. In a future version, numeric_only will default to False. Either specify numeric_only or select only columns which should be valid for the function.\n",
      "  current_year_average = current_year_df.groupby(['latitude', 'longitude','year']).mean()\n"
     ]
    },
    {
     "name": "stdout",
     "output_type": "stream",
     "text": [
      "Time to execute year 1991 0.6367369169965968\n"
     ]
    },
    {
     "name": "stderr",
     "output_type": "stream",
     "text": [
      "/var/folders/d6/w300s4cx3qj10pqdcy5859bc0000gn/T/ipykernel_34789/3686735275.py:20: FutureWarning: The default value of numeric_only in DataFrameGroupBy.mean is deprecated. In a future version, numeric_only will default to False. Either specify numeric_only or select only columns which should be valid for the function.\n",
      "  current_year_average = current_year_df.groupby(['latitude', 'longitude','year']).mean()\n"
     ]
    },
    {
     "name": "stdout",
     "output_type": "stream",
     "text": [
      "Time to execute year 1992 0.651795999998285\n"
     ]
    },
    {
     "name": "stderr",
     "output_type": "stream",
     "text": [
      "/var/folders/d6/w300s4cx3qj10pqdcy5859bc0000gn/T/ipykernel_34789/3686735275.py:20: FutureWarning: The default value of numeric_only in DataFrameGroupBy.mean is deprecated. In a future version, numeric_only will default to False. Either specify numeric_only or select only columns which should be valid for the function.\n",
      "  current_year_average = current_year_df.groupby(['latitude', 'longitude','year']).mean()\n"
     ]
    },
    {
     "name": "stdout",
     "output_type": "stream",
     "text": [
      "Time to execute year 1993 0.6405752089995076\n"
     ]
    },
    {
     "name": "stderr",
     "output_type": "stream",
     "text": [
      "/var/folders/d6/w300s4cx3qj10pqdcy5859bc0000gn/T/ipykernel_34789/3686735275.py:20: FutureWarning: The default value of numeric_only in DataFrameGroupBy.mean is deprecated. In a future version, numeric_only will default to False. Either specify numeric_only or select only columns which should be valid for the function.\n",
      "  current_year_average = current_year_df.groupby(['latitude', 'longitude','year']).mean()\n"
     ]
    },
    {
     "name": "stdout",
     "output_type": "stream",
     "text": [
      "Time to execute year 1994 0.6611395419968176\n"
     ]
    },
    {
     "name": "stderr",
     "output_type": "stream",
     "text": [
      "/var/folders/d6/w300s4cx3qj10pqdcy5859bc0000gn/T/ipykernel_34789/3686735275.py:20: FutureWarning: The default value of numeric_only in DataFrameGroupBy.mean is deprecated. In a future version, numeric_only will default to False. Either specify numeric_only or select only columns which should be valid for the function.\n",
      "  current_year_average = current_year_df.groupby(['latitude', 'longitude','year']).mean()\n"
     ]
    },
    {
     "name": "stdout",
     "output_type": "stream",
     "text": [
      "Time to execute year 1995 0.6387230830005137\n"
     ]
    },
    {
     "name": "stderr",
     "output_type": "stream",
     "text": [
      "/var/folders/d6/w300s4cx3qj10pqdcy5859bc0000gn/T/ipykernel_34789/3686735275.py:20: FutureWarning: The default value of numeric_only in DataFrameGroupBy.mean is deprecated. In a future version, numeric_only will default to False. Either specify numeric_only or select only columns which should be valid for the function.\n",
      "  current_year_average = current_year_df.groupby(['latitude', 'longitude','year']).mean()\n"
     ]
    },
    {
     "name": "stdout",
     "output_type": "stream",
     "text": [
      "Time to execute year 1996 0.6435308329964755\n"
     ]
    },
    {
     "name": "stderr",
     "output_type": "stream",
     "text": [
      "/var/folders/d6/w300s4cx3qj10pqdcy5859bc0000gn/T/ipykernel_34789/3686735275.py:20: FutureWarning: The default value of numeric_only in DataFrameGroupBy.mean is deprecated. In a future version, numeric_only will default to False. Either specify numeric_only or select only columns which should be valid for the function.\n",
      "  current_year_average = current_year_df.groupby(['latitude', 'longitude','year']).mean()\n"
     ]
    },
    {
     "name": "stdout",
     "output_type": "stream",
     "text": [
      "Time to execute year 1997 0.6362241660026484\n"
     ]
    },
    {
     "name": "stderr",
     "output_type": "stream",
     "text": [
      "/var/folders/d6/w300s4cx3qj10pqdcy5859bc0000gn/T/ipykernel_34789/3686735275.py:20: FutureWarning: The default value of numeric_only in DataFrameGroupBy.mean is deprecated. In a future version, numeric_only will default to False. Either specify numeric_only or select only columns which should be valid for the function.\n",
      "  current_year_average = current_year_df.groupby(['latitude', 'longitude','year']).mean()\n"
     ]
    },
    {
     "name": "stdout",
     "output_type": "stream",
     "text": [
      "Time to execute year 1998 0.6334743749976042\n"
     ]
    },
    {
     "name": "stderr",
     "output_type": "stream",
     "text": [
      "/var/folders/d6/w300s4cx3qj10pqdcy5859bc0000gn/T/ipykernel_34789/3686735275.py:20: FutureWarning: The default value of numeric_only in DataFrameGroupBy.mean is deprecated. In a future version, numeric_only will default to False. Either specify numeric_only or select only columns which should be valid for the function.\n",
      "  current_year_average = current_year_df.groupby(['latitude', 'longitude','year']).mean()\n"
     ]
    },
    {
     "name": "stdout",
     "output_type": "stream",
     "text": [
      "Time to execute year 1999 0.6326056660036556\n"
     ]
    },
    {
     "name": "stderr",
     "output_type": "stream",
     "text": [
      "/var/folders/d6/w300s4cx3qj10pqdcy5859bc0000gn/T/ipykernel_34789/3686735275.py:20: FutureWarning: The default value of numeric_only in DataFrameGroupBy.mean is deprecated. In a future version, numeric_only will default to False. Either specify numeric_only or select only columns which should be valid for the function.\n",
      "  current_year_average = current_year_df.groupby(['latitude', 'longitude','year']).mean()\n"
     ]
    },
    {
     "name": "stdout",
     "output_type": "stream",
     "text": [
      "Time to execute year 2000 0.6357432500008144\n"
     ]
    },
    {
     "name": "stderr",
     "output_type": "stream",
     "text": [
      "/var/folders/d6/w300s4cx3qj10pqdcy5859bc0000gn/T/ipykernel_34789/3686735275.py:20: FutureWarning: The default value of numeric_only in DataFrameGroupBy.mean is deprecated. In a future version, numeric_only will default to False. Either specify numeric_only or select only columns which should be valid for the function.\n",
      "  current_year_average = current_year_df.groupby(['latitude', 'longitude','year']).mean()\n"
     ]
    },
    {
     "name": "stdout",
     "output_type": "stream",
     "text": [
      "Time to execute year 2001 0.628678792003484\n"
     ]
    },
    {
     "name": "stderr",
     "output_type": "stream",
     "text": [
      "/var/folders/d6/w300s4cx3qj10pqdcy5859bc0000gn/T/ipykernel_34789/3686735275.py:20: FutureWarning: The default value of numeric_only in DataFrameGroupBy.mean is deprecated. In a future version, numeric_only will default to False. Either specify numeric_only or select only columns which should be valid for the function.\n",
      "  current_year_average = current_year_df.groupby(['latitude', 'longitude','year']).mean()\n"
     ]
    },
    {
     "name": "stdout",
     "output_type": "stream",
     "text": [
      "Time to execute year 2002 0.6314211670032819\n"
     ]
    },
    {
     "name": "stderr",
     "output_type": "stream",
     "text": [
      "/var/folders/d6/w300s4cx3qj10pqdcy5859bc0000gn/T/ipykernel_34789/3686735275.py:20: FutureWarning: The default value of numeric_only in DataFrameGroupBy.mean is deprecated. In a future version, numeric_only will default to False. Either specify numeric_only or select only columns which should be valid for the function.\n",
      "  current_year_average = current_year_df.groupby(['latitude', 'longitude','year']).mean()\n"
     ]
    },
    {
     "name": "stdout",
     "output_type": "stream",
     "text": [
      "Time to execute year 2003 0.6383243750024121\n"
     ]
    },
    {
     "name": "stderr",
     "output_type": "stream",
     "text": [
      "/var/folders/d6/w300s4cx3qj10pqdcy5859bc0000gn/T/ipykernel_34789/3686735275.py:20: FutureWarning: The default value of numeric_only in DataFrameGroupBy.mean is deprecated. In a future version, numeric_only will default to False. Either specify numeric_only or select only columns which should be valid for the function.\n",
      "  current_year_average = current_year_df.groupby(['latitude', 'longitude','year']).mean()\n"
     ]
    },
    {
     "name": "stdout",
     "output_type": "stream",
     "text": [
      "Time to execute year 2004 0.6302701249951497\n"
     ]
    },
    {
     "name": "stderr",
     "output_type": "stream",
     "text": [
      "/var/folders/d6/w300s4cx3qj10pqdcy5859bc0000gn/T/ipykernel_34789/3686735275.py:20: FutureWarning: The default value of numeric_only in DataFrameGroupBy.mean is deprecated. In a future version, numeric_only will default to False. Either specify numeric_only or select only columns which should be valid for the function.\n",
      "  current_year_average = current_year_df.groupby(['latitude', 'longitude','year']).mean()\n"
     ]
    },
    {
     "name": "stdout",
     "output_type": "stream",
     "text": [
      "Time to execute year 2005 0.6369791249962873\n"
     ]
    },
    {
     "name": "stderr",
     "output_type": "stream",
     "text": [
      "/var/folders/d6/w300s4cx3qj10pqdcy5859bc0000gn/T/ipykernel_34789/3686735275.py:20: FutureWarning: The default value of numeric_only in DataFrameGroupBy.mean is deprecated. In a future version, numeric_only will default to False. Either specify numeric_only or select only columns which should be valid for the function.\n",
      "  current_year_average = current_year_df.groupby(['latitude', 'longitude','year']).mean()\n"
     ]
    },
    {
     "name": "stdout",
     "output_type": "stream",
     "text": [
      "Time to execute year 2006 0.6373476250009844\n"
     ]
    },
    {
     "name": "stderr",
     "output_type": "stream",
     "text": [
      "/var/folders/d6/w300s4cx3qj10pqdcy5859bc0000gn/T/ipykernel_34789/3686735275.py:20: FutureWarning: The default value of numeric_only in DataFrameGroupBy.mean is deprecated. In a future version, numeric_only will default to False. Either specify numeric_only or select only columns which should be valid for the function.\n",
      "  current_year_average = current_year_df.groupby(['latitude', 'longitude','year']).mean()\n"
     ]
    },
    {
     "name": "stdout",
     "output_type": "stream",
     "text": [
      "Time to execute year 2007 0.6592835000046762\n"
     ]
    },
    {
     "name": "stderr",
     "output_type": "stream",
     "text": [
      "/var/folders/d6/w300s4cx3qj10pqdcy5859bc0000gn/T/ipykernel_34789/3686735275.py:20: FutureWarning: The default value of numeric_only in DataFrameGroupBy.mean is deprecated. In a future version, numeric_only will default to False. Either specify numeric_only or select only columns which should be valid for the function.\n",
      "  current_year_average = current_year_df.groupby(['latitude', 'longitude','year']).mean()\n"
     ]
    },
    {
     "name": "stdout",
     "output_type": "stream",
     "text": [
      "Time to execute year 2008 0.638644665996253\n"
     ]
    },
    {
     "name": "stderr",
     "output_type": "stream",
     "text": [
      "/var/folders/d6/w300s4cx3qj10pqdcy5859bc0000gn/T/ipykernel_34789/3686735275.py:20: FutureWarning: The default value of numeric_only in DataFrameGroupBy.mean is deprecated. In a future version, numeric_only will default to False. Either specify numeric_only or select only columns which should be valid for the function.\n",
      "  current_year_average = current_year_df.groupby(['latitude', 'longitude','year']).mean()\n"
     ]
    },
    {
     "name": "stdout",
     "output_type": "stream",
     "text": [
      "Time to execute year 2009 0.6326069999995525\n"
     ]
    },
    {
     "name": "stderr",
     "output_type": "stream",
     "text": [
      "/var/folders/d6/w300s4cx3qj10pqdcy5859bc0000gn/T/ipykernel_34789/3686735275.py:20: FutureWarning: The default value of numeric_only in DataFrameGroupBy.mean is deprecated. In a future version, numeric_only will default to False. Either specify numeric_only or select only columns which should be valid for the function.\n",
      "  current_year_average = current_year_df.groupby(['latitude', 'longitude','year']).mean()\n"
     ]
    },
    {
     "name": "stdout",
     "output_type": "stream",
     "text": [
      "Time to execute year 2010 0.6333737500026473\n"
     ]
    },
    {
     "name": "stderr",
     "output_type": "stream",
     "text": [
      "/var/folders/d6/w300s4cx3qj10pqdcy5859bc0000gn/T/ipykernel_34789/3686735275.py:20: FutureWarning: The default value of numeric_only in DataFrameGroupBy.mean is deprecated. In a future version, numeric_only will default to False. Either specify numeric_only or select only columns which should be valid for the function.\n",
      "  current_year_average = current_year_df.groupby(['latitude', 'longitude','year']).mean()\n"
     ]
    },
    {
     "name": "stdout",
     "output_type": "stream",
     "text": [
      "Time to execute year 2011 0.6356636249984149\n"
     ]
    },
    {
     "name": "stderr",
     "output_type": "stream",
     "text": [
      "/var/folders/d6/w300s4cx3qj10pqdcy5859bc0000gn/T/ipykernel_34789/3686735275.py:20: FutureWarning: The default value of numeric_only in DataFrameGroupBy.mean is deprecated. In a future version, numeric_only will default to False. Either specify numeric_only or select only columns which should be valid for the function.\n",
      "  current_year_average = current_year_df.groupby(['latitude', 'longitude','year']).mean()\n"
     ]
    },
    {
     "name": "stdout",
     "output_type": "stream",
     "text": [
      "Time to execute year 2012 0.6359584169986192\n"
     ]
    },
    {
     "name": "stderr",
     "output_type": "stream",
     "text": [
      "/var/folders/d6/w300s4cx3qj10pqdcy5859bc0000gn/T/ipykernel_34789/3686735275.py:20: FutureWarning: The default value of numeric_only in DataFrameGroupBy.mean is deprecated. In a future version, numeric_only will default to False. Either specify numeric_only or select only columns which should be valid for the function.\n",
      "  current_year_average = current_year_df.groupby(['latitude', 'longitude','year']).mean()\n"
     ]
    },
    {
     "name": "stdout",
     "output_type": "stream",
     "text": [
      "Time to execute year 2013 0.6430631250041188\n"
     ]
    },
    {
     "name": "stderr",
     "output_type": "stream",
     "text": [
      "/var/folders/d6/w300s4cx3qj10pqdcy5859bc0000gn/T/ipykernel_34789/3686735275.py:20: FutureWarning: The default value of numeric_only in DataFrameGroupBy.mean is deprecated. In a future version, numeric_only will default to False. Either specify numeric_only or select only columns which should be valid for the function.\n",
      "  current_year_average = current_year_df.groupby(['latitude', 'longitude','year']).mean()\n"
     ]
    },
    {
     "name": "stdout",
     "output_type": "stream",
     "text": [
      "Time to execute year 2014 0.6377942500039353\n"
     ]
    },
    {
     "name": "stderr",
     "output_type": "stream",
     "text": [
      "/var/folders/d6/w300s4cx3qj10pqdcy5859bc0000gn/T/ipykernel_34789/3686735275.py:20: FutureWarning: The default value of numeric_only in DataFrameGroupBy.mean is deprecated. In a future version, numeric_only will default to False. Either specify numeric_only or select only columns which should be valid for the function.\n",
      "  current_year_average = current_year_df.groupby(['latitude', 'longitude','year']).mean()\n"
     ]
    },
    {
     "name": "stdout",
     "output_type": "stream",
     "text": [
      "Time to execute year 2015 0.634587125001417\n"
     ]
    },
    {
     "name": "stderr",
     "output_type": "stream",
     "text": [
      "/var/folders/d6/w300s4cx3qj10pqdcy5859bc0000gn/T/ipykernel_34789/3686735275.py:20: FutureWarning: The default value of numeric_only in DataFrameGroupBy.mean is deprecated. In a future version, numeric_only will default to False. Either specify numeric_only or select only columns which should be valid for the function.\n",
      "  current_year_average = current_year_df.groupby(['latitude', 'longitude','year']).mean()\n"
     ]
    },
    {
     "name": "stdout",
     "output_type": "stream",
     "text": [
      "Time to execute year 2016 0.6384458329994231\n"
     ]
    },
    {
     "name": "stderr",
     "output_type": "stream",
     "text": [
      "/var/folders/d6/w300s4cx3qj10pqdcy5859bc0000gn/T/ipykernel_34789/3686735275.py:20: FutureWarning: The default value of numeric_only in DataFrameGroupBy.mean is deprecated. In a future version, numeric_only will default to False. Either specify numeric_only or select only columns which should be valid for the function.\n",
      "  current_year_average = current_year_df.groupby(['latitude', 'longitude','year']).mean()\n"
     ]
    },
    {
     "name": "stdout",
     "output_type": "stream",
     "text": [
      "Time to execute year 2017 0.6343470409992733\n"
     ]
    },
    {
     "name": "stderr",
     "output_type": "stream",
     "text": [
      "/var/folders/d6/w300s4cx3qj10pqdcy5859bc0000gn/T/ipykernel_34789/3686735275.py:20: FutureWarning: The default value of numeric_only in DataFrameGroupBy.mean is deprecated. In a future version, numeric_only will default to False. Either specify numeric_only or select only columns which should be valid for the function.\n",
      "  current_year_average = current_year_df.groupby(['latitude', 'longitude','year']).mean()\n"
     ]
    },
    {
     "name": "stdout",
     "output_type": "stream",
     "text": [
      "Time to execute year 2018 0.6323188329988625\n"
     ]
    },
    {
     "name": "stderr",
     "output_type": "stream",
     "text": [
      "/var/folders/d6/w300s4cx3qj10pqdcy5859bc0000gn/T/ipykernel_34789/3686735275.py:20: FutureWarning: The default value of numeric_only in DataFrameGroupBy.mean is deprecated. In a future version, numeric_only will default to False. Either specify numeric_only or select only columns which should be valid for the function.\n",
      "  current_year_average = current_year_df.groupby(['latitude', 'longitude','year']).mean()\n"
     ]
    },
    {
     "name": "stdout",
     "output_type": "stream",
     "text": [
      "Time to execute year 2019 0.6330348750052508\n"
     ]
    },
    {
     "name": "stderr",
     "output_type": "stream",
     "text": [
      "/var/folders/d6/w300s4cx3qj10pqdcy5859bc0000gn/T/ipykernel_34789/3686735275.py:20: FutureWarning: The default value of numeric_only in DataFrameGroupBy.mean is deprecated. In a future version, numeric_only will default to False. Either specify numeric_only or select only columns which should be valid for the function.\n",
      "  current_year_average = current_year_df.groupby(['latitude', 'longitude','year']).mean()\n"
     ]
    },
    {
     "name": "stdout",
     "output_type": "stream",
     "text": [
      "Time to execute year 2020 0.6357905420009047\n"
     ]
    },
    {
     "name": "stderr",
     "output_type": "stream",
     "text": [
      "/var/folders/d6/w300s4cx3qj10pqdcy5859bc0000gn/T/ipykernel_34789/3686735275.py:20: FutureWarning: The default value of numeric_only in DataFrameGroupBy.mean is deprecated. In a future version, numeric_only will default to False. Either specify numeric_only or select only columns which should be valid for the function.\n",
      "  current_year_average = current_year_df.groupby(['latitude', 'longitude','year']).mean()\n"
     ]
    },
    {
     "name": "stdout",
     "output_type": "stream",
     "text": [
      "Time to execute year 2021 0.6337910840011318\n"
     ]
    },
    {
     "name": "stderr",
     "output_type": "stream",
     "text": [
      "/var/folders/d6/w300s4cx3qj10pqdcy5859bc0000gn/T/ipykernel_34789/3686735275.py:20: FutureWarning: The default value of numeric_only in DataFrameGroupBy.mean is deprecated. In a future version, numeric_only will default to False. Either specify numeric_only or select only columns which should be valid for the function.\n",
      "  current_year_average = current_year_df.groupby(['latitude', 'longitude','year']).mean()\n"
     ]
    },
    {
     "name": "stdout",
     "output_type": "stream",
     "text": [
      "Time to execute year 2022 0.6343277090054471\n",
      "Time to execute year 2023 0.29574987499654526\n"
     ]
    },
    {
     "name": "stderr",
     "output_type": "stream",
     "text": [
      "/var/folders/d6/w300s4cx3qj10pqdcy5859bc0000gn/T/ipykernel_34789/3686735275.py:20: FutureWarning: The default value of numeric_only in DataFrameGroupBy.mean is deprecated. In a future version, numeric_only will default to False. Either specify numeric_only or select only columns which should be valid for the function.\n",
      "  current_year_average = current_year_df.groupby(['latitude', 'longitude','year']).mean()\n"
     ]
    }
   ],
   "source": [
    "for y in range(1979,2023+1):\n",
    "# for y in range(2003,2023+1):\n",
    "\n",
    "    start_time = timeit.default_timer()\n",
    "    \n",
    "    current_year = [x for x in CFS if str(y) in x]\n",
    "    current_year.sort()\n",
    "    \n",
    "    current_year_df_list = []\n",
    "    for filename in current_year:\n",
    "        ds = xr.open_dataset(CFS_folder+filename)\n",
    "        df = ds.to_dataframe()\n",
    "        current_year_df_list.append(df)\n",
    "    \n",
    "    current_year_df = pd.concat(current_year_df_list)\n",
    "    current_year_df = current_year_df.reset_index().drop_duplicates()\n",
    "    current_year_df['year'] = current_year_df['time'].dt.year\n",
    "    current_year_df = current_year_df[current_year_df['year']==y]\n",
    "    \n",
    "    current_year_average = current_year_df.groupby(['latitude', 'longitude','year']).mean()\n",
    "    current_year_average = current_year_average.reset_index()\n",
    "    \n",
    "    filtered_average = palau_eez(current_year_average)\n",
    "    filtered_average = filtered_average.reset_index(drop= True)\n",
    "    \n",
    "    \n",
    "    filtered_average.to_pickle(\"./CFS/pkl/1Y_CFS\"+str(y)+\".pkl\")\n",
    "    filtered_average.to_csv(\"./CFS/csv/1Y_CFS\"+str(y)+\".csv\")\n",
    "    \n",
    "    \n",
    "    elapsed = timeit.default_timer() - start_time\n",
    "    print(\"Time to execute year \" + str(y)+ \" \"  + str(elapsed))\n",
    "    "
   ]
  },
  {
   "cell_type": "code",
   "execution_count": 246,
   "id": "7aee11f7",
   "metadata": {},
   "outputs": [],
   "source": [
    "cfs_dfs_list = []\n",
    "for x in os.listdir(\"./CFS/pkl\"):\n",
    "    cfs_dfs_list.append(pd.read_pickle(\"./CFS/pkl/\"+x))\n",
    "cfs_df = pd.concat(cfs_dfs_list)"
   ]
  },
  {
   "cell_type": "code",
   "execution_count": 263,
   "id": "114a0ad8",
   "metadata": {},
   "outputs": [],
   "source": [
    "master_cfs = cfs_df.sort_values(by=['year','latitude','longitude']).reset_index(drop=True)\n",
    "master_cfs['sst'] = master_cfs['ocnsst'] - 273.15\n",
    "master_cfs.to_pickle(\"./CFS/pkl/master_CFS\"+\".pkl\")\n",
    "master_cfs.to_csv(\"./CFS/csv/master_CFS\"+\".csv\")"
   ]
  },
  {
   "cell_type": "code",
   "execution_count": 264,
   "id": "734def41",
   "metadata": {},
   "outputs": [
    {
     "data": {
      "text/html": [
       "<div>\n",
       "<style scoped>\n",
       "    .dataframe tbody tr th:only-of-type {\n",
       "        vertical-align: middle;\n",
       "    }\n",
       "\n",
       "    .dataframe tbody tr th {\n",
       "        vertical-align: top;\n",
       "    }\n",
       "\n",
       "    .dataframe thead th {\n",
       "        text-align: right;\n",
       "    }\n",
       "</style>\n",
       "<table border=\"1\" class=\"dataframe\">\n",
       "  <thead>\n",
       "    <tr style=\"text-align: right;\">\n",
       "      <th></th>\n",
       "      <th>latitude</th>\n",
       "      <th>longitude</th>\n",
       "      <th>year</th>\n",
       "      <th>ocnsst</th>\n",
       "      <th>sst</th>\n",
       "    </tr>\n",
       "  </thead>\n",
       "  <tbody>\n",
       "    <tr>\n",
       "      <th>0</th>\n",
       "      <td>1.75</td>\n",
       "      <td>132.25</td>\n",
       "      <td>1979</td>\n",
       "      <td>302.017456</td>\n",
       "      <td>28.867462</td>\n",
       "    </tr>\n",
       "    <tr>\n",
       "      <th>1</th>\n",
       "      <td>1.75</td>\n",
       "      <td>132.75</td>\n",
       "      <td>1979</td>\n",
       "      <td>302.021484</td>\n",
       "      <td>28.871490</td>\n",
       "    </tr>\n",
       "    <tr>\n",
       "      <th>2</th>\n",
       "      <td>2.25</td>\n",
       "      <td>130.25</td>\n",
       "      <td>1979</td>\n",
       "      <td>301.977783</td>\n",
       "      <td>28.827789</td>\n",
       "    </tr>\n",
       "    <tr>\n",
       "      <th>3</th>\n",
       "      <td>2.25</td>\n",
       "      <td>130.75</td>\n",
       "      <td>1979</td>\n",
       "      <td>301.997925</td>\n",
       "      <td>28.847931</td>\n",
       "    </tr>\n",
       "    <tr>\n",
       "      <th>4</th>\n",
       "      <td>2.25</td>\n",
       "      <td>131.25</td>\n",
       "      <td>1979</td>\n",
       "      <td>302.007935</td>\n",
       "      <td>28.857941</td>\n",
       "    </tr>\n",
       "    <tr>\n",
       "      <th>...</th>\n",
       "      <td>...</td>\n",
       "      <td>...</td>\n",
       "      <td>...</td>\n",
       "      <td>...</td>\n",
       "      <td>...</td>\n",
       "    </tr>\n",
       "    <tr>\n",
       "      <th>9040</th>\n",
       "      <td>11.25</td>\n",
       "      <td>133.25</td>\n",
       "      <td>2023</td>\n",
       "      <td>302.460022</td>\n",
       "      <td>29.310028</td>\n",
       "    </tr>\n",
       "    <tr>\n",
       "      <th>9041</th>\n",
       "      <td>11.25</td>\n",
       "      <td>133.75</td>\n",
       "      <td>2023</td>\n",
       "      <td>302.463135</td>\n",
       "      <td>29.313141</td>\n",
       "    </tr>\n",
       "    <tr>\n",
       "      <th>9042</th>\n",
       "      <td>11.25</td>\n",
       "      <td>134.25</td>\n",
       "      <td>2023</td>\n",
       "      <td>302.465424</td>\n",
       "      <td>29.315430</td>\n",
       "    </tr>\n",
       "    <tr>\n",
       "      <th>9043</th>\n",
       "      <td>11.25</td>\n",
       "      <td>134.75</td>\n",
       "      <td>2023</td>\n",
       "      <td>302.463440</td>\n",
       "      <td>29.313446</td>\n",
       "    </tr>\n",
       "    <tr>\n",
       "      <th>9044</th>\n",
       "      <td>11.25</td>\n",
       "      <td>135.25</td>\n",
       "      <td>2023</td>\n",
       "      <td>302.454132</td>\n",
       "      <td>29.304138</td>\n",
       "    </tr>\n",
       "  </tbody>\n",
       "</table>\n",
       "<p>9045 rows × 5 columns</p>\n",
       "</div>"
      ],
      "text/plain": [
       "      latitude  longitude  year      ocnsst        sst\n",
       "0         1.75     132.25  1979  302.017456  28.867462\n",
       "1         1.75     132.75  1979  302.021484  28.871490\n",
       "2         2.25     130.25  1979  301.977783  28.827789\n",
       "3         2.25     130.75  1979  301.997925  28.847931\n",
       "4         2.25     131.25  1979  302.007935  28.857941\n",
       "...        ...        ...   ...         ...        ...\n",
       "9040     11.25     133.25  2023  302.460022  29.310028\n",
       "9041     11.25     133.75  2023  302.463135  29.313141\n",
       "9042     11.25     134.25  2023  302.465424  29.315430\n",
       "9043     11.25     134.75  2023  302.463440  29.313446\n",
       "9044     11.25     135.25  2023  302.454132  29.304138\n",
       "\n",
       "[9045 rows x 5 columns]"
      ]
     },
     "execution_count": 264,
     "metadata": {},
     "output_type": "execute_result"
    }
   ],
   "source": [
    "master_cfs"
   ]
  }
 ],
 "metadata": {
  "kernelspec": {
   "display_name": "Python 3 (ipykernel)",
   "language": "python",
   "name": "python3"
  },
  "language_info": {
   "codemirror_mode": {
    "name": "ipython",
    "version": 3
   },
   "file_extension": ".py",
   "mimetype": "text/x-python",
   "name": "python",
   "nbconvert_exporter": "python",
   "pygments_lexer": "ipython3",
   "version": "3.9.16"
  }
 },
 "nbformat": 4,
 "nbformat_minor": 5
}
