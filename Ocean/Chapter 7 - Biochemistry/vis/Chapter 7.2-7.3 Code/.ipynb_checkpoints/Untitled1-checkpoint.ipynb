{
 "cells": [
  {
   "cell_type": "code",
   "execution_count": 4,
   "id": "f3d8a056",
   "metadata": {},
   "outputs": [],
   "source": [
    "from colour import Color"
   ]
  },
  {
   "cell_type": "code",
   "execution_count": 40,
   "id": "1795ace3",
   "metadata": {},
   "outputs": [],
   "source": [
    "seaweed = [\"#112313\",\"#112513\", \"#183c27\", \"#195437\",\"#106d44\",\"#06874d\",\"#2b9f51\",\"#63b361\",\"#8dc881\",\"#b2dfa6\",\"#d7f9d0\"]"
   ]
  },
  {
   "cell_type": "code",
   "execution_count": 58,
   "id": "369f3ae9",
   "metadata": {},
   "outputs": [],
   "source": [
    "seaweed_extended = []"
   ]
  },
  {
   "cell_type": "code",
   "execution_count": 59,
   "id": "dbbe2961",
   "metadata": {},
   "outputs": [],
   "source": [
    "for i in range(len(seaweed)):\n",
    "    if i == 0:\n",
    "        continue\n",
    "    first = Color(seaweed[i-1])\n",
    "    colors = list(first.range_to(Color(seaweed[i]),4))\n",
    "    seaweed_extended.extend(colors[:-1])\n",
    "    "
   ]
  },
  {
   "cell_type": "code",
   "execution_count": 60,
   "id": "6b149b2e",
   "metadata": {
    "scrolled": true
   },
   "outputs": [
    {
     "data": {
      "text/plain": [
       "['#112313',\n",
       " '#112413',\n",
       " '#112413',\n",
       " '#112513',\n",
       " '#142c19',\n",
       " '#16341f',\n",
       " '#183c27',\n",
       " '#19442c',\n",
       " '#194c31',\n",
       " '#195437',\n",
       " '#165c3b',\n",
       " '#13643f',\n",
       " '#106d44',\n",
       " '#0d7547',\n",
       " '#0a7e4a',\n",
       " '#06874d',\n",
       " '#10914e',\n",
       " '#1c994f',\n",
       " '#2b9f51',\n",
       " '#39aa51',\n",
       " '#48b352',\n",
       " '#63b361',\n",
       " '#71ba6b',\n",
       " '#7fc176',\n",
       " '#8dc881',\n",
       " '#99d08d',\n",
       " '#a5d899',\n",
       " '#b2dfa6',\n",
       " '#bdeab2',\n",
       " '#c9f3c0']"
      ]
     },
     "execution_count": 60,
     "metadata": {},
     "output_type": "execute_result"
    }
   ],
   "source": [
    "[x.hex for x in seaweed_extended]"
   ]
  },
  {
   "cell_type": "code",
   "execution_count": 61,
   "id": "da029054",
   "metadata": {},
   "outputs": [
    {
     "data": {
      "text/plain": [
       "30"
      ]
     },
     "execution_count": 61,
     "metadata": {},
     "output_type": "execute_result"
    }
   ],
   "source": [
    "len(seaweed_extended)"
   ]
  },
  {
   "cell_type": "code",
   "execution_count": 17,
   "id": "c87d5a8b",
   "metadata": {},
   "outputs": [
    {
     "data": {
      "text/plain": [
       "81"
      ]
     },
     "execution_count": 17,
     "metadata": {},
     "output_type": "execute_result"
    }
   ],
   "source": [
    "len(seaweed_extended)"
   ]
  },
  {
   "cell_type": "code",
   "execution_count": null,
   "id": "2866da0a",
   "metadata": {},
   "outputs": [],
   "source": [
    "for x in seaweed:\n",
    "    \n",
    "    colors = list(red.range_to(Color(\"blue\"),int(20/0.2)))"
   ]
  },
  {
   "cell_type": "code",
   "execution_count": 10,
   "id": "5c2d927f",
   "metadata": {},
   "outputs": [
    {
     "data": {
      "text/plain": [
       "['#f00',\n",
       " '#ff0a00',\n",
       " '#ff1500',\n",
       " '#ff1f00',\n",
       " '#ff2900',\n",
       " '#ff3400',\n",
       " '#ff3e00',\n",
       " '#ff4800',\n",
       " '#ff5200',\n",
       " '#ff5d00',\n",
       " '#ff6700',\n",
       " '#ff7100',\n",
       " '#ff7c00',\n",
       " '#ff8600',\n",
       " '#ff9000',\n",
       " '#ff9b00',\n",
       " '#ffa500',\n",
       " '#ffaf00',\n",
       " '#ffb900',\n",
       " '#ffc400',\n",
       " '#ffce00',\n",
       " '#ffd800',\n",
       " '#ffe300',\n",
       " '#ffed00',\n",
       " '#fff700',\n",
       " '#fcff00',\n",
       " '#f2ff00',\n",
       " '#e8ff00',\n",
       " '#deff00',\n",
       " '#d3ff00',\n",
       " '#c9ff00',\n",
       " '#bfff00',\n",
       " '#b4ff00',\n",
       " '#af0',\n",
       " '#a0ff00',\n",
       " '#95ff00',\n",
       " '#8bff00',\n",
       " '#81ff00',\n",
       " '#76ff00',\n",
       " '#6cff00',\n",
       " '#62ff00',\n",
       " '#58ff00',\n",
       " '#4dff00',\n",
       " '#43ff00',\n",
       " '#39ff00',\n",
       " '#2eff00',\n",
       " '#24ff00',\n",
       " '#1aff00',\n",
       " '#0fff00',\n",
       " '#05ff00',\n",
       " '#00ff05',\n",
       " '#00ff0f',\n",
       " '#00ff1a',\n",
       " '#00ff24',\n",
       " '#00ff2e',\n",
       " '#00ff39',\n",
       " '#00ff43',\n",
       " '#00ff4d',\n",
       " '#00ff58',\n",
       " '#00ff62',\n",
       " '#00ff6c',\n",
       " '#00ff76',\n",
       " '#00ff81',\n",
       " '#00ff8b',\n",
       " '#00ff95',\n",
       " '#00ffa0',\n",
       " '#0fa',\n",
       " '#00ffb4',\n",
       " '#00ffbf',\n",
       " '#00ffc9',\n",
       " '#00ffd3',\n",
       " '#00ffde',\n",
       " '#00ffe8',\n",
       " '#00fff2',\n",
       " '#00fffc',\n",
       " '#00f7ff',\n",
       " '#00edff',\n",
       " '#00e3ff',\n",
       " '#00d8ff',\n",
       " '#00ceff',\n",
       " '#00c4ff',\n",
       " '#00b9ff',\n",
       " '#00afff',\n",
       " '#00a5ff',\n",
       " '#009bff',\n",
       " '#0090ff',\n",
       " '#0086ff',\n",
       " '#007cff',\n",
       " '#0071ff',\n",
       " '#0067ff',\n",
       " '#005dff',\n",
       " '#0052ff',\n",
       " '#0048ff',\n",
       " '#003eff',\n",
       " '#0034ff',\n",
       " '#0029ff',\n",
       " '#001fff',\n",
       " '#0015ff',\n",
       " '#000aff',\n",
       " '#00f']"
      ]
     },
     "execution_count": 10,
     "metadata": {},
     "output_type": "execute_result"
    }
   ],
   "source": [
    "[x.hex for x in colors]"
   ]
  },
  {
   "cell_type": "code",
   "execution_count": 15,
   "id": "6cb5d81d",
   "metadata": {},
   "outputs": [],
   "source": [
    "rainbow = [\"#7b0c02\",\"#f6791f\",\"#a0f547\",\"#2fb8e7\",\"#321949\"]\n",
    "rainbow_extended = []"
   ]
  },
  {
   "cell_type": "code",
   "execution_count": 16,
   "id": "33ced3b5",
   "metadata": {},
   "outputs": [],
   "source": [
    "for i in range(len(rainbow)):\n",
    "    if i == 0:\n",
    "        continue\n",
    "    first = Color(rainbow[i-1])\n",
    "    colors = list(first.range_to(Color(rainbow[i]),26))\n",
    "    rainbow_extended.extend(colors[:-1])"
   ]
  },
  {
   "cell_type": "code",
   "execution_count": 17,
   "id": "3a9caaea",
   "metadata": {},
   "outputs": [
    {
     "data": {
      "text/plain": [
       "100"
      ]
     },
     "execution_count": 17,
     "metadata": {},
     "output_type": "execute_result"
    }
   ],
   "source": [
    "len(rainbow_extended)"
   ]
  },
  {
   "cell_type": "code",
   "execution_count": 18,
   "id": "b39a49f3",
   "metadata": {},
   "outputs": [
    {
     "data": {
      "text/plain": [
       "['#7b0c02',\n",
       " '#810e02',\n",
       " '#871102',\n",
       " '#8d1403',\n",
       " '#921603',\n",
       " '#981a03',\n",
       " '#9e1d03',\n",
       " '#a42004',\n",
       " '#aa2404',\n",
       " '#af2704',\n",
       " '#b52b05',\n",
       " '#bb2f05',\n",
       " '#c13305',\n",
       " '#c63706',\n",
       " '#cc3c06',\n",
       " '#d24006',\n",
       " '#d84507',\n",
       " '#dd4a07',\n",
       " '#e34f08',\n",
       " '#e95408',\n",
       " '#ee5908',\n",
       " '#f45f09',\n",
       " '#f6650d',\n",
       " '#f66c13',\n",
       " '#f67219',\n",
       " '#f6791f',\n",
       " '#f68321',\n",
       " '#f68d22',\n",
       " '#f69724',\n",
       " '#f6a025',\n",
       " '#f6aa27',\n",
       " '#f6b329',\n",
       " '#f6bc2a',\n",
       " '#f6c52c',\n",
       " '#f6ce2e',\n",
       " '#f5d72f',\n",
       " '#f5e031',\n",
       " '#f5e832',\n",
       " '#f5f134',\n",
       " '#f2f536',\n",
       " '#eaf537',\n",
       " '#e2f539',\n",
       " '#daf53a',\n",
       " '#d2f53c',\n",
       " '#cbf53d',\n",
       " '#c3f53f',\n",
       " '#bcf541',\n",
       " '#b5f542',\n",
       " '#aef544',\n",
       " '#a7f545',\n",
       " '#a0f547',\n",
       " '#93f546',\n",
       " '#86f445',\n",
       " '#79f444',\n",
       " '#6bf343',\n",
       " '#5ef342',\n",
       " '#50f241',\n",
       " '#43f140',\n",
       " '#3ff148',\n",
       " '#3ef054',\n",
       " '#3df060',\n",
       " '#3cef6c',\n",
       " '#3bef78',\n",
       " '#3aee83',\n",
       " '#39ee8f',\n",
       " '#38ed9b',\n",
       " '#37eca7',\n",
       " '#36ecb4',\n",
       " '#35ebc0',\n",
       " '#34ebcc',\n",
       " '#33ead8',\n",
       " '#33eae5',\n",
       " '#32e1e9',\n",
       " '#31d3e8',\n",
       " '#30c6e8',\n",
       " '#2fb8e7',\n",
       " '#2aace5',\n",
       " '#259fe3',\n",
       " '#2092e0',\n",
       " '#2084d9',\n",
       " '#2077d2',\n",
       " '#216bca',\n",
       " '#2160c2',\n",
       " '#2156bb',\n",
       " '#224cb4',\n",
       " '#2243ac',\n",
       " '#223aa5',\n",
       " '#22339e',\n",
       " '#222c97',\n",
       " '#212590',\n",
       " '#232189',\n",
       " '#272182',\n",
       " '#2b207b',\n",
       " '#2e2075',\n",
       " '#301f6e',\n",
       " '#321e68',\n",
       " '#331d62',\n",
       " '#341c5b',\n",
       " '#341b55',\n",
       " '#331a4f']"
      ]
     },
     "execution_count": 18,
     "metadata": {},
     "output_type": "execute_result"
    }
   ],
   "source": [
    "[x.hex for x in rainbow_extended]"
   ]
  },
  {
   "cell_type": "code",
   "execution_count": null,
   "id": "ae00a0ec",
   "metadata": {},
   "outputs": [],
   "source": []
  }
 ],
 "metadata": {
  "kernelspec": {
   "display_name": "Python 3 (ipykernel)",
   "language": "python",
   "name": "python3"
  },
  "language_info": {
   "codemirror_mode": {
    "name": "ipython",
    "version": 3
   },
   "file_extension": ".py",
   "mimetype": "text/x-python",
   "name": "python",
   "nbconvert_exporter": "python",
   "pygments_lexer": "ipython3",
   "version": "3.11.4"
  }
 },
 "nbformat": 4,
 "nbformat_minor": 5
}
