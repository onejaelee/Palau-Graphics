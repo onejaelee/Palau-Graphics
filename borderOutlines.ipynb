{
 "cells": [
  {
   "cell_type": "code",
   "execution_count": 1,
   "id": "f1cf2600",
   "metadata": {},
   "outputs": [],
   "source": [
    "from pathlib import Path  #Object-oriented filesystem paths\n",
    "import pandas as pd       #Python Data Analysis Library\n",
    "import wget               #Package to retrieve content from web servers\n",
    "import time               #Time access and conversions module \n",
    "\n",
    "import branca\n",
    "from scipy.interpolate import griddata\n",
    "\n",
    "import geojsoncontour\n",
    "import geopandas as gpd\n",
    "import json\n",
    "from matplotlib.cm import ScalarMappable\n",
    "from shapely.geometry import Polygon"
   ]
  },
  {
   "cell_type": "code",
   "execution_count": 3,
   "id": "2e389a12",
   "metadata": {},
   "outputs": [],
   "source": [
    "palau = gpd.read_file('palau.geojson')\n",
    "eez = gpd.read_file('palauEEZ.geojson')\n"
   ]
  },
  {
   "cell_type": "code",
   "execution_count": 12,
   "id": "c64a9181",
   "metadata": {},
   "outputs": [
    {
     "data": {
      "text/html": [
       "<div>\n",
       "<style scoped>\n",
       "    .dataframe tbody tr th:only-of-type {\n",
       "        vertical-align: middle;\n",
       "    }\n",
       "\n",
       "    .dataframe tbody tr th {\n",
       "        vertical-align: top;\n",
       "    }\n",
       "\n",
       "    .dataframe thead th {\n",
       "        text-align: right;\n",
       "    }\n",
       "</style>\n",
       "<table border=\"1\" class=\"dataframe\">\n",
       "  <thead>\n",
       "    <tr style=\"text-align: right;\">\n",
       "      <th></th>\n",
       "      <th>id</th>\n",
       "      <th>country</th>\n",
       "      <th>geometry</th>\n",
       "    </tr>\n",
       "  </thead>\n",
       "  <tbody>\n",
       "    <tr>\n",
       "      <th>0</th>\n",
       "      <td>21</td>\n",
       "      <td>Palau</td>\n",
       "      <td>MULTIPOLYGON (((135.31244 11.48818, 135.55076 ...</td>\n",
       "    </tr>\n",
       "  </tbody>\n",
       "</table>\n",
       "</div>"
      ],
      "text/plain": [
       "   id country                                           geometry\n",
       "0  21   Palau  MULTIPOLYGON (((135.31244 11.48818, 135.55076 ..."
      ]
     },
     "execution_count": 12,
     "metadata": {},
     "output_type": "execute_result"
    }
   ],
   "source": [
    "eez"
   ]
  },
  {
   "cell_type": "code",
   "execution_count": 48,
   "id": "cd8aec7c",
   "metadata": {
    "scrolled": true
   },
   "outputs": [
    {
     "name": "stdout",
     "output_type": "stream",
     "text": [
      "['2023-01-01', '2023-01-02', '2023-01-03', '2023-01-04', '2023-01-05', '2023-01-06', '2023-01-07', '2023-01-08', '2023-01-09', '2023-01-10', '2023-01-11', '2023-01-12', '2023-01-13', '2023-01-14', '2023-01-15', '2023-01-16', '2023-01-17', '2023-01-18', '2023-01-19', '2023-01-20', '2023-01-21', '2023-01-22', '2023-01-23', '2023-01-24', '2023-01-25', '2023-01-26', '2023-01-27', '2023-01-28', '2023-01-29', '2023-01-30', '2023-01-31']\n"
     ]
    }
   ],
   "source": [
    "time = [\"2023-01-0\" + str(x) for x in range(1,10)]\n",
    "time.extend([\"2023-01-\" + str(x) for x in range(10,32)])\n",
    "print(time)"
   ]
  },
  {
   "cell_type": "code",
   "execution_count": 27,
   "id": "e374d1ee",
   "metadata": {},
   "outputs": [],
   "source": [
    "koror = palau[palau['name']==\"Koror\"]"
   ]
  },
  {
   "cell_type": "code",
   "execution_count": 28,
   "id": "6b4f121c",
   "metadata": {},
   "outputs": [],
   "source": [
    "koror = koror[['name','geometry']]"
   ]
  },
  {
   "cell_type": "code",
   "execution_count": 29,
   "id": "3b9c224b",
   "metadata": {},
   "outputs": [],
   "source": [
    "koror = koror.to_json()\n",
    "koror = json.loads(koror)"
   ]
  },
  {
   "cell_type": "code",
   "execution_count": 31,
   "id": "2ba92573",
   "metadata": {},
   "outputs": [],
   "source": [
    "json_object = json.dumps(koror, indent=4)\n",
    "with open('koror.json', \"w\") as outfile:\n",
    "    outfile.write(json_object)"
   ]
  },
  {
   "cell_type": "code",
   "execution_count": 19,
   "id": "67ecc428",
   "metadata": {},
   "outputs": [
    {
     "name": "stdout",
     "output_type": "stream",
     "text": [
      "POLYGON ((129.5088 1.6214, 136.9541 1.6214, 136.9541 11.5587, 129.5088 11.5587, 129.5088 1.6214))\n"
     ]
    }
   ],
   "source": [
    "from shapely import geometry\n",
    "p1 = geometry.Point(129.5088,1.6214)\n",
    "p2 = geometry.Point(136.9541, 1.6214)\n",
    "p3 = geometry.Point(136.9541,11.5587)\n",
    "p4 = geometry.Point(129.5088,11.5587)\n",
    "\n",
    "pointList = [p1, p2, p3, p4, p1]\n",
    "poly = geometry.Polygon([[p.x, p.y] for p in pointList])\n",
    "\n",
    "print(poly.wkt)"
   ]
  },
  {
   "cell_type": "code",
   "execution_count": 20,
   "id": "ddc1fbc1",
   "metadata": {},
   "outputs": [
    {
     "name": "stdout",
     "output_type": "stream",
     "text": [
      "POLYGON ((129.5088 1.6214, 136.9541 1.6214, 136.9541 11.5587, 129.5088 11.5587, 129.5088 1.6214))\n"
     ]
    }
   ],
   "source": [
    "print(poly)"
   ]
  },
  {
   "cell_type": "code",
   "execution_count": 21,
   "id": "559b6e12",
   "metadata": {},
   "outputs": [],
   "source": [
    "df = pd.DataFrame(\n",
    "    {\n",
    "        \"Country\": [\"Palau\"],\n",
    "        \"geometry\": [poly\n",
    "        ],\n",
    "    }\n",
    ")\n"
   ]
  },
  {
   "cell_type": "code",
   "execution_count": 22,
   "id": "15900d6e",
   "metadata": {},
   "outputs": [],
   "source": [
    "gdf = gpd.GeoDataFrame(df, geometry=\"geometry\")"
   ]
  },
  {
   "cell_type": "code",
   "execution_count": 23,
   "id": "b7080881",
   "metadata": {},
   "outputs": [
    {
     "data": {
      "text/html": [
       "<div>\n",
       "<style scoped>\n",
       "    .dataframe tbody tr th:only-of-type {\n",
       "        vertical-align: middle;\n",
       "    }\n",
       "\n",
       "    .dataframe tbody tr th {\n",
       "        vertical-align: top;\n",
       "    }\n",
       "\n",
       "    .dataframe thead th {\n",
       "        text-align: right;\n",
       "    }\n",
       "</style>\n",
       "<table border=\"1\" class=\"dataframe\">\n",
       "  <thead>\n",
       "    <tr style=\"text-align: right;\">\n",
       "      <th></th>\n",
       "      <th>Country</th>\n",
       "      <th>geometry</th>\n",
       "    </tr>\n",
       "  </thead>\n",
       "  <tbody>\n",
       "    <tr>\n",
       "      <th>0</th>\n",
       "      <td>Palau</td>\n",
       "      <td>POLYGON ((129.50880 1.62140, 136.95410 1.62140...</td>\n",
       "    </tr>\n",
       "  </tbody>\n",
       "</table>\n",
       "</div>"
      ],
      "text/plain": [
       "  Country                                           geometry\n",
       "0   Palau  POLYGON ((129.50880 1.62140, 136.95410 1.62140..."
      ]
     },
     "execution_count": 23,
     "metadata": {},
     "output_type": "execute_result"
    }
   ],
   "source": [
    "gdf"
   ]
  },
  {
   "cell_type": "code",
   "execution_count": 16,
   "id": "577a4404",
   "metadata": {},
   "outputs": [],
   "source": [
    "palau_rectangle = gdf.to_json()\n",
    "palau_rectangle = json.loads(palau_rectangle)\n",
    "json_object = json.dumps(palau_rectangle, indent=4)\n",
    "with open('palau_rectangle.json', \"w\") as outfile:\n",
    "    outfile.write(json_object)"
   ]
  },
  {
   "cell_type": "code",
   "execution_count": 24,
   "id": "eadbc666",
   "metadata": {},
   "outputs": [],
   "source": [
    "gdf.to_file('palau_rectangle.json', driver='GeoJSON')"
   ]
  },
  {
   "cell_type": "code",
   "execution_count": null,
   "id": "86ef8ffb",
   "metadata": {},
   "outputs": [],
   "source": []
  },
  {
   "cell_type": "code",
   "execution_count": 27,
   "id": "a022a0b3",
   "metadata": {},
   "outputs": [],
   "source": [
    "from shapely import geometry\n",
    "p1 = geometry.Point(129.5088 -0.1,1.6214-0.1)\n",
    "p2 = geometry.Point(136.9541 + 0.1, 1.6214-0.1)\n",
    "p3 = geometry.Point(136.9541+0.1,11.5587+0.1)\n",
    "p4 = geometry.Point(129.5088-0.1,11.5587+0.1)\n",
    "\n",
    "pointList = [p1, p2, p3, p4, p1]\n",
    "poly = geometry.Polygon([[p.x, p.y] for p in pointList])"
   ]
  },
  {
   "cell_type": "code",
   "execution_count": 28,
   "id": "70e7a20f",
   "metadata": {},
   "outputs": [],
   "source": [
    "df = pd.DataFrame(\n",
    "    {\n",
    "        \"Country\": [\"Palau\"],\n",
    "        \"geometry\": [poly\n",
    "        ],\n",
    "    }\n",
    ")\n",
    "gdf = gpd.GeoDataFrame(df, geometry=\"geometry\")\n",
    "gdf.to_file('palau_rectangle_with_margins.json', driver='GeoJSON')"
   ]
  },
  {
   "cell_type": "code",
   "execution_count": null,
   "id": "445ef0ba",
   "metadata": {},
   "outputs": [],
   "source": []
  }
 ],
 "metadata": {
  "kernelspec": {
   "display_name": "Python 3 (ipykernel)",
   "language": "python",
   "name": "python3"
  },
  "language_info": {
   "codemirror_mode": {
    "name": "ipython",
    "version": 3
   },
   "file_extension": ".py",
   "mimetype": "text/x-python",
   "name": "python",
   "nbconvert_exporter": "python",
   "pygments_lexer": "ipython3",
   "version": "3.9.16"
  }
 },
 "nbformat": 4,
 "nbformat_minor": 5
}
