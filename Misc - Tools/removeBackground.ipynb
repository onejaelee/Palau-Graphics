{
 "cells": [
  {
   "cell_type": "code",
   "execution_count": 12,
   "id": "8517fc51",
   "metadata": {},
   "outputs": [],
   "source": [
    "from PIL import Image\n",
    "import os"
   ]
  },
  {
   "cell_type": "code",
   "execution_count": 30,
   "id": "6d14d5fa",
   "metadata": {},
   "outputs": [],
   "source": [
    "def remove_background(input_path, output_path, threshold=220):\n",
    "    img = Image.open(input_path).convert(\"RGBA\")\n",
    "    img_data = img.getdata()\n",
    "    new_img_data = []\n",
    "    for pixel in img_data:\n",
    "        if pixel[:3] > (threshold, threshold, threshold):\n",
    "            new_img_data.append((0, 0, 0, 0))  # Transparent pixel\n",
    "        else:\n",
    "            new_img_data.append(pixel)\n",
    "\n",
    "    # Create a new image with modified pixel data\n",
    "    new_img = Image.new(\"RGBA\", img.size)\n",
    "    new_img.putdata(new_img_data)\n",
    "\n",
    "    # Save the new image with transparent background\n",
    "    new_img.save(output_path, format=\"PNG\")"
   ]
  },
  {
   "cell_type": "code",
   "execution_count": 14,
   "id": "7e5ade82",
   "metadata": {},
   "outputs": [],
   "source": [
    "color_bar_folder = \"./new_colorbar/\""
   ]
  },
  {
   "cell_type": "code",
   "execution_count": 15,
   "id": "67f7e518",
   "metadata": {},
   "outputs": [],
   "source": [
    "if not os.path.exists(color_bar_folder):\n",
    "    os.makedirs(color_bar_folder)"
   ]
  },
  {
   "cell_type": "code",
   "execution_count": 31,
   "id": "f89eceee",
   "metadata": {},
   "outputs": [],
   "source": [
    "# Specify input and output paths\n",
    "input_path = \"./Chlorophyll/chlor_con_linear.png\"\n",
    "output_path = \"chlor_con_linear.png\"\n",
    "\n",
    "remove_background(input_path, color_bar_folder + output_path)\n",
    "\n",
    "input_path = \"./Chlorophyll/chlor_con_log.png\"\n",
    "output_path = \"chlor_con_log.png\"\n",
    "\n",
    "remove_background(input_path, color_bar_folder + output_path)\n",
    "\n",
    "input_path = \"./Chlorophyll/chlor_con_linear_v.png\"\n",
    "output_path = \"chlor_con_linear_v.png\"\n",
    "\n",
    "remove_background(input_path, color_bar_folder + output_path)\n",
    "\n",
    "input_path = \"./Chlorophyll/chlor_con_log_v.png\"\n",
    "output_path = \"chlor_con_log_v.png\"\n",
    "\n",
    "remove_background(input_path, color_bar_folder + output_path)\n",
    "\n",
    "input_path = \"./CFS-CRW/CRW-Outlook/merged/colorbar/CRW-Outlook.png\"\n",
    "output_path = \"CRW-Outlook.png\"\n",
    "\n",
    "remove_background(input_path, color_bar_folder + output_path, threshold = 250)\n",
    "\n",
    "input_path = \"./CFS-CRW/CRW-Outlook-v.png\"\n",
    "output_path = \"CRW-Outlook-v.png\"\n",
    "\n",
    "remove_background(input_path, color_bar_folder + output_path, threshold = 250)"
   ]
  },
  {
   "cell_type": "code",
   "execution_count": 33,
   "id": "deb02fef",
   "metadata": {},
   "outputs": [],
   "source": [
    "input_path = \"./new_colorbar/Phyto_size_v.png\"\n",
    "output_path = \"phyto_size_v.png\"\n",
    "\n",
    "remove_background(input_path, color_bar_folder + output_path, threshold = 250)"
   ]
  },
  {
   "cell_type": "code",
   "execution_count": null,
   "id": "6371900b",
   "metadata": {},
   "outputs": [],
   "source": []
  }
 ],
 "metadata": {
  "kernelspec": {
   "display_name": "Python 3 (ipykernel)",
   "language": "python",
   "name": "python3"
  },
  "language_info": {
   "codemirror_mode": {
    "name": "ipython",
    "version": 3
   },
   "file_extension": ".py",
   "mimetype": "text/x-python",
   "name": "python",
   "nbconvert_exporter": "python",
   "pygments_lexer": "ipython3",
   "version": "3.11.4"
  }
 },
 "nbformat": 4,
 "nbformat_minor": 5
}
