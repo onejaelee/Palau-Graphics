{
 "cells": [
  {
   "cell_type": "code",
   "execution_count": 8,
   "id": "c5a902c1",
   "metadata": {},
   "outputs": [],
   "source": [
    "import os\n",
    "import shutil"
   ]
  },
  {
   "cell_type": "code",
   "execution_count": 4,
   "id": "7cffa076",
   "metadata": {},
   "outputs": [
    {
     "data": {
      "text/plain": [
       "['2013',\n",
       " '2014',\n",
       " '2022',\n",
       " '2023',\n",
       " '2015',\n",
       " '2012',\n",
       " '.DS_Store',\n",
       " '2017',\n",
       " '2019',\n",
       " '2021',\n",
       " '2020',\n",
       " '2018',\n",
       " '2011',\n",
       " '2016']"
      ]
     },
     "execution_count": 4,
     "metadata": {},
     "output_type": "execute_result"
    }
   ],
   "source": [
    "os.listdir('/Users/one/Documents/ocean-portal/src/jsonFiles/geojson/')"
   ]
  },
  {
   "cell_type": "code",
   "execution_count": 13,
   "id": "b5c0f7d9",
   "metadata": {},
   "outputs": [],
   "source": [
    "if not os.path.exists('/Users/one/Documents/ocean-portal/src/jsonFiles/CRW-BAA'):\n",
    "    os.makedirs(\"/Users/one/Documents/ocean-portal/src/jsonFiles/CRW-BAA\")\n",
    "if not os.path.exists('/Users/one/Documents/ocean-portal/src/jsonFiles/CRW-BAA/CRW_BAA_Week_01-04'):\n",
    "    os.makedirs('/Users/one/Documents/ocean-portal/src/jsonFiles/CRW-BAA/CRW_BAA_Week_01-04')\n",
    "if not os.path.exists('/Users/one/Documents/ocean-portal/src/jsonFiles/CRW-BAA/CRW_BAA_Week_05-08'):\n",
    "    os.makedirs('/Users/one/Documents/ocean-portal/src/jsonFiles/CRW-BAA/CRW_BAA_Week_05-08')\n",
    "if not os.path.exists('/Users/one/Documents/ocean-portal/src/jsonFiles/CRW-BAA/CRW_BAA_Week_09-12'):\n",
    "    os.makedirs('/Users/one/Documents/ocean-portal/src/jsonFiles/CRW-BAA/CRW_BAA_Week_09-12')\n",
    "    \n",
    "if not os.path.exists('/Users/one/Documents/ocean-portal/src/jsonFiles/CRW-BAA/CRW_BAA_Current_Max'):\n",
    "    os.makedirs('/Users/one/Documents/ocean-portal/src/jsonFiles/CRW-BAA/CRW_BAA_Current_Max')\n",
    "if not os.path.exists('/Users/one/Documents/ocean-portal/src/jsonFiles/CRW-BAA/CRW_BAA_Current_Mean'):\n",
    "    os.makedirs('/Users/one/Documents/ocean-portal/src/jsonFiles/CRW-BAA/CRW_BAA_Current_Mean')\n",
    "if not os.path.exists('/Users/one/Documents/ocean-portal/src/jsonFiles/CRW-BAA/CRW_BAA_Current_Rounded'):\n",
    "    os.makedirs('/Users/one/Documents/ocean-portal/src/jsonFiles/CRW-BAA/CRW_BAA_Current_Rounded')"
   ]
  },
  {
   "cell_type": "code",
   "execution_count": 11,
   "id": "216a8db5",
   "metadata": {},
   "outputs": [],
   "source": [
    "for x in os.listdir('/Users/one/Documents/ocean-portal/src/jsonFiles/geojson/'):\n",
    "    if x != \".DS_Store\":\n",
    "        for file in os.listdir(\"/Users/one/Documents/ocean-portal/src/jsonFiles/geojson/\" + x + \"/CRW_BAA_Week_01-04\"):\n",
    "            shutil.copy(\"/Users/one/Documents/ocean-portal/src/jsonFiles/geojson/\" + x + \"/CRW_BAA_Week_01-04/\" + file, '/Users/one/Documents/ocean-portal/src/jsonFiles/CRW-BAA/CRW_BAA_Week_01-04')\n",
    "        for file in os.listdir(\"/Users/one/Documents/ocean-portal/src/jsonFiles/geojson/\" + x + \"/CRW_BAA_Week_05-08\"):\n",
    "            shutil.copy(\"/Users/one/Documents/ocean-portal/src/jsonFiles/geojson/\" + x + \"/CRW_BAA_Week_05-08/\" + file, '/Users/one/Documents/ocean-portal/src/jsonFiles/CRW-BAA/CRW_BAA_Week_05-08')\n",
    "        for file in os.listdir(\"/Users/one/Documents/ocean-portal/src/jsonFiles/geojson/\" + x + \"/CRW_BAA_Week_09-12\"):\n",
    "            shutil.copy(\"/Users/one/Documents/ocean-portal/src/jsonFiles/geojson/\" + x + \"/CRW_BAA_Week_09-12/\" + file, '/Users/one/Documents/ocean-portal/src/jsonFiles/CRW-BAA/CRW_BAA_Week_09-12')"
   ]
  },
  {
   "cell_type": "code",
   "execution_count": 16,
   "id": "29c0ee8b",
   "metadata": {},
   "outputs": [],
   "source": [
    "for x in os.listdir('/Users/one/Documents/ocean-portal/src/merged/geojson/'):\n",
    "    if x != \".DS_Store\":\n",
    "        for file in os.listdir(\"/Users/one/Documents/ocean-portal/src/merged/geojson/\" + x + \"/CRW_BAA_Week_01-04\"):\n",
    "            shutil.copy(\"/Users/one/Documents/ocean-portal/src/merged/geojson/\" + x + \"/CRW_BAA_Week_01-04/\" + file, '/Users/one/Documents/ocean-portal/src/jsonFiles/CRW-BAA/CRW_BAA_Week_01-04')\n",
    "        \n",
    "        for file in os.listdir(\"/Users/one/Documents/ocean-portal/src/merged/geojson/\" + x + \"/CRW_BAA_Week_05-08\"):\n",
    "            shutil.copy(\"/Users/one/Documents/ocean-portal/src/merged/geojson/\" + x + \"/CRW_BAA_Week_05-08/\" + file, '/Users/one/Documents/ocean-portal/src/jsonFiles/CRW-BAA/CRW_BAA_Week_05-08')\n",
    "        \n",
    "        for file in os.listdir(\"/Users/one/Documents/ocean-portal/src/merged/geojson/\" + x + \"/CRW_BAA_Week_09-12\"):\n",
    "            shutil.copy(\"/Users/one/Documents/ocean-portal/src/merged/geojson/\" + x + \"/CRW_BAA_Week_09-12/\" + file, '/Users/one/Documents/ocean-portal/src/jsonFiles/CRW-BAA/CRW_BAA_Week_09-12')\n",
    "        \n",
    "        for file in os.listdir(\"/Users/one/Documents/ocean-portal/src/merged/geojson/\" + x + \"/CRW_BAA_Current_Max\"):\n",
    "            shutil.copy(\"/Users/one/Documents/ocean-portal/src/merged/geojson/\" + x + \"/CRW_BAA_Current_Max/\" + file, '/Users/one/Documents/ocean-portal/src/jsonFiles/CRW-BAA/CRW_BAA_Current_Max')\n",
    "        \n",
    "        for file in os.listdir(\"/Users/one/Documents/ocean-portal/src/merged/geojson/\" + x + \"/CRW_BAA_Current_Mean\"):\n",
    "            shutil.copy(\"/Users/one/Documents/ocean-portal/src/merged/geojson/\" + x + \"/CRW_BAA_Current_Mean/\" + file, '/Users/one/Documents/ocean-portal/src/jsonFiles/CRW-BAA/CRW_BAA_Current_Mean')\n",
    "        \n",
    "        for file in os.listdir(\"/Users/one/Documents/ocean-portal/src/merged/geojson/\" + x + \"/CRW_BAA_Current_Rounded\"):\n",
    "            shutil.copy(\"/Users/one/Documents/ocean-portal/src/merged/geojson/\" + x + \"/CRW_BAA_Current_Rounded/\" + file, '/Users/one/Documents/ocean-portal/src/jsonFiles/CRW-BAA/CRW_BAA_Current_Rounded')"
   ]
  },
  {
   "cell_type": "code",
   "execution_count": null,
   "id": "f982dd5f",
   "metadata": {},
   "outputs": [],
   "source": []
  }
 ],
 "metadata": {
  "kernelspec": {
   "display_name": "Python 3 (ipykernel)",
   "language": "python",
   "name": "python3"
  },
  "language_info": {
   "codemirror_mode": {
    "name": "ipython",
    "version": 3
   },
   "file_extension": ".py",
   "mimetype": "text/x-python",
   "name": "python",
   "nbconvert_exporter": "python",
   "pygments_lexer": "ipython3",
   "version": "3.9.16"
  }
 },
 "nbformat": 4,
 "nbformat_minor": 5
}
