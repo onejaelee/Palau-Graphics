{
 "cells": [
  {
   "cell_type": "code",
   "execution_count": 13,
   "id": "1fdcca72",
   "metadata": {},
   "outputs": [],
   "source": [
    "import requests\n",
    "import os"
   ]
  },
  {
   "cell_type": "code",
   "execution_count": 14,
   "id": "7d67f8cf",
   "metadata": {},
   "outputs": [],
   "source": [
    "if not os.path.exists(\"./ts_figures\"):\n",
    "    os.makedirs(\"./ts_figures\")\n",
    "    \n",
    "image_url = \"https://coralreefwatch.noaa.gov/data/vs/ts_figures/ts_2yr/current/current_ts_palau.png\"\n",
    "img_data = requests.get(image_url).content\n",
    "with open('./ts_figures/current_ts_palau.png', 'wb') as handler:\n",
    "    handler.write(img_data)\n",
    "    \n",
    "image_url = \"https://coralreefwatch.noaa.gov/data/vs/ts_figures/ts_multi_year/vs_ts_multiyr_palau.png\"\n",
    "img_data = requests.get(image_url).content\n",
    "with open('./ts_figures/vs_ts_multiyr_palau.png', 'wb') as handler:\n",
    "    handler.write(img_data)"
   ]
  },
  {
   "cell_type": "code",
   "execution_count": 12,
   "id": "c8f6f76f",
   "metadata": {},
   "outputs": [],
   "source": [
    "#1985 - 2023/ 2 year\n",
    "for y in range(1985,2023):\n",
    "    img_url = \"https://coralreefwatch.noaa.gov/data/vs/ts_figures/ts_2yr/\" + str(y) + \"_\" + str(y+1) + \"/\" + str(y) + \"_\" + str(y+1) + \"_ts_palau.png\"\n",
    "    img_data = requests.get(image_url).content\n",
    "    with open('./ts_figures/' + str(y) + \"_\" + str(y+1) + \"_ts_palau.png\", 'wb') as handler:\n",
    "        handler.write(img_data)"
   ]
  },
  {
   "cell_type": "code",
   "execution_count": null,
   "id": "316bc7e3",
   "metadata": {},
   "outputs": [],
   "source": []
  }
 ],
 "metadata": {
  "kernelspec": {
   "display_name": "Python 3 (ipykernel)",
   "language": "python",
   "name": "python3"
  },
  "language_info": {
   "codemirror_mode": {
    "name": "ipython",
    "version": 3
   },
   "file_extension": ".py",
   "mimetype": "text/x-python",
   "name": "python",
   "nbconvert_exporter": "python",
   "pygments_lexer": "ipython3",
   "version": "3.9.16"
  }
 },
 "nbformat": 4,
 "nbformat_minor": 5
}
