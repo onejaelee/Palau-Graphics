{
 "cells": [
  {
   "cell_type": "code",
   "execution_count": 1,
   "id": "4695a533",
   "metadata": {},
   "outputs": [],
   "source": [
    "import requests\n",
    "import os"
   ]
  },
  {
   "cell_type": "code",
   "execution_count": 2,
   "id": "a503f369",
   "metadata": {},
   "outputs": [],
   "source": [
    "if not os.path.exists(\"./ts_figures\"):\n",
    "    os.makedirs(\"./ts_figures\")\n",
    "    \n",
    "image_url = \"https://coralreefwatch.noaa.gov/data/vs/ts_figures/ts_2yr/current/current_ts_palau.png\"\n",
    "img_data = requests.get(image_url).content\n",
    "with open('./ts_figures/current_ts_palau.png', 'wb') as handler:\n",
    "    handler.write(img_data)\n",
    "    \n",
    "image_url = \"https://coralreefwatch.noaa.gov/data/vs/ts_figures/ts_multi_year/vs_ts_multiyr_palau.png\"\n",
    "img_data = requests.get(image_url).content\n",
    "with open('./ts_figures/vs_ts_multiyr_palau', 'wb') as handler:\n",
    "    handler.write(img_data)"
   ]
  },
  {
   "cell_type": "code",
   "execution_count": 7,
   "id": "3ca7e4b2",
   "metadata": {},
   "outputs": [
    {
     "name": "stdout",
     "output_type": "stream",
     "text": [
      "https://coralreefwatch.noaa.gov/data/vs/ts_figures/ts_2yr/1985_1986/1985_1986_ts_palau.png\n",
      "https://coralreefwatch.noaa.gov/data/vs/ts_figures/ts_2yr/1986_1987/1986_1987_ts_palau.png\n",
      "https://coralreefwatch.noaa.gov/data/vs/ts_figures/ts_2yr/1987_1988/1987_1988_ts_palau.png\n",
      "https://coralreefwatch.noaa.gov/data/vs/ts_figures/ts_2yr/1988_1989/1988_1989_ts_palau.png\n",
      "https://coralreefwatch.noaa.gov/data/vs/ts_figures/ts_2yr/1989_1990/1989_1990_ts_palau.png\n",
      "https://coralreefwatch.noaa.gov/data/vs/ts_figures/ts_2yr/1990_1991/1990_1991_ts_palau.png\n",
      "https://coralreefwatch.noaa.gov/data/vs/ts_figures/ts_2yr/1991_1992/1991_1992_ts_palau.png\n",
      "https://coralreefwatch.noaa.gov/data/vs/ts_figures/ts_2yr/1992_1993/1992_1993_ts_palau.png\n",
      "https://coralreefwatch.noaa.gov/data/vs/ts_figures/ts_2yr/1993_1994/1993_1994_ts_palau.png\n",
      "https://coralreefwatch.noaa.gov/data/vs/ts_figures/ts_2yr/1994_1995/1994_1995_ts_palau.png\n",
      "https://coralreefwatch.noaa.gov/data/vs/ts_figures/ts_2yr/1995_1996/1995_1996_ts_palau.png\n",
      "https://coralreefwatch.noaa.gov/data/vs/ts_figures/ts_2yr/1996_1997/1996_1997_ts_palau.png\n",
      "https://coralreefwatch.noaa.gov/data/vs/ts_figures/ts_2yr/1997_1998/1997_1998_ts_palau.png\n",
      "https://coralreefwatch.noaa.gov/data/vs/ts_figures/ts_2yr/1998_1999/1998_1999_ts_palau.png\n",
      "https://coralreefwatch.noaa.gov/data/vs/ts_figures/ts_2yr/1999_2000/1999_2000_ts_palau.png\n",
      "https://coralreefwatch.noaa.gov/data/vs/ts_figures/ts_2yr/2000_2001/2000_2001_ts_palau.png\n",
      "https://coralreefwatch.noaa.gov/data/vs/ts_figures/ts_2yr/2001_2002/2001_2002_ts_palau.png\n",
      "https://coralreefwatch.noaa.gov/data/vs/ts_figures/ts_2yr/2002_2003/2002_2003_ts_palau.png\n",
      "https://coralreefwatch.noaa.gov/data/vs/ts_figures/ts_2yr/2003_2004/2003_2004_ts_palau.png\n",
      "https://coralreefwatch.noaa.gov/data/vs/ts_figures/ts_2yr/2004_2005/2004_2005_ts_palau.png\n",
      "https://coralreefwatch.noaa.gov/data/vs/ts_figures/ts_2yr/2005_2006/2005_2006_ts_palau.png\n",
      "https://coralreefwatch.noaa.gov/data/vs/ts_figures/ts_2yr/2006_2007/2006_2007_ts_palau.png\n",
      "https://coralreefwatch.noaa.gov/data/vs/ts_figures/ts_2yr/2007_2008/2007_2008_ts_palau.png\n",
      "https://coralreefwatch.noaa.gov/data/vs/ts_figures/ts_2yr/2008_2009/2008_2009_ts_palau.png\n",
      "https://coralreefwatch.noaa.gov/data/vs/ts_figures/ts_2yr/2009_2010/2009_2010_ts_palau.png\n",
      "https://coralreefwatch.noaa.gov/data/vs/ts_figures/ts_2yr/2010_2011/2010_2011_ts_palau.png\n",
      "https://coralreefwatch.noaa.gov/data/vs/ts_figures/ts_2yr/2011_2012/2011_2012_ts_palau.png\n",
      "https://coralreefwatch.noaa.gov/data/vs/ts_figures/ts_2yr/2012_2013/2012_2013_ts_palau.png\n",
      "https://coralreefwatch.noaa.gov/data/vs/ts_figures/ts_2yr/2013_2014/2013_2014_ts_palau.png\n",
      "https://coralreefwatch.noaa.gov/data/vs/ts_figures/ts_2yr/2014_2015/2014_2015_ts_palau.png\n",
      "https://coralreefwatch.noaa.gov/data/vs/ts_figures/ts_2yr/2015_2016/2015_2016_ts_palau.png\n",
      "https://coralreefwatch.noaa.gov/data/vs/ts_figures/ts_2yr/2016_2017/2016_2017_ts_palau.png\n",
      "https://coralreefwatch.noaa.gov/data/vs/ts_figures/ts_2yr/2017_2018/2017_2018_ts_palau.png\n",
      "https://coralreefwatch.noaa.gov/data/vs/ts_figures/ts_2yr/2018_2019/2018_2019_ts_palau.png\n",
      "https://coralreefwatch.noaa.gov/data/vs/ts_figures/ts_2yr/2019_2020/2019_2020_ts_palau.png\n",
      "https://coralreefwatch.noaa.gov/data/vs/ts_figures/ts_2yr/2020_2021/2020_2021_ts_palau.png\n",
      "https://coralreefwatch.noaa.gov/data/vs/ts_figures/ts_2yr/2021_2022/2021_2022_ts_palau.png\n",
      "https://coralreefwatch.noaa.gov/data/vs/ts_figures/ts_2yr/2022_2023/2022_2023_ts_palau.png\n"
     ]
    }
   ],
   "source": [
    "#1985 - 2023/ 2 year\n",
    "for y in range(1985,2023):\n",
    "    print(\"https://coralreefwatch.noaa.gov/data/vs/ts_figures/ts_2yr/\" + str(y) + \"_\" + str(y+1) + \"/\" + str(y) + \"_\" + str(y+1) + \"_ts_palau.png\")"
   ]
  }
 ],
 "metadata": {
  "kernelspec": {
   "display_name": "Python 3 (ipykernel)",
   "language": "python",
   "name": "python3"
  },
  "language_info": {
   "codemirror_mode": {
    "name": "ipython",
    "version": 3
   },
   "file_extension": ".py",
   "mimetype": "text/x-python",
   "name": "python",
   "nbconvert_exporter": "python",
   "pygments_lexer": "ipython3",
   "version": "3.9.16"
  }
 },
 "nbformat": 4,
 "nbformat_minor": 5
}
